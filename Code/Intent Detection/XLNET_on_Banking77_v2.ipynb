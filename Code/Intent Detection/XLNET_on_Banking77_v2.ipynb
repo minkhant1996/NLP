{
  "cells": [
    {
      "cell_type": "code",
      "execution_count": 1,
      "id": "4R3PmKI_siOW",
      "metadata": {
        "colab": {
          "base_uri": "https://localhost:8080/"
        },
        "id": "4R3PmKI_siOW",
        "outputId": "c65c66c1-0348-4b4f-b238-95352891a760"
      },
      "outputs": [],
      "source": [
        "# from google.colab import drive\n",
        "# drive.mount('/content/drive')"
      ]
    },
    {
      "cell_type": "code",
      "execution_count": 2,
      "id": "pT9YwdnCsn9y",
      "metadata": {
        "colab": {
          "base_uri": "https://localhost:8080/"
        },
        "id": "pT9YwdnCsn9y",
        "outputId": "8252a995-815b-47ea-f97e-7278e33a2a8c"
      },
      "outputs": [],
      "source": [
        "# cd /content/drive/MyDrive/NLU"
      ]
    },
    {
      "cell_type": "code",
      "execution_count": 3,
      "id": "bnBYxwyKsp5a",
      "metadata": {
        "colab": {
          "base_uri": "https://localhost:8080/"
        },
        "id": "bnBYxwyKsp5a",
        "outputId": "ddf3f3f0-f5d8-4d99-fd60-49e22bc98223"
      },
      "outputs": [
        {
          "name": "stdout",
          "output_type": "stream",
          "text": [
            "Mon Apr 18 20:03:23 2022       \n",
            "+-----------------------------------------------------------------------------+\n",
            "| NVIDIA-SMI 512.15       Driver Version: 512.15       CUDA Version: 11.6     |\n",
            "|-------------------------------+----------------------+----------------------+\n",
            "| GPU  Name            TCC/WDDM | Bus-Id        Disp.A | Volatile Uncorr. ECC |\n",
            "| Fan  Temp  Perf  Pwr:Usage/Cap|         Memory-Usage | GPU-Util  Compute M. |\n",
            "|                               |                      |               MIG M. |\n",
            "|===============================+======================+======================|\n",
            "|   0  NVIDIA GeForce ... WDDM  | 00000000:09:00.0  On |                  N/A |\n",
            "|  0%   52C    P8     9W / 215W |   1080MiB /  8192MiB |     36%      Default |\n",
            "|                               |                      |                  N/A |\n",
            "+-------------------------------+----------------------+----------------------+\n",
            "                                                                               \n",
            "+-----------------------------------------------------------------------------+\n",
            "| Processes:                                                                  |\n",
            "|  GPU   GI   CI        PID   Type   Process name                  GPU Memory |\n",
            "|        ID   ID                                                   Usage      |\n",
            "|=============================================================================|\n",
            "|    0   N/A  N/A      1544    C+G                                   N/A      |\n",
            "|    0   N/A  N/A      4260    C+G   ...ekyb3d8bbwe\\HxOutlook.exe    N/A      |\n",
            "|    0   N/A  N/A      4880    C+G   ...bbwe\\Microsoft.Photos.exe    N/A      |\n",
            "|    0   N/A  N/A      7952    C+G   C:\\Windows\\explorer.exe         N/A      |\n",
            "|    0   N/A  N/A      8928    C+G   ...n1h2txyewy\\SearchHost.exe    N/A      |\n",
            "|    0   N/A  N/A      8952    C+G   ...artMenuExperienceHost.exe    N/A      |\n",
            "|    0   N/A  N/A      9204    C+G   ...2txyewy\\TextInputHost.exe    N/A      |\n",
            "|    0   N/A  N/A      9344    C+G   ...ata\\Local\\Viber\\Viber.exe    N/A      |\n",
            "|    0   N/A  N/A      9896    C+G   ...ekyb3d8bbwe\\YourPhone.exe    N/A      |\n",
            "|    0   N/A  N/A     10320    C+G   ...r\\Application\\browser.exe    N/A      |\n",
            "|    0   N/A  N/A     10604    C+G   ...d8bbwe\\bin\\PBIDesktop.exe    N/A      |\n",
            "|    0   N/A  N/A     11816    C+G   ...cw5n1h2txyewy\\LockApp.exe    N/A      |\n",
            "|    0   N/A  N/A     12284    C+G   ...perience\\NVIDIA Share.exe    N/A      |\n",
            "|    0   N/A  N/A     12440    C+G   ...perience\\NVIDIA Share.exe    N/A      |\n",
            "|    0   N/A  N/A     13132    C+G   ...LINE\\bin\\current\\LINE.exe    N/A      |\n",
            "|    0   N/A  N/A     13884    C+G   ...Files\\NordVPN\\NordVPN.exe    N/A      |\n",
            "|    0   N/A  N/A     13996    C+G   ...185.44\\msedgewebview2.exe    N/A      |\n",
            "|    0   N/A  N/A     14332    C+G   ...\\app-1.0.9004\\Discord.exe    N/A      |\n",
            "|    0   N/A  N/A     15388    C+G   ...185.44\\msedgewebview2.exe    N/A      |\n",
            "|    0   N/A  N/A     15392    C+G   ...lPanel\\SystemSettings.exe    N/A      |\n",
            "|    0   N/A  N/A     17248    C+G   ...erver\\YourPhoneServer.exe    N/A      |\n",
            "|    0   N/A  N/A     18480    C+G   ...icrosoft VS Code\\Code.exe    N/A      |\n",
            "|    0   N/A  N/A     19004    C+G   ...ge\\Application\\msedge.exe    N/A      |\n",
            "|    0   N/A  N/A     19532    C+G   ...wekyb3d8bbwe\\Video.UI.exe    N/A      |\n",
            "|    0   N/A  N/A     25240    C+G   ...ser\\Application\\brave.exe    N/A      |\n",
            "|    0   N/A  N/A     26232    C+G   ...y\\ShellExperienceHost.exe    N/A      |\n",
            "|    0   N/A  N/A     29228    C+G   ...ge\\Application\\msedge.exe    N/A      |\n",
            "|    0   N/A  N/A     29592    C+G   ...ll\\1.0.0.443\\LineCall.exe    N/A      |\n",
            "|    0   N/A  N/A     31392    C+G   ...ge\\Application\\msedge.exe    N/A      |\n",
            "+-----------------------------------------------------------------------------+\n",
            "Your runtime has 17.1 gigabytes of available RAM\n",
            "\n",
            "Not using a high-RAM runtime\n"
          ]
        }
      ],
      "source": [
        "gpu_info = !nvidia-smi\n",
        "gpu_info = '\\n'.join(gpu_info)\n",
        "if gpu_info.find('failed') >= 0:\n",
        "  print('Not connected to a GPU')\n",
        "else:\n",
        "  print(gpu_info)\n",
        "\n",
        "from psutil import virtual_memory\n",
        "ram_gb = virtual_memory().total / 1e9\n",
        "print('Your runtime has {:.1f} gigabytes of available RAM\\n'.format(ram_gb))\n",
        "\n",
        "if ram_gb < 20:\n",
        "  print('Not using a high-RAM runtime')\n",
        "else:\n",
        "  print('You are using a high-RAM runtime!')"
      ]
    },
    {
      "cell_type": "code",
      "execution_count": 4,
      "id": "cnF8OdWNsswK",
      "metadata": {
        "id": "cnF8OdWNsswK"
      },
      "outputs": [],
      "source": [
        "import os\n",
        "import numpy as np\n",
        "import torch\n",
        "import torch.nn as nn\n",
        "from torch.utils.data import Dataset, DataLoader\n",
        "import random\n",
        "from IPython.display import clear_output"
      ]
    },
    {
      "cell_type": "code",
      "execution_count": 5,
      "id": "x-xX5cshsufc",
      "metadata": {
        "colab": {
          "base_uri": "https://localhost:8080/"
        },
        "id": "x-xX5cshsufc",
        "outputId": "15271aa8-bb63-4226-84b5-5d63d111c7a1"
      },
      "outputs": [
        {
          "name": "stdout",
          "output_type": "stream",
          "text": [
            "cuda\n"
          ]
        }
      ],
      "source": [
        "device = torch.device('cuda' if torch.cuda.is_available() else 'cpu')\n",
        "print(device)"
      ]
    },
    {
      "cell_type": "code",
      "execution_count": 6,
      "id": "nEqii9QRs2-B",
      "metadata": {
        "colab": {
          "base_uri": "https://localhost:8080/"
        },
        "id": "nEqii9QRs2-B",
        "outputId": "ac50bd21-6a90-47fb-b15f-92109f89dea6"
      },
      "outputs": [],
      "source": [
        "# pip install transformers"
      ]
    },
    {
      "cell_type": "code",
      "execution_count": 7,
      "id": "AUTVWmqxs7Qz",
      "metadata": {
        "colab": {
          "base_uri": "https://localhost:8080/"
        },
        "id": "AUTVWmqxs7Qz",
        "outputId": "97d353be-d074-4367-fd9d-4a8d6bf5a21d"
      },
      "outputs": [],
      "source": [
        "# pip install datasets"
      ]
    },
    {
      "cell_type": "code",
      "execution_count": 8,
      "id": "Kf3cJ-7-BRpp",
      "metadata": {
        "id": "Kf3cJ-7-BRpp"
      },
      "outputs": [],
      "source": [
        "import datasets"
      ]
    },
    {
      "cell_type": "code",
      "execution_count": 9,
      "id": "caDzuZdas8M4",
      "metadata": {
        "colab": {
          "base_uri": "https://localhost:8080/"
        },
        "id": "caDzuZdas8M4",
        "outputId": "4f8d0c6f-a166-4a40-dc0e-0554f81b68b4"
      },
      "outputs": [],
      "source": [
        "# pip install Sentencepiece"
      ]
    },
    {
      "cell_type": "code",
      "execution_count": 10,
      "id": "mgn1NKPDs_Md",
      "metadata": {
        "id": "mgn1NKPDs_Md"
      },
      "outputs": [],
      "source": [
        "# from datasets import load_dataset\n",
        "# dataset = load_dataset('banking77')\n",
        "# print(dataset)"
      ]
    },
    {
      "cell_type": "code",
      "execution_count": 11,
      "id": "9AB9UQW1YRvg",
      "metadata": {
        "colab": {
          "base_uri": "https://localhost:8080/"
        },
        "id": "9AB9UQW1YRvg",
        "outputId": "622c5893-ceee-40cc-b612-411f492a2aa8"
      },
      "outputs": [
        {
          "name": "stdout",
          "output_type": "stream",
          "text": [
            "                                                    text         category\n",
            "0                         I am still waiting on my card?     card_arrival\n",
            "1      What can I do if my card still hasn't arrived ...     card_arrival\n",
            "2      I have been waiting over a week. Is the card s...     card_arrival\n",
            "3      Can I track my card while it is in the process...     card_arrival\n",
            "4      How do I know if I will get my card, or if it ...     card_arrival\n",
            "...                                                  ...              ...\n",
            "9998              You provide support in what countries?  country_support\n",
            "9999                  What countries are you supporting?  country_support\n",
            "10000                What countries are getting support?  country_support\n",
            "10001                     Are cards available in the EU?  country_support\n",
            "10002                   Which countries are represented?  country_support\n",
            "\n",
            "[10003 rows x 2 columns]                                                    text         category\n",
            "0                              How do I locate my card?     card_arrival\n",
            "1     I still have not received my new card, I order...     card_arrival\n",
            "2     I ordered a card but it has not arrived. Help ...     card_arrival\n",
            "3      Is there a way to know when my card will arrive?     card_arrival\n",
            "4                          My card has not arrived yet.     card_arrival\n",
            "...                                                 ...              ...\n",
            "3075      If i'm not in the UK, can I still get a card?  country_support\n",
            "3076                 How many countries do you support?  country_support\n",
            "3077              What countries do you do business in?  country_support\n",
            "3078             What are the countries you operate in.  country_support\n",
            "3079         Can the card be mailed and used in Europe?  country_support\n",
            "\n",
            "[3080 rows x 2 columns]\n"
          ]
        }
      ],
      "source": [
        "import pandas as pd\n",
        "train_dataset = pd.read_csv(\"train.csv\")\n",
        "test_dataset = pd.read_csv(\"test.csv\")\n",
        "print(train_dataset, test_dataset)"
      ]
    },
    {
      "cell_type": "code",
      "execution_count": 12,
      "id": "2EPD8s81KdBK",
      "metadata": {
        "colab": {
          "base_uri": "https://localhost:8080/"
        },
        "id": "2EPD8s81KdBK",
        "outputId": "86b5c278-577e-4f02-e987-b5abc8455b9f"
      },
      "outputs": [
        {
          "data": {
            "text/plain": [
              "10003"
            ]
          },
          "execution_count": 12,
          "metadata": {},
          "output_type": "execute_result"
        }
      ],
      "source": [
        "len(train_dataset[\"text\"])"
      ]
    },
    {
      "cell_type": "code",
      "execution_count": 13,
      "id": "SCE0J_ARLDSQ",
      "metadata": {
        "colab": {
          "base_uri": "https://localhost:8080/"
        },
        "id": "SCE0J_ARLDSQ",
        "outputId": "719c222d-c16f-4b76-89b5-ec2b4bb6d089"
      },
      "outputs": [
        {
          "name": "stdout",
          "output_type": "stream",
          "text": [
            "[    0     1     2 ... 10000 10001 10002]\n"
          ]
        }
      ],
      "source": [
        "idx = np.arange(len(train_dataset[\"text\"]))\n",
        "print(idx)"
      ]
    },
    {
      "cell_type": "code",
      "execution_count": 14,
      "id": "tf-jOCJvalcS",
      "metadata": {
        "colab": {
          "base_uri": "https://localhost:8080/"
        },
        "id": "tf-jOCJvalcS",
        "outputId": "001144f5-0bc0-4a77-d661-ba10ac2d4b38"
      },
      "outputs": [
        {
          "name": "stdout",
          "output_type": "stream",
          "text": [
            "Train Dict\n",
            "dict_keys(['text', 'label'])\n",
            "['I am still waiting on my card?', \"What can I do if my card still hasn't arrived after 2 weeks?\"]\n",
            "['card_arrival', 'card_arrival']\n",
            "\n",
            "Test Dict\n",
            "dict_keys(['text', 'label'])\n",
            "['How do I locate my card?', 'I still have not received my new card, I ordered over a week ago.']\n",
            "['card_arrival', 'card_arrival']\n"
          ]
        }
      ],
      "source": [
        "# preprocess for training \n",
        "train_data = []\n",
        "train_labels = []\n",
        "for i in range(len(train_dataset)):\n",
        "  train_data.append(train_dataset[\"text\"][i])\n",
        "  train_labels.append(train_dataset[\"category\"][i])\n",
        "\n",
        "\n",
        "test_data = []\n",
        "test_labels = []\n",
        "for i in range(len(test_dataset)):\n",
        "  test_data.append(test_dataset[\"text\"][i])\n",
        "  test_labels.append(test_dataset[\"category\"][i])\n",
        "\n",
        "train_dict = {\n",
        "  \"text\": train_data,\n",
        "  \"label\": train_labels\n",
        "}\n",
        "\n",
        "test_dict = {\n",
        "  \"text\": test_data,\n",
        "  \"label\": test_labels\n",
        "}\n",
        "\n",
        "print(\"Train Dict\")\n",
        "print(train_dict.keys())\n",
        "print(train_dict['text'][:2])\n",
        "print(train_dict['label'][:2])\n",
        "\n",
        "print(\"\\nTest Dict\")\n",
        "print(test_dict.keys())\n",
        "print(test_dict['text'][:2])\n",
        "print(test_dict['label'][:2])"
      ]
    },
    {
      "cell_type": "code",
      "execution_count": 15,
      "id": "O4G2hWSAl1qJ",
      "metadata": {
        "id": "O4G2hWSAl1qJ"
      },
      "outputs": [],
      "source": [
        "train_data = []\n",
        "train_labels = []\n",
        "\n",
        "test_data = []\n",
        "test_labels = []\n",
        "\n",
        "# preprocess for training \n",
        "for i in range(len(train_dict['text'])):\n",
        "    train_data.append(train_dict['text'][i])\n",
        "    train_labels.append(train_dict['label'][i])\n",
        "      \n",
        "# write code here : preprocess test samples\n",
        "for i in range(len(test_dict['text'])):\n",
        "    test_data.append(test_dict['text'][i])\n",
        "    test_labels.append(test_dict['label'][i])"
      ]
    },
    {
      "cell_type": "code",
      "execution_count": 16,
      "id": "0D8iYPuXCnBb",
      "metadata": {
        "colab": {
          "base_uri": "https://localhost:8080/"
        },
        "id": "0D8iYPuXCnBb",
        "outputId": "48380883-8d3f-45fa-b3b4-6f7e6abcc160"
      },
      "outputs": [],
      "source": [
        "# print(train_data)\n",
        "# print(train_labels)\n",
        "# print(len(train_data))\n",
        "# print(len(train_labels))"
      ]
    },
    {
      "cell_type": "code",
      "execution_count": 17,
      "id": "WfB3peFpIoFk",
      "metadata": {
        "id": "WfB3peFpIoFk"
      },
      "outputs": [],
      "source": [
        "# train_data_ = train_data[:8002]\n",
        "# val_data_ = train_data[8002:]\n",
        "\n",
        "# train_label_ = train_labels[:8002]\n",
        "# val_label_ = train_labels[8002:]\n",
        "\n",
        "# print(\"Text\")\n",
        "# print(len(train_data_))\n",
        "# print(len(val_data_))\n",
        "# print(len(train_data_) + len(val_data_))\n",
        "\n",
        "# print(\"\\nLabel\")\n",
        "# print(len(train_label_))\n",
        "# print(len(val_label_))\n",
        "# print(len(train_label_) + len(val_label_))"
      ]
    },
    {
      "cell_type": "code",
      "execution_count": 18,
      "id": "c0dC4lQSNWNS",
      "metadata": {
        "id": "c0dC4lQSNWNS"
      },
      "outputs": [],
      "source": [
        "# #Check if val data is correct\n",
        "# print(val_data_[-1])\n",
        "# print(train_data[-1])"
      ]
    },
    {
      "cell_type": "code",
      "execution_count": 19,
      "id": "XNcCdrNFr89m",
      "metadata": {
        "id": "XNcCdrNFr89m"
      },
      "outputs": [],
      "source": [
        "# create custom dataset class\n",
        "# ===  =  Hint =  ===\n",
        "# can train on two condition \n",
        "# 1.) trainig training with supervise contrastive loss and cross entropy loss using in question 5.) \n",
        "#    when self.repeated_label == True:\n",
        "# 2.) train only cross entropy loss use in question 4.)\n",
        "#    when self.repeated_label == False:\n",
        "class CustomTextDataset(Dataset):\n",
        "    def __init__(self,labels,text,batch_size,repeated_label:bool=False):\n",
        "        self.labels = labels\n",
        "        self.text = text\n",
        "        self.batch_size = batch_size \n",
        "        self.count = 0 \n",
        "        self.repeated_label = repeated_label\n",
        "        \n",
        "        # to use when training with supervise contrastive loss\n",
        "        if self.repeated_label == True:\n",
        "           # write the code here\n",
        "            self.exist_classes = [] \n",
        "            self.label_maps = None \n",
        "            self.ids_maps = []\n",
        "            self.len_data = len(self.labels)\n",
        "            self.count_batch = 0 \n",
        "            self.is_left_batch = False\n",
        "\n",
        "            #print(\"self.len_data \",self.len_data)\n",
        "            #print(\"self.len data\",self.batch_size)\n",
        "\n",
        "            self.max_count = self.len_data // self.batch_size \n",
        "\n",
        "            if self.len_data % self.batch_size !=0:\n",
        "                self.max_count += 1 \n",
        "\n",
        "            print(\"the number of maximum of batching :\",self.max_count)\n",
        "            pass\n",
        "          \n",
        "\n",
        "    def __len__(self):\n",
        "        return len(self.labels)\n",
        "\n",
        "    def __getitem__(self, idx):\n",
        "        \n",
        "        # write code here for 1)\n",
        "        if self.repeated_label == True:\n",
        "            self.count +=1  \n",
        "            # it would be clear after call til batch_size  \n",
        "            self.exist_classes.append(self.labels[idx])\n",
        "            self.ids_maps.append(idx)\n",
        "\n",
        "\n",
        "            if self.count_batch == self.max_count - 1:\n",
        "                self.count_batch = +1 \n",
        "                #print(\"self.count_batch :\",self.count_batch)\n",
        "                self.count_batch = 0 \n",
        "\n",
        "                if self.len_data % self.batch_size !=0: \n",
        "                    self.batch_size = self.len_data % self.batch_size\n",
        "                    self.is_left_batch = True\n",
        "\n",
        "                #print(\"change batch size !\",self.batch_size)\n",
        "                #print(\"LAST batching !\")\n",
        "\n",
        "            if self.count == self.batch_size:\n",
        "\n",
        "                unique_labels_keys = list(set(self.exist_classes))\n",
        "                table = [0] * len(unique_labels_keys)\n",
        "                unique_labels = dict(zip(unique_labels_keys,table))\n",
        "                \n",
        "                if self.is_left_batch == True:\n",
        "                    self.is_left_batch = False\n",
        "                    self.batch_size = 16  \n",
        "\n",
        "                else: \n",
        "                    self.count_batch += 1\n",
        "                    #print(\"count_batch :\",self.count_batch)\n",
        "                \n",
        "                for class_key in self.exist_classes:\n",
        "                    unique_labels[class_key] = +1 \n",
        "\n",
        "                #print(\"tables of each labels :\",unique_labels)\n",
        "\n",
        "                for index, key  in enumerate(unique_labels):\n",
        "\n",
        "                    if unique_labels[key] > 1:\n",
        "                        print(\"v>1 :\",unique_labels[key])\n",
        "                        break\n",
        "\n",
        "                    \n",
        "                    if index == len(unique_labels.keys()) - 1:\n",
        "                        while True:\n",
        "                            pos_idx = random.randint(0,self.len_data-1) \n",
        "                            if self.labels[pos_idx] in unique_labels.keys():\n",
        "                                if self.labels[pos_idx] == self.labels[idx]:\n",
        "                                    pass\n",
        "                                else:\n",
        "                                   #print(\"old idx :\",idx,self.labels[idx])\n",
        "                                    idx = pos_idx\n",
        "                                   #print(\"new idx :\",idx,self.labels[idx])\n",
        "                                    unique_labels[self.labels[idx]] +=1  \n",
        "                                   #print(\"statistics tables :\",unique_labels)\n",
        "                                   # replace last token\n",
        "                                    self.exist_classes[-1] = self.labels[idx]\n",
        "                                    if len(set(self.exist_classes)) ==  len(self.exist_classes):\n",
        "                                        print(\"unique_labels:\")\n",
        "                                        #print(unique_labels)\n",
        "\n",
        "                                    self.count = 0  \n",
        "                                    self.exist_classes = [] \n",
        "                                    self.ids_maps = []\n",
        "                                \n",
        "                                    break \n",
        "            \n",
        "\n",
        "         \n",
        "        label = self.labels[idx]\n",
        "        \n",
        "        data = self.text[idx]\n",
        "        \n",
        "        sample = {\"Class\": label,\"Text\": data}\n",
        "\n",
        "\n",
        "    \n",
        "        return sample"
      ]
    },
    {
      "cell_type": "code",
      "execution_count": 20,
      "id": "FxGjrNmKtQcg",
      "metadata": {
        "id": "FxGjrNmKtQcg"
      },
      "outputs": [],
      "source": [
        "from torch.utils.data import Dataset, DataLoader"
      ]
    },
    {
      "cell_type": "code",
      "execution_count": 21,
      "id": "COvwOt3wPZm4",
      "metadata": {
        "colab": {
          "base_uri": "https://localhost:8080/"
        },
        "id": "COvwOt3wPZm4",
        "outputId": "3f0c3ba8-d7f9-46cd-fa4d-0dfd397f8a5a"
      },
      "outputs": [
        {
          "name": "stdout",
          "output_type": "stream",
          "text": [
            "Train\n",
            "the number of maximum of batching : 2501\n",
            "Test\n",
            "the number of maximum of batching : 770\n"
          ]
        }
      ],
      "source": [
        "batch_size = 4\n",
        "# dataloader for training \n",
        "print(\"Train\")\n",
        "c_train_data = CustomTextDataset(train_labels,train_data,batch_size=batch_size,repeated_label=True)\n",
        "train_loader = DataLoader(c_train_data,batch_size=batch_size,shuffle=True)\n",
        "\n",
        "print(\"Test\")\n",
        "c_test_data = CustomTextDataset(test_labels,test_data,batch_size=batch_size,repeated_label=True)\n",
        "test_loader = DataLoader(c_test_data,batch_size=batch_size,shuffle=True)"
      ]
    },
    {
      "cell_type": "code",
      "execution_count": 22,
      "id": "XwyAMcCZs_vz",
      "metadata": {
        "id": "XwyAMcCZs_vz"
      },
      "outputs": [],
      "source": [
        "# batch_size = 64\n",
        "# # dataloader for training \n",
        "# print(\"Train\")\n",
        "# c_train_data = CustomTextDataset(train_label_,train_data_,batch_size=batch_size,repeated_label=True)\n",
        "# train_loader = DataLoader(c_train_data,batch_size=batch_size,shuffle=True)\n",
        "\n",
        "# print(\"Val\")\n",
        "# c_val_data = CustomTextDataset(val_label_,val_data_,batch_size=batch_size,repeated_label=True)\n",
        "# train_loader = DataLoader(c_val_data,batch_size=batch_size,shuffle=True)\n",
        "\n",
        "# print(\"Test\")\n",
        "# c_test_data = CustomTextDataset(test_labels,test_data,batch_size=batch_size,repeated_label=True)\n",
        "# test_loader = DataLoader(c_test_data,batch_size=batch_size,shuffle=True)"
      ]
    },
    {
      "cell_type": "code",
      "execution_count": 23,
      "id": "-MDyjnCfAwiu",
      "metadata": {
        "colab": {
          "base_uri": "https://localhost:8080/"
        },
        "id": "-MDyjnCfAwiu",
        "outputId": "b4059e58-4fb3-4163-d24e-1c0cf0e6f953"
      },
      "outputs": [
        {
          "name": "stdout",
          "output_type": "stream",
          "text": [
            "['Do you have a children account available?', 'How long until I see a cash withdrawal?', 'What are the age limits for your service?']\n",
            "2500\n",
            "3\n"
          ]
        }
      ],
      "source": [
        "for (idx, batch) in enumerate(train_loader):\n",
        "    idx = idx\n",
        "    sentence = batch['Text']\n",
        "print(sentence)\n",
        "print(idx)\n",
        "print(len(sentence))"
      ]
    },
    {
      "cell_type": "code",
      "execution_count": 24,
      "id": "tGegCeYi7nB3",
      "metadata": {
        "id": "tGegCeYi7nB3"
      },
      "outputs": [],
      "source": [
        "# got the number of unique classes from dataset\n",
        "num_class = len(np.unique(np.array(train_dict['label'])))\n",
        "\n",
        "# get text label of uniqure classes\n",
        "unique_label = np.unique(np.array(train_dict['label']))\n",
        "\n",
        "# map text label to index classes\n",
        "label_maps = {unique_label[i]: i for i in range(len(unique_label))}"
      ]
    },
    {
      "cell_type": "code",
      "execution_count": 25,
      "id": "g7snULyV7_xW",
      "metadata": {
        "colab": {
          "base_uri": "https://localhost:8080/"
        },
        "id": "g7snULyV7_xW",
        "outputId": "43ed5259-4f38-4e66-a778-64c103745184"
      },
      "outputs": [
        {
          "name": "stdout",
          "output_type": "stream",
          "text": [
            "Num class: 77\n",
            "Unique label: ['Refund_not_showing_up' 'activate_my_card' 'age_limit'\n",
            " 'apple_pay_or_google_pay' 'atm_support']\n",
            "{'Refund_not_showing_up': 0, 'activate_my_card': 1, 'age_limit': 2, 'apple_pay_or_google_pay': 3, 'atm_support': 4, 'automatic_top_up': 5, 'balance_not_updated_after_bank_transfer': 6, 'balance_not_updated_after_cheque_or_cash_deposit': 7, 'beneficiary_not_allowed': 8, 'cancel_transfer': 9, 'card_about_to_expire': 10, 'card_acceptance': 11, 'card_arrival': 12, 'card_delivery_estimate': 13, 'card_linking': 14, 'card_not_working': 15, 'card_payment_fee_charged': 16, 'card_payment_not_recognised': 17, 'card_payment_wrong_exchange_rate': 18, 'card_swallowed': 19, 'cash_withdrawal_charge': 20, 'cash_withdrawal_not_recognised': 21, 'change_pin': 22, 'compromised_card': 23, 'contactless_not_working': 24, 'country_support': 25, 'declined_card_payment': 26, 'declined_cash_withdrawal': 27, 'declined_transfer': 28, 'direct_debit_payment_not_recognised': 29, 'disposable_card_limits': 30, 'edit_personal_details': 31, 'exchange_charge': 32, 'exchange_rate': 33, 'exchange_via_app': 34, 'extra_charge_on_statement': 35, 'failed_transfer': 36, 'fiat_currency_support': 37, 'get_disposable_virtual_card': 38, 'get_physical_card': 39, 'getting_spare_card': 40, 'getting_virtual_card': 41, 'lost_or_stolen_card': 42, 'lost_or_stolen_phone': 43, 'order_physical_card': 44, 'passcode_forgotten': 45, 'pending_card_payment': 46, 'pending_cash_withdrawal': 47, 'pending_top_up': 48, 'pending_transfer': 49, 'pin_blocked': 50, 'receiving_money': 51, 'request_refund': 52, 'reverted_card_payment?': 53, 'supported_cards_and_currencies': 54, 'terminate_account': 55, 'top_up_by_bank_transfer_charge': 56, 'top_up_by_card_charge': 57, 'top_up_by_cash_or_cheque': 58, 'top_up_failed': 59, 'top_up_limits': 60, 'top_up_reverted': 61, 'topping_up_by_card': 62, 'transaction_charged_twice': 63, 'transfer_fee_charged': 64, 'transfer_into_account': 65, 'transfer_not_received_by_recipient': 66, 'transfer_timing': 67, 'unable_to_verify_identity': 68, 'verify_my_identity': 69, 'verify_source_of_funds': 70, 'verify_top_up': 71, 'virtual_card_not_working': 72, 'visa_or_mastercard': 73, 'why_verify_identity': 74, 'wrong_amount_of_cash_received': 75, 'wrong_exchange_rate_for_cash_withdrawal': 76}\n"
          ]
        }
      ],
      "source": [
        "print(\"Num class:\", num_class)\n",
        "print(\"Unique label:\", unique_label[:5])\n",
        "print(label_maps)"
      ]
    },
    {
      "cell_type": "code",
      "execution_count": 26,
      "id": "_y83M8eeKsYf",
      "metadata": {
        "colab": {
          "base_uri": "https://localhost:8080/"
        },
        "id": "_y83M8eeKsYf",
        "outputId": "7c9a2dd3-5d0a-4faa-d9ec-d50c5e3733f0"
      },
      "outputs": [
        {
          "name": "stdout",
          "output_type": "stream",
          "text": [
            "card_about_to_expire\n"
          ]
        }
      ],
      "source": [
        "label_maps_key_list = list(label_maps.keys())\n",
        "label_maps_val_list = list(label_maps.values())\n",
        "\n",
        "\n",
        "position = label_maps_val_list.index(10)\n",
        "print(label_maps_key_list[position])"
      ]
    },
    {
      "cell_type": "code",
      "execution_count": 27,
      "id": "HhYajJVAKg1m",
      "metadata": {
        "colab": {
          "base_uri": "https://localhost:8080/"
        },
        "id": "HhYajJVAKg1m",
        "outputId": "c948d19a-dd39-4314-df06-692fb02fbeb2"
      },
      "outputs": [
        {
          "name": "stdout",
          "output_type": "stream",
          "text": [
            "python\n"
          ]
        }
      ],
      "source": [
        "# creating a new dictionary\n",
        "my_dict ={\"java\":100, \"python\":112, \"c\":11}\n",
        "\n",
        "# list out keys and values separately\n",
        "key_list = list(my_dict.keys())\n",
        "val_list = list(my_dict.values())\n",
        "\n",
        "# print key with val 100\n",
        "position = val_list.index(112)\n",
        "print(key_list[position])\n",
        "\n",
        "# # print key with val 112\n",
        "# position = val_list.index(112)\n",
        "# print(key_list[position])\n",
        "\n",
        "# # one-liner\n",
        "# print(list(my_dict.keys())[list(my_dict.values()).index(112)])\n"
      ]
    },
    {
      "cell_type": "markdown",
      "id": "GrW_J-k18dzs",
      "metadata": {
        "id": "GrW_J-k18dzs"
      },
      "source": [
        "Tokenizing"
      ]
    },
    {
      "cell_type": "code",
      "execution_count": 28,
      "id": "OhvKPANj8hP6",
      "metadata": {
        "id": "OhvKPANj8hP6"
      },
      "outputs": [],
      "source": [
        "from transformers import XLNetConfig, XLNetTokenizer, XLNetForSequenceClassification"
      ]
    },
    {
      "cell_type": "code",
      "execution_count": 29,
      "id": "J6fDUVDq8a8I",
      "metadata": {
        "id": "J6fDUVDq8a8I"
      },
      "outputs": [],
      "source": [
        "tokenizer = XLNetTokenizer.from_pretrained('xlnet-base-cased')"
      ]
    },
    {
      "cell_type": "code",
      "execution_count": 30,
      "id": "1SPht7Vq869a",
      "metadata": {
        "colab": {
          "base_uri": "https://localhost:8080/"
        },
        "id": "1SPht7Vq869a",
        "outputId": "4b1f157b-f373-4275-c9fc-f0cb3a2f579c"
      },
      "outputs": [
        {
          "name": "stdout",
          "output_type": "stream",
          "text": [
            "cuda:0\n"
          ]
        }
      ],
      "source": [
        "device = torch.device('cuda:0' if torch.cuda.is_available() else 'cpu')\n",
        "print(device)"
      ]
    },
    {
      "cell_type": "code",
      "execution_count": 31,
      "id": "jSE49TK_sxzK",
      "metadata": {
        "colab": {
          "base_uri": "https://localhost:8080/"
        },
        "id": "jSE49TK_sxzK",
        "outputId": "ef4b1cb5-7f7c-4f67-cfdc-854588dad5ef"
      },
      "outputs": [
        {
          "name": "stderr",
          "output_type": "stream",
          "text": [
            "Some weights of the model checkpoint at xlnet-base-cased were not used when initializing XLNetForSequenceClassification: ['lm_loss.weight', 'lm_loss.bias']\n",
            "- This IS expected if you are initializing XLNetForSequenceClassification from the checkpoint of a model trained on another task or with another architecture (e.g. initializing a BertForSequenceClassification model from a BertForPreTraining model).\n",
            "- This IS NOT expected if you are initializing XLNetForSequenceClassification from the checkpoint of a model that you expect to be exactly identical (initializing a BertForSequenceClassification model from a BertForSequenceClassification model).\n",
            "Some weights of XLNetForSequenceClassification were not initialized from the model checkpoint at xlnet-base-cased and are newly initialized: ['logits_proj.bias', 'logits_proj.weight', 'sequence_summary.summary.weight', 'sequence_summary.summary.bias']\n",
            "You should probably TRAIN this model on a down-stream task to be able to use it for predictions and inference.\n"
          ]
        }
      ],
      "source": [
        "config = XLNetConfig.from_pretrained(\"xlnet-base-cased\",output_hidden_states=True)\n",
        "\n",
        "#chnage modifying the number of classes\n",
        "config.num_labels = num_class\n",
        "\n",
        "# tokenizer = XLNetTokenizer.from_pretrained(\"xlnet-base-cased\")\n",
        "model = XLNetForSequenceClassification.from_pretrained(\"xlnet-base-cased\")\n",
        "\n",
        "# change from binary classification to muli-classification and loss automatically change to cross entropy loss\n",
        "model.num_labels = config.num_labels\n",
        "\n",
        "# # change the output of last layer to num_class that we want to predict\n",
        "# model.classifier.out_proj = nn.Linear(in_features=embed_dim,out_features=num_class)\n",
        "\n",
        "# move to model to device that we set\n",
        "model = model.to(device)"
      ]
    },
    {
      "cell_type": "code",
      "execution_count": 32,
      "id": "AOMVn8dWGtPm",
      "metadata": {
        "colab": {
          "base_uri": "https://localhost:8080/"
        },
        "id": "AOMVn8dWGtPm",
        "outputId": "aaa62e55-5985-4736-ade3-db94a799b061"
      },
      "outputs": [
        {
          "data": {
            "text/plain": [
              "XLNetForSequenceClassification(\n",
              "  (transformer): XLNetModel(\n",
              "    (word_embedding): Embedding(32000, 768)\n",
              "    (layer): ModuleList(\n",
              "      (0): XLNetLayer(\n",
              "        (rel_attn): XLNetRelativeAttention(\n",
              "          (layer_norm): LayerNorm((768,), eps=1e-12, elementwise_affine=True)\n",
              "          (dropout): Dropout(p=0.1, inplace=False)\n",
              "        )\n",
              "        (ff): XLNetFeedForward(\n",
              "          (layer_norm): LayerNorm((768,), eps=1e-12, elementwise_affine=True)\n",
              "          (layer_1): Linear(in_features=768, out_features=3072, bias=True)\n",
              "          (layer_2): Linear(in_features=3072, out_features=768, bias=True)\n",
              "          (dropout): Dropout(p=0.1, inplace=False)\n",
              "          (activation_function): GELUActivation()\n",
              "        )\n",
              "        (dropout): Dropout(p=0.1, inplace=False)\n",
              "      )\n",
              "      (1): XLNetLayer(\n",
              "        (rel_attn): XLNetRelativeAttention(\n",
              "          (layer_norm): LayerNorm((768,), eps=1e-12, elementwise_affine=True)\n",
              "          (dropout): Dropout(p=0.1, inplace=False)\n",
              "        )\n",
              "        (ff): XLNetFeedForward(\n",
              "          (layer_norm): LayerNorm((768,), eps=1e-12, elementwise_affine=True)\n",
              "          (layer_1): Linear(in_features=768, out_features=3072, bias=True)\n",
              "          (layer_2): Linear(in_features=3072, out_features=768, bias=True)\n",
              "          (dropout): Dropout(p=0.1, inplace=False)\n",
              "          (activation_function): GELUActivation()\n",
              "        )\n",
              "        (dropout): Dropout(p=0.1, inplace=False)\n",
              "      )\n",
              "      (2): XLNetLayer(\n",
              "        (rel_attn): XLNetRelativeAttention(\n",
              "          (layer_norm): LayerNorm((768,), eps=1e-12, elementwise_affine=True)\n",
              "          (dropout): Dropout(p=0.1, inplace=False)\n",
              "        )\n",
              "        (ff): XLNetFeedForward(\n",
              "          (layer_norm): LayerNorm((768,), eps=1e-12, elementwise_affine=True)\n",
              "          (layer_1): Linear(in_features=768, out_features=3072, bias=True)\n",
              "          (layer_2): Linear(in_features=3072, out_features=768, bias=True)\n",
              "          (dropout): Dropout(p=0.1, inplace=False)\n",
              "          (activation_function): GELUActivation()\n",
              "        )\n",
              "        (dropout): Dropout(p=0.1, inplace=False)\n",
              "      )\n",
              "      (3): XLNetLayer(\n",
              "        (rel_attn): XLNetRelativeAttention(\n",
              "          (layer_norm): LayerNorm((768,), eps=1e-12, elementwise_affine=True)\n",
              "          (dropout): Dropout(p=0.1, inplace=False)\n",
              "        )\n",
              "        (ff): XLNetFeedForward(\n",
              "          (layer_norm): LayerNorm((768,), eps=1e-12, elementwise_affine=True)\n",
              "          (layer_1): Linear(in_features=768, out_features=3072, bias=True)\n",
              "          (layer_2): Linear(in_features=3072, out_features=768, bias=True)\n",
              "          (dropout): Dropout(p=0.1, inplace=False)\n",
              "          (activation_function): GELUActivation()\n",
              "        )\n",
              "        (dropout): Dropout(p=0.1, inplace=False)\n",
              "      )\n",
              "      (4): XLNetLayer(\n",
              "        (rel_attn): XLNetRelativeAttention(\n",
              "          (layer_norm): LayerNorm((768,), eps=1e-12, elementwise_affine=True)\n",
              "          (dropout): Dropout(p=0.1, inplace=False)\n",
              "        )\n",
              "        (ff): XLNetFeedForward(\n",
              "          (layer_norm): LayerNorm((768,), eps=1e-12, elementwise_affine=True)\n",
              "          (layer_1): Linear(in_features=768, out_features=3072, bias=True)\n",
              "          (layer_2): Linear(in_features=3072, out_features=768, bias=True)\n",
              "          (dropout): Dropout(p=0.1, inplace=False)\n",
              "          (activation_function): GELUActivation()\n",
              "        )\n",
              "        (dropout): Dropout(p=0.1, inplace=False)\n",
              "      )\n",
              "      (5): XLNetLayer(\n",
              "        (rel_attn): XLNetRelativeAttention(\n",
              "          (layer_norm): LayerNorm((768,), eps=1e-12, elementwise_affine=True)\n",
              "          (dropout): Dropout(p=0.1, inplace=False)\n",
              "        )\n",
              "        (ff): XLNetFeedForward(\n",
              "          (layer_norm): LayerNorm((768,), eps=1e-12, elementwise_affine=True)\n",
              "          (layer_1): Linear(in_features=768, out_features=3072, bias=True)\n",
              "          (layer_2): Linear(in_features=3072, out_features=768, bias=True)\n",
              "          (dropout): Dropout(p=0.1, inplace=False)\n",
              "          (activation_function): GELUActivation()\n",
              "        )\n",
              "        (dropout): Dropout(p=0.1, inplace=False)\n",
              "      )\n",
              "      (6): XLNetLayer(\n",
              "        (rel_attn): XLNetRelativeAttention(\n",
              "          (layer_norm): LayerNorm((768,), eps=1e-12, elementwise_affine=True)\n",
              "          (dropout): Dropout(p=0.1, inplace=False)\n",
              "        )\n",
              "        (ff): XLNetFeedForward(\n",
              "          (layer_norm): LayerNorm((768,), eps=1e-12, elementwise_affine=True)\n",
              "          (layer_1): Linear(in_features=768, out_features=3072, bias=True)\n",
              "          (layer_2): Linear(in_features=3072, out_features=768, bias=True)\n",
              "          (dropout): Dropout(p=0.1, inplace=False)\n",
              "          (activation_function): GELUActivation()\n",
              "        )\n",
              "        (dropout): Dropout(p=0.1, inplace=False)\n",
              "      )\n",
              "      (7): XLNetLayer(\n",
              "        (rel_attn): XLNetRelativeAttention(\n",
              "          (layer_norm): LayerNorm((768,), eps=1e-12, elementwise_affine=True)\n",
              "          (dropout): Dropout(p=0.1, inplace=False)\n",
              "        )\n",
              "        (ff): XLNetFeedForward(\n",
              "          (layer_norm): LayerNorm((768,), eps=1e-12, elementwise_affine=True)\n",
              "          (layer_1): Linear(in_features=768, out_features=3072, bias=True)\n",
              "          (layer_2): Linear(in_features=3072, out_features=768, bias=True)\n",
              "          (dropout): Dropout(p=0.1, inplace=False)\n",
              "          (activation_function): GELUActivation()\n",
              "        )\n",
              "        (dropout): Dropout(p=0.1, inplace=False)\n",
              "      )\n",
              "      (8): XLNetLayer(\n",
              "        (rel_attn): XLNetRelativeAttention(\n",
              "          (layer_norm): LayerNorm((768,), eps=1e-12, elementwise_affine=True)\n",
              "          (dropout): Dropout(p=0.1, inplace=False)\n",
              "        )\n",
              "        (ff): XLNetFeedForward(\n",
              "          (layer_norm): LayerNorm((768,), eps=1e-12, elementwise_affine=True)\n",
              "          (layer_1): Linear(in_features=768, out_features=3072, bias=True)\n",
              "          (layer_2): Linear(in_features=3072, out_features=768, bias=True)\n",
              "          (dropout): Dropout(p=0.1, inplace=False)\n",
              "          (activation_function): GELUActivation()\n",
              "        )\n",
              "        (dropout): Dropout(p=0.1, inplace=False)\n",
              "      )\n",
              "      (9): XLNetLayer(\n",
              "        (rel_attn): XLNetRelativeAttention(\n",
              "          (layer_norm): LayerNorm((768,), eps=1e-12, elementwise_affine=True)\n",
              "          (dropout): Dropout(p=0.1, inplace=False)\n",
              "        )\n",
              "        (ff): XLNetFeedForward(\n",
              "          (layer_norm): LayerNorm((768,), eps=1e-12, elementwise_affine=True)\n",
              "          (layer_1): Linear(in_features=768, out_features=3072, bias=True)\n",
              "          (layer_2): Linear(in_features=3072, out_features=768, bias=True)\n",
              "          (dropout): Dropout(p=0.1, inplace=False)\n",
              "          (activation_function): GELUActivation()\n",
              "        )\n",
              "        (dropout): Dropout(p=0.1, inplace=False)\n",
              "      )\n",
              "      (10): XLNetLayer(\n",
              "        (rel_attn): XLNetRelativeAttention(\n",
              "          (layer_norm): LayerNorm((768,), eps=1e-12, elementwise_affine=True)\n",
              "          (dropout): Dropout(p=0.1, inplace=False)\n",
              "        )\n",
              "        (ff): XLNetFeedForward(\n",
              "          (layer_norm): LayerNorm((768,), eps=1e-12, elementwise_affine=True)\n",
              "          (layer_1): Linear(in_features=768, out_features=3072, bias=True)\n",
              "          (layer_2): Linear(in_features=3072, out_features=768, bias=True)\n",
              "          (dropout): Dropout(p=0.1, inplace=False)\n",
              "          (activation_function): GELUActivation()\n",
              "        )\n",
              "        (dropout): Dropout(p=0.1, inplace=False)\n",
              "      )\n",
              "      (11): XLNetLayer(\n",
              "        (rel_attn): XLNetRelativeAttention(\n",
              "          (layer_norm): LayerNorm((768,), eps=1e-12, elementwise_affine=True)\n",
              "          (dropout): Dropout(p=0.1, inplace=False)\n",
              "        )\n",
              "        (ff): XLNetFeedForward(\n",
              "          (layer_norm): LayerNorm((768,), eps=1e-12, elementwise_affine=True)\n",
              "          (layer_1): Linear(in_features=768, out_features=3072, bias=True)\n",
              "          (layer_2): Linear(in_features=3072, out_features=768, bias=True)\n",
              "          (dropout): Dropout(p=0.1, inplace=False)\n",
              "          (activation_function): GELUActivation()\n",
              "        )\n",
              "        (dropout): Dropout(p=0.1, inplace=False)\n",
              "      )\n",
              "    )\n",
              "    (dropout): Dropout(p=0.1, inplace=False)\n",
              "  )\n",
              "  (sequence_summary): SequenceSummary(\n",
              "    (summary): Linear(in_features=768, out_features=768, bias=True)\n",
              "    (activation): Tanh()\n",
              "    (first_dropout): Identity()\n",
              "    (last_dropout): Dropout(p=0.1, inplace=False)\n",
              "  )\n",
              "  (logits_proj): Linear(in_features=768, out_features=2, bias=True)\n",
              ")"
            ]
          },
          "execution_count": 32,
          "metadata": {},
          "output_type": "execute_result"
        }
      ],
      "source": [
        "model"
      ]
    },
    {
      "cell_type": "code",
      "execution_count": 33,
      "id": "tTaw_upSGo0b",
      "metadata": {
        "colab": {
          "base_uri": "https://localhost:8080/"
        },
        "id": "tTaw_upSGo0b",
        "outputId": "466ec01b-143c-4235-8c43-28bb4929cc81"
      },
      "outputs": [
        {
          "name": "stdout",
          "output_type": "stream",
          "text": [
            "XLNetForSequenceClassification(\n",
            "  (transformer): XLNetModel(\n",
            "    (word_embedding): Embedding(32000, 768)\n",
            "    (layer): ModuleList(\n",
            "      (0): XLNetLayer(\n",
            "        (rel_attn): XLNetRelativeAttention(\n",
            "          (layer_norm): LayerNorm((768,), eps=1e-12, elementwise_affine=True)\n",
            "          (dropout): Dropout(p=0.1, inplace=False)\n",
            "        )\n",
            "        (ff): XLNetFeedForward(\n",
            "          (layer_norm): LayerNorm((768,), eps=1e-12, elementwise_affine=True)\n",
            "          (layer_1): Linear(in_features=768, out_features=3072, bias=True)\n",
            "          (layer_2): Linear(in_features=3072, out_features=768, bias=True)\n",
            "          (dropout): Dropout(p=0.1, inplace=False)\n",
            "          (activation_function): GELUActivation()\n",
            "        )\n",
            "        (dropout): Dropout(p=0.1, inplace=False)\n",
            "      )\n",
            "      (1): XLNetLayer(\n",
            "        (rel_attn): XLNetRelativeAttention(\n",
            "          (layer_norm): LayerNorm((768,), eps=1e-12, elementwise_affine=True)\n",
            "          (dropout): Dropout(p=0.1, inplace=False)\n",
            "        )\n",
            "        (ff): XLNetFeedForward(\n",
            "          (layer_norm): LayerNorm((768,), eps=1e-12, elementwise_affine=True)\n",
            "          (layer_1): Linear(in_features=768, out_features=3072, bias=True)\n",
            "          (layer_2): Linear(in_features=3072, out_features=768, bias=True)\n",
            "          (dropout): Dropout(p=0.1, inplace=False)\n",
            "          (activation_function): GELUActivation()\n",
            "        )\n",
            "        (dropout): Dropout(p=0.1, inplace=False)\n",
            "      )\n",
            "      (2): XLNetLayer(\n",
            "        (rel_attn): XLNetRelativeAttention(\n",
            "          (layer_norm): LayerNorm((768,), eps=1e-12, elementwise_affine=True)\n",
            "          (dropout): Dropout(p=0.1, inplace=False)\n",
            "        )\n",
            "        (ff): XLNetFeedForward(\n",
            "          (layer_norm): LayerNorm((768,), eps=1e-12, elementwise_affine=True)\n",
            "          (layer_1): Linear(in_features=768, out_features=3072, bias=True)\n",
            "          (layer_2): Linear(in_features=3072, out_features=768, bias=True)\n",
            "          (dropout): Dropout(p=0.1, inplace=False)\n",
            "          (activation_function): GELUActivation()\n",
            "        )\n",
            "        (dropout): Dropout(p=0.1, inplace=False)\n",
            "      )\n",
            "      (3): XLNetLayer(\n",
            "        (rel_attn): XLNetRelativeAttention(\n",
            "          (layer_norm): LayerNorm((768,), eps=1e-12, elementwise_affine=True)\n",
            "          (dropout): Dropout(p=0.1, inplace=False)\n",
            "        )\n",
            "        (ff): XLNetFeedForward(\n",
            "          (layer_norm): LayerNorm((768,), eps=1e-12, elementwise_affine=True)\n",
            "          (layer_1): Linear(in_features=768, out_features=3072, bias=True)\n",
            "          (layer_2): Linear(in_features=3072, out_features=768, bias=True)\n",
            "          (dropout): Dropout(p=0.1, inplace=False)\n",
            "          (activation_function): GELUActivation()\n",
            "        )\n",
            "        (dropout): Dropout(p=0.1, inplace=False)\n",
            "      )\n",
            "      (4): XLNetLayer(\n",
            "        (rel_attn): XLNetRelativeAttention(\n",
            "          (layer_norm): LayerNorm((768,), eps=1e-12, elementwise_affine=True)\n",
            "          (dropout): Dropout(p=0.1, inplace=False)\n",
            "        )\n",
            "        (ff): XLNetFeedForward(\n",
            "          (layer_norm): LayerNorm((768,), eps=1e-12, elementwise_affine=True)\n",
            "          (layer_1): Linear(in_features=768, out_features=3072, bias=True)\n",
            "          (layer_2): Linear(in_features=3072, out_features=768, bias=True)\n",
            "          (dropout): Dropout(p=0.1, inplace=False)\n",
            "          (activation_function): GELUActivation()\n",
            "        )\n",
            "        (dropout): Dropout(p=0.1, inplace=False)\n",
            "      )\n",
            "      (5): XLNetLayer(\n",
            "        (rel_attn): XLNetRelativeAttention(\n",
            "          (layer_norm): LayerNorm((768,), eps=1e-12, elementwise_affine=True)\n",
            "          (dropout): Dropout(p=0.1, inplace=False)\n",
            "        )\n",
            "        (ff): XLNetFeedForward(\n",
            "          (layer_norm): LayerNorm((768,), eps=1e-12, elementwise_affine=True)\n",
            "          (layer_1): Linear(in_features=768, out_features=3072, bias=True)\n",
            "          (layer_2): Linear(in_features=3072, out_features=768, bias=True)\n",
            "          (dropout): Dropout(p=0.1, inplace=False)\n",
            "          (activation_function): GELUActivation()\n",
            "        )\n",
            "        (dropout): Dropout(p=0.1, inplace=False)\n",
            "      )\n",
            "      (6): XLNetLayer(\n",
            "        (rel_attn): XLNetRelativeAttention(\n",
            "          (layer_norm): LayerNorm((768,), eps=1e-12, elementwise_affine=True)\n",
            "          (dropout): Dropout(p=0.1, inplace=False)\n",
            "        )\n",
            "        (ff): XLNetFeedForward(\n",
            "          (layer_norm): LayerNorm((768,), eps=1e-12, elementwise_affine=True)\n",
            "          (layer_1): Linear(in_features=768, out_features=3072, bias=True)\n",
            "          (layer_2): Linear(in_features=3072, out_features=768, bias=True)\n",
            "          (dropout): Dropout(p=0.1, inplace=False)\n",
            "          (activation_function): GELUActivation()\n",
            "        )\n",
            "        (dropout): Dropout(p=0.1, inplace=False)\n",
            "      )\n",
            "      (7): XLNetLayer(\n",
            "        (rel_attn): XLNetRelativeAttention(\n",
            "          (layer_norm): LayerNorm((768,), eps=1e-12, elementwise_affine=True)\n",
            "          (dropout): Dropout(p=0.1, inplace=False)\n",
            "        )\n",
            "        (ff): XLNetFeedForward(\n",
            "          (layer_norm): LayerNorm((768,), eps=1e-12, elementwise_affine=True)\n",
            "          (layer_1): Linear(in_features=768, out_features=3072, bias=True)\n",
            "          (layer_2): Linear(in_features=3072, out_features=768, bias=True)\n",
            "          (dropout): Dropout(p=0.1, inplace=False)\n",
            "          (activation_function): GELUActivation()\n",
            "        )\n",
            "        (dropout): Dropout(p=0.1, inplace=False)\n",
            "      )\n",
            "      (8): XLNetLayer(\n",
            "        (rel_attn): XLNetRelativeAttention(\n",
            "          (layer_norm): LayerNorm((768,), eps=1e-12, elementwise_affine=True)\n",
            "          (dropout): Dropout(p=0.1, inplace=False)\n",
            "        )\n",
            "        (ff): XLNetFeedForward(\n",
            "          (layer_norm): LayerNorm((768,), eps=1e-12, elementwise_affine=True)\n",
            "          (layer_1): Linear(in_features=768, out_features=3072, bias=True)\n",
            "          (layer_2): Linear(in_features=3072, out_features=768, bias=True)\n",
            "          (dropout): Dropout(p=0.1, inplace=False)\n",
            "          (activation_function): GELUActivation()\n",
            "        )\n",
            "        (dropout): Dropout(p=0.1, inplace=False)\n",
            "      )\n",
            "      (9): XLNetLayer(\n",
            "        (rel_attn): XLNetRelativeAttention(\n",
            "          (layer_norm): LayerNorm((768,), eps=1e-12, elementwise_affine=True)\n",
            "          (dropout): Dropout(p=0.1, inplace=False)\n",
            "        )\n",
            "        (ff): XLNetFeedForward(\n",
            "          (layer_norm): LayerNorm((768,), eps=1e-12, elementwise_affine=True)\n",
            "          (layer_1): Linear(in_features=768, out_features=3072, bias=True)\n",
            "          (layer_2): Linear(in_features=3072, out_features=768, bias=True)\n",
            "          (dropout): Dropout(p=0.1, inplace=False)\n",
            "          (activation_function): GELUActivation()\n",
            "        )\n",
            "        (dropout): Dropout(p=0.1, inplace=False)\n",
            "      )\n",
            "      (10): XLNetLayer(\n",
            "        (rel_attn): XLNetRelativeAttention(\n",
            "          (layer_norm): LayerNorm((768,), eps=1e-12, elementwise_affine=True)\n",
            "          (dropout): Dropout(p=0.1, inplace=False)\n",
            "        )\n",
            "        (ff): XLNetFeedForward(\n",
            "          (layer_norm): LayerNorm((768,), eps=1e-12, elementwise_affine=True)\n",
            "          (layer_1): Linear(in_features=768, out_features=3072, bias=True)\n",
            "          (layer_2): Linear(in_features=3072, out_features=768, bias=True)\n",
            "          (dropout): Dropout(p=0.1, inplace=False)\n",
            "          (activation_function): GELUActivation()\n",
            "        )\n",
            "        (dropout): Dropout(p=0.1, inplace=False)\n",
            "      )\n",
            "      (11): XLNetLayer(\n",
            "        (rel_attn): XLNetRelativeAttention(\n",
            "          (layer_norm): LayerNorm((768,), eps=1e-12, elementwise_affine=True)\n",
            "          (dropout): Dropout(p=0.1, inplace=False)\n",
            "        )\n",
            "        (ff): XLNetFeedForward(\n",
            "          (layer_norm): LayerNorm((768,), eps=1e-12, elementwise_affine=True)\n",
            "          (layer_1): Linear(in_features=768, out_features=3072, bias=True)\n",
            "          (layer_2): Linear(in_features=3072, out_features=768, bias=True)\n",
            "          (dropout): Dropout(p=0.1, inplace=False)\n",
            "          (activation_function): GELUActivation()\n",
            "        )\n",
            "        (dropout): Dropout(p=0.1, inplace=False)\n",
            "      )\n",
            "    )\n",
            "    (dropout): Dropout(p=0.1, inplace=False)\n",
            "  )\n",
            "  (sequence_summary): SequenceSummary(\n",
            "    (summary): Linear(in_features=768, out_features=768, bias=True)\n",
            "    (activation): Tanh()\n",
            "    (first_dropout): Identity()\n",
            "    (last_dropout): Dropout(p=0.1, inplace=False)\n",
            "  )\n",
            "  (logits_proj): Linear(in_features=768, out_features=77, bias=True)\n",
            ")\n"
          ]
        }
      ],
      "source": [
        "embed_dim = 768\n",
        "\n",
        "# change the output of last layer to num_class that we want to predict\n",
        "model.logits_proj = nn.Linear(in_features=embed_dim,out_features=num_class)\n",
        "model = model.to(device)\n",
        "\n",
        "print(model)"
      ]
    },
    {
      "cell_type": "code",
      "execution_count": 34,
      "id": "emF3TuL1uSY_",
      "metadata": {
        "id": "emF3TuL1uSY_"
      },
      "outputs": [],
      "source": [
        "# from transformers import AdamW\n",
        "\n",
        "lr= 1e-5 \n",
        "optimizer= torch.optim.AdamW(model.parameters(), lr=lr)"
      ]
    },
    {
      "cell_type": "code",
      "execution_count": 35,
      "id": "PHn0VngX2Vcj",
      "metadata": {
        "id": "PHn0VngX2Vcj"
      },
      "outputs": [],
      "source": [
        "# inputs = tokenizer(\"Hello, my dog is cute\", return_tensors=\"pt\")\n",
        "# labels = torch.tensor([[1, 1]], dtype=torch.float)\n",
        "# print(inputs['input_ids'].size())\n",
        "# print(labels.size())"
      ]
    },
    {
      "cell_type": "code",
      "execution_count": 36,
      "id": "pOWh6DNfcJu-",
      "metadata": {
        "colab": {
          "base_uri": "https://localhost:8080/"
        },
        "id": "pOWh6DNfcJu-",
        "outputId": "6c8e35ec-d4ea-41fd-a137-03adb5710798"
      },
      "outputs": [
        {
          "name": "stdout",
          "output_type": "stream",
          "text": [
            "(0, 'Class')\n",
            "(1, 'Text')\n"
          ]
        }
      ],
      "source": [
        "for batch_sub in enumerate(batch):\n",
        "  print(batch_sub)\n",
        "  # inputs = tokenizer(batch_sub['Text'], return_tensors=\"pt\")\n",
        "  # labels = torch.tensor(batch_sub['Class']).unsqueeze(0)  # Batch size 1"
      ]
    },
    {
      "cell_type": "code",
      "execution_count": 37,
      "id": "IKpzifek_AMG",
      "metadata": {
        "colab": {
          "base_uri": "https://localhost:8080/"
        },
        "id": "IKpzifek_AMG",
        "outputId": "31f7fa92-c4eb-486b-f9db-ecbc8cf033a6"
      },
      "outputs": [
        {
          "name": "stdout",
          "output_type": "stream",
          "text": [
            "[Epoch: 5, 2500] \n",
            "Train loss: 0.00 \n",
            "Train Acc: 24.62 %\n"
          ]
        }
      ],
      "source": [
        "# 4.3\n",
        "# this code training models on Cross entropy loss\n",
        "train_loss = []\n",
        "train_accuracy = []\n",
        "best_train_loss = float('inf')\n",
        "total_acc_train = 0\n",
        "n_correct = 0 \n",
        "n_wrong = 0\n",
        "\n",
        "\n",
        "for epoch in range(5):  # loop over the dataset multiple times\n",
        "    running_loss = 0.0\n",
        "    \n",
        "    for (idx, batch) in enumerate(train_loader):\n",
        "        sentence = batch[\"Text\"]\n",
        "        inputs = tokenizer(sentence, padding=True,truncation=True,return_tensors=\"pt\")\n",
        "        \n",
        "        # move parameter to device\n",
        "        inputs = {k:v.to(device) for k,v in inputs.items()}\n",
        "\n",
        "        # map string labels to class idex\n",
        "\n",
        "        labels = [label_maps[stringtoId] for stringtoId in (batch['Class'])]\n",
        "                    \n",
        "        #print(\"show out: \",np.unique(labels, return_counts=True))\n",
        "        # convert list to tensor\n",
        "        labels = torch.tensor(labels).unsqueeze(0)\n",
        "        labels = labels.to(device)\n",
        "#         print(labels)\n",
        "\n",
        "        #(batch_size, seq_len)\n",
        "        #print(inputs[\"input_ids\"].shape)\n",
        "\n",
        "         # zero the parameter gradients\n",
        "        optimizer.zero_grad()\n",
        "\n",
        "        outputs = model(**inputs,labels=labels)\n",
        "        # you can check \n",
        "        loss, logits = outputs[:2]\n",
        "        \n",
        "        loss.backward()\n",
        "        optimizer.step()\n",
        "\n",
        "        # write code here \n",
        "        pred_class = torch.argmax(logits)\n",
        "#         print(pred_class)\n",
        "        if pred_class in labels:\n",
        "            n_correct += 1\n",
        "        else:\n",
        "            n_wrong += 1\n",
        "        total_acc_train = (n_correct * 1.0) / (n_correct + n_wrong)\n",
        "        \n",
        "        train_loss.append(loss.item())\n",
        "        train_accuracy.append(total_acc_train)\n",
        "        \n",
        "        # to save model eg. model.pth look at pytorch document how to save model\n",
        "        if loss.item() < best_train_loss:\n",
        "            best_train_loss = loss.item()\n",
        "            torch.save(model.state_dict(), 'Xlnet-model.pt')\n",
        "        \n",
        "        print(f'[Epoch: {epoch + 1}, {idx}] \\nTrain loss: {loss.item():.2f} \\nTrain Acc: {total_acc_train*100:.2f} %')\n",
        "        clear_output(wait=True)"
      ]
    },
    {
      "cell_type": "code",
      "execution_count": 38,
      "id": "r1p9_SDTzuVk",
      "metadata": {
        "id": "r1p9_SDTzuVk"
      },
      "outputs": [],
      "source": [
        "import pickle\n",
        "\n",
        "with open(\"train_loss\", \"wb\") as fp:   #Pickling\n",
        "  pickle.dump(train_loss, fp)\n",
        "\n",
        "with open(\"train_accuracy\", \"wb\") as fp:   #Pickling\n",
        "  pickle.dump(train_accuracy, fp)"
      ]
    },
    {
      "cell_type": "code",
      "execution_count": 39,
      "id": "wtesOYGB0uJ6",
      "metadata": {
        "colab": {
          "base_uri": "https://localhost:8080/",
          "height": 624
        },
        "id": "wtesOYGB0uJ6",
        "outputId": "fe03ff54-672d-4201-fe82-7670541d4b39"
      },
      "outputs": [
        {
          "data": {
            "text/plain": [
              "Text(0, 0.5, 'acc')"
            ]
          },
          "execution_count": 39,
          "metadata": {},
          "output_type": "execute_result"
        },
        {
          "data": {
            "image/png": "[encoded data removed]",
            "text/plain": [
              "<Figure size 1080x720 with 2 Axes>"
            ]
          },
          "metadata": {
            "needs_background": "light"
          },
          "output_type": "display_data"
        }
      ],
      "source": [
        "# write code here for 4.5\n",
        "import matplotlib.pyplot as plt\n",
        "fig = plt.figure(figsize=(15, 10))\n",
        "ax1 = fig.add_subplot(2, 1, 1)\n",
        "ax2 = fig.add_subplot(2, 1, 2)\n",
        "ax1.plot(train_loss, label = 'train loss')\n",
        "ax2.plot(train_accuracy, label = 'train acc')\n",
        "plt.legend()\n",
        "ax1.set_xlabel('epoches')\n",
        "ax1.set_ylabel('loss')\n",
        "ax2.set_xlabel('epoches')\n",
        "ax2.set_ylabel('acc')\n"
      ]
    },
    {
      "cell_type": "code",
      "execution_count": 40,
      "id": "BY6spRp4Ilyq",
      "metadata": {
        "colab": {
          "base_uri": "https://localhost:8080/"
        },
        "id": "BY6spRp4Ilyq",
        "outputId": "46a4fae7-ed7c-4edf-836c-188cef5420fe"
      },
      "outputs": [
        {
          "name": "stdout",
          "output_type": "stream",
          "text": [
            "[Epoch: 5, 769] \n",
            "Test loss: 1.26 \n",
            "Test Acc: 24.83 %\n",
            "0.0\n"
          ]
        }
      ],
      "source": [
        "#4.6\n",
        "model.load_state_dict(torch.load('Xlnet-model.pt'))\n",
        "# this code training models on Cross entropy loss\n",
        "\n",
        "test_loss = []\n",
        "test_accuracy = []\n",
        "total_acc_test = 0\n",
        "n_correct = 0 \n",
        "n_wrong = 0\n",
        "\n",
        "# #for epoch in range(30):  # loop over the dataset multiple times\n",
        "for epoch in range(5):# loop over the dataset multiple times\n",
        "    \n",
        "    running_loss = 0.0\n",
        "    with torch.no_grad():\n",
        "        for (idx, batch) in enumerate(test_loader):\n",
        "            sentence = batch[\"Text\"]\n",
        "            inputs = tokenizer(sentence,padding=True,truncation=True,return_tensors=\"pt\")\n",
        "\n",
        "            # move parameter to device\n",
        "            inputs = {k:v.to(device) for k,v in inputs.items()}\n",
        "\n",
        "            # map string labels to class idex\n",
        "            labels = [label_maps[stringtoId] for stringtoId in (batch['Class'])]\n",
        "\n",
        "            #print(\"show out: \",np.unique(labels, return_counts=True))\n",
        "            # convert list to tensor\n",
        "            labels = torch.tensor(labels).unsqueeze(0)\n",
        "            labels = labels.to(device)\n",
        "\n",
        "\n",
        "            #(batch_size, seq_len)\n",
        "            #print(inputs[\"input_ids\"].shape)\n",
        "\n",
        "             # zero the parameter gradients\n",
        "            # optimizer.zero_grad()\n",
        "\n",
        "            outputs = model(**inputs,labels=labels)\n",
        "            # you can check \n",
        "            loss, logits = outputs[:2]\n",
        "\n",
        "            # loss.backward()\n",
        "            # optimizer.step()\n",
        "            pred_class = torch.argmax(logits)\n",
        "#         print(pred_class)\n",
        "            if pred_class in labels:\n",
        "                n_correct += 1\n",
        "            else:\n",
        "                n_wrong += 1\n",
        "            total_acc_test = (n_correct * 1.0) / (n_correct + n_wrong)\n",
        "\n",
        "            test_loss.append(loss.item())\n",
        "            test_accuracy.append(total_acc_test)\n",
        "\n",
        "\n",
        "\n",
        "            print(f'[Epoch: {epoch + 1}, {idx}] \\nTest loss: {loss.item():.2f} \\nTest Acc: {total_acc_test*100:.2f} %')\n",
        "            \n",
        "            print(running_loss)  \n",
        "            clear_output(wait=True)"
      ]
    },
    {
      "cell_type": "code",
      "execution_count": 41,
      "id": "wRJr6WLLz4ID",
      "metadata": {
        "id": "wRJr6WLLz4ID"
      },
      "outputs": [],
      "source": [
        "import pickle\n",
        "\n",
        "with open(\"test_loss\", \"wb\") as fp:   #Pickling\n",
        "  pickle.dump(test_loss, fp)\n",
        "\n",
        "with open(\"test_accuracy\", \"wb\") as fp:   #Pickling\n",
        "  pickle.dump(test_accuracy, fp)"
      ]
    },
    {
      "cell_type": "code",
      "execution_count": 42,
      "id": "W-weRltTxho_",
      "metadata": {
        "colab": {
          "base_uri": "https://localhost:8080/",
          "height": 624
        },
        "id": "W-weRltTxho_",
        "outputId": "4604624d-5c8f-4af6-ab54-c27f8e37a173"
      },
      "outputs": [
        {
          "data": {
            "text/plain": [
              "Text(0, 0.5, 'acc')"
            ]
          },
          "execution_count": 42,
          "metadata": {},
          "output_type": "execute_result"
        },
        {
          "data": {
            "image/png": "[encoded data removed]",
            "text/plain": [
              "<Figure size 1080x720 with 2 Axes>"
            ]
          },
          "metadata": {
            "needs_background": "light"
          },
          "output_type": "display_data"
        }
      ],
      "source": [
        "# write code here for 4.5\n",
        "import matplotlib.pyplot as plt\n",
        "fig = plt.figure(figsize=(15, 10))\n",
        "ax1 = fig.add_subplot(2, 1, 1)\n",
        "ax2 = fig.add_subplot(2, 1, 2)\n",
        "ax1.plot(test_loss, label = 'test loss')\n",
        "ax2.plot(test_accuracy, label = 'test acc')\n",
        "plt.legend()\n",
        "ax1.set_xlabel('epoches')\n",
        "ax1.set_ylabel('loss')\n",
        "ax2.set_xlabel('epoches')\n",
        "ax2.set_ylabel('acc')\n"
      ]
    },
    {
      "cell_type": "code",
      "execution_count": 43,
      "id": "bSbni_GxiLw0",
      "metadata": {
        "id": "bSbni_GxiLw0"
      },
      "outputs": [],
      "source": [
        "import torch\n",
        "from transformers import AutoConfig, AutoTokenizer, AutoModelForSequenceClassification\n",
        "\n",
        "from transformers import AutoModel, AutoTokenizer\n",
        "import random\n",
        "import torch.nn as nn\n",
        "import torch.nn.functional as F\n",
        "from numpy import ndarray\n",
        "from typing import List, Dict, Tuple, Type, Union\n",
        "from torch import Tensor\n",
        "from torch.utils.data import Dataset, DataLoader\n",
        "import numpy as np\n",
        "from transformers import RobertaTokenizer\n",
        "import random\n",
        "\n",
        "\n",
        "class Similarity(nn.Module):\n",
        "    \"\"\"\n",
        "    Dot product or cosine similarity\n",
        "    \"\"\"\n",
        "\n",
        "    def __init__(self, temp=None):\n",
        "        super().__init__()\n",
        "\n",
        "        if temp !=None:\n",
        "            self.temp = temp\n",
        "        else: \n",
        "\n",
        "            self.temp = 1.0\n",
        "        # among feature last dim \n",
        "        self.cos = nn.CosineSimilarity(dim=-1)\n",
        "\n",
        "    def forward(self, x, y):\n",
        "        \n",
        "        return  self.cos(x, y) / self.temp\n",
        "\n",
        "\n",
        "def create_supervised_pair(h,labels,debug:bool=False):\n",
        "    \n",
        "\n",
        "    \"\"\"\n",
        "     h - (batch_size, seq_len, hidden_dim)\n",
        "     label - (batch_size) \n",
        "    \n",
        "    \"\"\"\n",
        "    # params\n",
        "    h_i = [] # pos pairs\n",
        "    h_j = [] # neg pairs\n",
        "    skips = []\n",
        "    idx_i = [] # index yi = yj\n",
        "\n",
        "    # proof done \n",
        "    # masking correct\n",
        "    # pair of concat correct\n",
        "\n",
        "    T = 0 # the numbers of pairs sample\n",
        "    \n",
        "    for idx, label in enumerate(labels): \n",
        "\n",
        "        if idx in skips:\n",
        "            continue\n",
        "\n",
        "        mask = label == np.array(labels)\n",
        "        \n",
        "        # dont include current sample \n",
        "        mask[idx] = False \n",
        "        \n",
        "        # check is they have pos pair \n",
        "        if np.count_nonzero(mask) >= 1:\n",
        "            \n",
        "\n",
        "            idxs_arr = np.arange(len(labels))\n",
        "            # each h_i and h_j :  (sample, hidden_dim)\n",
        "            \n",
        "            # (hidden_dim)\n",
        "            h_i_tensor = h[idx,:] # got 1 dim \n",
        "            # (1,hidden_dim)\n",
        "            h_i_tensor = h_i_tensor[None,:] # got 2 dim \n",
        "            \n",
        "            # preparing to broadcast up to # repeated labels\n",
        "            h_i_tensor = h_i_tensor.repeat(np.count_nonzero(mask),1)\n",
        "\n",
        "            \n",
        "            #print(\"h_j idx :\",h[mask,:,:].shape)\n",
        "            # (seq_len,hidden_dim) , (#pairs, hidden_dim)\n",
        "            if debug:\n",
        "                if np.count_nonzero(mask) >= 2:\n",
        "                    print(\"----\")\n",
        "                    print(\"masking label debug :\",np.array(labels)[mask])\n",
        "                    print(\"current labels \",np.array(labels)[idx])\n",
        "                    print(\"---\")\n",
        "                \n",
        "                print(\">>>>>>>>>>>>>\")\n",
        "                print(\"repeat for broadcast :\",h_i_tensor.shape)\n",
        "                print(\"before append h_i and h_j\")\n",
        "                print(\"h_i : \",h_i_tensor.shape)\n",
        "                print(\"h_j : \",h[mask,:].shape)\n",
        "\n",
        "\n",
        "            # proof masking are correct they select the same class \n",
        "            h_i.append(h_i_tensor)\n",
        "            h_j.append(h[mask,:])\n",
        "\n",
        "\n",
        "            for val in idxs_arr[mask]: \n",
        "                skips.append(val)\n",
        "            # add pair numbers of samples \n",
        "\n",
        "            # copy sample i to #of pairs\n",
        "            for i in range(np.count_nonzero(mask)):\n",
        "                idx_i.append(idx)\n",
        "\n",
        "            T+= np.count_nonzero(mask)\n",
        "            \n",
        "            if debug:\n",
        "                \n",
        "                print(\"idx:\",idx)\n",
        "                print(\"current skips :\",idxs_arr[mask])\n",
        "                print(\"current labels :\",label)\n",
        "\n",
        "                label_arr = np.array(labels)\n",
        "\n",
        "                 \n",
        "                print(\"pair class :\",label_arr[mask])\n",
        "                print(\"mask:\", mask)\n",
        "                print(\"count:\",len(mask))\n",
        "                print(\"numbers of pairs one label :\",np.count_nonzero(mask))\n",
        "           \n",
        "    \n",
        "    if h_i:\n",
        "    # after ending loop \n",
        "        h_i = torch.cat(h_i,dim=0)\n",
        "        h_j = torch.cat(h_j,dim=0)    \n",
        "    \n",
        "        \n",
        "        \"\"\"\n",
        "        print(\"all the sample i :\",idx_i)\n",
        "        print(\"skips :\",skips)\n",
        "        print(\"h_i shape :\",h_i.shape)\n",
        "        print(\"the number of pairs :\",T)\n",
        "        \"\"\"\n",
        "    \n",
        "        if debug: \n",
        "\n",
        "            print(\"the number of pairs for entire batch:\",T) \n",
        "            print(\"pairs see from labels : \",len(labels)-len(set(labels)))\n",
        "    \n",
        "\n",
        "\n",
        "        return T, h_i, h_j, idx_i\n",
        "    else:\n",
        "\n",
        "        return T, None, None, None\n",
        "    \n",
        "    \n",
        "\n",
        "def supervised_contrasive_loss(h_i:Tensor,h_j:Tensor,h_n:Tensor,T:int,temp,idx_yij:List,callback=None,debug=False)->Union[ndarray, Tensor]:\n",
        "    \"\"\"\n",
        "    T - number of pairs from the same classes in batch\n",
        "    \n",
        "    pos_pair - two utterances from the same class\n",
        "    \n",
        "    * remark previous work treat the utterance and itself as pos_pair\n",
        "    neg_pair - two utterances across different class  \n",
        "   \n",
        "    \"\"\"\n",
        "    sim = Similarity(temp)\n",
        "    \n",
        "    device = \"cuda:0\"\n",
        "\n",
        "\n",
        "    if callback != None:\n",
        "       \n",
        "       h_i = callback(h_i)\n",
        "       h_j = callback(h_j)\n",
        "       h_n = callback(h_n)\n",
        "           \n",
        "    # exp(sim(a,b)/ temp)\n",
        "\n",
        "    pos_sim = torch.exp(sim(h_i,h_j))\n",
        "     \n",
        "    # for collect compute  sum_batch(exp(sim(hi,hn)/t)) \n",
        "    bot_sim  = []\n",
        "\n",
        "    # masking bottom\n",
        "    # same batch size shape\n",
        "    #mask = np.arange(h_n.shape[0])\n",
        "\n",
        "    \"\"\"\n",
        "    print(\"idxes yi=yj :\",idx_yij)\n",
        "    print(\"len yij\",len(idx_yij))\n",
        "    print(\"mask :\",mask)\n",
        "    print(\"# hi:  \",h_i.shape[0])\n",
        "    \"\"\"\n",
        "    for idx in range(h_i.shape[0]):\n",
        "       \n",
        "\n",
        "        #mask = mask != idx_yij[idx]\n",
        "\n",
        "        #h_n_neg = h_n[mask,:]\n",
        "        # create h_i equal h_n_neg.shape[0] copies\n",
        "\n",
        "        # select current sample from list pos pairs\n",
        "        h_i_broad = h_i[idx].repeat(h_n.shape[0],1)\n",
        "        \n",
        "\n",
        "        if debug:\n",
        "            print(\"h_i before broad :\",h_i[idx].shape)\n",
        "            print(\"after broad h_i to h_n\",h_i_broad.shape)\n",
        "            print(\"h_n shape :\",h_n.shape)\n",
        "        \n",
        "\n",
        "        # sum over batch\n",
        "        res = torch.sum(torch.exp(sim(h_i_broad,h_n))) \n",
        "        \n",
        "        if debug:\n",
        "            print(\"sim(h_i,h_n) shape :\",res.shape)\n",
        "            print(\"neg_sim max_min :\",res.max(), res.min())\n",
        "         \n",
        "   \n",
        "        if debug:\n",
        "            print(\"after summing bottom factor :\",res.shape)\n",
        "\n",
        "\n",
        "        # to use with each pair i and j \n",
        "        bot_sim.append(res)\n",
        "\n",
        "    bot_sim = torch.Tensor(bot_sim).to(device)\n",
        "\n",
        "    if debug:\n",
        "        print(\"bot_sim :\",bot_sim.shape)\n",
        "        print(\"pos_sim.shape :\",pos_sim.shape)     \n",
        "    \n",
        "       \n",
        "\n",
        "    if debug:\n",
        "        print(\"bot sim :\",bot_sim.shape)\n",
        "        print(\"pos sim :\",pos_sim.shape)\n",
        "    \n",
        "    \n",
        "    loss = torch.log((pos_sim/bot_sim))\n",
        "    \n",
        "    \n",
        "    loss = torch.sum(loss)\n",
        "\n",
        "    if debug:\n",
        "        print(\"after take log: \",loss)\n",
        "    \n",
        "    loss = -loss / T   \n",
        "\n",
        "    \n",
        "    return loss\n"
      ]
    },
    {
      "cell_type": "code",
      "execution_count": 44,
      "id": "FMC5tN2Qht5F",
      "metadata": {
        "colab": {
          "base_uri": "https://localhost:8080/"
        },
        "id": "FMC5tN2Qht5F",
        "outputId": "53559338-69f6-4201-fb5b-6d249dccf3a6"
      },
      "outputs": [
        {
          "name": "stdout",
          "output_type": "stream",
          "text": [
            "skip this batch\n",
            "skip this batch\n"
          ]
        }
      ],
      "source": [
        "train_loss_5 = []\n",
        "train_acc_5 = []\n",
        "n_correct = 0 \n",
        "n_wrong = 0\n",
        "best_train_loss = float('inf')\n",
        "skip_time = 0 # the number of time that yi not equal to yj in supervised contrastive loss equation \n",
        "temp = 0.5  # adjustable\n",
        "lamda = 0.02  # adjustable \n",
        "\n",
        "for epoch in range(5):  # loop over the dataset multiple times\n",
        "    \n",
        "    running_loss = 0.0\n",
        "    \n",
        "    for (idx, batch) in enumerate(train_loader):\n",
        "        sentence = batch[\"Text\"]\n",
        "        inputs = tokenizer(sentence,padding=True,truncation=True,return_tensors=\"pt\")\n",
        "        inputs = {k:v.to(device) for k,v in inputs.items()}\n",
        "\n",
        "        # map string labels to class idex\n",
        "        labels = [label_maps[stringtoId] for stringtoId in (batch['Class'])]\n",
        "\n",
        "        \n",
        "        # convert list to tensor\n",
        "        labels = torch.tensor(labels).unsqueeze(0)\n",
        "        labels = labels.to(device)\n",
        "\n",
        "\n",
        "        #(batch_size, seq_len)\n",
        "        #print(inputs[\"input_ids\"].shape)\n",
        "\n",
        "         # zero the parameter gradients\n",
        "        optimizer.zero_grad()\n",
        "\n",
        "        outputs = model(**inputs,labels=labels,output_hidden_states=True)     \n",
        "        \n",
        "        hidden_states = outputs.hidden_states\n",
        "        \n",
        "        last_hidden_states = hidden_states[12]\n",
        "        \n",
        "        # https://stackoverflow.com/questions/63040954/how-to-extract-and-use-bert-encodings-of-sentences-for-text-similarity-among-sen \n",
        "        # (batch_size,seq_len,embed_dim)\n",
        "        h = last_hidden_states[:,0,:]\n",
        "        \n",
        "        # create pair samples\n",
        "        T, h_i, h_j, idx_yij = create_supervised_pair(h,batch['Class'],debug=False)\n",
        "        \n",
        "        if h_i is None:\n",
        "            print(\"skip this batch\")\n",
        "            skip_time +=1\n",
        "            continue\n",
        "               \n",
        "        # supervised contrastive loss \n",
        "        loss_s_cl = supervised_contrasive_loss(h_i, h_j, h, T,temp=temp,idx_yij=idx_yij,debug=False)\n",
        "        \n",
        "        # cross entropy loss\n",
        "        loss_classify, logits = outputs[:2]\n",
        "        \n",
        "        # loss total\n",
        "        loss = loss_s_cl + (lamda * loss_classify)\n",
        "        \n",
        "        loss.backward()\n",
        "        optimizer.step()\n",
        "        \n",
        "        \n",
        "        pred_class = torch.argmax(logits)\n",
        "#         print(pred_class)\n",
        "        if pred_class in labels:\n",
        "            n_correct += 1\n",
        "        else:\n",
        "            n_wrong += 1\n",
        "        total_acc_train = (n_correct * 1.0) / (n_correct + n_wrong)\n",
        "        \n",
        "        train_loss_5.append(loss.item())\n",
        "        train_acc_5.append(total_acc_train)\n",
        "#         print(f'[{epoch + 1}, {idx}] loss_total: {loss.item()}, loss_s_cl:{loss_s_cl.item()}, loss_classify:{lamda * loss_classify.item()}')\n",
        "        # to save model eg. model.pth look at pytorch document how to save model\n",
        "        if loss.item() < best_train_loss:\n",
        "            best_train_loss = loss.item()\n",
        "            torch.save(model.state_dict(), 'Xlnet-model_with_supervised_contrasive_loss.pt')\n",
        "        print(f'[{epoch + 1}, {idx}] \\nloss_total: {loss.item():.2f}, \\nloss_s_cl:{loss_s_cl.item():.2f}, \\nloss_classify:{lamda * loss_classify.item():.2f}, \\nTrain_accuracy: {total_acc_train*100:.2f} %')\n",
        "        clear_output(wait=True)  \n",
        "\n",
        "# print(f'[{epoch + 1}, {idx}] \\nloss_total: {loss.item():.2f}, \\nloss_s_cl:{loss_s_cl.item():.2f}, \\nloss_classify:{lamda * loss_classify.item():.2f}, \\nTrain_accuracy: {total_acc_train*100:.2f} %')"
      ]
    },
    {
      "cell_type": "code",
      "execution_count": 45,
      "id": "enIjsDI_w9Bt",
      "metadata": {
        "colab": {
          "base_uri": "https://localhost:8080/"
        },
        "id": "enIjsDI_w9Bt",
        "outputId": "de9ef2df-547d-4c61-d54e-5096dd56a3d9"
      },
      "outputs": [
        {
          "name": "stdout",
          "output_type": "stream",
          "text": [
            "[5, 2500] \n",
            "loss_total: 1.39, \n",
            "loss_s_cl:1.39, \n",
            "loss_classify:0.00, \n",
            "Train_accuracy: 24.23 %\n"
          ]
        }
      ],
      "source": [
        "print(f'[{epoch + 1}, {idx}] \\nloss_total: {loss.item():.2f}, \\nloss_s_cl:{loss_s_cl.item():.2f}, \\nloss_classify:{lamda * loss_classify.item():.2f}, \\nTrain_accuracy: {total_acc_train*100:.2f} %')"
      ]
    },
    {
      "cell_type": "code",
      "execution_count": 46,
      "id": "QDTnp9KzzlCV",
      "metadata": {
        "id": "QDTnp9KzzlCV"
      },
      "outputs": [],
      "source": [
        "import pickle\n",
        "\n",
        "with open(\"train_loss_5\", \"wb\") as fp:   #Pickling\n",
        "  pickle.dump(train_loss_5, fp)\n",
        "\n",
        "with open(\"train_acc_5\", \"wb\") as fp:   #Pickling\n",
        "  pickle.dump(train_acc_5, fp)"
      ]
    },
    {
      "cell_type": "code",
      "execution_count": 47,
      "id": "s0uUigITw-6c",
      "metadata": {
        "colab": {
          "base_uri": "https://localhost:8080/",
          "height": 624
        },
        "id": "s0uUigITw-6c",
        "outputId": "03dc8945-98f3-44f6-d4ca-1232b46f824f"
      },
      "outputs": [
        {
          "data": {
            "text/plain": [
              "Text(0, 0.5, 'acc')"
            ]
          },
          "execution_count": 47,
          "metadata": {},
          "output_type": "execute_result"
        },
        {
          "data": {
            "image/png": "[encoded data removed]",
            "text/plain": [
              "<Figure size 1080x720 with 2 Axes>"
            ]
          },
          "metadata": {
            "needs_background": "light"
          },
          "output_type": "display_data"
        }
      ],
      "source": [
        "import matplotlib.pyplot as plt\n",
        "fig = plt.figure(figsize=(15, 10))\n",
        "ax1 = fig.add_subplot(2, 1, 1)\n",
        "ax2 = fig.add_subplot(2, 1, 2)\n",
        "ax1.plot(train_loss_5, label = 'train loss')\n",
        "ax2.plot(train_acc_5, label = 'train acc')\n",
        "plt.legend()\n",
        "ax1.set_xlabel('epoches')\n",
        "ax1.set_ylabel('loss')\n",
        "ax2.set_xlabel('epoches')\n",
        "ax2.set_ylabel('acc')\n"
      ]
    },
    {
      "cell_type": "code",
      "execution_count": 48,
      "id": "8SpBUpT-xDtn",
      "metadata": {
        "colab": {
          "base_uri": "https://localhost:8080/"
        },
        "id": "8SpBUpT-xDtn",
        "outputId": "0692d256-a7c1-407e-dd96-0baefc4e65ce"
      },
      "outputs": [
        {
          "name": "stdout",
          "output_type": "stream",
          "text": [
            "[5, 769] \n",
            "test_loss_total: 1.41, \n",
            "test_loss_s_cl:1.41, \n",
            "test_loss_classify:0.00, \n",
            "test_accuracy: 25.09 %\n"
          ]
        }
      ],
      "source": [
        "test_loss_5 = []\n",
        "test_acc_5 = []\n",
        "n_correct = 0 \n",
        "n_wrong = 0\n",
        "\n",
        "model.load_state_dict(torch.load('Xlnet-model_with_supervised_contrasive_loss.pt'))\n",
        "\n",
        "for epoch in range(5):  # loop over the dataset multiple times\n",
        "    \n",
        "    running_loss = 0.0\n",
        "    with torch.no_grad():\n",
        "        for (idx, batch) in enumerate(test_loader):\n",
        "            sentence = batch[\"Text\"]\n",
        "            inputs = tokenizer(sentence,padding=True,truncation=True,return_tensors=\"pt\")\n",
        "            inputs = {k:v.to(device) for k,v in inputs.items()}\n",
        "\n",
        "            # map string labels to class idex\n",
        "            labels = [label_maps[stringtoId] for stringtoId in (batch['Class'])]\n",
        "\n",
        "\n",
        "            # convert list to tensor\n",
        "            labels = torch.tensor(labels).unsqueeze(0)\n",
        "            labels = labels.to(device)\n",
        "\n",
        "\n",
        "            #(batch_size, seq_len)\n",
        "            #print(inputs[\"input_ids\"].shape)\n",
        "\n",
        "             # zero the parameter gradients\n",
        "#             optimizer.zero_grad()\n",
        "\n",
        "            outputs = model(**inputs,labels=labels,output_hidden_states=True)     \n",
        "\n",
        "            hidden_states = outputs.hidden_states\n",
        "\n",
        "            last_hidden_states = hidden_states[12]\n",
        "\n",
        "            # https://stackoverflow.com/questions/63040954/how-to-extract-and-use-bert-encodings-of-sentences-for-text-similarity-among-sen \n",
        "            # (batch_size,seq_len,embed_dim)\n",
        "            h = last_hidden_states[:,0,:]\n",
        "\n",
        "            # create pair samples\n",
        "            T, h_i, h_j, idx_yij = create_supervised_pair(h,batch['Class'],debug=False)\n",
        "\n",
        "            if h_i is None:\n",
        "                print(\"skip this batch\")\n",
        "                skip_time +=1\n",
        "                continue\n",
        "\n",
        "            # supervised contrastive loss \n",
        "            loss_s_cl = supervised_contrasive_loss(h_i, h_j, h, T,temp=temp,idx_yij=idx_yij,debug=False)\n",
        "\n",
        "            # cross entropy loss\n",
        "            loss_classify, logits = outputs[:2]\n",
        "\n",
        "            # loss total\n",
        "            loss = loss_s_cl + (lamda * loss_classify)\n",
        "\n",
        "#             loss.backward()\n",
        "#             optimizer.step()\n",
        "\n",
        "\n",
        "            pred_class = torch.argmax(logits)\n",
        "    #         print(pred_class)\n",
        "            if pred_class in labels:\n",
        "                n_correct += 1\n",
        "            else:\n",
        "                n_wrong += 1\n",
        "            total_acc_test = (n_correct * 1.0) / (n_correct + n_wrong)\n",
        "\n",
        "            test_loss_5.append(loss.item())\n",
        "            test_acc_5.append(total_acc_test)\n",
        "#             print(f'[{epoch + 1}, {idx}] loss_total: {loss.item()}, loss_s_cl:{loss_s_cl.item()}, loss_classify:{lamda * loss_classify.item()}')\n",
        "            print(f'[{epoch + 1}, {idx}] \\ntest_loss_total: {loss.item():.2f}, \\ntest_loss_s_cl:{loss_s_cl.item():.2f}, \\ntest_loss_classify:{lamda * loss_classify.item():.2f}, \\ntest_accuracy: {total_acc_test*100:.2f} %')\n",
        "            clear_output(wait=True)  \n",
        "\n",
        "print(f'[{epoch + 1}, {idx}] \\ntest_loss_total: {loss.item():.2f}, \\ntest_loss_s_cl:{loss_s_cl.item():.2f}, \\ntest_loss_classify:{lamda * loss_classify.item():.2f}, \\ntest_accuracy: {total_acc_test*100:.2f} %')"
      ]
    },
    {
      "cell_type": "code",
      "execution_count": 49,
      "id": "FmE8ohp5xl6D",
      "metadata": {
        "colab": {
          "base_uri": "https://localhost:8080/",
          "height": 624
        },
        "id": "FmE8ohp5xl6D",
        "outputId": "a42916ca-9157-466d-eb11-dda9d40ddbc8"
      },
      "outputs": [
        {
          "data": {
            "text/plain": [
              "Text(0, 0.5, 'acc')"
            ]
          },
          "execution_count": 49,
          "metadata": {},
          "output_type": "execute_result"
        },
        {
          "data": {
            "image/png": "[encoded data removed]",
            "text/plain": [
              "<Figure size 1080x720 with 2 Axes>"
            ]
          },
          "metadata": {
            "needs_background": "light"
          },
          "output_type": "display_data"
        }
      ],
      "source": [
        "# write code here for 4.5\n",
        "import matplotlib.pyplot as plt\n",
        "fig = plt.figure(figsize=(15, 10))\n",
        "ax1 = fig.add_subplot(2, 1, 1)\n",
        "ax2 = fig.add_subplot(2, 1, 2)\n",
        "ax1.plot(test_loss_5, label = 'test loss')\n",
        "ax2.plot(test_acc_5, label = 'test acc')\n",
        "plt.legend()\n",
        "ax1.set_xlabel('epoches')\n",
        "ax1.set_ylabel('loss')\n",
        "ax2.set_xlabel('epoches')\n",
        "ax2.set_ylabel('acc')\n"
      ]
    },
    {
      "cell_type": "code",
      "execution_count": 50,
      "id": "iWlsNkrIysLH",
      "metadata": {
        "id": "iWlsNkrIysLH"
      },
      "outputs": [],
      "source": [
        "import pickle\n",
        "\n",
        "with open(\"test_loss_5\", \"wb\") as fp:   #Pickling\n",
        "  pickle.dump(test_loss_5, fp)\n",
        "\n",
        "with open(\"test_acc_5\", \"wb\") as fp:   #Pickling\n",
        "  pickle.dump(test_acc_5, fp)"
      ]
    },
    {
      "cell_type": "markdown",
      "id": "5cOKEvjn0PsW",
      "metadata": {
        "id": "5cOKEvjn0PsW"
      },
      "source": [
        "Reading saved file"
      ]
    },
    {
      "cell_type": "code",
      "execution_count": 51,
      "id": "1jduIihd0Vmc",
      "metadata": {
        "colab": {
          "base_uri": "https://localhost:8080/"
        },
        "id": "1jduIihd0Vmc",
        "outputId": "9b8e4015-bef5-4453-ed41-8dc0d7446815"
      },
      "outputs": [
        {
          "data": {
            "text/plain": [
              "[1.4190963506698608,\n",
              " 0.9118551015853882,\n",
              " 1.5395352840423584,\n",
              " 1.8677397966384888,\n",
              " 1.3788431882858276]"
            ]
          },
          "execution_count": 51,
          "metadata": {},
          "output_type": "execute_result"
        }
      ],
      "source": [
        "test_loss_5[:5]"
      ]
    },
    {
      "cell_type": "code",
      "execution_count": 52,
      "id": "FLxL22V80E2v",
      "metadata": {
        "colab": {
          "base_uri": "https://localhost:8080/"
        },
        "id": "FLxL22V80E2v",
        "outputId": "5265f703-47a4-498d-bdf4-8069b051a821"
      },
      "outputs": [
        {
          "name": "stdout",
          "output_type": "stream",
          "text": [
            "[1.4190963506698608, 0.9118551015853882, 1.5395352840423584, 1.8677397966384888, 1.3788431882858276]\n"
          ]
        }
      ],
      "source": [
        "with open(\"test_loss_5\", \"rb\") as fp:   # Unpickling\n",
        "  read = pickle.load(fp)\n",
        "print(read[:5])"
      ]
    },
    {
      "cell_type": "markdown",
      "id": "W-UtFj6qNA4k",
      "metadata": {
        "id": "W-UtFj6qNA4k"
      },
      "source": [
        "# Testing"
      ]
    },
    {
      "cell_type": "code",
      "execution_count": 55,
      "id": "hhRG1D11NewP",
      "metadata": {
        "colab": {
          "base_uri": "https://localhost:8080/"
        },
        "id": "hhRG1D11NewP",
        "outputId": "020768ef-24da-44f2-b7b5-0f0bd41dd3e2"
      },
      "outputs": [
        {
          "name": "stdout",
          "output_type": "stream",
          "text": [
            "Text  1 :  I want to deposit \n",
            "predicted intent: transfer_into_account\n",
            "Text  2 :  I want to withdraw \n",
            "predicted intent: cash_withdrawal_charge\n",
            "Text  3 :  I want to check account \n",
            "predicted intent: why_verify_identity\n",
            "Text  4 :  I want to transfer money \n",
            "predicted intent: transfer_into_account\n"
          ]
        }
      ],
      "source": [
        "model.load_state_dict(torch.load('Xlnet-model.pt'))\n",
        "\n",
        "label_maps_key_list = list(label_maps.keys())\n",
        "label_maps_val_list = list(label_maps.values())\n",
        "\n",
        "text = [\"I want to deposit\", \"I want to withdraw\", \"I want to check account\", \"I want to transfer money\"]\n",
        "for i in range(len(text)):\n",
        "  inputs = tokenizer(text[i], return_tensors=\"pt\").to(device)\n",
        "\n",
        "  with torch.no_grad():\n",
        "      logits = model(**inputs).logits\n",
        "\n",
        "  predicted_class_id = logits.argmax().item()\n",
        "  # predicted_label = model.config.id2label[predicted_class_id]\n",
        "  # print(predicted_class_id)\n",
        "\n",
        "  position = label_maps_val_list.index(predicted_class_id)\n",
        "  print(\"Text \",i+1,\": \",text[i],\"\\npredicted intent:\",label_maps_key_list[position])"
      ]
    }
  ],
  "metadata": {
    "accelerator": "GPU",
    "colab": {
      "collapsed_sections": [],
      "machine_shape": "hm",
      "name": "XLNET_on_Banking77.ipynb",
      "provenance": []
    },
    "kernelspec": {
      "display_name": "pythonDSAI",
      "language": "python",
      "name": "pythondsai"
    },
    "language_info": {
      "codemirror_mode": {
        "name": "ipython",
        "version": 3
      },
      "file_extension": ".py",
      "mimetype": "text/x-python",
      "name": "python",
      "nbconvert_exporter": "python",
      "pygments_lexer": "ipython3",
      "version": "3.8.3"
    }
  },
  "nbformat": 4,
  "nbformat_minor": 5
}
