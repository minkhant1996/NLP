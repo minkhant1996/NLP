{
  "nbformat": 4,
  "nbformat_minor": 0,
  "metadata": {
    "colab": {
      "name": "Roberta Question_Answering without Freeze Layers.ipynb",
      "provenance": [],
      "collapsed_sections": [],
      "machine_shape": "hm"
    },
    "kernelspec": {
      "name": "python3",
      "display_name": "Python 3"
    },
    "language_info": {
      "name": "python"
    },
    "accelerator": "GPU",
    "widgets": {
      "application/vnd.jupyter.widget-state+json": {
        "9da3e75da8f142f297182d6349cc8a10": {
          "model_module": "@jupyter-widgets/controls",
          "model_name": "HBoxModel",
          "model_module_version": "1.5.0",
          "state": {
            "_dom_classes": [],
            "_model_module": "@jupyter-widgets/controls",
            "_model_module_version": "1.5.0",
            "_model_name": "HBoxModel",
            "_view_count": null,
            "_view_module": "@jupyter-widgets/controls",
            "_view_module_version": "1.5.0",
            "_view_name": "HBoxView",
            "box_style": "",
            "children": [
              "IPY_MODEL_0cf9d5eed63d446abf3509a08ae52ebd",
              "IPY_MODEL_ae460d1bdd3e464f9ec802cde303be5d",
              "IPY_MODEL_f38611debb7f42109138840b3bf02254"
            ],
            "layout": "IPY_MODEL_ce6b0a2fb0bf4e41a0f7db4f2b65a1bc"
          }
        },
        "0cf9d5eed63d446abf3509a08ae52ebd": {
          "model_module": "@jupyter-widgets/controls",
          "model_name": "HTMLModel",
          "model_module_version": "1.5.0",
          "state": {
            "_dom_classes": [],
            "_model_module": "@jupyter-widgets/controls",
            "_model_module_version": "1.5.0",
            "_model_name": "HTMLModel",
            "_view_count": null,
            "_view_module": "@jupyter-widgets/controls",
            "_view_module_version": "1.5.0",
            "_view_name": "HTMLView",
            "description": "",
            "description_tooltip": null,
            "layout": "IPY_MODEL_a291766c0f1842f6880074f1e178a9b0",
            "placeholder": "​",
            "style": "IPY_MODEL_ac8d617798954c62a634287ed604ae38",
            "value": "Downloading: 100%"
          }
        },
        "ae460d1bdd3e464f9ec802cde303be5d": {
          "model_module": "@jupyter-widgets/controls",
          "model_name": "FloatProgressModel",
          "model_module_version": "1.5.0",
          "state": {
            "_dom_classes": [],
            "_model_module": "@jupyter-widgets/controls",
            "_model_module_version": "1.5.0",
            "_model_name": "FloatProgressModel",
            "_view_count": null,
            "_view_module": "@jupyter-widgets/controls",
            "_view_module_version": "1.5.0",
            "_view_name": "ProgressView",
            "bar_style": "success",
            "description": "",
            "description_tooltip": null,
            "layout": "IPY_MODEL_f14f8a48a75e4463b0e033a831dc46ae",
            "max": 898823,
            "min": 0,
            "orientation": "horizontal",
            "style": "IPY_MODEL_1eca9f665c4a40a5be3e923923e45dfd",
            "value": 898823
          }
        },
        "f38611debb7f42109138840b3bf02254": {
          "model_module": "@jupyter-widgets/controls",
          "model_name": "HTMLModel",
          "model_module_version": "1.5.0",
          "state": {
            "_dom_classes": [],
            "_model_module": "@jupyter-widgets/controls",
            "_model_module_version": "1.5.0",
            "_model_name": "HTMLModel",
            "_view_count": null,
            "_view_module": "@jupyter-widgets/controls",
            "_view_module_version": "1.5.0",
            "_view_name": "HTMLView",
            "description": "",
            "description_tooltip": null,
            "layout": "IPY_MODEL_fa1cd8544dc14802a2ddceb0f0bbb860",
            "placeholder": "​",
            "style": "IPY_MODEL_e07d23669f994b02a18a4a78f2c7faa0",
            "value": " 878k/878k [00:01&lt;00:00, 852kB/s]"
          }
        },
        "ce6b0a2fb0bf4e41a0f7db4f2b65a1bc": {
          "model_module": "@jupyter-widgets/base",
          "model_name": "LayoutModel",
          "model_module_version": "1.2.0",
          "state": {
            "_model_module": "@jupyter-widgets/base",
            "_model_module_version": "1.2.0",
            "_model_name": "LayoutModel",
            "_view_count": null,
            "_view_module": "@jupyter-widgets/base",
            "_view_module_version": "1.2.0",
            "_view_name": "LayoutView",
            "align_content": null,
            "align_items": null,
            "align_self": null,
            "border": null,
            "bottom": null,
            "display": null,
            "flex": null,
            "flex_flow": null,
            "grid_area": null,
            "grid_auto_columns": null,
            "grid_auto_flow": null,
            "grid_auto_rows": null,
            "grid_column": null,
            "grid_gap": null,
            "grid_row": null,
            "grid_template_areas": null,
            "grid_template_columns": null,
            "grid_template_rows": null,
            "height": null,
            "justify_content": null,
            "justify_items": null,
            "left": null,
            "margin": null,
            "max_height": null,
            "max_width": null,
            "min_height": null,
            "min_width": null,
            "object_fit": null,
            "object_position": null,
            "order": null,
            "overflow": null,
            "overflow_x": null,
            "overflow_y": null,
            "padding": null,
            "right": null,
            "top": null,
            "visibility": null,
            "width": null
          }
        },
        "a291766c0f1842f6880074f1e178a9b0": {
          "model_module": "@jupyter-widgets/base",
          "model_name": "LayoutModel",
          "model_module_version": "1.2.0",
          "state": {
            "_model_module": "@jupyter-widgets/base",
            "_model_module_version": "1.2.0",
            "_model_name": "LayoutModel",
            "_view_count": null,
            "_view_module": "@jupyter-widgets/base",
            "_view_module_version": "1.2.0",
            "_view_name": "LayoutView",
            "align_content": null,
            "align_items": null,
            "align_self": null,
            "border": null,
            "bottom": null,
            "display": null,
            "flex": null,
            "flex_flow": null,
            "grid_area": null,
            "grid_auto_columns": null,
            "grid_auto_flow": null,
            "grid_auto_rows": null,
            "grid_column": null,
            "grid_gap": null,
            "grid_row": null,
            "grid_template_areas": null,
            "grid_template_columns": null,
            "grid_template_rows": null,
            "height": null,
            "justify_content": null,
            "justify_items": null,
            "left": null,
            "margin": null,
            "max_height": null,
            "max_width": null,
            "min_height": null,
            "min_width": null,
            "object_fit": null,
            "object_position": null,
            "order": null,
            "overflow": null,
            "overflow_x": null,
            "overflow_y": null,
            "padding": null,
            "right": null,
            "top": null,
            "visibility": null,
            "width": null
          }
        },
        "ac8d617798954c62a634287ed604ae38": {
          "model_module": "@jupyter-widgets/controls",
          "model_name": "DescriptionStyleModel",
          "model_module_version": "1.5.0",
          "state": {
            "_model_module": "@jupyter-widgets/controls",
            "_model_module_version": "1.5.0",
            "_model_name": "DescriptionStyleModel",
            "_view_count": null,
            "_view_module": "@jupyter-widgets/base",
            "_view_module_version": "1.2.0",
            "_view_name": "StyleView",
            "description_width": ""
          }
        },
        "f14f8a48a75e4463b0e033a831dc46ae": {
          "model_module": "@jupyter-widgets/base",
          "model_name": "LayoutModel",
          "model_module_version": "1.2.0",
          "state": {
            "_model_module": "@jupyter-widgets/base",
            "_model_module_version": "1.2.0",
            "_model_name": "LayoutModel",
            "_view_count": null,
            "_view_module": "@jupyter-widgets/base",
            "_view_module_version": "1.2.0",
            "_view_name": "LayoutView",
            "align_content": null,
            "align_items": null,
            "align_self": null,
            "border": null,
            "bottom": null,
            "display": null,
            "flex": null,
            "flex_flow": null,
            "grid_area": null,
            "grid_auto_columns": null,
            "grid_auto_flow": null,
            "grid_auto_rows": null,
            "grid_column": null,
            "grid_gap": null,
            "grid_row": null,
            "grid_template_areas": null,
            "grid_template_columns": null,
            "grid_template_rows": null,
            "height": null,
            "justify_content": null,
            "justify_items": null,
            "left": null,
            "margin": null,
            "max_height": null,
            "max_width": null,
            "min_height": null,
            "min_width": null,
            "object_fit": null,
            "object_position": null,
            "order": null,
            "overflow": null,
            "overflow_x": null,
            "overflow_y": null,
            "padding": null,
            "right": null,
            "top": null,
            "visibility": null,
            "width": null
          }
        },
        "1eca9f665c4a40a5be3e923923e45dfd": {
          "model_module": "@jupyter-widgets/controls",
          "model_name": "ProgressStyleModel",
          "model_module_version": "1.5.0",
          "state": {
            "_model_module": "@jupyter-widgets/controls",
            "_model_module_version": "1.5.0",
            "_model_name": "ProgressStyleModel",
            "_view_count": null,
            "_view_module": "@jupyter-widgets/base",
            "_view_module_version": "1.2.0",
            "_view_name": "StyleView",
            "bar_color": null,
            "description_width": ""
          }
        },
        "fa1cd8544dc14802a2ddceb0f0bbb860": {
          "model_module": "@jupyter-widgets/base",
          "model_name": "LayoutModel",
          "model_module_version": "1.2.0",
          "state": {
            "_model_module": "@jupyter-widgets/base",
            "_model_module_version": "1.2.0",
            "_model_name": "LayoutModel",
            "_view_count": null,
            "_view_module": "@jupyter-widgets/base",
            "_view_module_version": "1.2.0",
            "_view_name": "LayoutView",
            "align_content": null,
            "align_items": null,
            "align_self": null,
            "border": null,
            "bottom": null,
            "display": null,
            "flex": null,
            "flex_flow": null,
            "grid_area": null,
            "grid_auto_columns": null,
            "grid_auto_flow": null,
            "grid_auto_rows": null,
            "grid_column": null,
            "grid_gap": null,
            "grid_row": null,
            "grid_template_areas": null,
            "grid_template_columns": null,
            "grid_template_rows": null,
            "height": null,
            "justify_content": null,
            "justify_items": null,
            "left": null,
            "margin": null,
            "max_height": null,
            "max_width": null,
            "min_height": null,
            "min_width": null,
            "object_fit": null,
            "object_position": null,
            "order": null,
            "overflow": null,
            "overflow_x": null,
            "overflow_y": null,
            "padding": null,
            "right": null,
            "top": null,
            "visibility": null,
            "width": null
          }
        },
        "e07d23669f994b02a18a4a78f2c7faa0": {
          "model_module": "@jupyter-widgets/controls",
          "model_name": "DescriptionStyleModel",
          "model_module_version": "1.5.0",
          "state": {
            "_model_module": "@jupyter-widgets/controls",
            "_model_module_version": "1.5.0",
            "_model_name": "DescriptionStyleModel",
            "_view_count": null,
            "_view_module": "@jupyter-widgets/base",
            "_view_module_version": "1.2.0",
            "_view_name": "StyleView",
            "description_width": ""
          }
        },
        "be7fafc2883e4a84a56806143b217df2": {
          "model_module": "@jupyter-widgets/controls",
          "model_name": "HBoxModel",
          "model_module_version": "1.5.0",
          "state": {
            "_dom_classes": [],
            "_model_module": "@jupyter-widgets/controls",
            "_model_module_version": "1.5.0",
            "_model_name": "HBoxModel",
            "_view_count": null,
            "_view_module": "@jupyter-widgets/controls",
            "_view_module_version": "1.5.0",
            "_view_name": "HBoxView",
            "box_style": "",
            "children": [
              "IPY_MODEL_d587c762a8e8488a86a9a053dcd5f0aa",
              "IPY_MODEL_81b98d3393be4aa8a5e627c9c579bdf8",
              "IPY_MODEL_24c94fd20708457fadd821461f1941c8"
            ],
            "layout": "IPY_MODEL_768a5780ba40485c86df375400600d63"
          }
        },
        "d587c762a8e8488a86a9a053dcd5f0aa": {
          "model_module": "@jupyter-widgets/controls",
          "model_name": "HTMLModel",
          "model_module_version": "1.5.0",
          "state": {
            "_dom_classes": [],
            "_model_module": "@jupyter-widgets/controls",
            "_model_module_version": "1.5.0",
            "_model_name": "HTMLModel",
            "_view_count": null,
            "_view_module": "@jupyter-widgets/controls",
            "_view_module_version": "1.5.0",
            "_view_name": "HTMLView",
            "description": "",
            "description_tooltip": null,
            "layout": "IPY_MODEL_c99d4c0c3e694a33a1df02bd806920e2",
            "placeholder": "​",
            "style": "IPY_MODEL_b01bf0e1d0ed4f3b9b7d8e7f18f22025",
            "value": "Downloading: 100%"
          }
        },
        "81b98d3393be4aa8a5e627c9c579bdf8": {
          "model_module": "@jupyter-widgets/controls",
          "model_name": "FloatProgressModel",
          "model_module_version": "1.5.0",
          "state": {
            "_dom_classes": [],
            "_model_module": "@jupyter-widgets/controls",
            "_model_module_version": "1.5.0",
            "_model_name": "FloatProgressModel",
            "_view_count": null,
            "_view_module": "@jupyter-widgets/controls",
            "_view_module_version": "1.5.0",
            "_view_name": "ProgressView",
            "bar_style": "success",
            "description": "",
            "description_tooltip": null,
            "layout": "IPY_MODEL_e80ba35188d7460fa78e98ca66c947c8",
            "max": 456318,
            "min": 0,
            "orientation": "horizontal",
            "style": "IPY_MODEL_7dd22483e32546a89673006d43e61868",
            "value": 456318
          }
        },
        "24c94fd20708457fadd821461f1941c8": {
          "model_module": "@jupyter-widgets/controls",
          "model_name": "HTMLModel",
          "model_module_version": "1.5.0",
          "state": {
            "_dom_classes": [],
            "_model_module": "@jupyter-widgets/controls",
            "_model_module_version": "1.5.0",
            "_model_name": "HTMLModel",
            "_view_count": null,
            "_view_module": "@jupyter-widgets/controls",
            "_view_module_version": "1.5.0",
            "_view_name": "HTMLView",
            "description": "",
            "description_tooltip": null,
            "layout": "IPY_MODEL_9355ace4811f4122a1220a8d4f6fdc7e",
            "placeholder": "​",
            "style": "IPY_MODEL_1f43010dea814b08aaf8d35b03c99b9c",
            "value": " 446k/446k [00:01&lt;00:00, 526kB/s]"
          }
        },
        "768a5780ba40485c86df375400600d63": {
          "model_module": "@jupyter-widgets/base",
          "model_name": "LayoutModel",
          "model_module_version": "1.2.0",
          "state": {
            "_model_module": "@jupyter-widgets/base",
            "_model_module_version": "1.2.0",
            "_model_name": "LayoutModel",
            "_view_count": null,
            "_view_module": "@jupyter-widgets/base",
            "_view_module_version": "1.2.0",
            "_view_name": "LayoutView",
            "align_content": null,
            "align_items": null,
            "align_self": null,
            "border": null,
            "bottom": null,
            "display": null,
            "flex": null,
            "flex_flow": null,
            "grid_area": null,
            "grid_auto_columns": null,
            "grid_auto_flow": null,
            "grid_auto_rows": null,
            "grid_column": null,
            "grid_gap": null,
            "grid_row": null,
            "grid_template_areas": null,
            "grid_template_columns": null,
            "grid_template_rows": null,
            "height": null,
            "justify_content": null,
            "justify_items": null,
            "left": null,
            "margin": null,
            "max_height": null,
            "max_width": null,
            "min_height": null,
            "min_width": null,
            "object_fit": null,
            "object_position": null,
            "order": null,
            "overflow": null,
            "overflow_x": null,
            "overflow_y": null,
            "padding": null,
            "right": null,
            "top": null,
            "visibility": null,
            "width": null
          }
        },
        "c99d4c0c3e694a33a1df02bd806920e2": {
          "model_module": "@jupyter-widgets/base",
          "model_name": "LayoutModel",
          "model_module_version": "1.2.0",
          "state": {
            "_model_module": "@jupyter-widgets/base",
            "_model_module_version": "1.2.0",
            "_model_name": "LayoutModel",
            "_view_count": null,
            "_view_module": "@jupyter-widgets/base",
            "_view_module_version": "1.2.0",
            "_view_name": "LayoutView",
            "align_content": null,
            "align_items": null,
            "align_self": null,
            "border": null,
            "bottom": null,
            "display": null,
            "flex": null,
            "flex_flow": null,
            "grid_area": null,
            "grid_auto_columns": null,
            "grid_auto_flow": null,
            "grid_auto_rows": null,
            "grid_column": null,
            "grid_gap": null,
            "grid_row": null,
            "grid_template_areas": null,
            "grid_template_columns": null,
            "grid_template_rows": null,
            "height": null,
            "justify_content": null,
            "justify_items": null,
            "left": null,
            "margin": null,
            "max_height": null,
            "max_width": null,
            "min_height": null,
            "min_width": null,
            "object_fit": null,
            "object_position": null,
            "order": null,
            "overflow": null,
            "overflow_x": null,
            "overflow_y": null,
            "padding": null,
            "right": null,
            "top": null,
            "visibility": null,
            "width": null
          }
        },
        "b01bf0e1d0ed4f3b9b7d8e7f18f22025": {
          "model_module": "@jupyter-widgets/controls",
          "model_name": "DescriptionStyleModel",
          "model_module_version": "1.5.0",
          "state": {
            "_model_module": "@jupyter-widgets/controls",
            "_model_module_version": "1.5.0",
            "_model_name": "DescriptionStyleModel",
            "_view_count": null,
            "_view_module": "@jupyter-widgets/base",
            "_view_module_version": "1.2.0",
            "_view_name": "StyleView",
            "description_width": ""
          }
        },
        "e80ba35188d7460fa78e98ca66c947c8": {
          "model_module": "@jupyter-widgets/base",
          "model_name": "LayoutModel",
          "model_module_version": "1.2.0",
          "state": {
            "_model_module": "@jupyter-widgets/base",
            "_model_module_version": "1.2.0",
            "_model_name": "LayoutModel",
            "_view_count": null,
            "_view_module": "@jupyter-widgets/base",
            "_view_module_version": "1.2.0",
            "_view_name": "LayoutView",
            "align_content": null,
            "align_items": null,
            "align_self": null,
            "border": null,
            "bottom": null,
            "display": null,
            "flex": null,
            "flex_flow": null,
            "grid_area": null,
            "grid_auto_columns": null,
            "grid_auto_flow": null,
            "grid_auto_rows": null,
            "grid_column": null,
            "grid_gap": null,
            "grid_row": null,
            "grid_template_areas": null,
            "grid_template_columns": null,
            "grid_template_rows": null,
            "height": null,
            "justify_content": null,
            "justify_items": null,
            "left": null,
            "margin": null,
            "max_height": null,
            "max_width": null,
            "min_height": null,
            "min_width": null,
            "object_fit": null,
            "object_position": null,
            "order": null,
            "overflow": null,
            "overflow_x": null,
            "overflow_y": null,
            "padding": null,
            "right": null,
            "top": null,
            "visibility": null,
            "width": null
          }
        },
        "7dd22483e32546a89673006d43e61868": {
          "model_module": "@jupyter-widgets/controls",
          "model_name": "ProgressStyleModel",
          "model_module_version": "1.5.0",
          "state": {
            "_model_module": "@jupyter-widgets/controls",
            "_model_module_version": "1.5.0",
            "_model_name": "ProgressStyleModel",
            "_view_count": null,
            "_view_module": "@jupyter-widgets/base",
            "_view_module_version": "1.2.0",
            "_view_name": "StyleView",
            "bar_color": null,
            "description_width": ""
          }
        },
        "9355ace4811f4122a1220a8d4f6fdc7e": {
          "model_module": "@jupyter-widgets/base",
          "model_name": "LayoutModel",
          "model_module_version": "1.2.0",
          "state": {
            "_model_module": "@jupyter-widgets/base",
            "_model_module_version": "1.2.0",
            "_model_name": "LayoutModel",
            "_view_count": null,
            "_view_module": "@jupyter-widgets/base",
            "_view_module_version": "1.2.0",
            "_view_name": "LayoutView",
            "align_content": null,
            "align_items": null,
            "align_self": null,
            "border": null,
            "bottom": null,
            "display": null,
            "flex": null,
            "flex_flow": null,
            "grid_area": null,
            "grid_auto_columns": null,
            "grid_auto_flow": null,
            "grid_auto_rows": null,
            "grid_column": null,
            "grid_gap": null,
            "grid_row": null,
            "grid_template_areas": null,
            "grid_template_columns": null,
            "grid_template_rows": null,
            "height": null,
            "justify_content": null,
            "justify_items": null,
            "left": null,
            "margin": null,
            "max_height": null,
            "max_width": null,
            "min_height": null,
            "min_width": null,
            "object_fit": null,
            "object_position": null,
            "order": null,
            "overflow": null,
            "overflow_x": null,
            "overflow_y": null,
            "padding": null,
            "right": null,
            "top": null,
            "visibility": null,
            "width": null
          }
        },
        "1f43010dea814b08aaf8d35b03c99b9c": {
          "model_module": "@jupyter-widgets/controls",
          "model_name": "DescriptionStyleModel",
          "model_module_version": "1.5.0",
          "state": {
            "_model_module": "@jupyter-widgets/controls",
            "_model_module_version": "1.5.0",
            "_model_name": "DescriptionStyleModel",
            "_view_count": null,
            "_view_module": "@jupyter-widgets/base",
            "_view_module_version": "1.2.0",
            "_view_name": "StyleView",
            "description_width": ""
          }
        },
        "3a487576761e462d996f6336b7c1e56e": {
          "model_module": "@jupyter-widgets/controls",
          "model_name": "HBoxModel",
          "model_module_version": "1.5.0",
          "state": {
            "_dom_classes": [],
            "_model_module": "@jupyter-widgets/controls",
            "_model_module_version": "1.5.0",
            "_model_name": "HBoxModel",
            "_view_count": null,
            "_view_module": "@jupyter-widgets/controls",
            "_view_module_version": "1.5.0",
            "_view_name": "HBoxView",
            "box_style": "",
            "children": [
              "IPY_MODEL_68ba8e68534b411285df2b3aba83a838",
              "IPY_MODEL_7d9069e21b944209a705c215a2262c8a",
              "IPY_MODEL_f46519ebdced4b43a5e5da3fa0e08030"
            ],
            "layout": "IPY_MODEL_5b1bf546a9694e429f4c700edc977ae1"
          }
        },
        "68ba8e68534b411285df2b3aba83a838": {
          "model_module": "@jupyter-widgets/controls",
          "model_name": "HTMLModel",
          "model_module_version": "1.5.0",
          "state": {
            "_dom_classes": [],
            "_model_module": "@jupyter-widgets/controls",
            "_model_module_version": "1.5.0",
            "_model_name": "HTMLModel",
            "_view_count": null,
            "_view_module": "@jupyter-widgets/controls",
            "_view_module_version": "1.5.0",
            "_view_name": "HTMLView",
            "description": "",
            "description_tooltip": null,
            "layout": "IPY_MODEL_20974e02adb1472f8290930c43842e6b",
            "placeholder": "​",
            "style": "IPY_MODEL_8a2b987bb3dd400b86cfee2f8f5c87fd",
            "value": "Downloading: 100%"
          }
        },
        "7d9069e21b944209a705c215a2262c8a": {
          "model_module": "@jupyter-widgets/controls",
          "model_name": "FloatProgressModel",
          "model_module_version": "1.5.0",
          "state": {
            "_dom_classes": [],
            "_model_module": "@jupyter-widgets/controls",
            "_model_module_version": "1.5.0",
            "_model_name": "FloatProgressModel",
            "_view_count": null,
            "_view_module": "@jupyter-widgets/controls",
            "_view_module_version": "1.5.0",
            "_view_name": "ProgressView",
            "bar_style": "success",
            "description": "",
            "description_tooltip": null,
            "layout": "IPY_MODEL_2906f6240e1e47a099382cf004fe0161",
            "max": 1355863,
            "min": 0,
            "orientation": "horizontal",
            "style": "IPY_MODEL_2bd328c45ac74fd3a3163d9b1ebcf1c8",
            "value": 1355863
          }
        },
        "f46519ebdced4b43a5e5da3fa0e08030": {
          "model_module": "@jupyter-widgets/controls",
          "model_name": "HTMLModel",
          "model_module_version": "1.5.0",
          "state": {
            "_dom_classes": [],
            "_model_module": "@jupyter-widgets/controls",
            "_model_module_version": "1.5.0",
            "_model_name": "HTMLModel",
            "_view_count": null,
            "_view_module": "@jupyter-widgets/controls",
            "_view_module_version": "1.5.0",
            "_view_name": "HTMLView",
            "description": "",
            "description_tooltip": null,
            "layout": "IPY_MODEL_8c585322fd3043cebe9352983ac1106f",
            "placeholder": "​",
            "style": "IPY_MODEL_2d61742977be42859bc5fdf15bb01c5b",
            "value": " 1.29M/1.29M [00:01&lt;00:00, 999kB/s]"
          }
        },
        "5b1bf546a9694e429f4c700edc977ae1": {
          "model_module": "@jupyter-widgets/base",
          "model_name": "LayoutModel",
          "model_module_version": "1.2.0",
          "state": {
            "_model_module": "@jupyter-widgets/base",
            "_model_module_version": "1.2.0",
            "_model_name": "LayoutModel",
            "_view_count": null,
            "_view_module": "@jupyter-widgets/base",
            "_view_module_version": "1.2.0",
            "_view_name": "LayoutView",
            "align_content": null,
            "align_items": null,
            "align_self": null,
            "border": null,
            "bottom": null,
            "display": null,
            "flex": null,
            "flex_flow": null,
            "grid_area": null,
            "grid_auto_columns": null,
            "grid_auto_flow": null,
            "grid_auto_rows": null,
            "grid_column": null,
            "grid_gap": null,
            "grid_row": null,
            "grid_template_areas": null,
            "grid_template_columns": null,
            "grid_template_rows": null,
            "height": null,
            "justify_content": null,
            "justify_items": null,
            "left": null,
            "margin": null,
            "max_height": null,
            "max_width": null,
            "min_height": null,
            "min_width": null,
            "object_fit": null,
            "object_position": null,
            "order": null,
            "overflow": null,
            "overflow_x": null,
            "overflow_y": null,
            "padding": null,
            "right": null,
            "top": null,
            "visibility": null,
            "width": null
          }
        },
        "20974e02adb1472f8290930c43842e6b": {
          "model_module": "@jupyter-widgets/base",
          "model_name": "LayoutModel",
          "model_module_version": "1.2.0",
          "state": {
            "_model_module": "@jupyter-widgets/base",
            "_model_module_version": "1.2.0",
            "_model_name": "LayoutModel",
            "_view_count": null,
            "_view_module": "@jupyter-widgets/base",
            "_view_module_version": "1.2.0",
            "_view_name": "LayoutView",
            "align_content": null,
            "align_items": null,
            "align_self": null,
            "border": null,
            "bottom": null,
            "display": null,
            "flex": null,
            "flex_flow": null,
            "grid_area": null,
            "grid_auto_columns": null,
            "grid_auto_flow": null,
            "grid_auto_rows": null,
            "grid_column": null,
            "grid_gap": null,
            "grid_row": null,
            "grid_template_areas": null,
            "grid_template_columns": null,
            "grid_template_rows": null,
            "height": null,
            "justify_content": null,
            "justify_items": null,
            "left": null,
            "margin": null,
            "max_height": null,
            "max_width": null,
            "min_height": null,
            "min_width": null,
            "object_fit": null,
            "object_position": null,
            "order": null,
            "overflow": null,
            "overflow_x": null,
            "overflow_y": null,
            "padding": null,
            "right": null,
            "top": null,
            "visibility": null,
            "width": null
          }
        },
        "8a2b987bb3dd400b86cfee2f8f5c87fd": {
          "model_module": "@jupyter-widgets/controls",
          "model_name": "DescriptionStyleModel",
          "model_module_version": "1.5.0",
          "state": {
            "_model_module": "@jupyter-widgets/controls",
            "_model_module_version": "1.5.0",
            "_model_name": "DescriptionStyleModel",
            "_view_count": null,
            "_view_module": "@jupyter-widgets/base",
            "_view_module_version": "1.2.0",
            "_view_name": "StyleView",
            "description_width": ""
          }
        },
        "2906f6240e1e47a099382cf004fe0161": {
          "model_module": "@jupyter-widgets/base",
          "model_name": "LayoutModel",
          "model_module_version": "1.2.0",
          "state": {
            "_model_module": "@jupyter-widgets/base",
            "_model_module_version": "1.2.0",
            "_model_name": "LayoutModel",
            "_view_count": null,
            "_view_module": "@jupyter-widgets/base",
            "_view_module_version": "1.2.0",
            "_view_name": "LayoutView",
            "align_content": null,
            "align_items": null,
            "align_self": null,
            "border": null,
            "bottom": null,
            "display": null,
            "flex": null,
            "flex_flow": null,
            "grid_area": null,
            "grid_auto_columns": null,
            "grid_auto_flow": null,
            "grid_auto_rows": null,
            "grid_column": null,
            "grid_gap": null,
            "grid_row": null,
            "grid_template_areas": null,
            "grid_template_columns": null,
            "grid_template_rows": null,
            "height": null,
            "justify_content": null,
            "justify_items": null,
            "left": null,
            "margin": null,
            "max_height": null,
            "max_width": null,
            "min_height": null,
            "min_width": null,
            "object_fit": null,
            "object_position": null,
            "order": null,
            "overflow": null,
            "overflow_x": null,
            "overflow_y": null,
            "padding": null,
            "right": null,
            "top": null,
            "visibility": null,
            "width": null
          }
        },
        "2bd328c45ac74fd3a3163d9b1ebcf1c8": {
          "model_module": "@jupyter-widgets/controls",
          "model_name": "ProgressStyleModel",
          "model_module_version": "1.5.0",
          "state": {
            "_model_module": "@jupyter-widgets/controls",
            "_model_module_version": "1.5.0",
            "_model_name": "ProgressStyleModel",
            "_view_count": null,
            "_view_module": "@jupyter-widgets/base",
            "_view_module_version": "1.2.0",
            "_view_name": "StyleView",
            "bar_color": null,
            "description_width": ""
          }
        },
        "8c585322fd3043cebe9352983ac1106f": {
          "model_module": "@jupyter-widgets/base",
          "model_name": "LayoutModel",
          "model_module_version": "1.2.0",
          "state": {
            "_model_module": "@jupyter-widgets/base",
            "_model_module_version": "1.2.0",
            "_model_name": "LayoutModel",
            "_view_count": null,
            "_view_module": "@jupyter-widgets/base",
            "_view_module_version": "1.2.0",
            "_view_name": "LayoutView",
            "align_content": null,
            "align_items": null,
            "align_self": null,
            "border": null,
            "bottom": null,
            "display": null,
            "flex": null,
            "flex_flow": null,
            "grid_area": null,
            "grid_auto_columns": null,
            "grid_auto_flow": null,
            "grid_auto_rows": null,
            "grid_column": null,
            "grid_gap": null,
            "grid_row": null,
            "grid_template_areas": null,
            "grid_template_columns": null,
            "grid_template_rows": null,
            "height": null,
            "justify_content": null,
            "justify_items": null,
            "left": null,
            "margin": null,
            "max_height": null,
            "max_width": null,
            "min_height": null,
            "min_width": null,
            "object_fit": null,
            "object_position": null,
            "order": null,
            "overflow": null,
            "overflow_x": null,
            "overflow_y": null,
            "padding": null,
            "right": null,
            "top": null,
            "visibility": null,
            "width": null
          }
        },
        "2d61742977be42859bc5fdf15bb01c5b": {
          "model_module": "@jupyter-widgets/controls",
          "model_name": "DescriptionStyleModel",
          "model_module_version": "1.5.0",
          "state": {
            "_model_module": "@jupyter-widgets/controls",
            "_model_module_version": "1.5.0",
            "_model_name": "DescriptionStyleModel",
            "_view_count": null,
            "_view_module": "@jupyter-widgets/base",
            "_view_module_version": "1.2.0",
            "_view_name": "StyleView",
            "description_width": ""
          }
        },
        "5240eff82b5b49c0891afbeb5c23bc4b": {
          "model_module": "@jupyter-widgets/controls",
          "model_name": "HBoxModel",
          "model_module_version": "1.5.0",
          "state": {
            "_dom_classes": [],
            "_model_module": "@jupyter-widgets/controls",
            "_model_module_version": "1.5.0",
            "_model_name": "HBoxModel",
            "_view_count": null,
            "_view_module": "@jupyter-widgets/controls",
            "_view_module_version": "1.5.0",
            "_view_name": "HBoxView",
            "box_style": "",
            "children": [
              "IPY_MODEL_7a39e629a4404ce38734de63aa98b348",
              "IPY_MODEL_b04654db4cae43c79cab4f5fa4113dd4",
              "IPY_MODEL_d49e2926040441e4ba68086af1d3c60b"
            ],
            "layout": "IPY_MODEL_bce4b1f19d244423843e2d4caebc95d8"
          }
        },
        "7a39e629a4404ce38734de63aa98b348": {
          "model_module": "@jupyter-widgets/controls",
          "model_name": "HTMLModel",
          "model_module_version": "1.5.0",
          "state": {
            "_dom_classes": [],
            "_model_module": "@jupyter-widgets/controls",
            "_model_module_version": "1.5.0",
            "_model_name": "HTMLModel",
            "_view_count": null,
            "_view_module": "@jupyter-widgets/controls",
            "_view_module_version": "1.5.0",
            "_view_name": "HTMLView",
            "description": "",
            "description_tooltip": null,
            "layout": "IPY_MODEL_fc57bb687b2a4623818cb2b604f27100",
            "placeholder": "​",
            "style": "IPY_MODEL_284d334183fa490aaa8c184352a6120a",
            "value": "Downloading: 100%"
          }
        },
        "b04654db4cae43c79cab4f5fa4113dd4": {
          "model_module": "@jupyter-widgets/controls",
          "model_name": "FloatProgressModel",
          "model_module_version": "1.5.0",
          "state": {
            "_dom_classes": [],
            "_model_module": "@jupyter-widgets/controls",
            "_model_module_version": "1.5.0",
            "_model_name": "FloatProgressModel",
            "_view_count": null,
            "_view_module": "@jupyter-widgets/controls",
            "_view_module_version": "1.5.0",
            "_view_name": "ProgressView",
            "bar_style": "success",
            "description": "",
            "description_tooltip": null,
            "layout": "IPY_MODEL_f3e0204891b049ed9ab3ee87598dd315",
            "max": 481,
            "min": 0,
            "orientation": "horizontal",
            "style": "IPY_MODEL_2861aa4ac8114d2c89ed25fb01baa595",
            "value": 481
          }
        },
        "d49e2926040441e4ba68086af1d3c60b": {
          "model_module": "@jupyter-widgets/controls",
          "model_name": "HTMLModel",
          "model_module_version": "1.5.0",
          "state": {
            "_dom_classes": [],
            "_model_module": "@jupyter-widgets/controls",
            "_model_module_version": "1.5.0",
            "_model_name": "HTMLModel",
            "_view_count": null,
            "_view_module": "@jupyter-widgets/controls",
            "_view_module_version": "1.5.0",
            "_view_name": "HTMLView",
            "description": "",
            "description_tooltip": null,
            "layout": "IPY_MODEL_0b157dc9a8694635953df1b500f69fff",
            "placeholder": "​",
            "style": "IPY_MODEL_2acf4ceee5744b379ae544219e16430b",
            "value": " 481/481 [00:00&lt;00:00, 17.9kB/s]"
          }
        },
        "bce4b1f19d244423843e2d4caebc95d8": {
          "model_module": "@jupyter-widgets/base",
          "model_name": "LayoutModel",
          "model_module_version": "1.2.0",
          "state": {
            "_model_module": "@jupyter-widgets/base",
            "_model_module_version": "1.2.0",
            "_model_name": "LayoutModel",
            "_view_count": null,
            "_view_module": "@jupyter-widgets/base",
            "_view_module_version": "1.2.0",
            "_view_name": "LayoutView",
            "align_content": null,
            "align_items": null,
            "align_self": null,
            "border": null,
            "bottom": null,
            "display": null,
            "flex": null,
            "flex_flow": null,
            "grid_area": null,
            "grid_auto_columns": null,
            "grid_auto_flow": null,
            "grid_auto_rows": null,
            "grid_column": null,
            "grid_gap": null,
            "grid_row": null,
            "grid_template_areas": null,
            "grid_template_columns": null,
            "grid_template_rows": null,
            "height": null,
            "justify_content": null,
            "justify_items": null,
            "left": null,
            "margin": null,
            "max_height": null,
            "max_width": null,
            "min_height": null,
            "min_width": null,
            "object_fit": null,
            "object_position": null,
            "order": null,
            "overflow": null,
            "overflow_x": null,
            "overflow_y": null,
            "padding": null,
            "right": null,
            "top": null,
            "visibility": null,
            "width": null
          }
        },
        "fc57bb687b2a4623818cb2b604f27100": {
          "model_module": "@jupyter-widgets/base",
          "model_name": "LayoutModel",
          "model_module_version": "1.2.0",
          "state": {
            "_model_module": "@jupyter-widgets/base",
            "_model_module_version": "1.2.0",
            "_model_name": "LayoutModel",
            "_view_count": null,
            "_view_module": "@jupyter-widgets/base",
            "_view_module_version": "1.2.0",
            "_view_name": "LayoutView",
            "align_content": null,
            "align_items": null,
            "align_self": null,
            "border": null,
            "bottom": null,
            "display": null,
            "flex": null,
            "flex_flow": null,
            "grid_area": null,
            "grid_auto_columns": null,
            "grid_auto_flow": null,
            "grid_auto_rows": null,
            "grid_column": null,
            "grid_gap": null,
            "grid_row": null,
            "grid_template_areas": null,
            "grid_template_columns": null,
            "grid_template_rows": null,
            "height": null,
            "justify_content": null,
            "justify_items": null,
            "left": null,
            "margin": null,
            "max_height": null,
            "max_width": null,
            "min_height": null,
            "min_width": null,
            "object_fit": null,
            "object_position": null,
            "order": null,
            "overflow": null,
            "overflow_x": null,
            "overflow_y": null,
            "padding": null,
            "right": null,
            "top": null,
            "visibility": null,
            "width": null
          }
        },
        "284d334183fa490aaa8c184352a6120a": {
          "model_module": "@jupyter-widgets/controls",
          "model_name": "DescriptionStyleModel",
          "model_module_version": "1.5.0",
          "state": {
            "_model_module": "@jupyter-widgets/controls",
            "_model_module_version": "1.5.0",
            "_model_name": "DescriptionStyleModel",
            "_view_count": null,
            "_view_module": "@jupyter-widgets/base",
            "_view_module_version": "1.2.0",
            "_view_name": "StyleView",
            "description_width": ""
          }
        },
        "f3e0204891b049ed9ab3ee87598dd315": {
          "model_module": "@jupyter-widgets/base",
          "model_name": "LayoutModel",
          "model_module_version": "1.2.0",
          "state": {
            "_model_module": "@jupyter-widgets/base",
            "_model_module_version": "1.2.0",
            "_model_name": "LayoutModel",
            "_view_count": null,
            "_view_module": "@jupyter-widgets/base",
            "_view_module_version": "1.2.0",
            "_view_name": "LayoutView",
            "align_content": null,
            "align_items": null,
            "align_self": null,
            "border": null,
            "bottom": null,
            "display": null,
            "flex": null,
            "flex_flow": null,
            "grid_area": null,
            "grid_auto_columns": null,
            "grid_auto_flow": null,
            "grid_auto_rows": null,
            "grid_column": null,
            "grid_gap": null,
            "grid_row": null,
            "grid_template_areas": null,
            "grid_template_columns": null,
            "grid_template_rows": null,
            "height": null,
            "justify_content": null,
            "justify_items": null,
            "left": null,
            "margin": null,
            "max_height": null,
            "max_width": null,
            "min_height": null,
            "min_width": null,
            "object_fit": null,
            "object_position": null,
            "order": null,
            "overflow": null,
            "overflow_x": null,
            "overflow_y": null,
            "padding": null,
            "right": null,
            "top": null,
            "visibility": null,
            "width": null
          }
        },
        "2861aa4ac8114d2c89ed25fb01baa595": {
          "model_module": "@jupyter-widgets/controls",
          "model_name": "ProgressStyleModel",
          "model_module_version": "1.5.0",
          "state": {
            "_model_module": "@jupyter-widgets/controls",
            "_model_module_version": "1.5.0",
            "_model_name": "ProgressStyleModel",
            "_view_count": null,
            "_view_module": "@jupyter-widgets/base",
            "_view_module_version": "1.2.0",
            "_view_name": "StyleView",
            "bar_color": null,
            "description_width": ""
          }
        },
        "0b157dc9a8694635953df1b500f69fff": {
          "model_module": "@jupyter-widgets/base",
          "model_name": "LayoutModel",
          "model_module_version": "1.2.0",
          "state": {
            "_model_module": "@jupyter-widgets/base",
            "_model_module_version": "1.2.0",
            "_model_name": "LayoutModel",
            "_view_count": null,
            "_view_module": "@jupyter-widgets/base",
            "_view_module_version": "1.2.0",
            "_view_name": "LayoutView",
            "align_content": null,
            "align_items": null,
            "align_self": null,
            "border": null,
            "bottom": null,
            "display": null,
            "flex": null,
            "flex_flow": null,
            "grid_area": null,
            "grid_auto_columns": null,
            "grid_auto_flow": null,
            "grid_auto_rows": null,
            "grid_column": null,
            "grid_gap": null,
            "grid_row": null,
            "grid_template_areas": null,
            "grid_template_columns": null,
            "grid_template_rows": null,
            "height": null,
            "justify_content": null,
            "justify_items": null,
            "left": null,
            "margin": null,
            "max_height": null,
            "max_width": null,
            "min_height": null,
            "min_width": null,
            "object_fit": null,
            "object_position": null,
            "order": null,
            "overflow": null,
            "overflow_x": null,
            "overflow_y": null,
            "padding": null,
            "right": null,
            "top": null,
            "visibility": null,
            "width": null
          }
        },
        "2acf4ceee5744b379ae544219e16430b": {
          "model_module": "@jupyter-widgets/controls",
          "model_name": "DescriptionStyleModel",
          "model_module_version": "1.5.0",
          "state": {
            "_model_module": "@jupyter-widgets/controls",
            "_model_module_version": "1.5.0",
            "_model_name": "DescriptionStyleModel",
            "_view_count": null,
            "_view_module": "@jupyter-widgets/base",
            "_view_module_version": "1.2.0",
            "_view_name": "StyleView",
            "description_width": ""
          }
        },
        "32b0b26ad94b44acbdb562166a0f655c": {
          "model_module": "@jupyter-widgets/controls",
          "model_name": "HBoxModel",
          "model_module_version": "1.5.0",
          "state": {
            "_dom_classes": [],
            "_model_module": "@jupyter-widgets/controls",
            "_model_module_version": "1.5.0",
            "_model_name": "HBoxModel",
            "_view_count": null,
            "_view_module": "@jupyter-widgets/controls",
            "_view_module_version": "1.5.0",
            "_view_name": "HBoxView",
            "box_style": "",
            "children": [
              "IPY_MODEL_88ea2b2c5e074e0c8590e2fe64b9bf78",
              "IPY_MODEL_527ef0ef5b5e4a45982aab7e0b2118bd",
              "IPY_MODEL_71cd028e858f432b8787ed159a294a52"
            ],
            "layout": "IPY_MODEL_4fb6eae8ffcc4df1b27a989de0f383ad"
          }
        },
        "88ea2b2c5e074e0c8590e2fe64b9bf78": {
          "model_module": "@jupyter-widgets/controls",
          "model_name": "HTMLModel",
          "model_module_version": "1.5.0",
          "state": {
            "_dom_classes": [],
            "_model_module": "@jupyter-widgets/controls",
            "_model_module_version": "1.5.0",
            "_model_name": "HTMLModel",
            "_view_count": null,
            "_view_module": "@jupyter-widgets/controls",
            "_view_module_version": "1.5.0",
            "_view_name": "HTMLView",
            "description": "",
            "description_tooltip": null,
            "layout": "IPY_MODEL_bf40b318591b4edfadda8fdce5897289",
            "placeholder": "​",
            "style": "IPY_MODEL_159e888802d941b99c08cbe4ad8c10e3",
            "value": "Downloading: 100%"
          }
        },
        "527ef0ef5b5e4a45982aab7e0b2118bd": {
          "model_module": "@jupyter-widgets/controls",
          "model_name": "FloatProgressModel",
          "model_module_version": "1.5.0",
          "state": {
            "_dom_classes": [],
            "_model_module": "@jupyter-widgets/controls",
            "_model_module_version": "1.5.0",
            "_model_name": "FloatProgressModel",
            "_view_count": null,
            "_view_module": "@jupyter-widgets/controls",
            "_view_module_version": "1.5.0",
            "_view_name": "ProgressView",
            "bar_style": "success",
            "description": "",
            "description_tooltip": null,
            "layout": "IPY_MODEL_b2b7c451cc884ee68952adbd422bc3b8",
            "max": 501200538,
            "min": 0,
            "orientation": "horizontal",
            "style": "IPY_MODEL_227b165a001f4e03857bda63689701ed",
            "value": 501200538
          }
        },
        "71cd028e858f432b8787ed159a294a52": {
          "model_module": "@jupyter-widgets/controls",
          "model_name": "HTMLModel",
          "model_module_version": "1.5.0",
          "state": {
            "_dom_classes": [],
            "_model_module": "@jupyter-widgets/controls",
            "_model_module_version": "1.5.0",
            "_model_name": "HTMLModel",
            "_view_count": null,
            "_view_module": "@jupyter-widgets/controls",
            "_view_module_version": "1.5.0",
            "_view_name": "HTMLView",
            "description": "",
            "description_tooltip": null,
            "layout": "IPY_MODEL_1e5b19a866e54055aafdaf9d2e86340a",
            "placeholder": "​",
            "style": "IPY_MODEL_c0e5cee0f88c41afb94bf9097c37615d",
            "value": " 478M/478M [00:08&lt;00:00, 58.5MB/s]"
          }
        },
        "4fb6eae8ffcc4df1b27a989de0f383ad": {
          "model_module": "@jupyter-widgets/base",
          "model_name": "LayoutModel",
          "model_module_version": "1.2.0",
          "state": {
            "_model_module": "@jupyter-widgets/base",
            "_model_module_version": "1.2.0",
            "_model_name": "LayoutModel",
            "_view_count": null,
            "_view_module": "@jupyter-widgets/base",
            "_view_module_version": "1.2.0",
            "_view_name": "LayoutView",
            "align_content": null,
            "align_items": null,
            "align_self": null,
            "border": null,
            "bottom": null,
            "display": null,
            "flex": null,
            "flex_flow": null,
            "grid_area": null,
            "grid_auto_columns": null,
            "grid_auto_flow": null,
            "grid_auto_rows": null,
            "grid_column": null,
            "grid_gap": null,
            "grid_row": null,
            "grid_template_areas": null,
            "grid_template_columns": null,
            "grid_template_rows": null,
            "height": null,
            "justify_content": null,
            "justify_items": null,
            "left": null,
            "margin": null,
            "max_height": null,
            "max_width": null,
            "min_height": null,
            "min_width": null,
            "object_fit": null,
            "object_position": null,
            "order": null,
            "overflow": null,
            "overflow_x": null,
            "overflow_y": null,
            "padding": null,
            "right": null,
            "top": null,
            "visibility": null,
            "width": null
          }
        },
        "bf40b318591b4edfadda8fdce5897289": {
          "model_module": "@jupyter-widgets/base",
          "model_name": "LayoutModel",
          "model_module_version": "1.2.0",
          "state": {
            "_model_module": "@jupyter-widgets/base",
            "_model_module_version": "1.2.0",
            "_model_name": "LayoutModel",
            "_view_count": null,
            "_view_module": "@jupyter-widgets/base",
            "_view_module_version": "1.2.0",
            "_view_name": "LayoutView",
            "align_content": null,
            "align_items": null,
            "align_self": null,
            "border": null,
            "bottom": null,
            "display": null,
            "flex": null,
            "flex_flow": null,
            "grid_area": null,
            "grid_auto_columns": null,
            "grid_auto_flow": null,
            "grid_auto_rows": null,
            "grid_column": null,
            "grid_gap": null,
            "grid_row": null,
            "grid_template_areas": null,
            "grid_template_columns": null,
            "grid_template_rows": null,
            "height": null,
            "justify_content": null,
            "justify_items": null,
            "left": null,
            "margin": null,
            "max_height": null,
            "max_width": null,
            "min_height": null,
            "min_width": null,
            "object_fit": null,
            "object_position": null,
            "order": null,
            "overflow": null,
            "overflow_x": null,
            "overflow_y": null,
            "padding": null,
            "right": null,
            "top": null,
            "visibility": null,
            "width": null
          }
        },
        "159e888802d941b99c08cbe4ad8c10e3": {
          "model_module": "@jupyter-widgets/controls",
          "model_name": "DescriptionStyleModel",
          "model_module_version": "1.5.0",
          "state": {
            "_model_module": "@jupyter-widgets/controls",
            "_model_module_version": "1.5.0",
            "_model_name": "DescriptionStyleModel",
            "_view_count": null,
            "_view_module": "@jupyter-widgets/base",
            "_view_module_version": "1.2.0",
            "_view_name": "StyleView",
            "description_width": ""
          }
        },
        "b2b7c451cc884ee68952adbd422bc3b8": {
          "model_module": "@jupyter-widgets/base",
          "model_name": "LayoutModel",
          "model_module_version": "1.2.0",
          "state": {
            "_model_module": "@jupyter-widgets/base",
            "_model_module_version": "1.2.0",
            "_model_name": "LayoutModel",
            "_view_count": null,
            "_view_module": "@jupyter-widgets/base",
            "_view_module_version": "1.2.0",
            "_view_name": "LayoutView",
            "align_content": null,
            "align_items": null,
            "align_self": null,
            "border": null,
            "bottom": null,
            "display": null,
            "flex": null,
            "flex_flow": null,
            "grid_area": null,
            "grid_auto_columns": null,
            "grid_auto_flow": null,
            "grid_auto_rows": null,
            "grid_column": null,
            "grid_gap": null,
            "grid_row": null,
            "grid_template_areas": null,
            "grid_template_columns": null,
            "grid_template_rows": null,
            "height": null,
            "justify_content": null,
            "justify_items": null,
            "left": null,
            "margin": null,
            "max_height": null,
            "max_width": null,
            "min_height": null,
            "min_width": null,
            "object_fit": null,
            "object_position": null,
            "order": null,
            "overflow": null,
            "overflow_x": null,
            "overflow_y": null,
            "padding": null,
            "right": null,
            "top": null,
            "visibility": null,
            "width": null
          }
        },
        "227b165a001f4e03857bda63689701ed": {
          "model_module": "@jupyter-widgets/controls",
          "model_name": "ProgressStyleModel",
          "model_module_version": "1.5.0",
          "state": {
            "_model_module": "@jupyter-widgets/controls",
            "_model_module_version": "1.5.0",
            "_model_name": "ProgressStyleModel",
            "_view_count": null,
            "_view_module": "@jupyter-widgets/base",
            "_view_module_version": "1.2.0",
            "_view_name": "StyleView",
            "bar_color": null,
            "description_width": ""
          }
        },
        "1e5b19a866e54055aafdaf9d2e86340a": {
          "model_module": "@jupyter-widgets/base",
          "model_name": "LayoutModel",
          "model_module_version": "1.2.0",
          "state": {
            "_model_module": "@jupyter-widgets/base",
            "_model_module_version": "1.2.0",
            "_model_name": "LayoutModel",
            "_view_count": null,
            "_view_module": "@jupyter-widgets/base",
            "_view_module_version": "1.2.0",
            "_view_name": "LayoutView",
            "align_content": null,
            "align_items": null,
            "align_self": null,
            "border": null,
            "bottom": null,
            "display": null,
            "flex": null,
            "flex_flow": null,
            "grid_area": null,
            "grid_auto_columns": null,
            "grid_auto_flow": null,
            "grid_auto_rows": null,
            "grid_column": null,
            "grid_gap": null,
            "grid_row": null,
            "grid_template_areas": null,
            "grid_template_columns": null,
            "grid_template_rows": null,
            "height": null,
            "justify_content": null,
            "justify_items": null,
            "left": null,
            "margin": null,
            "max_height": null,
            "max_width": null,
            "min_height": null,
            "min_width": null,
            "object_fit": null,
            "object_position": null,
            "order": null,
            "overflow": null,
            "overflow_x": null,
            "overflow_y": null,
            "padding": null,
            "right": null,
            "top": null,
            "visibility": null,
            "width": null
          }
        },
        "c0e5cee0f88c41afb94bf9097c37615d": {
          "model_module": "@jupyter-widgets/controls",
          "model_name": "DescriptionStyleModel",
          "model_module_version": "1.5.0",
          "state": {
            "_model_module": "@jupyter-widgets/controls",
            "_model_module_version": "1.5.0",
            "_model_name": "DescriptionStyleModel",
            "_view_count": null,
            "_view_module": "@jupyter-widgets/base",
            "_view_module_version": "1.2.0",
            "_view_name": "StyleView",
            "description_width": ""
          }
        }
      }
    }
  },
  "cells": [
    {
      "cell_type": "code",
      "execution_count": 1,
      "metadata": {
        "colab": {
          "base_uri": "https://localhost:8080/"
        },
        "id": "aHDBrveid9HB",
        "outputId": "5131d7ec-1ed4-416d-9e45-de97b97cf956"
      },
      "outputs": [
        {
          "output_type": "stream",
          "name": "stdout",
          "text": [
            "Mounted at /content/drive\n"
          ]
        }
      ],
      "source": [
        "from google.colab import drive\n",
        "drive.mount('/content/drive')"
      ]
    },
    {
      "cell_type": "code",
      "source": [
        "cd /content/drive/MyDrive/NLU"
      ],
      "metadata": {
        "colab": {
          "base_uri": "https://localhost:8080/"
        },
        "id": "JtPxb5wjVhQT",
        "outputId": "adf90f94-57b4-41b0-d089-11c266da0655"
      },
      "execution_count": 2,
      "outputs": [
        {
          "output_type": "stream",
          "name": "stdout",
          "text": [
            "/content/drive/MyDrive/NLU\n"
          ]
        }
      ]
    },
    {
      "cell_type": "code",
      "source": [
        "gpu_info = !nvidia-smi\n",
        "gpu_info = '\\n'.join(gpu_info)\n",
        "if gpu_info.find('failed') >= 0:\n",
        "  print('Not connected to a GPU')\n",
        "else:\n",
        "  print(gpu_info)\n",
        "\n",
        "from psutil import virtual_memory\n",
        "ram_gb = virtual_memory().total / 1e9\n",
        "print('Your runtime has {:.1f} gigabytes of available RAM\\n'.format(ram_gb))\n",
        "\n",
        "if ram_gb < 20:\n",
        "  print('Not using a high-RAM runtime')\n",
        "else:\n",
        "  print('You are using a high-RAM runtime!')"
      ],
      "metadata": {
        "colab": {
          "base_uri": "https://localhost:8080/"
        },
        "id": "HX0n3hjeer67",
        "outputId": "77868aef-fba0-434a-dfcf-a9bc16b5f589"
      },
      "execution_count": 3,
      "outputs": [
        {
          "output_type": "stream",
          "name": "stdout",
          "text": [
            "Wed Apr 20 20:35:53 2022       \n",
            "+-----------------------------------------------------------------------------+\n",
            "| NVIDIA-SMI 460.32.03    Driver Version: 460.32.03    CUDA Version: 11.2     |\n",
            "|-------------------------------+----------------------+----------------------+\n",
            "| GPU  Name        Persistence-M| Bus-Id        Disp.A | Volatile Uncorr. ECC |\n",
            "| Fan  Temp  Perf  Pwr:Usage/Cap|         Memory-Usage | GPU-Util  Compute M. |\n",
            "|                               |                      |               MIG M. |\n",
            "|===============================+======================+======================|\n",
            "|   0  Tesla T4            Off  | 00000000:00:04.0 Off |                    0 |\n",
            "| N/A   34C    P8     9W /  70W |      0MiB / 15109MiB |      0%      Default |\n",
            "|                               |                      |                  N/A |\n",
            "+-------------------------------+----------------------+----------------------+\n",
            "                                                                               \n",
            "+-----------------------------------------------------------------------------+\n",
            "| Processes:                                                                  |\n",
            "|  GPU   GI   CI        PID   Type   Process name                  GPU Memory |\n",
            "|        ID   ID                                                   Usage      |\n",
            "|=============================================================================|\n",
            "|  No running processes found                                                 |\n",
            "+-----------------------------------------------------------------------------+\n",
            "Your runtime has 27.3 gigabytes of available RAM\n",
            "\n",
            "You are using a high-RAM runtime!\n"
          ]
        }
      ]
    },
    {
      "cell_type": "code",
      "source": [
        "import os\n",
        "import numpy as np\n",
        "import torch\n",
        "import torch.nn as nn\n",
        "from torch.utils.data import Dataset, DataLoader\n",
        "import random\n",
        "from IPython.display import clear_output"
      ],
      "metadata": {
        "id": "nrh5F3uyimCx"
      },
      "execution_count": 4,
      "outputs": []
    },
    {
      "cell_type": "code",
      "source": [
        "device = torch.device('cuda' if torch.cuda.is_available() else 'cpu')\n",
        "print(device)"
      ],
      "metadata": {
        "colab": {
          "base_uri": "https://localhost:8080/"
        },
        "id": "4Myyv1nlikba",
        "outputId": "7300400f-781f-404c-d749-6b8b4f7860fa"
      },
      "execution_count": 5,
      "outputs": [
        {
          "output_type": "stream",
          "name": "stdout",
          "text": [
            "cuda\n"
          ]
        }
      ]
    },
    {
      "cell_type": "code",
      "source": [
        "pip install transformers"
      ],
      "metadata": {
        "colab": {
          "base_uri": "https://localhost:8080/"
        },
        "id": "bjaySbQtioDn",
        "outputId": "5defda70-7795-416b-c8a9-ba230b08e6ba"
      },
      "execution_count": 6,
      "outputs": [
        {
          "output_type": "stream",
          "name": "stdout",
          "text": [
            "Collecting transformers\n",
            "  Downloading transformers-4.18.0-py3-none-any.whl (4.0 MB)\n",
            "\u001b[K     |████████████████████████████████| 4.0 MB 27.6 MB/s \n",
            "\u001b[?25hRequirement already satisfied: numpy>=1.17 in /usr/local/lib/python3.7/dist-packages (from transformers) (1.21.6)\n",
            "Collecting pyyaml>=5.1\n",
            "  Downloading PyYAML-6.0-cp37-cp37m-manylinux_2_5_x86_64.manylinux1_x86_64.manylinux_2_12_x86_64.manylinux2010_x86_64.whl (596 kB)\n",
            "\u001b[K     |████████████████████████████████| 596 kB 71.9 MB/s \n",
            "\u001b[?25hRequirement already satisfied: filelock in /usr/local/lib/python3.7/dist-packages (from transformers) (3.6.0)\n",
            "Requirement already satisfied: tqdm>=4.27 in /usr/local/lib/python3.7/dist-packages (from transformers) (4.64.0)\n",
            "Collecting sacremoses\n",
            "  Downloading sacremoses-0.0.49-py3-none-any.whl (895 kB)\n",
            "\u001b[K     |████████████████████████████████| 895 kB 75.0 MB/s \n",
            "\u001b[?25hCollecting tokenizers!=0.11.3,<0.13,>=0.11.1\n",
            "  Downloading tokenizers-0.12.1-cp37-cp37m-manylinux_2_12_x86_64.manylinux2010_x86_64.whl (6.6 MB)\n",
            "\u001b[K     |████████████████████████████████| 6.6 MB 81.2 MB/s \n",
            "\u001b[?25hRequirement already satisfied: importlib-metadata in /usr/local/lib/python3.7/dist-packages (from transformers) (4.11.3)\n",
            "Requirement already satisfied: requests in /usr/local/lib/python3.7/dist-packages (from transformers) (2.23.0)\n",
            "Collecting huggingface-hub<1.0,>=0.1.0\n",
            "  Downloading huggingface_hub-0.5.1-py3-none-any.whl (77 kB)\n",
            "\u001b[K     |████████████████████████████████| 77 kB 9.7 MB/s \n",
            "\u001b[?25hRequirement already satisfied: packaging>=20.0 in /usr/local/lib/python3.7/dist-packages (from transformers) (21.3)\n",
            "Requirement already satisfied: regex!=2019.12.17 in /usr/local/lib/python3.7/dist-packages (from transformers) (2019.12.20)\n",
            "Requirement already satisfied: typing-extensions>=3.7.4.3 in /usr/local/lib/python3.7/dist-packages (from huggingface-hub<1.0,>=0.1.0->transformers) (4.1.1)\n",
            "Requirement already satisfied: pyparsing!=3.0.5,>=2.0.2 in /usr/local/lib/python3.7/dist-packages (from packaging>=20.0->transformers) (3.0.8)\n",
            "Requirement already satisfied: zipp>=0.5 in /usr/local/lib/python3.7/dist-packages (from importlib-metadata->transformers) (3.8.0)\n",
            "Requirement already satisfied: urllib3!=1.25.0,!=1.25.1,<1.26,>=1.21.1 in /usr/local/lib/python3.7/dist-packages (from requests->transformers) (1.24.3)\n",
            "Requirement already satisfied: chardet<4,>=3.0.2 in /usr/local/lib/python3.7/dist-packages (from requests->transformers) (3.0.4)\n",
            "Requirement already satisfied: idna<3,>=2.5 in /usr/local/lib/python3.7/dist-packages (from requests->transformers) (2.10)\n",
            "Requirement already satisfied: certifi>=2017.4.17 in /usr/local/lib/python3.7/dist-packages (from requests->transformers) (2021.10.8)\n",
            "Requirement already satisfied: click in /usr/local/lib/python3.7/dist-packages (from sacremoses->transformers) (7.1.2)\n",
            "Requirement already satisfied: six in /usr/local/lib/python3.7/dist-packages (from sacremoses->transformers) (1.15.0)\n",
            "Requirement already satisfied: joblib in /usr/local/lib/python3.7/dist-packages (from sacremoses->transformers) (1.1.0)\n",
            "Installing collected packages: pyyaml, tokenizers, sacremoses, huggingface-hub, transformers\n",
            "  Attempting uninstall: pyyaml\n",
            "    Found existing installation: PyYAML 3.13\n",
            "    Uninstalling PyYAML-3.13:\n",
            "      Successfully uninstalled PyYAML-3.13\n",
            "Successfully installed huggingface-hub-0.5.1 pyyaml-6.0 sacremoses-0.0.49 tokenizers-0.12.1 transformers-4.18.0\n"
          ]
        }
      ]
    },
    {
      "cell_type": "code",
      "source": [
        "pip install Sentencepiece"
      ],
      "metadata": {
        "colab": {
          "base_uri": "https://localhost:8080/"
        },
        "id": "758a7K6Ae7Wn",
        "outputId": "8784ec67-a47c-4517-9441-e066478624a8"
      },
      "execution_count": 7,
      "outputs": [
        {
          "output_type": "stream",
          "name": "stdout",
          "text": [
            "Collecting Sentencepiece\n",
            "  Downloading sentencepiece-0.1.96-cp37-cp37m-manylinux_2_17_x86_64.manylinux2014_x86_64.whl (1.2 MB)\n",
            "\u001b[?25l\r\u001b[K     |▎                               | 10 kB 34.4 MB/s eta 0:00:01\r\u001b[K     |▌                               | 20 kB 38.5 MB/s eta 0:00:01\r\u001b[K     |▉                               | 30 kB 46.3 MB/s eta 0:00:01\r\u001b[K     |█                               | 40 kB 39.1 MB/s eta 0:00:01\r\u001b[K     |█▍                              | 51 kB 41.5 MB/s eta 0:00:01\r\u001b[K     |█▋                              | 61 kB 46.5 MB/s eta 0:00:01\r\u001b[K     |██                              | 71 kB 33.0 MB/s eta 0:00:01\r\u001b[K     |██▏                             | 81 kB 34.7 MB/s eta 0:00:01\r\u001b[K     |██▍                             | 92 kB 37.5 MB/s eta 0:00:01\r\u001b[K     |██▊                             | 102 kB 35.3 MB/s eta 0:00:01\r\u001b[K     |███                             | 112 kB 35.3 MB/s eta 0:00:01\r\u001b[K     |███▎                            | 122 kB 35.3 MB/s eta 0:00:01\r\u001b[K     |███▌                            | 133 kB 35.3 MB/s eta 0:00:01\r\u001b[K     |███▉                            | 143 kB 35.3 MB/s eta 0:00:01\r\u001b[K     |████                            | 153 kB 35.3 MB/s eta 0:00:01\r\u001b[K     |████▎                           | 163 kB 35.3 MB/s eta 0:00:01\r\u001b[K     |████▋                           | 174 kB 35.3 MB/s eta 0:00:01\r\u001b[K     |████▉                           | 184 kB 35.3 MB/s eta 0:00:01\r\u001b[K     |█████▏                          | 194 kB 35.3 MB/s eta 0:00:01\r\u001b[K     |█████▍                          | 204 kB 35.3 MB/s eta 0:00:01\r\u001b[K     |█████▊                          | 215 kB 35.3 MB/s eta 0:00:01\r\u001b[K     |██████                          | 225 kB 35.3 MB/s eta 0:00:01\r\u001b[K     |██████▏                         | 235 kB 35.3 MB/s eta 0:00:01\r\u001b[K     |██████▌                         | 245 kB 35.3 MB/s eta 0:00:01\r\u001b[K     |██████▊                         | 256 kB 35.3 MB/s eta 0:00:01\r\u001b[K     |███████                         | 266 kB 35.3 MB/s eta 0:00:01\r\u001b[K     |███████▎                        | 276 kB 35.3 MB/s eta 0:00:01\r\u001b[K     |███████▋                        | 286 kB 35.3 MB/s eta 0:00:01\r\u001b[K     |███████▉                        | 296 kB 35.3 MB/s eta 0:00:01\r\u001b[K     |████████                        | 307 kB 35.3 MB/s eta 0:00:01\r\u001b[K     |████████▍                       | 317 kB 35.3 MB/s eta 0:00:01\r\u001b[K     |████████▋                       | 327 kB 35.3 MB/s eta 0:00:01\r\u001b[K     |█████████                       | 337 kB 35.3 MB/s eta 0:00:01\r\u001b[K     |█████████▏                      | 348 kB 35.3 MB/s eta 0:00:01\r\u001b[K     |█████████▌                      | 358 kB 35.3 MB/s eta 0:00:01\r\u001b[K     |█████████▊                      | 368 kB 35.3 MB/s eta 0:00:01\r\u001b[K     |██████████                      | 378 kB 35.3 MB/s eta 0:00:01\r\u001b[K     |██████████▎                     | 389 kB 35.3 MB/s eta 0:00:01\r\u001b[K     |██████████▌                     | 399 kB 35.3 MB/s eta 0:00:01\r\u001b[K     |██████████▉                     | 409 kB 35.3 MB/s eta 0:00:01\r\u001b[K     |███████████                     | 419 kB 35.3 MB/s eta 0:00:01\r\u001b[K     |███████████▍                    | 430 kB 35.3 MB/s eta 0:00:01\r\u001b[K     |███████████▋                    | 440 kB 35.3 MB/s eta 0:00:01\r\u001b[K     |███████████▉                    | 450 kB 35.3 MB/s eta 0:00:01\r\u001b[K     |████████████▏                   | 460 kB 35.3 MB/s eta 0:00:01\r\u001b[K     |████████████▍                   | 471 kB 35.3 MB/s eta 0:00:01\r\u001b[K     |████████████▊                   | 481 kB 35.3 MB/s eta 0:00:01\r\u001b[K     |█████████████                   | 491 kB 35.3 MB/s eta 0:00:01\r\u001b[K     |█████████████▎                  | 501 kB 35.3 MB/s eta 0:00:01\r\u001b[K     |█████████████▌                  | 512 kB 35.3 MB/s eta 0:00:01\r\u001b[K     |█████████████▊                  | 522 kB 35.3 MB/s eta 0:00:01\r\u001b[K     |██████████████                  | 532 kB 35.3 MB/s eta 0:00:01\r\u001b[K     |██████████████▎                 | 542 kB 35.3 MB/s eta 0:00:01\r\u001b[K     |██████████████▋                 | 552 kB 35.3 MB/s eta 0:00:01\r\u001b[K     |██████████████▉                 | 563 kB 35.3 MB/s eta 0:00:01\r\u001b[K     |███████████████▏                | 573 kB 35.3 MB/s eta 0:00:01\r\u001b[K     |███████████████▍                | 583 kB 35.3 MB/s eta 0:00:01\r\u001b[K     |███████████████▋                | 593 kB 35.3 MB/s eta 0:00:01\r\u001b[K     |████████████████                | 604 kB 35.3 MB/s eta 0:00:01\r\u001b[K     |████████████████▏               | 614 kB 35.3 MB/s eta 0:00:01\r\u001b[K     |████████████████▌               | 624 kB 35.3 MB/s eta 0:00:01\r\u001b[K     |████████████████▊               | 634 kB 35.3 MB/s eta 0:00:01\r\u001b[K     |█████████████████               | 645 kB 35.3 MB/s eta 0:00:01\r\u001b[K     |█████████████████▎              | 655 kB 35.3 MB/s eta 0:00:01\r\u001b[K     |█████████████████▌              | 665 kB 35.3 MB/s eta 0:00:01\r\u001b[K     |█████████████████▉              | 675 kB 35.3 MB/s eta 0:00:01\r\u001b[K     |██████████████████              | 686 kB 35.3 MB/s eta 0:00:01\r\u001b[K     |██████████████████▍             | 696 kB 35.3 MB/s eta 0:00:01\r\u001b[K     |██████████████████▋             | 706 kB 35.3 MB/s eta 0:00:01\r\u001b[K     |███████████████████             | 716 kB 35.3 MB/s eta 0:00:01\r\u001b[K     |███████████████████▏            | 727 kB 35.3 MB/s eta 0:00:01\r\u001b[K     |███████████████████▍            | 737 kB 35.3 MB/s eta 0:00:01\r\u001b[K     |███████████████████▊            | 747 kB 35.3 MB/s eta 0:00:01\r\u001b[K     |████████████████████            | 757 kB 35.3 MB/s eta 0:00:01\r\u001b[K     |████████████████████▎           | 768 kB 35.3 MB/s eta 0:00:01\r\u001b[K     |████████████████████▌           | 778 kB 35.3 MB/s eta 0:00:01\r\u001b[K     |████████████████████▉           | 788 kB 35.3 MB/s eta 0:00:01\r\u001b[K     |█████████████████████           | 798 kB 35.3 MB/s eta 0:00:01\r\u001b[K     |█████████████████████▎          | 808 kB 35.3 MB/s eta 0:00:01\r\u001b[K     |█████████████████████▋          | 819 kB 35.3 MB/s eta 0:00:01\r\u001b[K     |█████████████████████▉          | 829 kB 35.3 MB/s eta 0:00:01\r\u001b[K     |██████████████████████▏         | 839 kB 35.3 MB/s eta 0:00:01\r\u001b[K     |██████████████████████▍         | 849 kB 35.3 MB/s eta 0:00:01\r\u001b[K     |██████████████████████▊         | 860 kB 35.3 MB/s eta 0:00:01\r\u001b[K     |███████████████████████         | 870 kB 35.3 MB/s eta 0:00:01\r\u001b[K     |███████████████████████▏        | 880 kB 35.3 MB/s eta 0:00:01\r\u001b[K     |███████████████████████▌        | 890 kB 35.3 MB/s eta 0:00:01\r\u001b[K     |███████████████████████▊        | 901 kB 35.3 MB/s eta 0:00:01\r\u001b[K     |████████████████████████        | 911 kB 35.3 MB/s eta 0:00:01\r\u001b[K     |████████████████████████▎       | 921 kB 35.3 MB/s eta 0:00:01\r\u001b[K     |████████████████████████▋       | 931 kB 35.3 MB/s eta 0:00:01\r\u001b[K     |████████████████████████▉       | 942 kB 35.3 MB/s eta 0:00:01\r\u001b[K     |█████████████████████████       | 952 kB 35.3 MB/s eta 0:00:01\r\u001b[K     |█████████████████████████▍      | 962 kB 35.3 MB/s eta 0:00:01\r\u001b[K     |█████████████████████████▋      | 972 kB 35.3 MB/s eta 0:00:01\r\u001b[K     |██████████████████████████      | 983 kB 35.3 MB/s eta 0:00:01\r\u001b[K     |██████████████████████████▏     | 993 kB 35.3 MB/s eta 0:00:01\r\u001b[K     |██████████████████████████▌     | 1.0 MB 35.3 MB/s eta 0:00:01\r\u001b[K     |██████████████████████████▊     | 1.0 MB 35.3 MB/s eta 0:00:01\r\u001b[K     |███████████████████████████     | 1.0 MB 35.3 MB/s eta 0:00:01\r\u001b[K     |███████████████████████████▎    | 1.0 MB 35.3 MB/s eta 0:00:01\r\u001b[K     |███████████████████████████▌    | 1.0 MB 35.3 MB/s eta 0:00:01\r\u001b[K     |███████████████████████████▉    | 1.1 MB 35.3 MB/s eta 0:00:01\r\u001b[K     |████████████████████████████    | 1.1 MB 35.3 MB/s eta 0:00:01\r\u001b[K     |████████████████████████████▍   | 1.1 MB 35.3 MB/s eta 0:00:01\r\u001b[K     |████████████████████████████▋   | 1.1 MB 35.3 MB/s eta 0:00:01\r\u001b[K     |████████████████████████████▉   | 1.1 MB 35.3 MB/s eta 0:00:01\r\u001b[K     |█████████████████████████████▏  | 1.1 MB 35.3 MB/s eta 0:00:01\r\u001b[K     |█████████████████████████████▍  | 1.1 MB 35.3 MB/s eta 0:00:01\r\u001b[K     |█████████████████████████████▊  | 1.1 MB 35.3 MB/s eta 0:00:01\r\u001b[K     |██████████████████████████████  | 1.1 MB 35.3 MB/s eta 0:00:01\r\u001b[K     |██████████████████████████████▎ | 1.1 MB 35.3 MB/s eta 0:00:01\r\u001b[K     |██████████████████████████████▌ | 1.2 MB 35.3 MB/s eta 0:00:01\r\u001b[K     |██████████████████████████████▊ | 1.2 MB 35.3 MB/s eta 0:00:01\r\u001b[K     |███████████████████████████████ | 1.2 MB 35.3 MB/s eta 0:00:01\r\u001b[K     |███████████████████████████████▎| 1.2 MB 35.3 MB/s eta 0:00:01\r\u001b[K     |███████████████████████████████▋| 1.2 MB 35.3 MB/s eta 0:00:01\r\u001b[K     |███████████████████████████████▉| 1.2 MB 35.3 MB/s eta 0:00:01\r\u001b[K     |████████████████████████████████| 1.2 MB 35.3 MB/s \n",
            "\u001b[?25hInstalling collected packages: Sentencepiece\n",
            "Successfully installed Sentencepiece-0.1.96\n"
          ]
        }
      ]
    },
    {
      "cell_type": "code",
      "source": [
        "import pickle # reading in our data\n",
        "\n",
        "import torch # pytorch\n",
        "from torch.utils.data import DataLoader # this helps us iterate over our data efficiently\n",
        "from tqdm import tqdm"
      ],
      "metadata": {
        "id": "hPgeKhuG1jw5"
      },
      "execution_count": 8,
      "outputs": []
    },
    {
      "cell_type": "code",
      "source": [
        "with open('/content/drive/MyDrive/NLU/covidqa/covid_train_contexts.pkl', 'rb') as f1:\n",
        "  train_contexts = pickle.load(f1)\n",
        "\n",
        "with open('/content/drive/MyDrive/NLU/covidqa/covid_train_questions.pkl', 'rb') as f2:\n",
        "  train_questions = pickle.load(f2)\n",
        "\n",
        "with open('/content/drive/MyDrive/NLU/covidqa/covid_train_answers.pkl', 'rb') as f3:\n",
        "  train_answers = pickle.load(f3)\n",
        "\n",
        "with open('/content/drive/MyDrive/NLU/covidqa/covid_val_contexts.pkl', 'rb') as f1:\n",
        "  val_contexts = pickle.load(f1)\n",
        "\n",
        "with open('/content/drive/MyDrive/NLU/covidqa/covid_val_questions.pkl', 'rb') as f2:\n",
        "  val_questions = pickle.load(f2)\n",
        "\n",
        "with open('/content/drive/MyDrive/NLU/covidqa/covid_val_answers.pkl', 'rb') as f3:\n",
        "  val_answers = pickle.load(f3)"
      ],
      "metadata": {
        "id": "XoX_Fv_j0f3H"
      },
      "execution_count": 9,
      "outputs": []
    },
    {
      "cell_type": "code",
      "source": [
        "print(type(train_questions))\n",
        "print(type(train_contexts))\n",
        "print(type(train_answers))\n",
        "print(len(train_questions))\n",
        "print(len(train_contexts))\n",
        "print(len(train_answers))"
      ],
      "metadata": {
        "colab": {
          "base_uri": "https://localhost:8080/"
        },
        "id": "DQOp3jzostAl",
        "outputId": "1b2b40e1-e04c-48b9-9c28-d5e22378eaa7"
      },
      "execution_count": 10,
      "outputs": [
        {
          "output_type": "stream",
          "name": "stdout",
          "text": [
            "<class 'list'>\n",
            "<class 'list'>\n",
            "<class 'list'>\n",
            "1615\n",
            "1615\n",
            "1615\n"
          ]
        }
      ]
    },
    {
      "cell_type": "code",
      "source": [
        "print(len(val_answers))"
      ],
      "metadata": {
        "colab": {
          "base_uri": "https://localhost:8080/"
        },
        "id": "iUdYF-dGNTvt",
        "outputId": "b2a3c587-6212-4d8c-8f69-5408569b9ad3"
      },
      "execution_count": 11,
      "outputs": [
        {
          "output_type": "stream",
          "name": "stdout",
          "text": [
            "404\n"
          ]
        }
      ]
    },
    {
      "cell_type": "code",
      "source": [
        "print(\"Question\")\n",
        "print(train_questions[0])\n",
        "print(\"Answer\")\n",
        "print(train_answers[0])\n",
        "# print(\"Context\")\n",
        "# print(train_contexts[0])"
      ],
      "metadata": {
        "colab": {
          "base_uri": "https://localhost:8080/"
        },
        "id": "46DyRQHjWUPT",
        "outputId": "d144976e-83d2-4c95-9ea9-8e275bed2e1b"
      },
      "execution_count": 12,
      "outputs": [
        {
          "output_type": "stream",
          "name": "stdout",
          "text": [
            "Question\n",
            "What is the main cause of HIV-1 infection in children?\n",
            "Answer\n",
            "{'text': 'Mother-to-child transmission (MTCT) is the main cause of HIV-1 infection in children worldwide. ', 'answer_start': 370}\n"
          ]
        }
      ]
    },
    {
      "cell_type": "code",
      "source": [
        "# the actual answer\n",
        "expected_answer = train_answers[1]['text']\n",
        "# start index of the answer\n",
        "start_index = train_answers[1]['answer_start']\n",
        "end_index = start_index + len(expected_answer)\n",
        "print(start_index)\n",
        "print(len(expected_answer))\n",
        "print(end_index)\n",
        "print(train_answers[1])"
      ],
      "metadata": {
        "colab": {
          "base_uri": "https://localhost:8080/"
        },
        "id": "vjx8xXhtXTUw",
        "outputId": "b7fadca5-2220-436f-df86-fed36965ec2b"
      },
      "execution_count": 13,
      "outputs": [
        {
          "output_type": "stream",
          "name": "stdout",
          "text": [
            "2003\n",
            "126\n",
            "2129\n",
            "{'text': 'DC-SIGNR plays a crucial role in MTCT of HIV-1 and that impaired placental DC-SIGNR expression increases risk of transmission.', 'answer_start': 2003}\n"
          ]
        }
      ]
    },
    {
      "cell_type": "code",
      "source": [
        "def add_end_index(answers, contexts):\n",
        "\n",
        "  # loop over each context-answer pair\n",
        "  for answer, context in zip(answers, contexts):\n",
        "\n",
        "    # the actual answer\n",
        "    expected_answer = answer['text']\n",
        "\n",
        "    # start index of the answer\n",
        "    start_index = answer['answer_start']\n",
        "\n",
        "    # end index\n",
        "    end_index = start_index + len(expected_answer)\n",
        "\n",
        "    # take into account if answer is off by a couple characters\n",
        "    if context[start_index:end_index] == expected_answer:\n",
        "      answer['answer_end'] = end_index\n",
        "    else:\n",
        "      # if answer is off by 1 or 2 tokens\n",
        "      for i in [1, 2]:\n",
        "        if context[start_index-i:end_index-i] == expected_answer:\n",
        "          answer['answer_start'] = start_index - i\n",
        "          answer['answer_end'] = end_index - i"
      ],
      "metadata": {
        "id": "b5Gh9Yel1kUW"
      },
      "execution_count": 14,
      "outputs": []
    },
    {
      "cell_type": "code",
      "source": [
        "# apply our function above to dig up all the answer_start and end for each context-answer pair\n",
        "add_end_index(train_answers, train_contexts)\n",
        "add_end_index(val_answers, val_contexts)\n",
        "# add_end_index(val_answers, val_contexts)\n",
        "print(train_answers[0])\n",
        "print(val_answers[0])"
      ],
      "metadata": {
        "colab": {
          "base_uri": "https://localhost:8080/"
        },
        "id": "rdx-IilL1pRT",
        "outputId": "cf83b308-5021-4365-f0ca-39f47ea036d0"
      },
      "execution_count": 15,
      "outputs": [
        {
          "output_type": "stream",
          "name": "stdout",
          "text": [
            "{'text': 'Mother-to-child transmission (MTCT) is the main cause of HIV-1 infection in children worldwide. ', 'answer_start': 370, 'answer_end': 466}\n",
            "{'text': 'there are also evidence of reduced type I (IFNβ) and III (IFNλ) interferon production due to type 2-skewed inflammation, which contributes to imperfect clearance of the virus resulting in persistence of viral components, or the live virus in the airway epithelium ', 'answer_start': 17454, 'answer_end': 17718}\n"
          ]
        }
      ]
    },
    {
      "cell_type": "code",
      "source": [
        "\n",
        "from transformers import RobertaTokenizerFast\n",
        "\n",
        "tokenizer = RobertaTokenizerFast.from_pretrained('roberta-base')"
      ],
      "metadata": {
        "id": "MHS-_6xfeqLE",
        "colab": {
          "base_uri": "https://localhost:8080/",
          "height": 145,
          "referenced_widgets": [
            "9da3e75da8f142f297182d6349cc8a10",
            "0cf9d5eed63d446abf3509a08ae52ebd",
            "ae460d1bdd3e464f9ec802cde303be5d",
            "f38611debb7f42109138840b3bf02254",
            "ce6b0a2fb0bf4e41a0f7db4f2b65a1bc",
            "a291766c0f1842f6880074f1e178a9b0",
            "ac8d617798954c62a634287ed604ae38",
            "f14f8a48a75e4463b0e033a831dc46ae",
            "1eca9f665c4a40a5be3e923923e45dfd",
            "fa1cd8544dc14802a2ddceb0f0bbb860",
            "e07d23669f994b02a18a4a78f2c7faa0",
            "be7fafc2883e4a84a56806143b217df2",
            "d587c762a8e8488a86a9a053dcd5f0aa",
            "81b98d3393be4aa8a5e627c9c579bdf8",
            "24c94fd20708457fadd821461f1941c8",
            "768a5780ba40485c86df375400600d63",
            "c99d4c0c3e694a33a1df02bd806920e2",
            "b01bf0e1d0ed4f3b9b7d8e7f18f22025",
            "e80ba35188d7460fa78e98ca66c947c8",
            "7dd22483e32546a89673006d43e61868",
            "9355ace4811f4122a1220a8d4f6fdc7e",
            "1f43010dea814b08aaf8d35b03c99b9c",
            "3a487576761e462d996f6336b7c1e56e",
            "68ba8e68534b411285df2b3aba83a838",
            "7d9069e21b944209a705c215a2262c8a",
            "f46519ebdced4b43a5e5da3fa0e08030",
            "5b1bf546a9694e429f4c700edc977ae1",
            "20974e02adb1472f8290930c43842e6b",
            "8a2b987bb3dd400b86cfee2f8f5c87fd",
            "2906f6240e1e47a099382cf004fe0161",
            "2bd328c45ac74fd3a3163d9b1ebcf1c8",
            "8c585322fd3043cebe9352983ac1106f",
            "2d61742977be42859bc5fdf15bb01c5b",
            "5240eff82b5b49c0891afbeb5c23bc4b",
            "7a39e629a4404ce38734de63aa98b348",
            "b04654db4cae43c79cab4f5fa4113dd4",
            "d49e2926040441e4ba68086af1d3c60b",
            "bce4b1f19d244423843e2d4caebc95d8",
            "fc57bb687b2a4623818cb2b604f27100",
            "284d334183fa490aaa8c184352a6120a",
            "f3e0204891b049ed9ab3ee87598dd315",
            "2861aa4ac8114d2c89ed25fb01baa595",
            "0b157dc9a8694635953df1b500f69fff",
            "2acf4ceee5744b379ae544219e16430b"
          ]
        },
        "outputId": "c25daa8e-ca02-4e3d-cc56-c13004cb5aa1"
      },
      "execution_count": 16,
      "outputs": [
        {
          "output_type": "display_data",
          "data": {
            "text/plain": [
              "Downloading:   0%|          | 0.00/878k [00:00<?, ?B/s]"
            ],
            "application/vnd.jupyter.widget-view+json": {
              "version_major": 2,
              "version_minor": 0,
              "model_id": "9da3e75da8f142f297182d6349cc8a10"
            }
          },
          "metadata": {}
        },
        {
          "output_type": "display_data",
          "data": {
            "text/plain": [
              "Downloading:   0%|          | 0.00/446k [00:00<?, ?B/s]"
            ],
            "application/vnd.jupyter.widget-view+json": {
              "version_major": 2,
              "version_minor": 0,
              "model_id": "be7fafc2883e4a84a56806143b217df2"
            }
          },
          "metadata": {}
        },
        {
          "output_type": "display_data",
          "data": {
            "text/plain": [
              "Downloading:   0%|          | 0.00/1.29M [00:00<?, ?B/s]"
            ],
            "application/vnd.jupyter.widget-view+json": {
              "version_major": 2,
              "version_minor": 0,
              "model_id": "3a487576761e462d996f6336b7c1e56e"
            }
          },
          "metadata": {}
        },
        {
          "output_type": "display_data",
          "data": {
            "text/plain": [
              "Downloading:   0%|          | 0.00/481 [00:00<?, ?B/s]"
            ],
            "application/vnd.jupyter.widget-view+json": {
              "version_major": 2,
              "version_minor": 0,
              "model_id": "5240eff82b5b49c0891afbeb5c23bc4b"
            }
          },
          "metadata": {}
        }
      ]
    },
    {
      "cell_type": "code",
      "source": [
        "# apply tokenizer to our training and validation datasets\n",
        "train_tokenized = tokenizer(train_questions, train_contexts, truncation=True, padding=True)\n",
        "val_tokenized = tokenizer(val_questions, val_contexts, truncation=True, padding=True)"
      ],
      "metadata": {
        "id": "4ydIGxv2l4Nk"
      },
      "execution_count": 17,
      "outputs": []
    },
    {
      "cell_type": "code",
      "source": [
        "print(train_tokenized[0])\n",
        "print(val_tokenized[0])"
      ],
      "metadata": {
        "id": "4gJ2bENdkBKj",
        "colab": {
          "base_uri": "https://localhost:8080/"
        },
        "outputId": "72ee2e6a-3b1a-432c-f76c-689a059a50ce"
      },
      "execution_count": 18,
      "outputs": [
        {
          "output_type": "stream",
          "name": "stdout",
          "text": [
            "Encoding(num_tokens=512, attributes=[ids, type_ids, tokens, offsets, attention_mask, special_tokens_mask, overflowing])\n",
            "Encoding(num_tokens=512, attributes=[ids, type_ids, tokens, offsets, attention_mask, special_tokens_mask, overflowing])\n"
          ]
        }
      ]
    },
    {
      "cell_type": "code",
      "source": [
        "# print(train_tokenized_max_l[0])\n",
        "# print(val_tokenized_max_l[0])"
      ],
      "metadata": {
        "id": "Ju62XcBckBNh"
      },
      "execution_count": 19,
      "outputs": []
    },
    {
      "cell_type": "code",
      "source": [
        "tokenizer.decode(train_tokenized['input_ids'][0])"
      ],
      "metadata": {
        "id": "NUF9WbzskBQS",
        "colab": {
          "base_uri": "https://localhost:8080/",
          "height": 108
        },
        "outputId": "6c10ef78-8aad-46a6-b534-5b92b5527c5b"
      },
      "execution_count": 20,
      "outputs": [
        {
          "output_type": "execute_result",
          "data": {
            "text/plain": [
              "'<s>What is the main cause of HIV-1 infection in children?</s></s>Functional Genetic Variants in DC-SIGNR Are Associated with Mother-to-Child Transmission of HIV-1\\n\\nhttps://www.ncbi.nlm.nih.gov/pmc/articles/PMC2752805/\\n\\nBoily-Larouche, Geneviève; Iscache, Anne-Laure; Zijenah, Lynn S.; Humphrey, Jean H.; Mouland, Andrew J.; Ward, Brian J.; Roger, Michel\\n2009-10-07\\nDOI:10.1371/journal.pone.0007211\\nLicense:cc-by\\n\\nAbstract: BACKGROUND: Mother-to-child transmission (MTCT) is the main cause of HIV-1 infection in children worldwide. Given that the C-type lectin receptor, dendritic cell-specific ICAM-grabbing non-integrin-related (DC-SIGNR, also known as CD209L or liver/lymph node–specific ICAM-grabbing non-integrin (L-SIGN)), can interact with pathogens including HIV-1 and is expressed at the maternal-fetal interface, we hypothesized that it could influence MTCT of HIV-1. METHODS AND FINDINGS: To investigate the potential role of DC-SIGNR in MTCT of HIV-1, we carried out a genetic association study of DC-SIGNR in a well-characterized cohort of 197 HIV-infected mothers and their infants recruited in Harare, Zimbabwe. Infants harbouring two copies of DC-SIGNR H1 and/or H3 haplotypes (H1-H1, H1-H3, H3-H3) had a 3.6-fold increased risk of in utero (IU) (P = 0.013) HIV-1 infection and a 5.7-fold increased risk of intrapartum (IP) (P = 0.025) HIV-1 infection after adjusting for a number of maternal factors. The implicated H1 and H3 haplotypes share two single nucleotide polymorphisms (SNPs) in promoter region (p-198A) and intron 2 (int2-180A) that were associated with increased risk of both IU (P = 0.045 and P = 0.003, respectively) and IP (P = 0.025, for int2-</s>'"
            ],
            "application/vnd.google.colaboratory.intrinsic+json": {
              "type": "string"
            }
          },
          "metadata": {},
          "execution_count": 20
        }
      ]
    },
    {
      "cell_type": "code",
      "source": [
        "def add_token_positions(tokenized_data, answers):\n",
        "  # let's define a couple lists to keep track of our start/end tokens\n",
        "  start_positions = [] # aggregate all start positions for each sample\n",
        "  end_positions = [] # aggregate all end positions for each sample\n",
        "\n",
        "  # loop over the answers list\n",
        "  for i in range(len(answers)):\n",
        "    # add the start and end encodings to our lists\n",
        "    start_positions.append(tokenized_data.char_to_token(i, answers[i]['answer_start']))\n",
        "    end_positions.append(tokenized_data.char_to_token(i, answers[i]['answer_end']))\n",
        "    # print(start_positions, end_positions)\n",
        "\n",
        "\n",
        "    if end_positions[-1] is None:\n",
        "      end_positions[-1] = tokenizer.model_max_length\n",
        "    \n",
        "    shift = 1\n",
        "    while start_positions[-1] is None:\n",
        "      start_positions[-1] = tokenized_data.char_to_token(i, answers[i]['answer_start'] - shift)\n",
        "      shift += 1\n",
        "  \n",
        "  tokenized_data.update({'start_positions': start_positions, 'end_positions': end_positions})"
      ],
      "metadata": {
        "id": "AhLBWxy9FkTl"
      },
      "execution_count": 21,
      "outputs": []
    },
    {
      "cell_type": "code",
      "source": [
        "# apply function to train and validations data\n",
        "add_token_positions(train_tokenized, train_answers)\n",
        "add_token_positions(val_tokenized, val_answers)"
      ],
      "metadata": {
        "id": "JB8jnQSU4n8l"
      },
      "execution_count": 22,
      "outputs": []
    },
    {
      "cell_type": "code",
      "source": [
        "train_tokenized.keys()"
      ],
      "metadata": {
        "id": "ENexF_59luoR",
        "colab": {
          "base_uri": "https://localhost:8080/"
        },
        "outputId": "bef26307-2a49-45de-a5d5-b212b3cd5342"
      },
      "execution_count": 23,
      "outputs": [
        {
          "output_type": "execute_result",
          "data": {
            "text/plain": [
              "dict_keys(['input_ids', 'attention_mask', 'start_positions', 'end_positions'])"
            ]
          },
          "metadata": {},
          "execution_count": 23
        }
      ]
    },
    {
      "cell_type": "code",
      "source": [
        "print(train_tokenized['start_positions'][0], train_tokenized['end_positions'][0])\n"
      ],
      "metadata": {
        "id": "x0MudCQQFBg8",
        "colab": {
          "base_uri": "https://localhost:8080/"
        },
        "outputId": "b1bc5e4a-ca39-4aa1-c9ca-632b120d7456"
      },
      "execution_count": 24,
      "outputs": [
        {
          "output_type": "stream",
          "name": "stdout",
          "text": [
            "13 512\n"
          ]
        }
      ]
    },
    {
      "cell_type": "code",
      "source": [
        "class Custom_Dataset(torch.utils.data.Dataset):\n",
        "  # constructor\n",
        "  def __init__(self, encodings):\n",
        "    self.encodings = encodings\n",
        "  \n",
        "  # Query to get a specific item at an index in our dataset\n",
        "  def __getitem__(self, idx):\n",
        "    return {key: torch.tensor(val[idx]) for key, val in self.encodings.items()} # comprehension (shortcut)\n",
        "\n",
        "  # returns the length of our dataset\n",
        "  def __len__(self):\n",
        "    return len(self.encodings.input_ids)"
      ],
      "metadata": {
        "id": "gWLvhlxc4gBN"
      },
      "execution_count": 25,
      "outputs": []
    },
    {
      "cell_type": "code",
      "source": [
        "# Datasets for the training and validations sets\n",
        "train_data = Custom_Dataset(train_tokenized)\n",
        "val_data = Custom_Dataset(val_tokenized)"
      ],
      "metadata": {
        "id": "dKpY49QVuN9D"
      },
      "execution_count": 26,
      "outputs": []
    },
    {
      "cell_type": "code",
      "source": [
        "# Used to help us iterate over our dataset conveniently, especially when we have batches\n",
        "train_dataloader = DataLoader(train_data, batch_size=8, shuffle=True)\n",
        "val_dataloader = DataLoader(val_data, batch_size=8, shuffle=True)"
      ],
      "metadata": {
        "id": "gMiZgaZmufHn"
      },
      "execution_count": 27,
      "outputs": []
    },
    {
      "cell_type": "code",
      "source": [
        "from transformers import RobertaForQuestionAnswering # This is the BERT model used for question answering\n",
        "\n",
        "# BERT model already finetuned for question answering\n",
        "model = RobertaForQuestionAnswering.from_pretrained('roberta-base')"
      ],
      "metadata": {
        "id": "aL_FIeJ4lZsg",
        "colab": {
          "base_uri": "https://localhost:8080/",
          "height": 160,
          "referenced_widgets": [
            "32b0b26ad94b44acbdb562166a0f655c",
            "88ea2b2c5e074e0c8590e2fe64b9bf78",
            "527ef0ef5b5e4a45982aab7e0b2118bd",
            "71cd028e858f432b8787ed159a294a52",
            "4fb6eae8ffcc4df1b27a989de0f383ad",
            "bf40b318591b4edfadda8fdce5897289",
            "159e888802d941b99c08cbe4ad8c10e3",
            "b2b7c451cc884ee68952adbd422bc3b8",
            "227b165a001f4e03857bda63689701ed",
            "1e5b19a866e54055aafdaf9d2e86340a",
            "c0e5cee0f88c41afb94bf9097c37615d"
          ]
        },
        "outputId": "f469d2f2-5db9-4368-bac4-890b853738e7"
      },
      "execution_count": 28,
      "outputs": [
        {
          "output_type": "display_data",
          "data": {
            "text/plain": [
              "Downloading:   0%|          | 0.00/478M [00:00<?, ?B/s]"
            ],
            "application/vnd.jupyter.widget-view+json": {
              "version_major": 2,
              "version_minor": 0,
              "model_id": "32b0b26ad94b44acbdb562166a0f655c"
            }
          },
          "metadata": {}
        },
        {
          "output_type": "stream",
          "name": "stderr",
          "text": [
            "Some weights of the model checkpoint at roberta-base were not used when initializing RobertaForQuestionAnswering: ['lm_head.dense.bias', 'lm_head.layer_norm.weight', 'lm_head.bias', 'lm_head.layer_norm.bias', 'lm_head.decoder.weight', 'lm_head.dense.weight']\n",
            "- This IS expected if you are initializing RobertaForQuestionAnswering from the checkpoint of a model trained on another task or with another architecture (e.g. initializing a BertForSequenceClassification model from a BertForPreTraining model).\n",
            "- This IS NOT expected if you are initializing RobertaForQuestionAnswering from the checkpoint of a model that you expect to be exactly identical (initializing a BertForSequenceClassification model from a BertForSequenceClassification model).\n",
            "Some weights of RobertaForQuestionAnswering were not initialized from the model checkpoint at roberta-base and are newly initialized: ['qa_outputs.bias', 'qa_outputs.weight']\n",
            "You should probably TRAIN this model on a down-stream task to be able to use it for predictions and inference.\n"
          ]
        }
      ]
    },
    {
      "cell_type": "code",
      "source": [
        "# # from transformers import AdamW\n",
        "\n",
        "# lr= 1e-5 \n",
        "# optimizer= torch.optim.AdamW(model.parameters(), lr=lr)"
      ],
      "metadata": {
        "id": "wzXtHdsPxehb"
      },
      "execution_count": 29,
      "outputs": []
    },
    {
      "cell_type": "code",
      "source": [
        "# lr= 1e-5 \n",
        "# optimizer= torch.optim.AdamW(model.parameters(), lr=lr)\n",
        "# model = model.to(device)\n",
        "# print(model)"
      ],
      "metadata": {
        "id": "rgW5fXDvf8g2"
      },
      "execution_count": 30,
      "outputs": []
    },
    {
      "cell_type": "code",
      "source": [
        "# model = freeze_layers(model,freeze_layers_count=3)\n",
        "model = RobertaForQuestionAnswering.from_pretrained('roberta-base')\n",
        "# model = freeze_layers(model,freeze_layers_count=3)\n",
        "lr= 1e-5 \n",
        "optimizer= torch.optim.AdamW(model.parameters(), lr=lr)\n",
        "# for param in model.base_model.parameters():\n",
        "#     param.requires_grad = False\n",
        "# model = model.to(device)\n",
        "# print(model)"
      ],
      "metadata": {
        "id": "7gwZ-SD_6GZE",
        "colab": {
          "base_uri": "https://localhost:8080/"
        },
        "outputId": "e44e37af-7882-4690-a1fc-b98641d83c56"
      },
      "execution_count": 31,
      "outputs": [
        {
          "output_type": "stream",
          "name": "stderr",
          "text": [
            "Some weights of the model checkpoint at roberta-base were not used when initializing RobertaForQuestionAnswering: ['lm_head.dense.bias', 'lm_head.layer_norm.weight', 'lm_head.bias', 'lm_head.layer_norm.bias', 'lm_head.decoder.weight', 'lm_head.dense.weight']\n",
            "- This IS expected if you are initializing RobertaForQuestionAnswering from the checkpoint of a model trained on another task or with another architecture (e.g. initializing a BertForSequenceClassification model from a BertForPreTraining model).\n",
            "- This IS NOT expected if you are initializing RobertaForQuestionAnswering from the checkpoint of a model that you expect to be exactly identical (initializing a BertForSequenceClassification model from a BertForSequenceClassification model).\n",
            "Some weights of RobertaForQuestionAnswering were not initialized from the model checkpoint at roberta-base and are newly initialized: ['qa_outputs.bias', 'qa_outputs.weight']\n",
            "You should probably TRAIN this model on a down-stream task to be able to use it for predictions and inference.\n"
          ]
        }
      ]
    },
    {
      "cell_type": "code",
      "source": [
        "model = model.to(device)"
      ],
      "metadata": {
        "id": "dufdv8Gu9GOz"
      },
      "execution_count": 32,
      "outputs": []
    },
    {
      "cell_type": "code",
      "source": [
        "from IPython.display import clear_output"
      ],
      "metadata": {
        "id": "-13QH91ExovG"
      },
      "execution_count": 33,
      "outputs": []
    },
    {
      "cell_type": "code",
      "source": [
        "# from torch import autograd\n",
        "print(model)"
      ],
      "metadata": {
        "id": "3WaTOuM_7JuA",
        "colab": {
          "base_uri": "https://localhost:8080/"
        },
        "outputId": "51f70c52-f864-47ad-fe70-b3e174c0e828"
      },
      "execution_count": 34,
      "outputs": [
        {
          "output_type": "stream",
          "name": "stdout",
          "text": [
            "RobertaForQuestionAnswering(\n",
            "  (roberta): RobertaModel(\n",
            "    (embeddings): RobertaEmbeddings(\n",
            "      (word_embeddings): Embedding(50265, 768, padding_idx=1)\n",
            "      (position_embeddings): Embedding(514, 768, padding_idx=1)\n",
            "      (token_type_embeddings): Embedding(1, 768)\n",
            "      (LayerNorm): LayerNorm((768,), eps=1e-05, elementwise_affine=True)\n",
            "      (dropout): Dropout(p=0.1, inplace=False)\n",
            "    )\n",
            "    (encoder): RobertaEncoder(\n",
            "      (layer): ModuleList(\n",
            "        (0): RobertaLayer(\n",
            "          (attention): RobertaAttention(\n",
            "            (self): RobertaSelfAttention(\n",
            "              (query): Linear(in_features=768, out_features=768, bias=True)\n",
            "              (key): Linear(in_features=768, out_features=768, bias=True)\n",
            "              (value): Linear(in_features=768, out_features=768, bias=True)\n",
            "              (dropout): Dropout(p=0.1, inplace=False)\n",
            "            )\n",
            "            (output): RobertaSelfOutput(\n",
            "              (dense): Linear(in_features=768, out_features=768, bias=True)\n",
            "              (LayerNorm): LayerNorm((768,), eps=1e-05, elementwise_affine=True)\n",
            "              (dropout): Dropout(p=0.1, inplace=False)\n",
            "            )\n",
            "          )\n",
            "          (intermediate): RobertaIntermediate(\n",
            "            (dense): Linear(in_features=768, out_features=3072, bias=True)\n",
            "            (intermediate_act_fn): GELUActivation()\n",
            "          )\n",
            "          (output): RobertaOutput(\n",
            "            (dense): Linear(in_features=3072, out_features=768, bias=True)\n",
            "            (LayerNorm): LayerNorm((768,), eps=1e-05, elementwise_affine=True)\n",
            "            (dropout): Dropout(p=0.1, inplace=False)\n",
            "          )\n",
            "        )\n",
            "        (1): RobertaLayer(\n",
            "          (attention): RobertaAttention(\n",
            "            (self): RobertaSelfAttention(\n",
            "              (query): Linear(in_features=768, out_features=768, bias=True)\n",
            "              (key): Linear(in_features=768, out_features=768, bias=True)\n",
            "              (value): Linear(in_features=768, out_features=768, bias=True)\n",
            "              (dropout): Dropout(p=0.1, inplace=False)\n",
            "            )\n",
            "            (output): RobertaSelfOutput(\n",
            "              (dense): Linear(in_features=768, out_features=768, bias=True)\n",
            "              (LayerNorm): LayerNorm((768,), eps=1e-05, elementwise_affine=True)\n",
            "              (dropout): Dropout(p=0.1, inplace=False)\n",
            "            )\n",
            "          )\n",
            "          (intermediate): RobertaIntermediate(\n",
            "            (dense): Linear(in_features=768, out_features=3072, bias=True)\n",
            "            (intermediate_act_fn): GELUActivation()\n",
            "          )\n",
            "          (output): RobertaOutput(\n",
            "            (dense): Linear(in_features=3072, out_features=768, bias=True)\n",
            "            (LayerNorm): LayerNorm((768,), eps=1e-05, elementwise_affine=True)\n",
            "            (dropout): Dropout(p=0.1, inplace=False)\n",
            "          )\n",
            "        )\n",
            "        (2): RobertaLayer(\n",
            "          (attention): RobertaAttention(\n",
            "            (self): RobertaSelfAttention(\n",
            "              (query): Linear(in_features=768, out_features=768, bias=True)\n",
            "              (key): Linear(in_features=768, out_features=768, bias=True)\n",
            "              (value): Linear(in_features=768, out_features=768, bias=True)\n",
            "              (dropout): Dropout(p=0.1, inplace=False)\n",
            "            )\n",
            "            (output): RobertaSelfOutput(\n",
            "              (dense): Linear(in_features=768, out_features=768, bias=True)\n",
            "              (LayerNorm): LayerNorm((768,), eps=1e-05, elementwise_affine=True)\n",
            "              (dropout): Dropout(p=0.1, inplace=False)\n",
            "            )\n",
            "          )\n",
            "          (intermediate): RobertaIntermediate(\n",
            "            (dense): Linear(in_features=768, out_features=3072, bias=True)\n",
            "            (intermediate_act_fn): GELUActivation()\n",
            "          )\n",
            "          (output): RobertaOutput(\n",
            "            (dense): Linear(in_features=3072, out_features=768, bias=True)\n",
            "            (LayerNorm): LayerNorm((768,), eps=1e-05, elementwise_affine=True)\n",
            "            (dropout): Dropout(p=0.1, inplace=False)\n",
            "          )\n",
            "        )\n",
            "        (3): RobertaLayer(\n",
            "          (attention): RobertaAttention(\n",
            "            (self): RobertaSelfAttention(\n",
            "              (query): Linear(in_features=768, out_features=768, bias=True)\n",
            "              (key): Linear(in_features=768, out_features=768, bias=True)\n",
            "              (value): Linear(in_features=768, out_features=768, bias=True)\n",
            "              (dropout): Dropout(p=0.1, inplace=False)\n",
            "            )\n",
            "            (output): RobertaSelfOutput(\n",
            "              (dense): Linear(in_features=768, out_features=768, bias=True)\n",
            "              (LayerNorm): LayerNorm((768,), eps=1e-05, elementwise_affine=True)\n",
            "              (dropout): Dropout(p=0.1, inplace=False)\n",
            "            )\n",
            "          )\n",
            "          (intermediate): RobertaIntermediate(\n",
            "            (dense): Linear(in_features=768, out_features=3072, bias=True)\n",
            "            (intermediate_act_fn): GELUActivation()\n",
            "          )\n",
            "          (output): RobertaOutput(\n",
            "            (dense): Linear(in_features=3072, out_features=768, bias=True)\n",
            "            (LayerNorm): LayerNorm((768,), eps=1e-05, elementwise_affine=True)\n",
            "            (dropout): Dropout(p=0.1, inplace=False)\n",
            "          )\n",
            "        )\n",
            "        (4): RobertaLayer(\n",
            "          (attention): RobertaAttention(\n",
            "            (self): RobertaSelfAttention(\n",
            "              (query): Linear(in_features=768, out_features=768, bias=True)\n",
            "              (key): Linear(in_features=768, out_features=768, bias=True)\n",
            "              (value): Linear(in_features=768, out_features=768, bias=True)\n",
            "              (dropout): Dropout(p=0.1, inplace=False)\n",
            "            )\n",
            "            (output): RobertaSelfOutput(\n",
            "              (dense): Linear(in_features=768, out_features=768, bias=True)\n",
            "              (LayerNorm): LayerNorm((768,), eps=1e-05, elementwise_affine=True)\n",
            "              (dropout): Dropout(p=0.1, inplace=False)\n",
            "            )\n",
            "          )\n",
            "          (intermediate): RobertaIntermediate(\n",
            "            (dense): Linear(in_features=768, out_features=3072, bias=True)\n",
            "            (intermediate_act_fn): GELUActivation()\n",
            "          )\n",
            "          (output): RobertaOutput(\n",
            "            (dense): Linear(in_features=3072, out_features=768, bias=True)\n",
            "            (LayerNorm): LayerNorm((768,), eps=1e-05, elementwise_affine=True)\n",
            "            (dropout): Dropout(p=0.1, inplace=False)\n",
            "          )\n",
            "        )\n",
            "        (5): RobertaLayer(\n",
            "          (attention): RobertaAttention(\n",
            "            (self): RobertaSelfAttention(\n",
            "              (query): Linear(in_features=768, out_features=768, bias=True)\n",
            "              (key): Linear(in_features=768, out_features=768, bias=True)\n",
            "              (value): Linear(in_features=768, out_features=768, bias=True)\n",
            "              (dropout): Dropout(p=0.1, inplace=False)\n",
            "            )\n",
            "            (output): RobertaSelfOutput(\n",
            "              (dense): Linear(in_features=768, out_features=768, bias=True)\n",
            "              (LayerNorm): LayerNorm((768,), eps=1e-05, elementwise_affine=True)\n",
            "              (dropout): Dropout(p=0.1, inplace=False)\n",
            "            )\n",
            "          )\n",
            "          (intermediate): RobertaIntermediate(\n",
            "            (dense): Linear(in_features=768, out_features=3072, bias=True)\n",
            "            (intermediate_act_fn): GELUActivation()\n",
            "          )\n",
            "          (output): RobertaOutput(\n",
            "            (dense): Linear(in_features=3072, out_features=768, bias=True)\n",
            "            (LayerNorm): LayerNorm((768,), eps=1e-05, elementwise_affine=True)\n",
            "            (dropout): Dropout(p=0.1, inplace=False)\n",
            "          )\n",
            "        )\n",
            "        (6): RobertaLayer(\n",
            "          (attention): RobertaAttention(\n",
            "            (self): RobertaSelfAttention(\n",
            "              (query): Linear(in_features=768, out_features=768, bias=True)\n",
            "              (key): Linear(in_features=768, out_features=768, bias=True)\n",
            "              (value): Linear(in_features=768, out_features=768, bias=True)\n",
            "              (dropout): Dropout(p=0.1, inplace=False)\n",
            "            )\n",
            "            (output): RobertaSelfOutput(\n",
            "              (dense): Linear(in_features=768, out_features=768, bias=True)\n",
            "              (LayerNorm): LayerNorm((768,), eps=1e-05, elementwise_affine=True)\n",
            "              (dropout): Dropout(p=0.1, inplace=False)\n",
            "            )\n",
            "          )\n",
            "          (intermediate): RobertaIntermediate(\n",
            "            (dense): Linear(in_features=768, out_features=3072, bias=True)\n",
            "            (intermediate_act_fn): GELUActivation()\n",
            "          )\n",
            "          (output): RobertaOutput(\n",
            "            (dense): Linear(in_features=3072, out_features=768, bias=True)\n",
            "            (LayerNorm): LayerNorm((768,), eps=1e-05, elementwise_affine=True)\n",
            "            (dropout): Dropout(p=0.1, inplace=False)\n",
            "          )\n",
            "        )\n",
            "        (7): RobertaLayer(\n",
            "          (attention): RobertaAttention(\n",
            "            (self): RobertaSelfAttention(\n",
            "              (query): Linear(in_features=768, out_features=768, bias=True)\n",
            "              (key): Linear(in_features=768, out_features=768, bias=True)\n",
            "              (value): Linear(in_features=768, out_features=768, bias=True)\n",
            "              (dropout): Dropout(p=0.1, inplace=False)\n",
            "            )\n",
            "            (output): RobertaSelfOutput(\n",
            "              (dense): Linear(in_features=768, out_features=768, bias=True)\n",
            "              (LayerNorm): LayerNorm((768,), eps=1e-05, elementwise_affine=True)\n",
            "              (dropout): Dropout(p=0.1, inplace=False)\n",
            "            )\n",
            "          )\n",
            "          (intermediate): RobertaIntermediate(\n",
            "            (dense): Linear(in_features=768, out_features=3072, bias=True)\n",
            "            (intermediate_act_fn): GELUActivation()\n",
            "          )\n",
            "          (output): RobertaOutput(\n",
            "            (dense): Linear(in_features=3072, out_features=768, bias=True)\n",
            "            (LayerNorm): LayerNorm((768,), eps=1e-05, elementwise_affine=True)\n",
            "            (dropout): Dropout(p=0.1, inplace=False)\n",
            "          )\n",
            "        )\n",
            "        (8): RobertaLayer(\n",
            "          (attention): RobertaAttention(\n",
            "            (self): RobertaSelfAttention(\n",
            "              (query): Linear(in_features=768, out_features=768, bias=True)\n",
            "              (key): Linear(in_features=768, out_features=768, bias=True)\n",
            "              (value): Linear(in_features=768, out_features=768, bias=True)\n",
            "              (dropout): Dropout(p=0.1, inplace=False)\n",
            "            )\n",
            "            (output): RobertaSelfOutput(\n",
            "              (dense): Linear(in_features=768, out_features=768, bias=True)\n",
            "              (LayerNorm): LayerNorm((768,), eps=1e-05, elementwise_affine=True)\n",
            "              (dropout): Dropout(p=0.1, inplace=False)\n",
            "            )\n",
            "          )\n",
            "          (intermediate): RobertaIntermediate(\n",
            "            (dense): Linear(in_features=768, out_features=3072, bias=True)\n",
            "            (intermediate_act_fn): GELUActivation()\n",
            "          )\n",
            "          (output): RobertaOutput(\n",
            "            (dense): Linear(in_features=3072, out_features=768, bias=True)\n",
            "            (LayerNorm): LayerNorm((768,), eps=1e-05, elementwise_affine=True)\n",
            "            (dropout): Dropout(p=0.1, inplace=False)\n",
            "          )\n",
            "        )\n",
            "        (9): RobertaLayer(\n",
            "          (attention): RobertaAttention(\n",
            "            (self): RobertaSelfAttention(\n",
            "              (query): Linear(in_features=768, out_features=768, bias=True)\n",
            "              (key): Linear(in_features=768, out_features=768, bias=True)\n",
            "              (value): Linear(in_features=768, out_features=768, bias=True)\n",
            "              (dropout): Dropout(p=0.1, inplace=False)\n",
            "            )\n",
            "            (output): RobertaSelfOutput(\n",
            "              (dense): Linear(in_features=768, out_features=768, bias=True)\n",
            "              (LayerNorm): LayerNorm((768,), eps=1e-05, elementwise_affine=True)\n",
            "              (dropout): Dropout(p=0.1, inplace=False)\n",
            "            )\n",
            "          )\n",
            "          (intermediate): RobertaIntermediate(\n",
            "            (dense): Linear(in_features=768, out_features=3072, bias=True)\n",
            "            (intermediate_act_fn): GELUActivation()\n",
            "          )\n",
            "          (output): RobertaOutput(\n",
            "            (dense): Linear(in_features=3072, out_features=768, bias=True)\n",
            "            (LayerNorm): LayerNorm((768,), eps=1e-05, elementwise_affine=True)\n",
            "            (dropout): Dropout(p=0.1, inplace=False)\n",
            "          )\n",
            "        )\n",
            "        (10): RobertaLayer(\n",
            "          (attention): RobertaAttention(\n",
            "            (self): RobertaSelfAttention(\n",
            "              (query): Linear(in_features=768, out_features=768, bias=True)\n",
            "              (key): Linear(in_features=768, out_features=768, bias=True)\n",
            "              (value): Linear(in_features=768, out_features=768, bias=True)\n",
            "              (dropout): Dropout(p=0.1, inplace=False)\n",
            "            )\n",
            "            (output): RobertaSelfOutput(\n",
            "              (dense): Linear(in_features=768, out_features=768, bias=True)\n",
            "              (LayerNorm): LayerNorm((768,), eps=1e-05, elementwise_affine=True)\n",
            "              (dropout): Dropout(p=0.1, inplace=False)\n",
            "            )\n",
            "          )\n",
            "          (intermediate): RobertaIntermediate(\n",
            "            (dense): Linear(in_features=768, out_features=3072, bias=True)\n",
            "            (intermediate_act_fn): GELUActivation()\n",
            "          )\n",
            "          (output): RobertaOutput(\n",
            "            (dense): Linear(in_features=3072, out_features=768, bias=True)\n",
            "            (LayerNorm): LayerNorm((768,), eps=1e-05, elementwise_affine=True)\n",
            "            (dropout): Dropout(p=0.1, inplace=False)\n",
            "          )\n",
            "        )\n",
            "        (11): RobertaLayer(\n",
            "          (attention): RobertaAttention(\n",
            "            (self): RobertaSelfAttention(\n",
            "              (query): Linear(in_features=768, out_features=768, bias=True)\n",
            "              (key): Linear(in_features=768, out_features=768, bias=True)\n",
            "              (value): Linear(in_features=768, out_features=768, bias=True)\n",
            "              (dropout): Dropout(p=0.1, inplace=False)\n",
            "            )\n",
            "            (output): RobertaSelfOutput(\n",
            "              (dense): Linear(in_features=768, out_features=768, bias=True)\n",
            "              (LayerNorm): LayerNorm((768,), eps=1e-05, elementwise_affine=True)\n",
            "              (dropout): Dropout(p=0.1, inplace=False)\n",
            "            )\n",
            "          )\n",
            "          (intermediate): RobertaIntermediate(\n",
            "            (dense): Linear(in_features=768, out_features=3072, bias=True)\n",
            "            (intermediate_act_fn): GELUActivation()\n",
            "          )\n",
            "          (output): RobertaOutput(\n",
            "            (dense): Linear(in_features=3072, out_features=768, bias=True)\n",
            "            (LayerNorm): LayerNorm((768,), eps=1e-05, elementwise_affine=True)\n",
            "            (dropout): Dropout(p=0.1, inplace=False)\n",
            "          )\n",
            "        )\n",
            "      )\n",
            "    )\n",
            "  )\n",
            "  (qa_outputs): Linear(in_features=768, out_features=2, bias=True)\n",
            ")\n"
          ]
        }
      ]
    },
    {
      "cell_type": "code",
      "source": [
        "# def train(model, train_dataloader):\n",
        "# best_train_loss = float('inf')\n",
        "train_accuracies = []\n",
        "losses = []\n",
        "# run loop 3 times\n",
        "for epoch in range(5):\n",
        "  # first, set the mode of the model to train\n",
        "  model.train()\n",
        "\n",
        "  # progress bar\n",
        "  loop = tqdm(train_dataloader, leave=True)\n",
        "\n",
        "  # loop over each batch \n",
        "  for batch in loop:\n",
        "    # zero out the optimizer\n",
        "    optimizer.zero_grad()\n",
        "    \n",
        "    # loss.requres_grad = True\n",
        "    # grab the batch attributes and attach them to the GPU device\n",
        "    input_ids, attention_mask, start_positions, end_positions = batch['input_ids'].to(device), batch['attention_mask'].to(device), batch['start_positions'].to(device), batch['end_positions'].to(device)\n",
        "    # print(input_ids)\n",
        "    # input_ids = torch.tensor(input_ids.type(torch.DoubleTensor), requires_grad=True)\n",
        "    # attention_mask = torch.tensor(attention_mask.type(torch.DoubleTensor), requires_grad=True)\n",
        "    # start_positions = torch.tensor(start_positions.type(torch.DoubleTensor), requires_grad=True)\n",
        "    # end_positions = torch.tensor(end_positions.type(torch.DoubleTensor), requires_grad=True)\n",
        "\n",
        "    input_ids = torch.tensor(input_ids)\n",
        "    attention_mask = torch.tensor(attention_mask)\n",
        "    start_positions = torch.tensor(start_positions)\n",
        "    end_positions = torch.tensor(end_positions)\n",
        "    # Feedforward!!!\n",
        "    # with autograd.set_grad_enabled(True):\n",
        "    # with autograd.set_grad_enabled(True):\n",
        "    outputs = model(input_ids, attention_mask, start_positions=start_positions, end_positions=end_positions)\n",
        "\n",
        "    # Compute the Loss\n",
        "    loss = outputs[0]\n",
        "    # loss = torch.sum(loss)\n",
        "    # loss.requres_grad = True\n",
        "    # BACKPROPAGATION!!!!\n",
        "    loss.backward()\n",
        "\n",
        "    # update parameters for the next run\n",
        "    optimizer.step()\n",
        "\n",
        "    losses.append(loss.item())\n",
        "\n",
        "    # get the prediction for the start and end token for answer\n",
        "    start_probs = outputs['start_logits']\n",
        "    end_probs = outputs['end_logits']\n",
        "    \n",
        "    start_pred = torch.argmax(start_probs, dim=1)\n",
        "    end_pred = torch.argmax(end_probs, dim=1)\n",
        "    \n",
        "    # append the accuracy\n",
        "    train_accuracies.append(((start_pred == start_positions).sum() / len(start_pred)).item())\n",
        "    train_accuracies.append(((end_pred == end_positions).sum() / len(end_pred)).item())\n",
        "    \n",
        "    avg_acc = sum(train_accuracies) / len(train_accuracies)\n",
        "    # if loss.item() < best_train_loss:\n",
        "    #   best_train_loss = loss.item()\n",
        "    #   torch.save(model.state_dict(), 'Roberta_QA.pt')\n",
        "\n",
        "    print(f'[{epoch + 1}] \\nloss_total: {loss.item():.2f},\\nTrain_accuracy: {avg_acc*100:.2f} %')\n",
        "    clear_output(wait=True) \n",
        "    # display some stuff here\n",
        "    loop.set_description(f'Epoch {epoch}')\n",
        "    loop.set_postfix(loss=loss.item())"
      ],
      "metadata": {
        "id": "PZC7CdEQ8G5G",
        "colab": {
          "base_uri": "https://localhost:8080/"
        },
        "outputId": "e9fdce3a-8bc6-451c-8da7-2f16482a0cf7"
      },
      "execution_count": 35,
      "outputs": [
        {
          "output_type": "stream",
          "name": "stderr",
          "text": [
            "Epoch 4: 100%|██████████| 202/202 [02:50<00:00,  1.19it/s, loss=0.000283]\n"
          ]
        }
      ]
    },
    {
      "cell_type": "code",
      "source": [
        "import pickle\n",
        "\n",
        "with open(\"train_loss\", \"wb\") as fp:   #Pickling\n",
        "  pickle.dump(losses, fp)\n",
        "\n",
        "with open(\"train_accuracy\", \"wb\") as fp:   #Pickling\n",
        "  pickle.dump(train_accuracies, fp)"
      ],
      "metadata": {
        "id": "0E5QChFc3Zh0"
      },
      "execution_count": 36,
      "outputs": []
    },
    {
      "cell_type": "code",
      "source": [
        "# write code here for 4.5\n",
        "import matplotlib.pyplot as plt\n",
        "fig = plt.figure(figsize=(15, 10))\n",
        "ax1 = fig.add_subplot(2, 1, 1)\n",
        "ax2 = fig.add_subplot(2, 1, 2)\n",
        "ax1.plot(losses, label = 'train loss')\n",
        "ax2.plot(train_accuracies, label = 'train acc')\n",
        "plt.legend()\n",
        "ax1.set_xlabel('epoches')\n",
        "ax1.set_ylabel('loss')\n",
        "ax2.set_xlabel('epoches')\n",
        "ax2.set_ylabel('acc')\n"
      ],
      "metadata": {
        "id": "_zIel9fy3oJX",
        "colab": {
          "base_uri": "https://localhost:8080/",
          "height": 624
        },
        "outputId": "98ad1270-a340-4382-ee16-2e4f924563fd"
      },
      "execution_count": 37,
      "outputs": [
        {
          "output_type": "execute_result",
          "data": {
            "text/plain": [
              "Text(0, 0.5, 'acc')"
            ]
          },
          "metadata": {},
          "execution_count": 37
        },
        {
          "output_type": "display_data",
          "data": {
            "text/plain": [
              "<Figure size 1080x720 with 2 Axes>"
            ],
            "image/png": "[encoded data removed]"
          },
          "metadata": {
            "needs_background": "light"
          }
        }
      ]
    },
    {
      "cell_type": "code",
      "source": [
        "\n",
        "# model.load_state_dict(torch.load('/content/drive/MyDrive/NLU/Roberta_QA.pt'))\n",
        "\n",
        "best_val_loss = float('inf')\n",
        "test_accuracies = []\n",
        "test_losses = []\n",
        "# run loop 3 times\n",
        "for epoch in range(5):\n",
        "  # first, set the mode of the model to train\n",
        "  # model.train()\n",
        "  model.eval()\n",
        "  # progress bar\n",
        "  loop = tqdm(val_dataloader, leave=True)\n",
        "  with torch.no_grad():\n",
        "    # loop over each batch \n",
        "    for batch in loop:\n",
        "      # zero out the optimizer\n",
        "      # optimizer.zero_grad()\n",
        "\n",
        "      # grab the batch attributes and attach them to the GPU device\n",
        "      input_ids, attention_mask, start_positions, end_positions = batch['input_ids'].to(device), batch['attention_mask'].to(device), batch['start_positions'].to(device), batch['end_positions'].to(device)\n",
        "\n",
        "      # Feedforward!!!\n",
        "      outputs = model(input_ids, attention_mask, start_positions=start_positions, end_positions=end_positions)\n",
        "\n",
        "      # Compute the Loss\n",
        "      loss = outputs[0]\n",
        "\n",
        "      # BACKPROPAGATION!!!!\n",
        "      # loss.backward()\n",
        "\n",
        "      # update parameters for the next run\n",
        "      # optimizer.step()\n",
        "\n",
        "      test_losses.append(loss.item())\n",
        "      \n",
        "      # get the prediction for the start and end token for answer\n",
        "      start_probs = outputs['start_logits']\n",
        "      end_probs = outputs['end_logits']\n",
        "      \n",
        "      start_pred = torch.argmax(start_probs, dim=1)\n",
        "      end_pred = torch.argmax(end_probs, dim=1)\n",
        "      \n",
        "      # append the accuracy\n",
        "      test_accuracies.append(((start_pred == start_positions).sum() / len(start_pred)).item())\n",
        "      test_accuracies.append(((end_pred == end_positions).sum() / len(end_pred)).item())\n",
        "      \n",
        "      avg_acc = sum(test_accuracies) / len(test_accuracies)\n",
        "\n",
        "      if loss.item() < best_val_loss:\n",
        "        best_val_loss = loss.item()\n",
        "        torch.save(model.state_dict(), 'Roberta_QA.pt')\n",
        "\n",
        "      print(f'[{epoch + 1}] \\nloss_total: {loss.item():.2f},\\nTrain_accuracy: {avg_acc*100:.2f} %')\n",
        "      clear_output(wait=True) \n",
        "      # display some stuff here\n",
        "      loop.set_description(f'Epoch {epoch}')\n",
        "      loop.set_postfix(loss=loss.item())"
      ],
      "metadata": {
        "id": "GxKaGVxl42hT",
        "colab": {
          "base_uri": "https://localhost:8080/"
        },
        "outputId": "4a5b2c49-4057-4293-bd07-747582615acc"
      },
      "execution_count": 38,
      "outputs": [
        {
          "output_type": "stream",
          "name": "stderr",
          "text": [
            "Epoch 4: 100%|██████████| 51/51 [00:15<00:00,  3.23it/s, loss=0.000135]\n"
          ]
        }
      ]
    },
    {
      "cell_type": "code",
      "source": [
        "test_accuracies[-1]"
      ],
      "metadata": {
        "id": "_YBXTmS94pl4",
        "colab": {
          "base_uri": "https://localhost:8080/"
        },
        "outputId": "521c7db9-8491-4782-b64e-4f98b07404cd"
      },
      "execution_count": 39,
      "outputs": [
        {
          "output_type": "execute_result",
          "data": {
            "text/plain": [
              "0.0"
            ]
          },
          "metadata": {},
          "execution_count": 39
        }
      ]
    },
    {
      "cell_type": "code",
      "source": [
        "import pickle\n",
        "\n",
        "with open(\"train_loss\", \"wb\") as fp:   #Pickling\n",
        "  pickle.dump(test_losses, fp)\n",
        "\n",
        "with open(\"train_accuracy\", \"wb\") as fp:   #Pickling\n",
        "  pickle.dump(test_accuracies, fp)"
      ],
      "metadata": {
        "id": "CNuhwluN5bRG"
      },
      "execution_count": 40,
      "outputs": []
    },
    {
      "cell_type": "code",
      "source": [
        "len(test_accuracies)"
      ],
      "metadata": {
        "id": "ASsEfsEKSv1b",
        "colab": {
          "base_uri": "https://localhost:8080/"
        },
        "outputId": "563d2297-0ff9-4f2f-82c8-f865f6e8fb15"
      },
      "execution_count": 41,
      "outputs": [
        {
          "output_type": "execute_result",
          "data": {
            "text/plain": [
              "510"
            ]
          },
          "metadata": {},
          "execution_count": 41
        }
      ]
    },
    {
      "cell_type": "code",
      "source": [
        "# write code here for 4.5\n",
        "import matplotlib.pyplot as plt\n",
        "fig = plt.figure(figsize=(15, 10))\n",
        "ax1 = fig.add_subplot(2, 1, 1)\n",
        "ax2 = fig.add_subplot(2, 1, 2)\n",
        "ax1.plot(test_losses, label = 'train loss')\n",
        "ax2.plot(test_accuracies, label = 'train acc')\n",
        "plt.legend()\n",
        "ax1.set_xlabel('epoches')\n",
        "ax1.set_ylabel('loss')\n",
        "ax2.set_xlabel('epoches')\n",
        "ax2.set_ylabel('acc')\n"
      ],
      "metadata": {
        "id": "kOky0Cbs6H_S",
        "colab": {
          "base_uri": "https://localhost:8080/",
          "height": 628
        },
        "outputId": "8f92149b-a16a-42eb-aca4-53cf92101179"
      },
      "execution_count": 42,
      "outputs": [
        {
          "output_type": "execute_result",
          "data": {
            "text/plain": [
              "Text(0, 0.5, 'acc')"
            ]
          },
          "metadata": {},
          "execution_count": 42
        },
        {
          "output_type": "display_data",
          "data": {
            "text/plain": [
              "<Figure size 1080x720 with 2 Axes>"
            ],
            "image/png": "[encoded data removed]"
          },
          "metadata": {
            "needs_background": "light"
          }
        }
      ]
    },
    {
      "cell_type": "code",
      "source": [
        "val_questions[0]"
      ],
      "metadata": {
        "id": "JJV42yO78uFg",
        "colab": {
          "base_uri": "https://localhost:8080/",
          "height": 36
        },
        "outputId": "bd1f2ca4-a8e0-43b3-8dd2-6f2aef6f952b"
      },
      "execution_count": 43,
      "outputs": [
        {
          "output_type": "execute_result",
          "data": {
            "text/plain": [
              "'What are other  effects?'"
            ],
            "application/vnd.google.colaboratory.intrinsic+json": {
              "type": "string"
            }
          },
          "metadata": {},
          "execution_count": 43
        }
      ]
    },
    {
      "cell_type": "code",
      "source": [
        "val_contexts[0]"
      ],
      "metadata": {
        "id": "h8EFUTMP8z4F",
        "colab": {
          "base_uri": "https://localhost:8080/",
          "height": 108
        },
        "outputId": "5b41b16a-0421-4d15-8b8b-749d411784a3"
      },
      "execution_count": 44,
      "outputs": [
        {
          "output_type": "execute_result",
          "data": {
            "text/plain": [
              "'Respiratory Viral Infections in Exacerbation of Chronic Airway Inflammatory Diseases: Novel Mechanisms and Insights From the Upper Airway Epithelium\\n\\nhttps://www.ncbi.nlm.nih.gov/pmc/articles/PMC7052386/\\n\\nSHA: 45a566c71056ba4faab425b4f7e9edee6320e4a4\\n\\nAuthors: Tan, Kai Sen; Lim, Rachel Liyu; Liu, Jing; Ong, Hsiao Hui; Tan, Vivian Jiayi; Lim, Hui Fang; Chung, Kian Fan; Adcock, Ian M.; Chow, Vincent T.; Wang, De Yun\\nDate: 2020-02-25\\nDOI: 10.3389/fcell.2020.00099\\nLicense: cc-by\\n\\nAbstract: Respiratory virus infection is one of the major sources of exacerbation of chronic airway inflammatory diseases. These exacerbations are associated with high morbidity and even mortality worldwide. The current understanding on viral-induced exacerbations is that viral infection increases airway inflammation which aggravates disease symptoms. Recent advances in in vitro air-liquid interface 3D cultures, organoid cultures and the use of novel human and animal challenge models have evoked new understandings as to the mechanisms of viral exacerbations. In this review, we will focus on recent novel findings that elucidate how respiratory viral infections alter the epithelial barrier in the airways, the upper airway microbial environment, epigenetic modifications including miRNA modulation, and other changes in immune responses throughout the upper and lower airways. First, we reviewed the prevalence of different respiratory viral infections in causing exacerbations in chronic airway inflammatory diseases. Subsequently we also summarized how recent models have expanded our appreciation of the mechanisms of viral-induced exacerbations. Further we highlighted the importance of the virome within the airway microbiome environment and its impact on subsequent bacterial infection. This review consolidates the understanding of viral induced exacerbation in chronic airway inflammatory diseases and indicates pathways that may be targeted for more effective management of chronic inflammatory diseases.\\n\\nText: The prevalence of chronic airway inflammatory disease is increasing worldwide especially in developed nations (GBD 2015 Chronic Respiratory Disease Collaborators, 2017 Guan et al., 2018) . This disease is characterized by airway inflammation leading to complications such as coughing, wheezing and shortness of breath. The disease can manifest in both the upper airway (such as chronic rhinosinusitis, CRS) and lower airway (such as asthma and chronic obstructive pulmonary disease, COPD) which greatly affect the patients\\' quality of life (Calus et al., 2012; Bao et al., 2015) . Treatment and management vary greatly in efficacy due to the complexity and heterogeneity of the disease. This is further complicated by the effect of episodic exacerbations of the disease, defined as worsening of disease symptoms including wheeze, cough, breathlessness and chest tightness (Xepapadaki and Papadopoulos, 2010) . Such exacerbations are due to the effect of enhanced acute airway inflammation impacting upon and worsening the symptoms of the existing disease (Hashimoto et al., 2008; Viniol and Vogelmeier, 2018) . These acute exacerbations are the main cause of morbidity and sometimes mortality in patients, as well as resulting in major economic burdens worldwide. However, due to the complex interactions between the host and the exacerbation agents, the mechanisms of exacerbation may vary considerably in different individuals under various triggers. Acute exacerbations are usually due to the presence of environmental factors such as allergens, pollutants, smoke, cold or dry air and pathogenic microbes in the airway (Gautier and Charpin, 2017; Viniol and Vogelmeier, 2018) . These agents elicit an immune response leading to infiltration of activated immune cells that further release inflammatory mediators that cause acute symptoms such as increased mucus production, cough, wheeze and shortness of breath. Among these agents, viral infection is one of the major drivers of asthma exacerbations accounting for up to 80-90% and 45-80% of exacerbations in children and adults respectively (Grissell et al., 2005; Xepapadaki and Papadopoulos, 2010; Jartti and Gern, 2017; Adeli et al., 2019) . Viral involvement in COPD exacerbation is also equally high, having been detected in 30-80% of acute COPD exacerbations (Kherad et al., 2010; Jafarinejad et al., 2017; Stolz et al., 2019) . Whilst the prevalence of viral exacerbations in CRS is still unclear, its prevalence is likely to be high due to the similar inflammatory nature of these diseases (Rowan et al., 2015; Tan et al., 2017) . One of the reasons for the involvement of respiratory viruses\\' in exacerbations is their ease of transmission and infection (Kutter et al., 2018) . In addition, the high diversity of the respiratory viruses may also contribute to exacerbations of different nature and severity (Busse et al., 2010; Costa et al., 2014; Jartti and Gern, 2017) . Hence, it is important to identify the exact mechanisms underpinning viral exacerbations in susceptible subjects in order to properly manage exacerbations via supplementary treatments that may alleviate the exacerbation symptoms or prevent severe exacerbations.\\n\\nWhile the lower airway is the site of dysregulated inflammation in most chronic airway inflammatory diseases, the upper airway remains the first point of contact with sources of exacerbation. Therefore, their interaction with the exacerbation agents may directly contribute to the subsequent responses in the lower airway, in line with the \"United Airway\" hypothesis. To elucidate the host airway interaction with viruses leading to exacerbations, we thus focus our review on recent findings of viral interaction with the upper airway. We compiled how viral induced changes to the upper airway may contribute to chronic airway inflammatory disease exacerbations, to provide a unified elucidation of the potential exacerbation mechanisms initiated from predominantly upper airway infections.\\n\\nDespite being a major cause of exacerbation, reports linking respiratory viruses to acute exacerbations only start to emerge in the late 1950s (Pattemore et al., 1992) ; with bacterial infections previously considered as the likely culprit for acute exacerbation (Stevens, 1953; Message and Johnston, 2002) . However, with the advent of PCR technology, more viruses were recovered during acute exacerbations events and reports implicating their role emerged in the late 1980s (Message and Johnston, 2002) . Rhinovirus (RV) and respiratory syncytial virus (RSV) are the predominant viruses linked to the development and exacerbation of chronic airway inflammatory diseases (Jartti and Gern, 2017) . Other viruses such as parainfluenza virus (PIV), influenza virus (IFV) and adenovirus (AdV) have also been implicated in acute exacerbations but to a much lesser extent (Johnston et al., 2005; Oliver et al., 2014; Ko et al., 2019) . More recently, other viruses including bocavirus (BoV), human metapneumovirus (HMPV), certain coronavirus (CoV) strains, a specific enterovirus (EV) strain EV-D68, human cytomegalovirus (hCMV) and herpes simplex virus (HSV) have been reported as contributing to acute exacerbations . The common feature these viruses share is that they can infect both the upper and/or lower airway, further increasing the inflammatory conditions in the diseased airway (Mallia and Johnston, 2006; Britto et al., 2017) .\\n\\nRespiratory viruses primarily infect and replicate within airway epithelial cells . During the replication process, the cells release antiviral factors and cytokines that alter local airway inflammation and airway niche (Busse et al., 2010) . In a healthy airway, the inflammation normally leads to type 1 inflammatory responses consisting of activation of an antiviral state and infiltration of antiviral effector cells. This eventually results in the resolution of the inflammatory response and clearance of the viral infection (Vareille et al., 2011; Braciale et al., 2012) . However, in a chronically inflamed airway, the responses against the virus may be impaired or aberrant, causing sustained inflammation and erroneous infiltration, resulting in the exacerbation of their symptoms (Mallia and Johnston, 2006; Dougherty and Fahy, 2009; Busse et al., 2010; Britto et al., 2017; Linden et al., 2019) . This is usually further compounded by the increased susceptibility of chronic airway inflammatory disease patients toward viral respiratory infections, thereby increasing the frequency of exacerbation as a whole (Dougherty and Fahy, 2009; Busse et al., 2010; Linden et al., 2019) . Furthermore, due to the different replication cycles and response against the myriad of respiratory viruses, each respiratory virus may also contribute to exacerbations via different mechanisms that may alter their severity. Hence, this review will focus on compiling and collating the current known mechanisms of viral-induced exacerbation of chronic airway inflammatory diseases; as well as linking the different viral infection pathogenesis to elucidate other potential ways the infection can exacerbate the disease. The review will serve to provide further understanding of viral induced exacerbation to identify potential pathways and pathogenesis mechanisms that may be targeted as supplementary care for management and prevention of exacerbation. Such an approach may be clinically significant due to the current scarcity of antiviral drugs for the management of viral-induced exacerbations. This will improve the quality of life of patients with chronic airway inflammatory diseases.\\n\\nOnce the link between viral infection and acute exacerbations of chronic airway inflammatory disease was established, there have been many reports on the mechanisms underlying the exacerbation induced by respiratory viral infection. Upon infecting the host, viruses evoke an inflammatory response as a means of counteracting the infection. Generally, infected airway epithelial cells release type I (IFNα/β) and type III (IFNλ) interferons, cytokines and chemokines such as IL-6, IL-8, IL-12, RANTES, macrophage inflammatory protein 1α (MIP-1α) and monocyte chemotactic protein 1 (MCP-1) (Wark and Gibson, 2006; Matsukura et al., 2013) . These, in turn, enable infiltration of innate immune cells and of professional antigen presenting cells (APCs) that will then in turn release specific mediators to facilitate viral targeting and clearance, including type II interferon (IFNγ), IL-2, IL-4, IL-5, IL-9, and IL-12 (Wark and Gibson, 2006; Singh et al., 2010; Braciale et al., 2012) . These factors heighten local inflammation and the infiltration of granulocytes, T-cells and B-cells (Wark and Gibson, 2006; Braciale et al., 2012) . The increased inflammation, in turn, worsens the symptoms of airway diseases.\\n\\nAdditionally, in patients with asthma and patients with CRS with nasal polyp (CRSwNP), viral infections such as RV and RSV promote a Type 2-biased immune response (Becker, 2006; Jackson et al., 2014; Jurak et al., 2018) . This amplifies the basal type 2 inflammation resulting in a greater release of IL-4, IL-5, IL-13, RANTES and eotaxin and a further increase in eosinophilia, a key pathological driver of asthma and CRSwNP (Wark and Gibson, 2006; Singh et al., 2010; Chung et al., 2015; Dunican and Fahy, 2015) . Increased eosinophilia, in turn, worsens the classical symptoms of disease and may further lead to life-threatening conditions due to breathing difficulties. On the other hand, patients with COPD and patients with CRS without nasal polyp (CRSsNP) are more neutrophilic in nature due to the expression of neutrophil chemoattractants such as CXCL9, CXCL10, and CXCL11 (Cukic et al., 2012; Brightling and Greening, 2019) . The pathology of these airway diseases is characterized by airway remodeling due to the presence of remodeling factors such as matrix metalloproteinases (MMPs) released from infiltrating neutrophils (Linden et al., 2019) . Viral infections in such conditions will then cause increase neutrophilic activation; worsening the symptoms and airway remodeling in the airway thereby exacerbating COPD, CRSsNP and even CRSwNP in certain cases (Wang et al., 2009; Tacon et al., 2010; Linden et al., 2019) .\\n\\nAn epithelial-centric alarmin pathway around IL-25, IL-33 and thymic stromal lymphopoietin (TSLP), and their interaction with group 2 innate lymphoid cells (ILC2) has also recently been identified (Nagarkar et al., 2012; Hong et al., 2018; Allinne et al., 2019) . IL-25, IL-33 and TSLP are type 2 inflammatory cytokines expressed by the epithelial cells upon injury to the epithelial barrier (Gabryelska et al., 2019; Roan et al., 2019) . ILC2s are a group of lymphoid cells lacking both B and T cell receptors but play a crucial role in secreting type 2 cytokines to perpetuate type 2 inflammation when activated (Scanlon and McKenzie, 2012; Li and Hendriks, 2013) . In the event of viral infection, cell death and injury to the epithelial barrier will also induce the expression of IL-25, IL-33 and TSLP, with heighten expression in an inflamed airway (Allakhverdi et al., 2007; Goldsmith et al., 2012; Byers et al., 2013; Shaw et al., 2013; Beale et al., 2014; Jackson et al., 2014; Uller and Persson, 2018; Ravanetti et al., 2019) . These 3 cytokines then work in concert to activate ILC2s to further secrete type 2 cytokines IL-4, IL-5, and IL-13 which further aggravate the type 2 inflammation in the airway causing acute exacerbation (Camelo et al., 2017) . In the case of COPD, increased ILC2 activation, which retain the capability of differentiating to ILC1, may also further augment the neutrophilic response and further aggravate the exacerbation (Silver et al., 2016) . Interestingly, these factors are not released to any great extent and do not activate an ILC2 response during viral infection in healthy individuals (Yan et al., 2016; Tan et al., 2018a) ; despite augmenting a type 2 exacerbation in chronically inflamed airways (Jurak et al., 2018) . These classical mechanisms of viral induced acute exacerbations are summarized in Figure 1 .\\n\\nAs integration of the virology, microbiology and immunology of viral infection becomes more interlinked, additional factors and FIGURE 1 | Current understanding of viral induced exacerbation of chronic airway inflammatory diseases. Upon virus infection in the airway, antiviral state will be activated to clear the invading pathogen from the airway. Immune response and injury factors released from the infected epithelium normally would induce a rapid type 1 immunity that facilitates viral clearance. However, in the inflamed airway, the cytokines and chemokines released instead augmented the inflammation present in the chronically inflamed airway, strengthening the neutrophilic infiltration in COPD airway, and eosinophilic infiltration in the asthmatic airway. The effect is also further compounded by the participation of Th1 and ILC1 cells in the COPD airway; and Th2 and ILC2 cells in the asthmatic airway.\\n\\nFrontiers in Cell and Developmental Biology | www.frontiersin.org mechanisms have been implicated in acute exacerbations during and after viral infection (Murray et al., 2006) . Murray et al. (2006) has underlined the synergistic effect of viral infection with other sensitizing agents in causing more severe acute exacerbations in the airway. This is especially true when not all exacerbation events occurred during the viral infection but may also occur well after viral clearance (Kim et al., 2008; Stolz et al., 2019) in particular the late onset of a bacterial infection (Singanayagam et al., 2018 (Singanayagam et al., , 2019a . In addition, viruses do not need to directly infect the lower airway to cause an acute exacerbation, as the nasal epithelium remains the primary site of most infections. Moreover, not all viral infections of the airway will lead to acute exacerbations, suggesting a more complex interplay between the virus and upper airway epithelium which synergize with the local airway environment in line with the \"united airway\" hypothesis (Kurai et al., 2013) . On the other hand, viral infections or their components persist in patients with chronic airway inflammatory disease (Kling et al., 2005; Wood et al., 2011; Ravi et al., 2019) . Hence, their presence may further alter the local environment and contribute to current and future exacerbations. Future studies should be performed using metagenomics in addition to PCR analysis to determine the contribution of the microbiome and mycobiome to viral infections. In this review, we highlight recent data regarding viral interactions with the airway epithelium that could also contribute to, or further aggravate, acute exacerbations of chronic airway inflammatory diseases.\\n\\nPatients with chronic airway inflammatory diseases have impaired or reduced ability of viral clearance (Hammond et al., 2015; McKendry et al., 2016; Akbarshahi et al., 2018; Gill et al., 2018; Wang et al., 2018; Singanayagam et al., 2019b) . Their impairment stems from a type 2-skewed inflammatory response which deprives the airway of important type 1 responsive CD8 cells that are responsible for the complete clearance of virusinfected cells (Becker, 2006; McKendry et al., 2016) . This is especially evident in weak type 1 inflammation-inducing viruses such as RV and RSV (Kling et al., 2005; Wood et al., 2011; Ravi et al., 2019) . Additionally, there are also evidence of reduced type I (IFNβ) and III (IFNλ) interferon production due to type 2-skewed inflammation, which contributes to imperfect clearance of the virus resulting in persistence of viral components, or the live virus in the airway epithelium (Contoli et al., 2006; Hwang et al., 2019; Wark, 2019) . Due to the viral components remaining in the airway, antiviral genes such as type I interferons, inflammasome activating factors and cytokines remained activated resulting in prolong airway inflammation (Wood et al., 2011; Essaidi-Laziosi et al., 2018) . These factors enhance granulocyte infiltration thus prolonging the exacerbation symptoms. Such persistent inflammation may also be found within DNA viruses such as AdV, hCMV and HSV, whose infections generally persist longer (Imperiale and Jiang, 2015) , further contributing to chronic activation of inflammation when they infect the airway (Yang et al., 2008; Morimoto et al., 2009; Imperiale and Jiang, 2015; Lan et al., 2016; Tan et al., 2016; Kowalski et al., 2017) . With that note, human papilloma virus (HPV), a DNA virus highly associated with head and neck cancers and respiratory papillomatosis, is also linked with the chronic inflammation that precedes the malignancies (de Visser et al., 2005; Gillison et al., 2012; Bonomi et al., 2014; Fernandes et al., 2015) . Therefore, the role of HPV infection in causing chronic inflammation in the airway and their association to exacerbations of chronic airway inflammatory diseases, which is scarcely explored, should be investigated in the future. Furthermore, viral persistence which lead to continuous expression of antiviral genes may also lead to the development of steroid resistance, which is seen with RV, RSV, and PIV infection (Chi et al., 2011; Ford et al., 2013; Papi et al., 2013) . The use of steroid to suppress the inflammation may also cause the virus to linger longer in the airway due to the lack of antiviral clearance (Kim et al., 2008; Hammond et al., 2015; Hewitt et al., 2016; McKendry et al., 2016; Singanayagam et al., 2019b) . The concomitant development of steroid resistance together with recurring or prolong viral infection thus added considerable burden to the management of acute exacerbation, which should be the future focus of research to resolve the dual complications arising from viral infection.\\n\\nOn the other end of the spectrum, viruses that induce strong type 1 inflammation and cell death such as IFV (Yan et al., 2016; Guibas et al., 2018) and certain CoV (including the recently emerged COVID-19 virus) (Tao et al., 2013; Yue et al., 2018; Zhu et al., 2020) , may not cause prolonged inflammation due to strong induction of antiviral clearance. These infections, however, cause massive damage and cell death to the epithelial barrier, so much so that areas of the epithelium may be completely absent post infection (Yan et al., 2016; Tan et al., 2019) . Factors such as RANTES and CXCL10, which recruit immune cells to induce apoptosis, are strongly induced from IFV infected epithelium (Ampomah et al., 2018; Tan et al., 2019) . Additionally, necroptotic factors such as RIP3 further compounds the cell deaths in IFV infected epithelium . The massive cell death induced may result in worsening of the acute exacerbation due to the release of their cellular content into the airway, further evoking an inflammatory response in the airway (Guibas et al., 2018) . Moreover, the destruction of the epithelial barrier may cause further contact with other pathogens and allergens in the airway which may then prolong exacerbations or results in new exacerbations. Epithelial destruction may also promote further epithelial remodeling during its regeneration as viral infection induces the expression of remodeling genes such as MMPs and growth factors . Infections that cause massive destruction of the epithelium, such as IFV, usually result in severe acute exacerbations with non-classical symptoms of chronic airway inflammatory diseases. Fortunately, annual vaccines are available to prevent IFV infections (Vasileiou et al., 2017; Zheng et al., 2018) ; and it is recommended that patients with chronic airway inflammatory disease receive their annual influenza vaccination as the best means to prevent severe IFV induced exacerbation.\\n\\nAnother mechanism that viral infections may use to drive acute exacerbations is the induction of vasodilation or tight junction opening factors which may increase the rate of infiltration. Infection with a multitude of respiratory viruses causes disruption of tight junctions with the resulting increased rate of viral infiltration. This also increases the chances of allergens coming into contact with airway immune cells. For example, IFV infection was found to induce oncostatin M (OSM) which causes tight junction opening (Pothoven et al., 2015; Tian et al., 2018) . Similarly, RV and RSV infections usually cause tight junction opening which may also increase the infiltration rate of eosinophils and thus worsening of the classical symptoms of chronic airway inflammatory diseases (Sajjan et al., 2008; Kast et al., 2017; Kim et al., 2018) . In addition, the expression of vasodilating factors and fluid homeostatic factors such as angiopoietin-like 4 (ANGPTL4) and bactericidal/permeabilityincreasing fold-containing family member A1 (BPIFA1) are also associated with viral infections and pneumonia development, which may worsen inflammation in the lower airway Akram et al., 2018) . These factors may serve as targets to prevent viral-induced exacerbations during the management of acute exacerbation of chronic airway inflammatory diseases.\\n\\nAnother recent area of interest is the relationship between asthma and COPD exacerbations and their association with the airway microbiome. The development of chronic airway inflammatory diseases is usually linked to specific bacterial species in the microbiome which may thrive in the inflamed airway environment (Diver et al., 2019) . In the event of a viral infection such as RV infection, the effect induced by the virus may destabilize the equilibrium of the microbiome present (Molyneaux et al., 2013; Kloepfer et al., 2014; Kloepfer et al., 2017; Jubinville et al., 2018; van Rijn et al., 2019) . In addition, viral infection may disrupt biofilm colonies in the upper airway (e.g., Streptococcus pneumoniae) microbiome to be release into the lower airway and worsening the inflammation (Marks et al., 2013; Chao et al., 2014) . Moreover, a viral infection may also alter the nutrient profile in the airway through release of previously inaccessible nutrients that will alter bacterial growth (Siegel et al., 2014; Mallia et al., 2018) . Furthermore, the destabilization is further compounded by impaired bacterial immune response, either from direct viral influences, or use of corticosteroids to suppress the exacerbation symptoms (Singanayagam et al., 2018 (Singanayagam et al., , 2019a Wang et al., 2018; Finney et al., 2019) . All these may gradually lead to more far reaching effect when normal flora is replaced with opportunistic pathogens, altering the inflammatory profiles (Teo et al., 2018) . These changes may in turn result in more severe and frequent acute exacerbations due to the interplay between virus and pathogenic bacteria in exacerbating chronic airway inflammatory diseases (Wark et al., 2013; Singanayagam et al., 2018) . To counteract these effects, microbiome-based therapies are in their infancy but have shown efficacy in the treatments of irritable bowel syndrome by restoring the intestinal microbiome (Bakken et al., 2011) . Further research can be done similarly for the airway microbiome to be able to restore the microbiome following disruption by a viral infection.\\n\\nViral infections can cause the disruption of mucociliary function, an important component of the epithelial barrier. Ciliary proteins FIGURE 2 | Changes in the upper airway epithelium contributing to viral exacerbation in chronic airway inflammatory diseases. The upper airway epithelium is the primary contact/infection site of most respiratory viruses. Therefore, its infection by respiratory viruses may have far reaching consequences in augmenting and synergizing current and future acute exacerbations. The destruction of epithelial barrier, mucociliary function and cell death of the epithelial cells serves to increase contact between environmental triggers with the lower airway and resident immune cells. The opening of tight junction increasing the leakiness further augments the inflammation and exacerbations. In addition, viral infections are usually accompanied with oxidative stress which will further increase the local inflammation in the airway. The dysregulation of inflammation can be further compounded by modulation of miRNAs and epigenetic modification such as DNA methylation and histone modifications that promote dysregulation in inflammation. Finally, the change in the local airway environment and inflammation promotes growth of pathogenic bacteria that may replace the airway microbiome. Furthermore, the inflammatory environment may also disperse upper airway commensals into the lower airway, further causing inflammation and alteration of the lower airway environment, resulting in prolong exacerbation episodes following viral infection. \\n\\nViral specific trait contributing to exacerbation mechanism (with literature evidence) Oxidative stress ROS production (RV, RSV, IFV, HSV)\\n\\nAs RV, RSV, and IFV were the most frequently studied viruses in chronic airway inflammatory diseases, most of the viruses listed are predominantly these viruses. However, the mechanisms stated here may also be applicable to other viruses but may not be listed as they were not implicated in the context of chronic airway inflammatory diseases exacerbation (see text for abbreviations).\\n\\nthat aid in the proper function of the motile cilia in the airways are aberrantly expressed in ciliated airway epithelial cells which are the major target for RV infection (Griggs et al., 2017) . Such form of secondary cilia dyskinesia appears to be present with chronic inflammations in the airway, but the exact mechanisms are still unknown (Peng et al., , 2019 Qiu et al., 2018) . Nevertheless, it was found that in viral infection such as IFV, there can be a change in the metabolism of the cells as well as alteration in the ciliary gene expression, mostly in the form of down-regulation of the genes such as dynein axonemal heavy chain 5 (DNAH5) and multiciliate differentiation And DNA synthesis associated cell cycle protein (MCIDAS) (Tan et al., 2018b . The recently emerged Wuhan CoV was also found to reduce ciliary beating in infected airway epithelial cell model (Zhu et al., 2020) . Furthermore, viral infections such as RSV was shown to directly destroy the cilia of the ciliated cells and almost all respiratory viruses infect the ciliated cells (Jumat et al., 2015; Yan et al., 2016; Tan et al., 2018a) . In addition, mucus overproduction may also disrupt the equilibrium of the mucociliary function following viral infection, resulting in symptoms of acute exacerbation (Zhu et al., 2009) . Hence, the disruption of the ciliary movement during viral infection may cause more foreign material and allergen to enter the airway, aggravating the symptoms of acute exacerbation and making it more difficult to manage. The mechanism of the occurrence of secondary cilia dyskinesia can also therefore be explored as a means to limit the effects of viral induced acute exacerbation.\\n\\nMicroRNAs (miRNAs) are short non-coding RNAs involved in post-transcriptional modulation of biological processes, and implicated in a number of diseases (Tan et al., 2014) . miRNAs are found to be induced by viral infections and may play a role in the modulation of antiviral responses and inflammation (Gutierrez et al., 2016; Deng et al., 2017; Feng et al., 2018) . In the case of chronic airway inflammatory diseases, circulating miRNA changes were found to be linked to exacerbation of the diseases (Wardzynska et al., 2020) . Therefore, it is likely that such miRNA changes originated from the infected epithelium and responding immune cells, which may serve to further dysregulate airway inflammation leading to exacerbations. Both IFV and RSV infections has been shown to increase miR-21 and augmented inflammation in experimental murine asthma models, which is reversed with a combination treatment of anti-miR-21 and corticosteroids (Kim et al., 2017) . IFV infection is also shown to increase miR-125a and b, and miR-132 in COPD epithelium which inhibits A20 and MAVS; and p300 and IRF3, respectively, resulting in increased susceptibility to viral infections (Hsu et al., 2016 (Hsu et al., , 2017 . Conversely, miR-22 was shown to be suppressed in asthmatic epithelium in IFV infection which lead to aberrant epithelial response, contributing to exacerbations (Moheimani et al., 2018) . Other than these direct evidence of miRNA changes in contributing to exacerbations, an increased number of miRNAs and other non-coding RNAs responsible for immune modulation are found to be altered following viral infections (Globinska et al., 2014; Feng et al., 2018; Hasegawa et al., 2018) . Hence non-coding RNAs also presents as targets to modulate viral induced airway changes as a means of managing exacerbation of chronic airway inflammatory diseases. Other than miRNA modulation, other epigenetic modification such as DNA methylation may also play a role in exacerbation of chronic airway inflammatory diseases. Recent epigenetic studies have indicated the association of epigenetic modification and chronic airway inflammatory diseases, and that the nasal methylome was shown to be a sensitive marker for airway inflammatory changes (Cardenas et al., 2019; Gomez, 2019) . At the same time, it was also shown that viral infections such as RV and RSV alters DNA methylation and histone modifications in the airway epithelium which may alter inflammatory responses, driving chronic airway inflammatory diseases and exacerbations (McErlean et al., 2014; Pech et al., 2018; Caixia et al., 2019) . In addition, Spalluto et al. (2017) also showed that antiviral factors such as IFNγ epigenetically modifies the viral resistance of epithelial cells. Hence, this may indicate that infections such as RV and RSV that weakly induce antiviral responses may result in an altered inflammatory state contributing to further viral persistence and exacerbation of chronic airway inflammatory diseases (Spalluto et al., 2017) .\\n\\nFinally, viral infection can result in enhanced production of reactive oxygen species (ROS), oxidative stress and mitochondrial dysfunction in the airway epithelium (Kim et al., 2018; Mishra et al., 2018; Wang et al., 2018) . The airway epithelium of patients with chronic airway inflammatory diseases are usually under a state of constant oxidative stress which sustains the inflammation in the airway (Barnes, 2017; van der Vliet et al., 2018) . Viral infections of the respiratory epithelium by viruses such as IFV, RV, RSV and HSV may trigger the further production of ROS as an antiviral mechanism Aizawa et al., 2018; Wang et al., 2018) . Moreover, infiltrating cells in response to the infection such as neutrophils will also trigger respiratory burst as a means of increasing the ROS in the infected region. The increased ROS and oxidative stress in the local environment may serve as a trigger to promote inflammation thereby aggravating the inflammation in the airway (Tiwari et al., 2002) . A summary of potential exacerbation mechanisms and the associated viruses is shown in Figure 2 and Table 1 .\\n\\nWhile the mechanisms underlying the development and acute exacerbation of chronic airway inflammatory disease is extensively studied for ways to manage and control the disease, a viral infection does more than just causing an acute exacerbation in these patients. A viral-induced acute exacerbation not only induced and worsens the symptoms of the disease, but also may alter the management of the disease or confer resistance toward treatments that worked before. Hence, appreciation of the mechanisms of viral-induced acute exacerbations is of clinical significance to devise strategies to correct viral induce changes that may worsen chronic airway inflammatory disease symptoms. Further studies in natural exacerbations and in viral-challenge models using RNA-sequencing (RNA-seq) or single cell RNA-seq on a range of time-points may provide important information regarding viral pathogenesis and changes induced within the airway of chronic airway inflammatory disease patients to identify novel targets and pathway for improved management of the disease. Subsequent analysis of functions may use epithelial cell models such as the air-liquid interface, in vitro airway epithelial model that has been adapted to studying viral infection and the changes it induced in the airway (Yan et al., 2016; Boda et al., 2018; Tan et al., 2018a) . Animal-based diseased models have also been developed to identify systemic mechanisms of acute exacerbation (Shin, 2016; Gubernatorova et al., 2019; Tanner and Single, 2019) . Furthermore, the humanized mouse model that possess human immune cells may also serves to unravel the immune profile of a viral infection in healthy and diseased condition (Ito et al., 2019; Li and Di Santo, 2019) . For milder viruses, controlled in vivo human infections can be performed for the best mode of verification of the associations of the virus with the proposed mechanism of viral induced acute exacerbations . With the advent of suitable diseased models, the verification of the mechanisms will then provide the necessary continuation of improving the management of viral induced acute exacerbations.\\n\\nIn conclusion, viral-induced acute exacerbation of chronic airway inflammatory disease is a significant health and economic burden that needs to be addressed urgently. In view of the scarcity of antiviral-based preventative measures available for only a few viruses and vaccines that are only available for IFV infections, more alternative measures should be explored to improve the management of the disease. Alternative measures targeting novel viral-induced acute exacerbation mechanisms, especially in the upper airway, can serve as supplementary treatments of the currently available management strategies to augment their efficacy. New models including primary human bronchial or nasal epithelial cell cultures, organoids or precision cut lung slices from patients with airways disease rather than healthy subjects can be utilized to define exacerbation mechanisms. These mechanisms can then be validated in small clinical trials in patients with asthma or COPD. Having multiple means of treatment may also reduce the problems that arise from resistance development toward a specific treatment.'"
            ],
            "application/vnd.google.colaboratory.intrinsic+json": {
              "type": "string"
            }
          },
          "metadata": {},
          "execution_count": 44
        }
      ]
    },
    {
      "cell_type": "code",
      "source": [
        "val_answers[0]"
      ],
      "metadata": {
        "id": "71ORY3ijWd0F",
        "colab": {
          "base_uri": "https://localhost:8080/"
        },
        "outputId": "24227611-6451-4003-9bab-7a483506d718"
      },
      "execution_count": 45,
      "outputs": [
        {
          "output_type": "execute_result",
          "data": {
            "text/plain": [
              "{'answer_end': 17718,\n",
              " 'answer_start': 17454,\n",
              " 'text': 'there are also evidence of reduced type I (IFNβ) and III (IFNλ) interferon production due to type 2-skewed inflammation, which contributes to imperfect clearance of the virus resulting in persistence of viral components, or the live virus in the airway epithelium '}"
            ]
          },
          "metadata": {},
          "execution_count": 45
        }
      ]
    },
    {
      "cell_type": "markdown",
      "source": [
        "Testing from Val set"
      ],
      "metadata": {
        "id": "L4fq95w9kSNQ"
      }
    },
    {
      "cell_type": "code",
      "source": [
        "tokenizer = RobertaTokenizerFast.from_pretrained('roberta-base')\n",
        "\n",
        "question = val_questions[4:6]\n",
        "context = val_contexts[4:6]\n",
        "\n",
        "test_tokenized = tokenizer(question, context, truncation=True, padding=True)\n",
        "print(test_tokenized.keys())\n",
        "# tokens = tokenizer.convert_ids_to_tokens(test_tokenized) #input tokens\n",
        "print(val_tokenized[0])\n",
        "add_token_positions(test_tokenized, val_answers[4:6])\n",
        "print(test_tokenized.keys())\n",
        "test_data = Custom_Dataset(test_tokenized)\n",
        "test_dataloader = DataLoader(test_data, batch_size=1, shuffle=True)\n",
        "\n",
        "print(test_tokenized.input_ids[0][:2])\n",
        "print(len(test_tokenized.input_ids[0]))"
      ],
      "metadata": {
        "id": "ygSbJrgqcybX",
        "colab": {
          "base_uri": "https://localhost:8080/"
        },
        "outputId": "a83ce793-28d5-4981-cc12-56e28197090e"
      },
      "execution_count": 46,
      "outputs": [
        {
          "output_type": "stream",
          "name": "stdout",
          "text": [
            "dict_keys(['input_ids', 'attention_mask'])\n",
            "Encoding(num_tokens=512, attributes=[ids, type_ids, tokens, offsets, attention_mask, special_tokens_mask, overflowing])\n",
            "dict_keys(['input_ids', 'attention_mask', 'start_positions', 'end_positions'])\n",
            "[0, 2264]\n",
            "512\n"
          ]
        }
      ]
    },
    {
      "cell_type": "code",
      "source": [
        "model.load_state_dict(torch.load('/content/drive/MyDrive/NLU/Roberta_QA.pt'))\n",
        "model = model.to(device)\n",
        "\n",
        "# run loop 3 times\n",
        "# for epoch in range(1):\n",
        "with torch.no_grad():\n",
        "  # loop over each batch \n",
        "  i = 0\n",
        "  for batch in test_dataloader:\n",
        "    # grab the batch attributes and attach them to the GPU device\n",
        "    input_ids, attention_mask, start_positions, end_positions = batch['input_ids'].to(device), batch['attention_mask'].to(device), batch['start_positions'].to(device), batch['end_positions'].to(device)\n",
        "    outputs = model(input_ids, attention_mask = attention_mask)\n",
        "    loss = outputs[0]\n",
        "    start_probs = outputs['start_logits']\n",
        "    end_probs = outputs['end_logits']\n",
        "    \n",
        "    start_pred = torch.argmax(start_probs, dim=1)\n",
        "    end_pred = torch.argmax(end_probs, dim=1)\n",
        "    # start_pred = torch.argmin(start_probs, dim=1)\n",
        "    # end_pred = torch.argmin(end_probs, dim=1)\n",
        "    # print(start_pred, end_pred)\n",
        "    start_pred = start_pred.detach().to(\"cpu\").numpy()\n",
        "    end_pred = end_pred.detach().to(\"cpu\").numpy()\n",
        "\n",
        "    # print(start_pred[0], end_pred[0])\n",
        "\n",
        "    predict_answer_tokens = val_tokenized.input_ids[i][start_pred[0]: end_pred[0] + 1]\n",
        "    # print(val_tokenized.input_ids[0])\n",
        "    # print(val_tokenized.input_ids[0][end_pred[0] +1: start_pred[0]])\n",
        "\n",
        "    predicted_answer = tokenizer.decode(predict_answer_tokens)\n",
        "    print(\"Question \",i+1,\":\\n\",question[i],'\\n')\n",
        "    print(\"Predicted Answer \",i+1,\":\\n\",predicted_answer,'\\n')\n",
        "    i += 1"
      ],
      "metadata": {
        "id": "aWGkwhdHWnNg",
        "colab": {
          "base_uri": "https://localhost:8080/"
        },
        "outputId": "ec0400e4-b821-4aca-b075-6c6274bb1790"
      },
      "execution_count": 47,
      "outputs": [
        {
          "output_type": "stream",
          "name": "stdout",
          "text": [
            "Question  1 :\n",
            " What should be investigated in the future? \n",
            "\n",
            "Predicted Answer  1 :\n",
            " </s>Respiratory Viral Infections in Exacerbation of Chronic Airway Inflammatory Diseases: Novel Mechanisms and Insights From the Upper Airway Epithelium\n",
            "\n",
            "https://www.ncbi.nlm.nih.gov/pmc/articles/PMC7052386/\n",
            "\n",
            "SHA: 45a566c71056ba4faab425b4f7e9edee6320e4a4\n",
            "\n",
            "Authors: Tan, Kai Sen; Lim, Rachel Liyu; Liu, Jing; Ong, Hsiao Hui; Tan, Vivian Jiayi; Lim, Hui Fang; Chung, Kian Fan; Adcock, Ian M.; Chow, Vincent T.; Wang, De Yun\n",
            "Date: 2020-02-25\n",
            "DOI: 10.3389/fcell.2020.00099\n",
            "License: cc-by\n",
            "\n",
            "Abstract: Respiratory virus infection is one of the major sources of exacerbation of chronic airway inflammatory diseases. These exacerbations are associated with high morbidity and even mortality worldwide. The current understanding on viral-induced exacerbations is that viral infection increases airway inflammation which aggravates disease symptoms. Recent advances in in vitro air-liquid interface 3D cultures, organoid cultures and the use of novel human and animal challenge models have evoked new understandings as to the mechanisms of viral exacerbations. In this review \n",
            "\n",
            "Question  2 :\n",
            " What further can viral persistence lead to? \n",
            "\n",
            "Predicted Answer  2 :\n",
            "  components remaining in the airway?</s></s>Respiratory Viral Infections in Exacerbation of Chronic Airway Inflammatory Diseases: Novel Mechanisms and Insights From the Upper Airway Epithelium\n",
            "\n",
            "https://www.ncbi.nlm.nih.gov/pmc/articles/PMC7052386/\n",
            "\n",
            "SHA: 45a566c71056ba4faab425b4f7e9edee6320e4a4\n",
            "\n",
            "Authors: Tan, Kai Sen; Lim, Rachel Liyu; Liu, Jing; Ong, Hsiao Hui; Tan, Vivian Jiayi; Lim, Hui Fang; Chung, Kian Fan; Adcock, Ian M.; Chow, Vincent T.; Wang, De Yun\n",
            "Date: 2020-02-25\n",
            "DOI: 10.3389/fcell.2020.00099\n",
            "License: cc-by\n",
            "\n",
            "Abstract: Respiratory virus infection is one of the major sources of exacerbation of chronic airway inflammatory diseases. These exacerbations are associated with high morbidity and even mortality worldwide. The current understanding on viral-induced exacerbations is that viral infection increases airway inflammation which aggravates disease symptoms. Recent advances in in vitro air-liquid interface 3D cultures, organoid cultures and the use of novel human and animal challenge models have evoked new understandings as to the mechanisms \n",
            "\n"
          ]
        }
      ]
    },
    {
      "cell_type": "markdown",
      "source": [
        "Testing from external"
      ],
      "metadata": {
        "id": "HYCpnc1d1gYa"
      }
    },
    {
      "cell_type": "markdown",
      "source": [
        "\n",
        "For testing: https://www.health.ny.gov/publications/0213.pdf"
      ],
      "metadata": {
        "id": "ngRfkB6fLbzY"
      }
    },
    {
      "cell_type": "code",
      "source": [
        "answers = [{'text': 'COVID-19 is a disease caused by a virus called SARS-CoV-2.', 'answer_start': 0},\n",
        "           {'text': 'AIDS (Acquired Immune Deficiency Syndrome) is a late stage of HIV disease.', 'answer_start': 13}]\n",
        "for j in range(len(answers)):\n",
        "  print(j)"
      ],
      "metadata": {
        "id": "YX-4bLSnhukA",
        "colab": {
          "base_uri": "https://localhost:8080/"
        },
        "outputId": "8e86d589-a6fd-4075-8f9f-07e61ab593df"
      },
      "execution_count": 48,
      "outputs": [
        {
          "output_type": "stream",
          "name": "stdout",
          "text": [
            "0\n",
            "1\n"
          ]
        }
      ]
    },
    {
      "cell_type": "code",
      "source": [
        "context = ['COVID-19 is a disease caused by a virus called SARS-CoV-2. Most people with COVID-19 have mild symptoms, but some people become severely ill. Older adults and people who have certain underlying medical conditions are more likely to get severely ill. Post-COVID conditions are a wide range of health problems people can experience four or more weeks after first getting COVID-19. ',\n",
        "           'HIV (Human Immunodeficiency Virus) is a virus that only affects human beings. AIDS (Acquired Immune Deficiency Syndrome) is a late stage of HIV disease. A person develops HIV if the virus gets into his or her bloodstream and begins making more and more of itself, or reproducing. People living with HIV may have no symptoms for ten or more years. ']\n",
        "context[1][0:78]"
      ],
      "metadata": {
        "id": "Sg5D2mv3iUxW",
        "colab": {
          "base_uri": "https://localhost:8080/",
          "height": 36
        },
        "outputId": "b11f5608-253d-440b-9ca5-b63cc6edea10"
      },
      "execution_count": 49,
      "outputs": [
        {
          "output_type": "execute_result",
          "data": {
            "text/plain": [
              "'HIV (Human Immunodeficiency Virus) is a virus that only affects human beings. '"
            ],
            "application/vnd.google.colaboratory.intrinsic+json": {
              "type": "string"
            }
          },
          "metadata": {},
          "execution_count": 49
        }
      ]
    },
    {
      "cell_type": "code",
      "source": [
        "context = ['COVID-19 is a disease caused by a virus called SARS-CoV-2. Most people with COVID-19 have mild symptoms, but some people become severely ill. Older adults and people who have certain underlying medical conditions are more likely to get severely ill. Post-COVID conditions are a wide range of health problems people can experience four or more weeks after first getting COVID-19. ',\n",
        "           'HIV (Human Immunodeficiency Virus) is a virus that only affects human beings. AIDS (Acquired Immune Deficiency Syndrome) is a late stage of HIV disease. A person develops HIV if the virus gets into his or her bloodstream and begins making more and more of itself, or reproducing. People living with HIV may have no symptoms for ten or more years. ']\n",
        "\n",
        "questions = [\n",
        "    \"What is Coivd19?\",\n",
        "    \"What is AIDS?\"\n",
        "]\n",
        "\n",
        "answers = [{'text': 'COVID-19 is a disease caused by a virus called SARS-CoV-2.', 'answer_start': 0},\n",
        "           {'text': 'AIDS (Acquired Immune Deficiency Syndrome) is a late stage of HIV disease.', 'answer_start': 78}]\n",
        "\n",
        "print(len(context))\n",
        "print(len(questions))\n",
        "print(len(answers))\n",
        "\n",
        "# the actual answer\n",
        "for j in range(len(answers)):\n",
        "  expected_answer = answers[j]['text']\n",
        "\n",
        "  # start index of the answer\n",
        "  start_index = answers[j]['answer_start']\n",
        "\n",
        "  end_index = start_index + len(expected_answer)\n",
        "\n",
        "  print(\"Length:\", len(expected_answer))\n",
        "\n",
        "  if context[j][start_index:end_index] == expected_answer:\n",
        "      answers[j]['answer_end'] = end_index\n",
        "  else:\n",
        "    # if answer is off by 1 or 2 tokens\n",
        "    for i in [1, 2]:\n",
        "      if context[j][start_index-i:end_index-i] == expected_answer:\n",
        "        answers[j]['answer_start'] = start_index - i\n",
        "        answers[j]['answer_end'] = end_index - i\n",
        "\n",
        "print('\\n', answers)\n",
        "\n",
        "\n",
        "test1_tokenized = tokenizer(questions, context, truncation=True, padding=True)\n",
        "print(test1_tokenized.keys())\n",
        "add_token_positions(test1_tokenized, answers)\n",
        "print(test1_tokenized.keys())\n",
        "test1_data = Custom_Dataset(test1_tokenized)\n",
        "test1_dataloader = DataLoader(test1_data, batch_size=1, shuffle=True)\n",
        "\n",
        "print(test1_tokenized[0])\n",
        "print(test1_tokenized[1])"
      ],
      "metadata": {
        "id": "3m-CGh6jUzNc",
        "colab": {
          "base_uri": "https://localhost:8080/"
        },
        "outputId": "410c21a0-f591-4ce6-9571-726e52d103df"
      },
      "execution_count": 50,
      "outputs": [
        {
          "output_type": "stream",
          "name": "stdout",
          "text": [
            "2\n",
            "2\n",
            "2\n",
            "Length: 58\n",
            "Length: 74\n",
            "\n",
            " [{'text': 'COVID-19 is a disease caused by a virus called SARS-CoV-2.', 'answer_start': 0, 'answer_end': 58}, {'text': 'AIDS (Acquired Immune Deficiency Syndrome) is a late stage of HIV disease.', 'answer_start': 78, 'answer_end': 152}]\n",
            "dict_keys(['input_ids', 'attention_mask'])\n",
            "dict_keys(['input_ids', 'attention_mask', 'start_positions', 'end_positions'])\n",
            "Encoding(num_tokens=95, attributes=[ids, type_ids, tokens, offsets, attention_mask, special_tokens_mask, overflowing])\n",
            "Encoding(num_tokens=95, attributes=[ids, type_ids, tokens, offsets, attention_mask, special_tokens_mask, overflowing])\n"
          ]
        }
      ]
    },
    {
      "cell_type": "code",
      "source": [
        "model.load_state_dict(torch.load('/content/drive/MyDrive/NLU/Roberta_QA.pt'))\n",
        "model = model.to(device)\n",
        "\n",
        "# run loop 3 times\n",
        "# for epoch in range(1):\n",
        "with torch.no_grad():\n",
        "  # loop over each batch \n",
        "  i = 0\n",
        "  for batch in test1_dataloader:\n",
        "    # grab the batch attributes and attach them to the GPU device\n",
        "    input_ids, attention_mask, start_positions, end_positions = batch['input_ids'].to(device), batch['attention_mask'].to(device), batch['start_positions'].to(device), batch['end_positions'].to(device)\n",
        "    outputs = model(input_ids, attention_mask = attention_mask)\n",
        "    loss = outputs[0]\n",
        "    start_probs = outputs['start_logits']\n",
        "    end_probs = outputs['end_logits']\n",
        "    \n",
        "    start_pred = torch.argmax(start_probs, dim=1)\n",
        "    end_pred = torch.argmax(end_probs, dim=1)\n",
        "    start_pred = start_pred.detach().to(\"cpu\").numpy()\n",
        "    end_pred = end_pred.detach().to(\"cpu\").numpy()\n",
        "\n",
        "    # print(start_pred[0], end_pred[0])\n",
        "\n",
        "    predict_answer_tokens = test1_tokenized.input_ids[i][start_pred[0]: end_pred[0] + 1]\n",
        "\n",
        "    predicted_answer = tokenizer.decode(predict_answer_tokens)\n",
        "    print(\"Question \",i+1,\":\\n\",questions[i],'\\n')\n",
        "    print(\"Predicted Answer \",i+1,\":\\n\",predicted_answer,'\\n')\n",
        "    i += 1"
      ],
      "metadata": {
        "id": "yM9ASr6iUxVz",
        "colab": {
          "base_uri": "https://localhost:8080/"
        },
        "outputId": "0e29d11e-cb80-4cc9-987c-cf609665cf47"
      },
      "execution_count": 51,
      "outputs": [
        {
          "output_type": "stream",
          "name": "stdout",
          "text": [
            "Question  1 :\n",
            " What is Coivd19? \n",
            "\n",
            "Predicted Answer  1 :\n",
            " iv \n",
            "\n",
            "Question  2 :\n",
            " What is AIDS? \n",
            "\n",
            "Predicted Answer  2 :\n",
            " H \n",
            "\n"
          ]
        }
      ]
    },
    {
      "cell_type": "code",
      "source": [
        ""
      ],
      "metadata": {
        "id": "3BuvfaWDlUUD"
      },
      "execution_count": 51,
      "outputs": []
    }
  ]
}