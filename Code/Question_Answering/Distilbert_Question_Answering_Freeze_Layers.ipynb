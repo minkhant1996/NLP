{
  "nbformat": 4,
  "nbformat_minor": 0,
  "metadata": {
    "colab": {
      "name": "distilbert Question_Answering Freeze Layers.ipynb",
      "provenance": [],
      "collapsed_sections": [],
      "machine_shape": "hm"
    },
    "kernelspec": {
      "name": "python3",
      "display_name": "Python 3"
    },
    "language_info": {
      "name": "python"
    },
    "accelerator": "GPU",
    "widgets": {
      "application/vnd.jupyter.widget-state+json": {
        "a7b2a50e3da64632970419ee4f8329bb": {
          "model_module": "@jupyter-widgets/controls",
          "model_name": "HBoxModel",
          "model_module_version": "1.5.0",
          "state": {
            "_dom_classes": [],
            "_model_module": "@jupyter-widgets/controls",
            "_model_module_version": "1.5.0",
            "_model_name": "HBoxModel",
            "_view_count": null,
            "_view_module": "@jupyter-widgets/controls",
            "_view_module_version": "1.5.0",
            "_view_name": "HBoxView",
            "box_style": "",
            "children": [
              "IPY_MODEL_5f27788a178a42b286e49ca8b2631f23",
              "IPY_MODEL_6dccf1428a104182b3b29d6e81049844",
              "IPY_MODEL_e4140d6a26384d8e81b65579a82d8c1a"
            ],
            "layout": "IPY_MODEL_bf00071c98614641ab5c3a8536d1e364"
          }
        },
        "5f27788a178a42b286e49ca8b2631f23": {
          "model_module": "@jupyter-widgets/controls",
          "model_name": "HTMLModel",
          "model_module_version": "1.5.0",
          "state": {
            "_dom_classes": [],
            "_model_module": "@jupyter-widgets/controls",
            "_model_module_version": "1.5.0",
            "_model_name": "HTMLModel",
            "_view_count": null,
            "_view_module": "@jupyter-widgets/controls",
            "_view_module_version": "1.5.0",
            "_view_name": "HTMLView",
            "description": "",
            "description_tooltip": null,
            "layout": "IPY_MODEL_698a804ca8d742dd8d534c90cacf07fa",
            "placeholder": "​",
            "style": "IPY_MODEL_8830d99a51a84c0a8c462f161f233843",
            "value": "Downloading: 100%"
          }
        },
        "6dccf1428a104182b3b29d6e81049844": {
          "model_module": "@jupyter-widgets/controls",
          "model_name": "FloatProgressModel",
          "model_module_version": "1.5.0",
          "state": {
            "_dom_classes": [],
            "_model_module": "@jupyter-widgets/controls",
            "_model_module_version": "1.5.0",
            "_model_name": "FloatProgressModel",
            "_view_count": null,
            "_view_module": "@jupyter-widgets/controls",
            "_view_module_version": "1.5.0",
            "_view_name": "ProgressView",
            "bar_style": "success",
            "description": "",
            "description_tooltip": null,
            "layout": "IPY_MODEL_7b9e11dd6871460d85384a65558fcac7",
            "max": 28,
            "min": 0,
            "orientation": "horizontal",
            "style": "IPY_MODEL_8befc121f48a4097a8c4f44a6d6ab0bd",
            "value": 28
          }
        },
        "e4140d6a26384d8e81b65579a82d8c1a": {
          "model_module": "@jupyter-widgets/controls",
          "model_name": "HTMLModel",
          "model_module_version": "1.5.0",
          "state": {
            "_dom_classes": [],
            "_model_module": "@jupyter-widgets/controls",
            "_model_module_version": "1.5.0",
            "_model_name": "HTMLModel",
            "_view_count": null,
            "_view_module": "@jupyter-widgets/controls",
            "_view_module_version": "1.5.0",
            "_view_name": "HTMLView",
            "description": "",
            "description_tooltip": null,
            "layout": "IPY_MODEL_9583876fd201420c9e3def0ad6737146",
            "placeholder": "​",
            "style": "IPY_MODEL_4ffeb19a9e8743b6a10858b401ad99e5",
            "value": " 28.0/28.0 [00:00&lt;00:00, 1.12kB/s]"
          }
        },
        "bf00071c98614641ab5c3a8536d1e364": {
          "model_module": "@jupyter-widgets/base",
          "model_name": "LayoutModel",
          "model_module_version": "1.2.0",
          "state": {
            "_model_module": "@jupyter-widgets/base",
            "_model_module_version": "1.2.0",
            "_model_name": "LayoutModel",
            "_view_count": null,
            "_view_module": "@jupyter-widgets/base",
            "_view_module_version": "1.2.0",
            "_view_name": "LayoutView",
            "align_content": null,
            "align_items": null,
            "align_self": null,
            "border": null,
            "bottom": null,
            "display": null,
            "flex": null,
            "flex_flow": null,
            "grid_area": null,
            "grid_auto_columns": null,
            "grid_auto_flow": null,
            "grid_auto_rows": null,
            "grid_column": null,
            "grid_gap": null,
            "grid_row": null,
            "grid_template_areas": null,
            "grid_template_columns": null,
            "grid_template_rows": null,
            "height": null,
            "justify_content": null,
            "justify_items": null,
            "left": null,
            "margin": null,
            "max_height": null,
            "max_width": null,
            "min_height": null,
            "min_width": null,
            "object_fit": null,
            "object_position": null,
            "order": null,
            "overflow": null,
            "overflow_x": null,
            "overflow_y": null,
            "padding": null,
            "right": null,
            "top": null,
            "visibility": null,
            "width": null
          }
        },
        "698a804ca8d742dd8d534c90cacf07fa": {
          "model_module": "@jupyter-widgets/base",
          "model_name": "LayoutModel",
          "model_module_version": "1.2.0",
          "state": {
            "_model_module": "@jupyter-widgets/base",
            "_model_module_version": "1.2.0",
            "_model_name": "LayoutModel",
            "_view_count": null,
            "_view_module": "@jupyter-widgets/base",
            "_view_module_version": "1.2.0",
            "_view_name": "LayoutView",
            "align_content": null,
            "align_items": null,
            "align_self": null,
            "border": null,
            "bottom": null,
            "display": null,
            "flex": null,
            "flex_flow": null,
            "grid_area": null,
            "grid_auto_columns": null,
            "grid_auto_flow": null,
            "grid_auto_rows": null,
            "grid_column": null,
            "grid_gap": null,
            "grid_row": null,
            "grid_template_areas": null,
            "grid_template_columns": null,
            "grid_template_rows": null,
            "height": null,
            "justify_content": null,
            "justify_items": null,
            "left": null,
            "margin": null,
            "max_height": null,
            "max_width": null,
            "min_height": null,
            "min_width": null,
            "object_fit": null,
            "object_position": null,
            "order": null,
            "overflow": null,
            "overflow_x": null,
            "overflow_y": null,
            "padding": null,
            "right": null,
            "top": null,
            "visibility": null,
            "width": null
          }
        },
        "8830d99a51a84c0a8c462f161f233843": {
          "model_module": "@jupyter-widgets/controls",
          "model_name": "DescriptionStyleModel",
          "model_module_version": "1.5.0",
          "state": {
            "_model_module": "@jupyter-widgets/controls",
            "_model_module_version": "1.5.0",
            "_model_name": "DescriptionStyleModel",
            "_view_count": null,
            "_view_module": "@jupyter-widgets/base",
            "_view_module_version": "1.2.0",
            "_view_name": "StyleView",
            "description_width": ""
          }
        },
        "7b9e11dd6871460d85384a65558fcac7": {
          "model_module": "@jupyter-widgets/base",
          "model_name": "LayoutModel",
          "model_module_version": "1.2.0",
          "state": {
            "_model_module": "@jupyter-widgets/base",
            "_model_module_version": "1.2.0",
            "_model_name": "LayoutModel",
            "_view_count": null,
            "_view_module": "@jupyter-widgets/base",
            "_view_module_version": "1.2.0",
            "_view_name": "LayoutView",
            "align_content": null,
            "align_items": null,
            "align_self": null,
            "border": null,
            "bottom": null,
            "display": null,
            "flex": null,
            "flex_flow": null,
            "grid_area": null,
            "grid_auto_columns": null,
            "grid_auto_flow": null,
            "grid_auto_rows": null,
            "grid_column": null,
            "grid_gap": null,
            "grid_row": null,
            "grid_template_areas": null,
            "grid_template_columns": null,
            "grid_template_rows": null,
            "height": null,
            "justify_content": null,
            "justify_items": null,
            "left": null,
            "margin": null,
            "max_height": null,
            "max_width": null,
            "min_height": null,
            "min_width": null,
            "object_fit": null,
            "object_position": null,
            "order": null,
            "overflow": null,
            "overflow_x": null,
            "overflow_y": null,
            "padding": null,
            "right": null,
            "top": null,
            "visibility": null,
            "width": null
          }
        },
        "8befc121f48a4097a8c4f44a6d6ab0bd": {
          "model_module": "@jupyter-widgets/controls",
          "model_name": "ProgressStyleModel",
          "model_module_version": "1.5.0",
          "state": {
            "_model_module": "@jupyter-widgets/controls",
            "_model_module_version": "1.5.0",
            "_model_name": "ProgressStyleModel",
            "_view_count": null,
            "_view_module": "@jupyter-widgets/base",
            "_view_module_version": "1.2.0",
            "_view_name": "StyleView",
            "bar_color": null,
            "description_width": ""
          }
        },
        "9583876fd201420c9e3def0ad6737146": {
          "model_module": "@jupyter-widgets/base",
          "model_name": "LayoutModel",
          "model_module_version": "1.2.0",
          "state": {
            "_model_module": "@jupyter-widgets/base",
            "_model_module_version": "1.2.0",
            "_model_name": "LayoutModel",
            "_view_count": null,
            "_view_module": "@jupyter-widgets/base",
            "_view_module_version": "1.2.0",
            "_view_name": "LayoutView",
            "align_content": null,
            "align_items": null,
            "align_self": null,
            "border": null,
            "bottom": null,
            "display": null,
            "flex": null,
            "flex_flow": null,
            "grid_area": null,
            "grid_auto_columns": null,
            "grid_auto_flow": null,
            "grid_auto_rows": null,
            "grid_column": null,
            "grid_gap": null,
            "grid_row": null,
            "grid_template_areas": null,
            "grid_template_columns": null,
            "grid_template_rows": null,
            "height": null,
            "justify_content": null,
            "justify_items": null,
            "left": null,
            "margin": null,
            "max_height": null,
            "max_width": null,
            "min_height": null,
            "min_width": null,
            "object_fit": null,
            "object_position": null,
            "order": null,
            "overflow": null,
            "overflow_x": null,
            "overflow_y": null,
            "padding": null,
            "right": null,
            "top": null,
            "visibility": null,
            "width": null
          }
        },
        "4ffeb19a9e8743b6a10858b401ad99e5": {
          "model_module": "@jupyter-widgets/controls",
          "model_name": "DescriptionStyleModel",
          "model_module_version": "1.5.0",
          "state": {
            "_model_module": "@jupyter-widgets/controls",
            "_model_module_version": "1.5.0",
            "_model_name": "DescriptionStyleModel",
            "_view_count": null,
            "_view_module": "@jupyter-widgets/base",
            "_view_module_version": "1.2.0",
            "_view_name": "StyleView",
            "description_width": ""
          }
        },
        "b6f1ee91f6c74488b6f9626ae23e91e0": {
          "model_module": "@jupyter-widgets/controls",
          "model_name": "HBoxModel",
          "model_module_version": "1.5.0",
          "state": {
            "_dom_classes": [],
            "_model_module": "@jupyter-widgets/controls",
            "_model_module_version": "1.5.0",
            "_model_name": "HBoxModel",
            "_view_count": null,
            "_view_module": "@jupyter-widgets/controls",
            "_view_module_version": "1.5.0",
            "_view_name": "HBoxView",
            "box_style": "",
            "children": [
              "IPY_MODEL_8f5f01bef2de49e2ac71609810135600",
              "IPY_MODEL_77ddec3ad35a45a280ba1baeb4620565",
              "IPY_MODEL_2a0571eb71494b7491b9fed31d3ddaf9"
            ],
            "layout": "IPY_MODEL_9a8791e4b56c4941814f0dfe2df758e9"
          }
        },
        "8f5f01bef2de49e2ac71609810135600": {
          "model_module": "@jupyter-widgets/controls",
          "model_name": "HTMLModel",
          "model_module_version": "1.5.0",
          "state": {
            "_dom_classes": [],
            "_model_module": "@jupyter-widgets/controls",
            "_model_module_version": "1.5.0",
            "_model_name": "HTMLModel",
            "_view_count": null,
            "_view_module": "@jupyter-widgets/controls",
            "_view_module_version": "1.5.0",
            "_view_name": "HTMLView",
            "description": "",
            "description_tooltip": null,
            "layout": "IPY_MODEL_03d687a7f41f4e3d8f695bc343dc0bab",
            "placeholder": "​",
            "style": "IPY_MODEL_23bb374b0087467da5dddc79a6ca6459",
            "value": "Downloading: 100%"
          }
        },
        "77ddec3ad35a45a280ba1baeb4620565": {
          "model_module": "@jupyter-widgets/controls",
          "model_name": "FloatProgressModel",
          "model_module_version": "1.5.0",
          "state": {
            "_dom_classes": [],
            "_model_module": "@jupyter-widgets/controls",
            "_model_module_version": "1.5.0",
            "_model_name": "FloatProgressModel",
            "_view_count": null,
            "_view_module": "@jupyter-widgets/controls",
            "_view_module_version": "1.5.0",
            "_view_name": "ProgressView",
            "bar_style": "success",
            "description": "",
            "description_tooltip": null,
            "layout": "IPY_MODEL_97409025789c49728d40df0a1e49984d",
            "max": 231508,
            "min": 0,
            "orientation": "horizontal",
            "style": "IPY_MODEL_15109e3fbde245b7b03195502e9a9a9f",
            "value": 231508
          }
        },
        "2a0571eb71494b7491b9fed31d3ddaf9": {
          "model_module": "@jupyter-widgets/controls",
          "model_name": "HTMLModel",
          "model_module_version": "1.5.0",
          "state": {
            "_dom_classes": [],
            "_model_module": "@jupyter-widgets/controls",
            "_model_module_version": "1.5.0",
            "_model_name": "HTMLModel",
            "_view_count": null,
            "_view_module": "@jupyter-widgets/controls",
            "_view_module_version": "1.5.0",
            "_view_name": "HTMLView",
            "description": "",
            "description_tooltip": null,
            "layout": "IPY_MODEL_fee8e5f90a6b4da085566a02d3f04b1a",
            "placeholder": "​",
            "style": "IPY_MODEL_0f70a564d30c4dd48aab98c1a88ce12d",
            "value": " 226k/226k [00:00&lt;00:00, 795kB/s]"
          }
        },
        "9a8791e4b56c4941814f0dfe2df758e9": {
          "model_module": "@jupyter-widgets/base",
          "model_name": "LayoutModel",
          "model_module_version": "1.2.0",
          "state": {
            "_model_module": "@jupyter-widgets/base",
            "_model_module_version": "1.2.0",
            "_model_name": "LayoutModel",
            "_view_count": null,
            "_view_module": "@jupyter-widgets/base",
            "_view_module_version": "1.2.0",
            "_view_name": "LayoutView",
            "align_content": null,
            "align_items": null,
            "align_self": null,
            "border": null,
            "bottom": null,
            "display": null,
            "flex": null,
            "flex_flow": null,
            "grid_area": null,
            "grid_auto_columns": null,
            "grid_auto_flow": null,
            "grid_auto_rows": null,
            "grid_column": null,
            "grid_gap": null,
            "grid_row": null,
            "grid_template_areas": null,
            "grid_template_columns": null,
            "grid_template_rows": null,
            "height": null,
            "justify_content": null,
            "justify_items": null,
            "left": null,
            "margin": null,
            "max_height": null,
            "max_width": null,
            "min_height": null,
            "min_width": null,
            "object_fit": null,
            "object_position": null,
            "order": null,
            "overflow": null,
            "overflow_x": null,
            "overflow_y": null,
            "padding": null,
            "right": null,
            "top": null,
            "visibility": null,
            "width": null
          }
        },
        "03d687a7f41f4e3d8f695bc343dc0bab": {
          "model_module": "@jupyter-widgets/base",
          "model_name": "LayoutModel",
          "model_module_version": "1.2.0",
          "state": {
            "_model_module": "@jupyter-widgets/base",
            "_model_module_version": "1.2.0",
            "_model_name": "LayoutModel",
            "_view_count": null,
            "_view_module": "@jupyter-widgets/base",
            "_view_module_version": "1.2.0",
            "_view_name": "LayoutView",
            "align_content": null,
            "align_items": null,
            "align_self": null,
            "border": null,
            "bottom": null,
            "display": null,
            "flex": null,
            "flex_flow": null,
            "grid_area": null,
            "grid_auto_columns": null,
            "grid_auto_flow": null,
            "grid_auto_rows": null,
            "grid_column": null,
            "grid_gap": null,
            "grid_row": null,
            "grid_template_areas": null,
            "grid_template_columns": null,
            "grid_template_rows": null,
            "height": null,
            "justify_content": null,
            "justify_items": null,
            "left": null,
            "margin": null,
            "max_height": null,
            "max_width": null,
            "min_height": null,
            "min_width": null,
            "object_fit": null,
            "object_position": null,
            "order": null,
            "overflow": null,
            "overflow_x": null,
            "overflow_y": null,
            "padding": null,
            "right": null,
            "top": null,
            "visibility": null,
            "width": null
          }
        },
        "23bb374b0087467da5dddc79a6ca6459": {
          "model_module": "@jupyter-widgets/controls",
          "model_name": "DescriptionStyleModel",
          "model_module_version": "1.5.0",
          "state": {
            "_model_module": "@jupyter-widgets/controls",
            "_model_module_version": "1.5.0",
            "_model_name": "DescriptionStyleModel",
            "_view_count": null,
            "_view_module": "@jupyter-widgets/base",
            "_view_module_version": "1.2.0",
            "_view_name": "StyleView",
            "description_width": ""
          }
        },
        "97409025789c49728d40df0a1e49984d": {
          "model_module": "@jupyter-widgets/base",
          "model_name": "LayoutModel",
          "model_module_version": "1.2.0",
          "state": {
            "_model_module": "@jupyter-widgets/base",
            "_model_module_version": "1.2.0",
            "_model_name": "LayoutModel",
            "_view_count": null,
            "_view_module": "@jupyter-widgets/base",
            "_view_module_version": "1.2.0",
            "_view_name": "LayoutView",
            "align_content": null,
            "align_items": null,
            "align_self": null,
            "border": null,
            "bottom": null,
            "display": null,
            "flex": null,
            "flex_flow": null,
            "grid_area": null,
            "grid_auto_columns": null,
            "grid_auto_flow": null,
            "grid_auto_rows": null,
            "grid_column": null,
            "grid_gap": null,
            "grid_row": null,
            "grid_template_areas": null,
            "grid_template_columns": null,
            "grid_template_rows": null,
            "height": null,
            "justify_content": null,
            "justify_items": null,
            "left": null,
            "margin": null,
            "max_height": null,
            "max_width": null,
            "min_height": null,
            "min_width": null,
            "object_fit": null,
            "object_position": null,
            "order": null,
            "overflow": null,
            "overflow_x": null,
            "overflow_y": null,
            "padding": null,
            "right": null,
            "top": null,
            "visibility": null,
            "width": null
          }
        },
        "15109e3fbde245b7b03195502e9a9a9f": {
          "model_module": "@jupyter-widgets/controls",
          "model_name": "ProgressStyleModel",
          "model_module_version": "1.5.0",
          "state": {
            "_model_module": "@jupyter-widgets/controls",
            "_model_module_version": "1.5.0",
            "_model_name": "ProgressStyleModel",
            "_view_count": null,
            "_view_module": "@jupyter-widgets/base",
            "_view_module_version": "1.2.0",
            "_view_name": "StyleView",
            "bar_color": null,
            "description_width": ""
          }
        },
        "fee8e5f90a6b4da085566a02d3f04b1a": {
          "model_module": "@jupyter-widgets/base",
          "model_name": "LayoutModel",
          "model_module_version": "1.2.0",
          "state": {
            "_model_module": "@jupyter-widgets/base",
            "_model_module_version": "1.2.0",
            "_model_name": "LayoutModel",
            "_view_count": null,
            "_view_module": "@jupyter-widgets/base",
            "_view_module_version": "1.2.0",
            "_view_name": "LayoutView",
            "align_content": null,
            "align_items": null,
            "align_self": null,
            "border": null,
            "bottom": null,
            "display": null,
            "flex": null,
            "flex_flow": null,
            "grid_area": null,
            "grid_auto_columns": null,
            "grid_auto_flow": null,
            "grid_auto_rows": null,
            "grid_column": null,
            "grid_gap": null,
            "grid_row": null,
            "grid_template_areas": null,
            "grid_template_columns": null,
            "grid_template_rows": null,
            "height": null,
            "justify_content": null,
            "justify_items": null,
            "left": null,
            "margin": null,
            "max_height": null,
            "max_width": null,
            "min_height": null,
            "min_width": null,
            "object_fit": null,
            "object_position": null,
            "order": null,
            "overflow": null,
            "overflow_x": null,
            "overflow_y": null,
            "padding": null,
            "right": null,
            "top": null,
            "visibility": null,
            "width": null
          }
        },
        "0f70a564d30c4dd48aab98c1a88ce12d": {
          "model_module": "@jupyter-widgets/controls",
          "model_name": "DescriptionStyleModel",
          "model_module_version": "1.5.0",
          "state": {
            "_model_module": "@jupyter-widgets/controls",
            "_model_module_version": "1.5.0",
            "_model_name": "DescriptionStyleModel",
            "_view_count": null,
            "_view_module": "@jupyter-widgets/base",
            "_view_module_version": "1.2.0",
            "_view_name": "StyleView",
            "description_width": ""
          }
        },
        "720e5aea5346432d867f0812f14d3ed7": {
          "model_module": "@jupyter-widgets/controls",
          "model_name": "HBoxModel",
          "model_module_version": "1.5.0",
          "state": {
            "_dom_classes": [],
            "_model_module": "@jupyter-widgets/controls",
            "_model_module_version": "1.5.0",
            "_model_name": "HBoxModel",
            "_view_count": null,
            "_view_module": "@jupyter-widgets/controls",
            "_view_module_version": "1.5.0",
            "_view_name": "HBoxView",
            "box_style": "",
            "children": [
              "IPY_MODEL_1ec2032d119d48c6bbf4b224371e08b4",
              "IPY_MODEL_2fe87fe9974f4eee8ffc00f582862957",
              "IPY_MODEL_1a4bc35e9d984c7086f90ba38e70a881"
            ],
            "layout": "IPY_MODEL_97739aa57304430ab59bf1baac12fd47"
          }
        },
        "1ec2032d119d48c6bbf4b224371e08b4": {
          "model_module": "@jupyter-widgets/controls",
          "model_name": "HTMLModel",
          "model_module_version": "1.5.0",
          "state": {
            "_dom_classes": [],
            "_model_module": "@jupyter-widgets/controls",
            "_model_module_version": "1.5.0",
            "_model_name": "HTMLModel",
            "_view_count": null,
            "_view_module": "@jupyter-widgets/controls",
            "_view_module_version": "1.5.0",
            "_view_name": "HTMLView",
            "description": "",
            "description_tooltip": null,
            "layout": "IPY_MODEL_1e290717e2164e74baa3098fa97d3795",
            "placeholder": "​",
            "style": "IPY_MODEL_75d16c13509e4c71bc7576376f9a652a",
            "value": "Downloading: 100%"
          }
        },
        "2fe87fe9974f4eee8ffc00f582862957": {
          "model_module": "@jupyter-widgets/controls",
          "model_name": "FloatProgressModel",
          "model_module_version": "1.5.0",
          "state": {
            "_dom_classes": [],
            "_model_module": "@jupyter-widgets/controls",
            "_model_module_version": "1.5.0",
            "_model_name": "FloatProgressModel",
            "_view_count": null,
            "_view_module": "@jupyter-widgets/controls",
            "_view_module_version": "1.5.0",
            "_view_name": "ProgressView",
            "bar_style": "success",
            "description": "",
            "description_tooltip": null,
            "layout": "IPY_MODEL_cff9ae6a8df541cebcba40c24a62bed1",
            "max": 466062,
            "min": 0,
            "orientation": "horizontal",
            "style": "IPY_MODEL_f930c31056dc406fb745c984fd1fcc1f",
            "value": 466062
          }
        },
        "1a4bc35e9d984c7086f90ba38e70a881": {
          "model_module": "@jupyter-widgets/controls",
          "model_name": "HTMLModel",
          "model_module_version": "1.5.0",
          "state": {
            "_dom_classes": [],
            "_model_module": "@jupyter-widgets/controls",
            "_model_module_version": "1.5.0",
            "_model_name": "HTMLModel",
            "_view_count": null,
            "_view_module": "@jupyter-widgets/controls",
            "_view_module_version": "1.5.0",
            "_view_name": "HTMLView",
            "description": "",
            "description_tooltip": null,
            "layout": "IPY_MODEL_3cd9d2c9611d4ee3a09bda147e8dcd6d",
            "placeholder": "​",
            "style": "IPY_MODEL_b2921af3030540808bcd8ad16c25b42d",
            "value": " 455k/455k [00:00&lt;00:00, 907kB/s]"
          }
        },
        "97739aa57304430ab59bf1baac12fd47": {
          "model_module": "@jupyter-widgets/base",
          "model_name": "LayoutModel",
          "model_module_version": "1.2.0",
          "state": {
            "_model_module": "@jupyter-widgets/base",
            "_model_module_version": "1.2.0",
            "_model_name": "LayoutModel",
            "_view_count": null,
            "_view_module": "@jupyter-widgets/base",
            "_view_module_version": "1.2.0",
            "_view_name": "LayoutView",
            "align_content": null,
            "align_items": null,
            "align_self": null,
            "border": null,
            "bottom": null,
            "display": null,
            "flex": null,
            "flex_flow": null,
            "grid_area": null,
            "grid_auto_columns": null,
            "grid_auto_flow": null,
            "grid_auto_rows": null,
            "grid_column": null,
            "grid_gap": null,
            "grid_row": null,
            "grid_template_areas": null,
            "grid_template_columns": null,
            "grid_template_rows": null,
            "height": null,
            "justify_content": null,
            "justify_items": null,
            "left": null,
            "margin": null,
            "max_height": null,
            "max_width": null,
            "min_height": null,
            "min_width": null,
            "object_fit": null,
            "object_position": null,
            "order": null,
            "overflow": null,
            "overflow_x": null,
            "overflow_y": null,
            "padding": null,
            "right": null,
            "top": null,
            "visibility": null,
            "width": null
          }
        },
        "1e290717e2164e74baa3098fa97d3795": {
          "model_module": "@jupyter-widgets/base",
          "model_name": "LayoutModel",
          "model_module_version": "1.2.0",
          "state": {
            "_model_module": "@jupyter-widgets/base",
            "_model_module_version": "1.2.0",
            "_model_name": "LayoutModel",
            "_view_count": null,
            "_view_module": "@jupyter-widgets/base",
            "_view_module_version": "1.2.0",
            "_view_name": "LayoutView",
            "align_content": null,
            "align_items": null,
            "align_self": null,
            "border": null,
            "bottom": null,
            "display": null,
            "flex": null,
            "flex_flow": null,
            "grid_area": null,
            "grid_auto_columns": null,
            "grid_auto_flow": null,
            "grid_auto_rows": null,
            "grid_column": null,
            "grid_gap": null,
            "grid_row": null,
            "grid_template_areas": null,
            "grid_template_columns": null,
            "grid_template_rows": null,
            "height": null,
            "justify_content": null,
            "justify_items": null,
            "left": null,
            "margin": null,
            "max_height": null,
            "max_width": null,
            "min_height": null,
            "min_width": null,
            "object_fit": null,
            "object_position": null,
            "order": null,
            "overflow": null,
            "overflow_x": null,
            "overflow_y": null,
            "padding": null,
            "right": null,
            "top": null,
            "visibility": null,
            "width": null
          }
        },
        "75d16c13509e4c71bc7576376f9a652a": {
          "model_module": "@jupyter-widgets/controls",
          "model_name": "DescriptionStyleModel",
          "model_module_version": "1.5.0",
          "state": {
            "_model_module": "@jupyter-widgets/controls",
            "_model_module_version": "1.5.0",
            "_model_name": "DescriptionStyleModel",
            "_view_count": null,
            "_view_module": "@jupyter-widgets/base",
            "_view_module_version": "1.2.0",
            "_view_name": "StyleView",
            "description_width": ""
          }
        },
        "cff9ae6a8df541cebcba40c24a62bed1": {
          "model_module": "@jupyter-widgets/base",
          "model_name": "LayoutModel",
          "model_module_version": "1.2.0",
          "state": {
            "_model_module": "@jupyter-widgets/base",
            "_model_module_version": "1.2.0",
            "_model_name": "LayoutModel",
            "_view_count": null,
            "_view_module": "@jupyter-widgets/base",
            "_view_module_version": "1.2.0",
            "_view_name": "LayoutView",
            "align_content": null,
            "align_items": null,
            "align_self": null,
            "border": null,
            "bottom": null,
            "display": null,
            "flex": null,
            "flex_flow": null,
            "grid_area": null,
            "grid_auto_columns": null,
            "grid_auto_flow": null,
            "grid_auto_rows": null,
            "grid_column": null,
            "grid_gap": null,
            "grid_row": null,
            "grid_template_areas": null,
            "grid_template_columns": null,
            "grid_template_rows": null,
            "height": null,
            "justify_content": null,
            "justify_items": null,
            "left": null,
            "margin": null,
            "max_height": null,
            "max_width": null,
            "min_height": null,
            "min_width": null,
            "object_fit": null,
            "object_position": null,
            "order": null,
            "overflow": null,
            "overflow_x": null,
            "overflow_y": null,
            "padding": null,
            "right": null,
            "top": null,
            "visibility": null,
            "width": null
          }
        },
        "f930c31056dc406fb745c984fd1fcc1f": {
          "model_module": "@jupyter-widgets/controls",
          "model_name": "ProgressStyleModel",
          "model_module_version": "1.5.0",
          "state": {
            "_model_module": "@jupyter-widgets/controls",
            "_model_module_version": "1.5.0",
            "_model_name": "ProgressStyleModel",
            "_view_count": null,
            "_view_module": "@jupyter-widgets/base",
            "_view_module_version": "1.2.0",
            "_view_name": "StyleView",
            "bar_color": null,
            "description_width": ""
          }
        },
        "3cd9d2c9611d4ee3a09bda147e8dcd6d": {
          "model_module": "@jupyter-widgets/base",
          "model_name": "LayoutModel",
          "model_module_version": "1.2.0",
          "state": {
            "_model_module": "@jupyter-widgets/base",
            "_model_module_version": "1.2.0",
            "_model_name": "LayoutModel",
            "_view_count": null,
            "_view_module": "@jupyter-widgets/base",
            "_view_module_version": "1.2.0",
            "_view_name": "LayoutView",
            "align_content": null,
            "align_items": null,
            "align_self": null,
            "border": null,
            "bottom": null,
            "display": null,
            "flex": null,
            "flex_flow": null,
            "grid_area": null,
            "grid_auto_columns": null,
            "grid_auto_flow": null,
            "grid_auto_rows": null,
            "grid_column": null,
            "grid_gap": null,
            "grid_row": null,
            "grid_template_areas": null,
            "grid_template_columns": null,
            "grid_template_rows": null,
            "height": null,
            "justify_content": null,
            "justify_items": null,
            "left": null,
            "margin": null,
            "max_height": null,
            "max_width": null,
            "min_height": null,
            "min_width": null,
            "object_fit": null,
            "object_position": null,
            "order": null,
            "overflow": null,
            "overflow_x": null,
            "overflow_y": null,
            "padding": null,
            "right": null,
            "top": null,
            "visibility": null,
            "width": null
          }
        },
        "b2921af3030540808bcd8ad16c25b42d": {
          "model_module": "@jupyter-widgets/controls",
          "model_name": "DescriptionStyleModel",
          "model_module_version": "1.5.0",
          "state": {
            "_model_module": "@jupyter-widgets/controls",
            "_model_module_version": "1.5.0",
            "_model_name": "DescriptionStyleModel",
            "_view_count": null,
            "_view_module": "@jupyter-widgets/base",
            "_view_module_version": "1.2.0",
            "_view_name": "StyleView",
            "description_width": ""
          }
        },
        "427499f62ccc47f3a7d2597c9d8a9088": {
          "model_module": "@jupyter-widgets/controls",
          "model_name": "HBoxModel",
          "model_module_version": "1.5.0",
          "state": {
            "_dom_classes": [],
            "_model_module": "@jupyter-widgets/controls",
            "_model_module_version": "1.5.0",
            "_model_name": "HBoxModel",
            "_view_count": null,
            "_view_module": "@jupyter-widgets/controls",
            "_view_module_version": "1.5.0",
            "_view_name": "HBoxView",
            "box_style": "",
            "children": [
              "IPY_MODEL_282415381f844a008e072a4df4544ed5",
              "IPY_MODEL_641bcc3799a14d87a1ec1cb30fe7c6d1",
              "IPY_MODEL_20e9fbf7a1334d409a86021a60035140"
            ],
            "layout": "IPY_MODEL_a5ea6cabb56d4cee993a3c0f578c743a"
          }
        },
        "282415381f844a008e072a4df4544ed5": {
          "model_module": "@jupyter-widgets/controls",
          "model_name": "HTMLModel",
          "model_module_version": "1.5.0",
          "state": {
            "_dom_classes": [],
            "_model_module": "@jupyter-widgets/controls",
            "_model_module_version": "1.5.0",
            "_model_name": "HTMLModel",
            "_view_count": null,
            "_view_module": "@jupyter-widgets/controls",
            "_view_module_version": "1.5.0",
            "_view_name": "HTMLView",
            "description": "",
            "description_tooltip": null,
            "layout": "IPY_MODEL_cf7580a402ba44719baa8c18169e1709",
            "placeholder": "​",
            "style": "IPY_MODEL_ecf9bdd632fd4aa3a1fd5d14732ce44f",
            "value": "Downloading: 100%"
          }
        },
        "641bcc3799a14d87a1ec1cb30fe7c6d1": {
          "model_module": "@jupyter-widgets/controls",
          "model_name": "FloatProgressModel",
          "model_module_version": "1.5.0",
          "state": {
            "_dom_classes": [],
            "_model_module": "@jupyter-widgets/controls",
            "_model_module_version": "1.5.0",
            "_model_name": "FloatProgressModel",
            "_view_count": null,
            "_view_module": "@jupyter-widgets/controls",
            "_view_module_version": "1.5.0",
            "_view_name": "ProgressView",
            "bar_style": "success",
            "description": "",
            "description_tooltip": null,
            "layout": "IPY_MODEL_7e924770ced842c1a177e348ec34523b",
            "max": 483,
            "min": 0,
            "orientation": "horizontal",
            "style": "IPY_MODEL_9cbda5014ca84432bf4621e1d29e6d75",
            "value": 483
          }
        },
        "20e9fbf7a1334d409a86021a60035140": {
          "model_module": "@jupyter-widgets/controls",
          "model_name": "HTMLModel",
          "model_module_version": "1.5.0",
          "state": {
            "_dom_classes": [],
            "_model_module": "@jupyter-widgets/controls",
            "_model_module_version": "1.5.0",
            "_model_name": "HTMLModel",
            "_view_count": null,
            "_view_module": "@jupyter-widgets/controls",
            "_view_module_version": "1.5.0",
            "_view_name": "HTMLView",
            "description": "",
            "description_tooltip": null,
            "layout": "IPY_MODEL_87db8597da6441c483f09521092cc3b0",
            "placeholder": "​",
            "style": "IPY_MODEL_1e31bda81a0f44adab8288cec19c32c0",
            "value": " 483/483 [00:00&lt;00:00, 18.5kB/s]"
          }
        },
        "a5ea6cabb56d4cee993a3c0f578c743a": {
          "model_module": "@jupyter-widgets/base",
          "model_name": "LayoutModel",
          "model_module_version": "1.2.0",
          "state": {
            "_model_module": "@jupyter-widgets/base",
            "_model_module_version": "1.2.0",
            "_model_name": "LayoutModel",
            "_view_count": null,
            "_view_module": "@jupyter-widgets/base",
            "_view_module_version": "1.2.0",
            "_view_name": "LayoutView",
            "align_content": null,
            "align_items": null,
            "align_self": null,
            "border": null,
            "bottom": null,
            "display": null,
            "flex": null,
            "flex_flow": null,
            "grid_area": null,
            "grid_auto_columns": null,
            "grid_auto_flow": null,
            "grid_auto_rows": null,
            "grid_column": null,
            "grid_gap": null,
            "grid_row": null,
            "grid_template_areas": null,
            "grid_template_columns": null,
            "grid_template_rows": null,
            "height": null,
            "justify_content": null,
            "justify_items": null,
            "left": null,
            "margin": null,
            "max_height": null,
            "max_width": null,
            "min_height": null,
            "min_width": null,
            "object_fit": null,
            "object_position": null,
            "order": null,
            "overflow": null,
            "overflow_x": null,
            "overflow_y": null,
            "padding": null,
            "right": null,
            "top": null,
            "visibility": null,
            "width": null
          }
        },
        "cf7580a402ba44719baa8c18169e1709": {
          "model_module": "@jupyter-widgets/base",
          "model_name": "LayoutModel",
          "model_module_version": "1.2.0",
          "state": {
            "_model_module": "@jupyter-widgets/base",
            "_model_module_version": "1.2.0",
            "_model_name": "LayoutModel",
            "_view_count": null,
            "_view_module": "@jupyter-widgets/base",
            "_view_module_version": "1.2.0",
            "_view_name": "LayoutView",
            "align_content": null,
            "align_items": null,
            "align_self": null,
            "border": null,
            "bottom": null,
            "display": null,
            "flex": null,
            "flex_flow": null,
            "grid_area": null,
            "grid_auto_columns": null,
            "grid_auto_flow": null,
            "grid_auto_rows": null,
            "grid_column": null,
            "grid_gap": null,
            "grid_row": null,
            "grid_template_areas": null,
            "grid_template_columns": null,
            "grid_template_rows": null,
            "height": null,
            "justify_content": null,
            "justify_items": null,
            "left": null,
            "margin": null,
            "max_height": null,
            "max_width": null,
            "min_height": null,
            "min_width": null,
            "object_fit": null,
            "object_position": null,
            "order": null,
            "overflow": null,
            "overflow_x": null,
            "overflow_y": null,
            "padding": null,
            "right": null,
            "top": null,
            "visibility": null,
            "width": null
          }
        },
        "ecf9bdd632fd4aa3a1fd5d14732ce44f": {
          "model_module": "@jupyter-widgets/controls",
          "model_name": "DescriptionStyleModel",
          "model_module_version": "1.5.0",
          "state": {
            "_model_module": "@jupyter-widgets/controls",
            "_model_module_version": "1.5.0",
            "_model_name": "DescriptionStyleModel",
            "_view_count": null,
            "_view_module": "@jupyter-widgets/base",
            "_view_module_version": "1.2.0",
            "_view_name": "StyleView",
            "description_width": ""
          }
        },
        "7e924770ced842c1a177e348ec34523b": {
          "model_module": "@jupyter-widgets/base",
          "model_name": "LayoutModel",
          "model_module_version": "1.2.0",
          "state": {
            "_model_module": "@jupyter-widgets/base",
            "_model_module_version": "1.2.0",
            "_model_name": "LayoutModel",
            "_view_count": null,
            "_view_module": "@jupyter-widgets/base",
            "_view_module_version": "1.2.0",
            "_view_name": "LayoutView",
            "align_content": null,
            "align_items": null,
            "align_self": null,
            "border": null,
            "bottom": null,
            "display": null,
            "flex": null,
            "flex_flow": null,
            "grid_area": null,
            "grid_auto_columns": null,
            "grid_auto_flow": null,
            "grid_auto_rows": null,
            "grid_column": null,
            "grid_gap": null,
            "grid_row": null,
            "grid_template_areas": null,
            "grid_template_columns": null,
            "grid_template_rows": null,
            "height": null,
            "justify_content": null,
            "justify_items": null,
            "left": null,
            "margin": null,
            "max_height": null,
            "max_width": null,
            "min_height": null,
            "min_width": null,
            "object_fit": null,
            "object_position": null,
            "order": null,
            "overflow": null,
            "overflow_x": null,
            "overflow_y": null,
            "padding": null,
            "right": null,
            "top": null,
            "visibility": null,
            "width": null
          }
        },
        "9cbda5014ca84432bf4621e1d29e6d75": {
          "model_module": "@jupyter-widgets/controls",
          "model_name": "ProgressStyleModel",
          "model_module_version": "1.5.0",
          "state": {
            "_model_module": "@jupyter-widgets/controls",
            "_model_module_version": "1.5.0",
            "_model_name": "ProgressStyleModel",
            "_view_count": null,
            "_view_module": "@jupyter-widgets/base",
            "_view_module_version": "1.2.0",
            "_view_name": "StyleView",
            "bar_color": null,
            "description_width": ""
          }
        },
        "87db8597da6441c483f09521092cc3b0": {
          "model_module": "@jupyter-widgets/base",
          "model_name": "LayoutModel",
          "model_module_version": "1.2.0",
          "state": {
            "_model_module": "@jupyter-widgets/base",
            "_model_module_version": "1.2.0",
            "_model_name": "LayoutModel",
            "_view_count": null,
            "_view_module": "@jupyter-widgets/base",
            "_view_module_version": "1.2.0",
            "_view_name": "LayoutView",
            "align_content": null,
            "align_items": null,
            "align_self": null,
            "border": null,
            "bottom": null,
            "display": null,
            "flex": null,
            "flex_flow": null,
            "grid_area": null,
            "grid_auto_columns": null,
            "grid_auto_flow": null,
            "grid_auto_rows": null,
            "grid_column": null,
            "grid_gap": null,
            "grid_row": null,
            "grid_template_areas": null,
            "grid_template_columns": null,
            "grid_template_rows": null,
            "height": null,
            "justify_content": null,
            "justify_items": null,
            "left": null,
            "margin": null,
            "max_height": null,
            "max_width": null,
            "min_height": null,
            "min_width": null,
            "object_fit": null,
            "object_position": null,
            "order": null,
            "overflow": null,
            "overflow_x": null,
            "overflow_y": null,
            "padding": null,
            "right": null,
            "top": null,
            "visibility": null,
            "width": null
          }
        },
        "1e31bda81a0f44adab8288cec19c32c0": {
          "model_module": "@jupyter-widgets/controls",
          "model_name": "DescriptionStyleModel",
          "model_module_version": "1.5.0",
          "state": {
            "_model_module": "@jupyter-widgets/controls",
            "_model_module_version": "1.5.0",
            "_model_name": "DescriptionStyleModel",
            "_view_count": null,
            "_view_module": "@jupyter-widgets/base",
            "_view_module_version": "1.2.0",
            "_view_name": "StyleView",
            "description_width": ""
          }
        },
        "01470b3fdf464320b62628cdcfbfd6a6": {
          "model_module": "@jupyter-widgets/controls",
          "model_name": "HBoxModel",
          "model_module_version": "1.5.0",
          "state": {
            "_dom_classes": [],
            "_model_module": "@jupyter-widgets/controls",
            "_model_module_version": "1.5.0",
            "_model_name": "HBoxModel",
            "_view_count": null,
            "_view_module": "@jupyter-widgets/controls",
            "_view_module_version": "1.5.0",
            "_view_name": "HBoxView",
            "box_style": "",
            "children": [
              "IPY_MODEL_cde8de3a1ad448f8bcbcbe92fd578b35",
              "IPY_MODEL_54336f3d9c684800a3e0ad77195eb596",
              "IPY_MODEL_195d8946af1d4d16b9857494f079e346"
            ],
            "layout": "IPY_MODEL_c79ce101e66943438b084642999dfa9b"
          }
        },
        "cde8de3a1ad448f8bcbcbe92fd578b35": {
          "model_module": "@jupyter-widgets/controls",
          "model_name": "HTMLModel",
          "model_module_version": "1.5.0",
          "state": {
            "_dom_classes": [],
            "_model_module": "@jupyter-widgets/controls",
            "_model_module_version": "1.5.0",
            "_model_name": "HTMLModel",
            "_view_count": null,
            "_view_module": "@jupyter-widgets/controls",
            "_view_module_version": "1.5.0",
            "_view_name": "HTMLView",
            "description": "",
            "description_tooltip": null,
            "layout": "IPY_MODEL_7e9cca6ef4b44c1fbf88864fed4c7d61",
            "placeholder": "​",
            "style": "IPY_MODEL_2bbf6340c5ae44539e6105666aad879f",
            "value": "Downloading: 100%"
          }
        },
        "54336f3d9c684800a3e0ad77195eb596": {
          "model_module": "@jupyter-widgets/controls",
          "model_name": "FloatProgressModel",
          "model_module_version": "1.5.0",
          "state": {
            "_dom_classes": [],
            "_model_module": "@jupyter-widgets/controls",
            "_model_module_version": "1.5.0",
            "_model_name": "FloatProgressModel",
            "_view_count": null,
            "_view_module": "@jupyter-widgets/controls",
            "_view_module_version": "1.5.0",
            "_view_name": "ProgressView",
            "bar_style": "success",
            "description": "",
            "description_tooltip": null,
            "layout": "IPY_MODEL_b971bb43787d455194e368242c8d6b9d",
            "max": 267967963,
            "min": 0,
            "orientation": "horizontal",
            "style": "IPY_MODEL_4c6bbb313d62421ba5f447be0a5be490",
            "value": 267967963
          }
        },
        "195d8946af1d4d16b9857494f079e346": {
          "model_module": "@jupyter-widgets/controls",
          "model_name": "HTMLModel",
          "model_module_version": "1.5.0",
          "state": {
            "_dom_classes": [],
            "_model_module": "@jupyter-widgets/controls",
            "_model_module_version": "1.5.0",
            "_model_name": "HTMLModel",
            "_view_count": null,
            "_view_module": "@jupyter-widgets/controls",
            "_view_module_version": "1.5.0",
            "_view_name": "HTMLView",
            "description": "",
            "description_tooltip": null,
            "layout": "IPY_MODEL_099a2f081bae4c3999bbb324af3c4a69",
            "placeholder": "​",
            "style": "IPY_MODEL_10559fb651de4453b937d5c53993fd14",
            "value": " 256M/256M [00:04&lt;00:00, 64.5MB/s]"
          }
        },
        "c79ce101e66943438b084642999dfa9b": {
          "model_module": "@jupyter-widgets/base",
          "model_name": "LayoutModel",
          "model_module_version": "1.2.0",
          "state": {
            "_model_module": "@jupyter-widgets/base",
            "_model_module_version": "1.2.0",
            "_model_name": "LayoutModel",
            "_view_count": null,
            "_view_module": "@jupyter-widgets/base",
            "_view_module_version": "1.2.0",
            "_view_name": "LayoutView",
            "align_content": null,
            "align_items": null,
            "align_self": null,
            "border": null,
            "bottom": null,
            "display": null,
            "flex": null,
            "flex_flow": null,
            "grid_area": null,
            "grid_auto_columns": null,
            "grid_auto_flow": null,
            "grid_auto_rows": null,
            "grid_column": null,
            "grid_gap": null,
            "grid_row": null,
            "grid_template_areas": null,
            "grid_template_columns": null,
            "grid_template_rows": null,
            "height": null,
            "justify_content": null,
            "justify_items": null,
            "left": null,
            "margin": null,
            "max_height": null,
            "max_width": null,
            "min_height": null,
            "min_width": null,
            "object_fit": null,
            "object_position": null,
            "order": null,
            "overflow": null,
            "overflow_x": null,
            "overflow_y": null,
            "padding": null,
            "right": null,
            "top": null,
            "visibility": null,
            "width": null
          }
        },
        "7e9cca6ef4b44c1fbf88864fed4c7d61": {
          "model_module": "@jupyter-widgets/base",
          "model_name": "LayoutModel",
          "model_module_version": "1.2.0",
          "state": {
            "_model_module": "@jupyter-widgets/base",
            "_model_module_version": "1.2.0",
            "_model_name": "LayoutModel",
            "_view_count": null,
            "_view_module": "@jupyter-widgets/base",
            "_view_module_version": "1.2.0",
            "_view_name": "LayoutView",
            "align_content": null,
            "align_items": null,
            "align_self": null,
            "border": null,
            "bottom": null,
            "display": null,
            "flex": null,
            "flex_flow": null,
            "grid_area": null,
            "grid_auto_columns": null,
            "grid_auto_flow": null,
            "grid_auto_rows": null,
            "grid_column": null,
            "grid_gap": null,
            "grid_row": null,
            "grid_template_areas": null,
            "grid_template_columns": null,
            "grid_template_rows": null,
            "height": null,
            "justify_content": null,
            "justify_items": null,
            "left": null,
            "margin": null,
            "max_height": null,
            "max_width": null,
            "min_height": null,
            "min_width": null,
            "object_fit": null,
            "object_position": null,
            "order": null,
            "overflow": null,
            "overflow_x": null,
            "overflow_y": null,
            "padding": null,
            "right": null,
            "top": null,
            "visibility": null,
            "width": null
          }
        },
        "2bbf6340c5ae44539e6105666aad879f": {
          "model_module": "@jupyter-widgets/controls",
          "model_name": "DescriptionStyleModel",
          "model_module_version": "1.5.0",
          "state": {
            "_model_module": "@jupyter-widgets/controls",
            "_model_module_version": "1.5.0",
            "_model_name": "DescriptionStyleModel",
            "_view_count": null,
            "_view_module": "@jupyter-widgets/base",
            "_view_module_version": "1.2.0",
            "_view_name": "StyleView",
            "description_width": ""
          }
        },
        "b971bb43787d455194e368242c8d6b9d": {
          "model_module": "@jupyter-widgets/base",
          "model_name": "LayoutModel",
          "model_module_version": "1.2.0",
          "state": {
            "_model_module": "@jupyter-widgets/base",
            "_model_module_version": "1.2.0",
            "_model_name": "LayoutModel",
            "_view_count": null,
            "_view_module": "@jupyter-widgets/base",
            "_view_module_version": "1.2.0",
            "_view_name": "LayoutView",
            "align_content": null,
            "align_items": null,
            "align_self": null,
            "border": null,
            "bottom": null,
            "display": null,
            "flex": null,
            "flex_flow": null,
            "grid_area": null,
            "grid_auto_columns": null,
            "grid_auto_flow": null,
            "grid_auto_rows": null,
            "grid_column": null,
            "grid_gap": null,
            "grid_row": null,
            "grid_template_areas": null,
            "grid_template_columns": null,
            "grid_template_rows": null,
            "height": null,
            "justify_content": null,
            "justify_items": null,
            "left": null,
            "margin": null,
            "max_height": null,
            "max_width": null,
            "min_height": null,
            "min_width": null,
            "object_fit": null,
            "object_position": null,
            "order": null,
            "overflow": null,
            "overflow_x": null,
            "overflow_y": null,
            "padding": null,
            "right": null,
            "top": null,
            "visibility": null,
            "width": null
          }
        },
        "4c6bbb313d62421ba5f447be0a5be490": {
          "model_module": "@jupyter-widgets/controls",
          "model_name": "ProgressStyleModel",
          "model_module_version": "1.5.0",
          "state": {
            "_model_module": "@jupyter-widgets/controls",
            "_model_module_version": "1.5.0",
            "_model_name": "ProgressStyleModel",
            "_view_count": null,
            "_view_module": "@jupyter-widgets/base",
            "_view_module_version": "1.2.0",
            "_view_name": "StyleView",
            "bar_color": null,
            "description_width": ""
          }
        },
        "099a2f081bae4c3999bbb324af3c4a69": {
          "model_module": "@jupyter-widgets/base",
          "model_name": "LayoutModel",
          "model_module_version": "1.2.0",
          "state": {
            "_model_module": "@jupyter-widgets/base",
            "_model_module_version": "1.2.0",
            "_model_name": "LayoutModel",
            "_view_count": null,
            "_view_module": "@jupyter-widgets/base",
            "_view_module_version": "1.2.0",
            "_view_name": "LayoutView",
            "align_content": null,
            "align_items": null,
            "align_self": null,
            "border": null,
            "bottom": null,
            "display": null,
            "flex": null,
            "flex_flow": null,
            "grid_area": null,
            "grid_auto_columns": null,
            "grid_auto_flow": null,
            "grid_auto_rows": null,
            "grid_column": null,
            "grid_gap": null,
            "grid_row": null,
            "grid_template_areas": null,
            "grid_template_columns": null,
            "grid_template_rows": null,
            "height": null,
            "justify_content": null,
            "justify_items": null,
            "left": null,
            "margin": null,
            "max_height": null,
            "max_width": null,
            "min_height": null,
            "min_width": null,
            "object_fit": null,
            "object_position": null,
            "order": null,
            "overflow": null,
            "overflow_x": null,
            "overflow_y": null,
            "padding": null,
            "right": null,
            "top": null,
            "visibility": null,
            "width": null
          }
        },
        "10559fb651de4453b937d5c53993fd14": {
          "model_module": "@jupyter-widgets/controls",
          "model_name": "DescriptionStyleModel",
          "model_module_version": "1.5.0",
          "state": {
            "_model_module": "@jupyter-widgets/controls",
            "_model_module_version": "1.5.0",
            "_model_name": "DescriptionStyleModel",
            "_view_count": null,
            "_view_module": "@jupyter-widgets/base",
            "_view_module_version": "1.2.0",
            "_view_name": "StyleView",
            "description_width": ""
          }
        }
      }
    }
  },
  "cells": [
    {
      "cell_type": "code",
      "execution_count": 1,
      "metadata": {
        "colab": {
          "base_uri": "https://localhost:8080/"
        },
        "id": "aHDBrveid9HB",
        "outputId": "b2541c27-99e6-452c-bd0e-d5c68043a141"
      },
      "outputs": [
        {
          "output_type": "stream",
          "name": "stdout",
          "text": [
            "Mounted at /content/drive\n"
          ]
        }
      ],
      "source": [
        "from google.colab import drive\n",
        "drive.mount('/content/drive')"
      ]
    },
    {
      "cell_type": "code",
      "source": [
        "cd /content/drive/MyDrive/NLU"
      ],
      "metadata": {
        "colab": {
          "base_uri": "https://localhost:8080/"
        },
        "id": "JtPxb5wjVhQT",
        "outputId": "867fc0c5-6043-4f30-9cce-f4fce7177c26"
      },
      "execution_count": 2,
      "outputs": [
        {
          "output_type": "stream",
          "name": "stdout",
          "text": [
            "/content/drive/MyDrive/NLU\n"
          ]
        }
      ]
    },
    {
      "cell_type": "code",
      "source": [
        "gpu_info = !nvidia-smi\n",
        "gpu_info = '\\n'.join(gpu_info)\n",
        "if gpu_info.find('failed') >= 0:\n",
        "  print('Not connected to a GPU')\n",
        "else:\n",
        "  print(gpu_info)\n",
        "\n",
        "from psutil import virtual_memory\n",
        "ram_gb = virtual_memory().total / 1e9\n",
        "print('Your runtime has {:.1f} gigabytes of available RAM\\n'.format(ram_gb))\n",
        "\n",
        "if ram_gb < 20:\n",
        "  print('Not using a high-RAM runtime')\n",
        "else:\n",
        "  print('You are using a high-RAM runtime!')"
      ],
      "metadata": {
        "colab": {
          "base_uri": "https://localhost:8080/"
        },
        "id": "HX0n3hjeer67",
        "outputId": "5125ddbf-e499-4052-cd08-284bf32095a5"
      },
      "execution_count": 3,
      "outputs": [
        {
          "output_type": "stream",
          "name": "stdout",
          "text": [
            "Wed Apr 20 21:10:06 2022       \n",
            "+-----------------------------------------------------------------------------+\n",
            "| NVIDIA-SMI 460.32.03    Driver Version: 460.32.03    CUDA Version: 11.2     |\n",
            "|-------------------------------+----------------------+----------------------+\n",
            "| GPU  Name        Persistence-M| Bus-Id        Disp.A | Volatile Uncorr. ECC |\n",
            "| Fan  Temp  Perf  Pwr:Usage/Cap|         Memory-Usage | GPU-Util  Compute M. |\n",
            "|                               |                      |               MIG M. |\n",
            "|===============================+======================+======================|\n",
            "|   0  Tesla P100-PCIE...  Off  | 00000000:00:04.0 Off |                    0 |\n",
            "| N/A   36C    P0    25W / 250W |      0MiB / 16280MiB |      0%      Default |\n",
            "|                               |                      |                  N/A |\n",
            "+-------------------------------+----------------------+----------------------+\n",
            "                                                                               \n",
            "+-----------------------------------------------------------------------------+\n",
            "| Processes:                                                                  |\n",
            "|  GPU   GI   CI        PID   Type   Process name                  GPU Memory |\n",
            "|        ID   ID                                                   Usage      |\n",
            "|=============================================================================|\n",
            "|  No running processes found                                                 |\n",
            "+-----------------------------------------------------------------------------+\n",
            "Your runtime has 27.3 gigabytes of available RAM\n",
            "\n",
            "You are using a high-RAM runtime!\n"
          ]
        }
      ]
    },
    {
      "cell_type": "code",
      "source": [
        "import os\n",
        "import numpy as np\n",
        "import torch\n",
        "import torch.nn as nn\n",
        "from torch.utils.data import Dataset, DataLoader\n",
        "import random\n",
        "from IPython.display import clear_output"
      ],
      "metadata": {
        "id": "nrh5F3uyimCx"
      },
      "execution_count": 4,
      "outputs": []
    },
    {
      "cell_type": "code",
      "source": [
        "device = torch.device('cuda' if torch.cuda.is_available() else 'cpu')\n",
        "print(device)"
      ],
      "metadata": {
        "colab": {
          "base_uri": "https://localhost:8080/"
        },
        "id": "4Myyv1nlikba",
        "outputId": "fd113f09-c028-4845-a169-01946a21ea3e"
      },
      "execution_count": 5,
      "outputs": [
        {
          "output_type": "stream",
          "name": "stdout",
          "text": [
            "cuda\n"
          ]
        }
      ]
    },
    {
      "cell_type": "code",
      "source": [
        "pip install transformers"
      ],
      "metadata": {
        "colab": {
          "base_uri": "https://localhost:8080/"
        },
        "id": "bjaySbQtioDn",
        "outputId": "75a3cea6-58b2-474c-8e00-5a666ab5d15a"
      },
      "execution_count": 6,
      "outputs": [
        {
          "output_type": "stream",
          "name": "stdout",
          "text": [
            "Collecting transformers\n",
            "  Downloading transformers-4.18.0-py3-none-any.whl (4.0 MB)\n",
            "\u001b[K     |████████████████████████████████| 4.0 MB 9.5 MB/s \n",
            "\u001b[?25hRequirement already satisfied: filelock in /usr/local/lib/python3.7/dist-packages (from transformers) (3.6.0)\n",
            "Collecting sacremoses\n",
            "  Downloading sacremoses-0.0.49-py3-none-any.whl (895 kB)\n",
            "\u001b[K     |████████████████████████████████| 895 kB 61.6 MB/s \n",
            "\u001b[?25hCollecting pyyaml>=5.1\n",
            "  Downloading PyYAML-6.0-cp37-cp37m-manylinux_2_5_x86_64.manylinux1_x86_64.manylinux_2_12_x86_64.manylinux2010_x86_64.whl (596 kB)\n",
            "\u001b[K     |████████████████████████████████| 596 kB 79.2 MB/s \n",
            "\u001b[?25hRequirement already satisfied: requests in /usr/local/lib/python3.7/dist-packages (from transformers) (2.23.0)\n",
            "Requirement already satisfied: numpy>=1.17 in /usr/local/lib/python3.7/dist-packages (from transformers) (1.21.6)\n",
            "Requirement already satisfied: importlib-metadata in /usr/local/lib/python3.7/dist-packages (from transformers) (4.11.3)\n",
            "Collecting huggingface-hub<1.0,>=0.1.0\n",
            "  Downloading huggingface_hub-0.5.1-py3-none-any.whl (77 kB)\n",
            "\u001b[K     |████████████████████████████████| 77 kB 8.5 MB/s \n",
            "\u001b[?25hRequirement already satisfied: packaging>=20.0 in /usr/local/lib/python3.7/dist-packages (from transformers) (21.3)\n",
            "Requirement already satisfied: regex!=2019.12.17 in /usr/local/lib/python3.7/dist-packages (from transformers) (2019.12.20)\n",
            "Requirement already satisfied: tqdm>=4.27 in /usr/local/lib/python3.7/dist-packages (from transformers) (4.64.0)\n",
            "Collecting tokenizers!=0.11.3,<0.13,>=0.11.1\n",
            "  Downloading tokenizers-0.12.1-cp37-cp37m-manylinux_2_12_x86_64.manylinux2010_x86_64.whl (6.6 MB)\n",
            "\u001b[K     |████████████████████████████████| 6.6 MB 63.7 MB/s \n",
            "\u001b[?25hRequirement already satisfied: typing-extensions>=3.7.4.3 in /usr/local/lib/python3.7/dist-packages (from huggingface-hub<1.0,>=0.1.0->transformers) (4.1.1)\n",
            "Requirement already satisfied: pyparsing!=3.0.5,>=2.0.2 in /usr/local/lib/python3.7/dist-packages (from packaging>=20.0->transformers) (3.0.8)\n",
            "Requirement already satisfied: zipp>=0.5 in /usr/local/lib/python3.7/dist-packages (from importlib-metadata->transformers) (3.8.0)\n",
            "Requirement already satisfied: urllib3!=1.25.0,!=1.25.1,<1.26,>=1.21.1 in /usr/local/lib/python3.7/dist-packages (from requests->transformers) (1.24.3)\n",
            "Requirement already satisfied: idna<3,>=2.5 in /usr/local/lib/python3.7/dist-packages (from requests->transformers) (2.10)\n",
            "Requirement already satisfied: chardet<4,>=3.0.2 in /usr/local/lib/python3.7/dist-packages (from requests->transformers) (3.0.4)\n",
            "Requirement already satisfied: certifi>=2017.4.17 in /usr/local/lib/python3.7/dist-packages (from requests->transformers) (2021.10.8)\n",
            "Requirement already satisfied: joblib in /usr/local/lib/python3.7/dist-packages (from sacremoses->transformers) (1.1.0)\n",
            "Requirement already satisfied: click in /usr/local/lib/python3.7/dist-packages (from sacremoses->transformers) (7.1.2)\n",
            "Requirement already satisfied: six in /usr/local/lib/python3.7/dist-packages (from sacremoses->transformers) (1.15.0)\n",
            "Installing collected packages: pyyaml, tokenizers, sacremoses, huggingface-hub, transformers\n",
            "  Attempting uninstall: pyyaml\n",
            "    Found existing installation: PyYAML 3.13\n",
            "    Uninstalling PyYAML-3.13:\n",
            "      Successfully uninstalled PyYAML-3.13\n",
            "Successfully installed huggingface-hub-0.5.1 pyyaml-6.0 sacremoses-0.0.49 tokenizers-0.12.1 transformers-4.18.0\n"
          ]
        }
      ]
    },
    {
      "cell_type": "code",
      "source": [
        "pip install Sentencepiece"
      ],
      "metadata": {
        "colab": {
          "base_uri": "https://localhost:8080/"
        },
        "id": "758a7K6Ae7Wn",
        "outputId": "0615930a-8d27-4393-9c9c-cd20e229adf2"
      },
      "execution_count": 7,
      "outputs": [
        {
          "output_type": "stream",
          "name": "stdout",
          "text": [
            "Collecting Sentencepiece\n",
            "  Downloading sentencepiece-0.1.96-cp37-cp37m-manylinux_2_17_x86_64.manylinux2014_x86_64.whl (1.2 MB)\n",
            "\u001b[?25l\r\u001b[K     |▎                               | 10 kB 41.6 MB/s eta 0:00:01\r\u001b[K     |▌                               | 20 kB 22.3 MB/s eta 0:00:01\r\u001b[K     |▉                               | 30 kB 16.2 MB/s eta 0:00:01\r\u001b[K     |█                               | 40 kB 14.6 MB/s eta 0:00:01\r\u001b[K     |█▍                              | 51 kB 6.7 MB/s eta 0:00:01\r\u001b[K     |█▋                              | 61 kB 7.9 MB/s eta 0:00:01\r\u001b[K     |██                              | 71 kB 7.2 MB/s eta 0:00:01\r\u001b[K     |██▏                             | 81 kB 8.1 MB/s eta 0:00:01\r\u001b[K     |██▍                             | 92 kB 9.0 MB/s eta 0:00:01\r\u001b[K     |██▊                             | 102 kB 7.3 MB/s eta 0:00:01\r\u001b[K     |███                             | 112 kB 7.3 MB/s eta 0:00:01\r\u001b[K     |███▎                            | 122 kB 7.3 MB/s eta 0:00:01\r\u001b[K     |███▌                            | 133 kB 7.3 MB/s eta 0:00:01\r\u001b[K     |███▉                            | 143 kB 7.3 MB/s eta 0:00:01\r\u001b[K     |████                            | 153 kB 7.3 MB/s eta 0:00:01\r\u001b[K     |████▎                           | 163 kB 7.3 MB/s eta 0:00:01\r\u001b[K     |████▋                           | 174 kB 7.3 MB/s eta 0:00:01\r\u001b[K     |████▉                           | 184 kB 7.3 MB/s eta 0:00:01\r\u001b[K     |█████▏                          | 194 kB 7.3 MB/s eta 0:00:01\r\u001b[K     |█████▍                          | 204 kB 7.3 MB/s eta 0:00:01\r\u001b[K     |█████▊                          | 215 kB 7.3 MB/s eta 0:00:01\r\u001b[K     |██████                          | 225 kB 7.3 MB/s eta 0:00:01\r\u001b[K     |██████▏                         | 235 kB 7.3 MB/s eta 0:00:01\r\u001b[K     |██████▌                         | 245 kB 7.3 MB/s eta 0:00:01\r\u001b[K     |██████▊                         | 256 kB 7.3 MB/s eta 0:00:01\r\u001b[K     |███████                         | 266 kB 7.3 MB/s eta 0:00:01\r\u001b[K     |███████▎                        | 276 kB 7.3 MB/s eta 0:00:01\r\u001b[K     |███████▋                        | 286 kB 7.3 MB/s eta 0:00:01\r\u001b[K     |███████▉                        | 296 kB 7.3 MB/s eta 0:00:01\r\u001b[K     |████████                        | 307 kB 7.3 MB/s eta 0:00:01\r\u001b[K     |████████▍                       | 317 kB 7.3 MB/s eta 0:00:01\r\u001b[K     |████████▋                       | 327 kB 7.3 MB/s eta 0:00:01\r\u001b[K     |█████████                       | 337 kB 7.3 MB/s eta 0:00:01\r\u001b[K     |█████████▏                      | 348 kB 7.3 MB/s eta 0:00:01\r\u001b[K     |█████████▌                      | 358 kB 7.3 MB/s eta 0:00:01\r\u001b[K     |█████████▊                      | 368 kB 7.3 MB/s eta 0:00:01\r\u001b[K     |██████████                      | 378 kB 7.3 MB/s eta 0:00:01\r\u001b[K     |██████████▎                     | 389 kB 7.3 MB/s eta 0:00:01\r\u001b[K     |██████████▌                     | 399 kB 7.3 MB/s eta 0:00:01\r\u001b[K     |██████████▉                     | 409 kB 7.3 MB/s eta 0:00:01\r\u001b[K     |███████████                     | 419 kB 7.3 MB/s eta 0:00:01\r\u001b[K     |███████████▍                    | 430 kB 7.3 MB/s eta 0:00:01\r\u001b[K     |███████████▋                    | 440 kB 7.3 MB/s eta 0:00:01\r\u001b[K     |███████████▉                    | 450 kB 7.3 MB/s eta 0:00:01\r\u001b[K     |████████████▏                   | 460 kB 7.3 MB/s eta 0:00:01\r\u001b[K     |████████████▍                   | 471 kB 7.3 MB/s eta 0:00:01\r\u001b[K     |████████████▊                   | 481 kB 7.3 MB/s eta 0:00:01\r\u001b[K     |█████████████                   | 491 kB 7.3 MB/s eta 0:00:01\r\u001b[K     |█████████████▎                  | 501 kB 7.3 MB/s eta 0:00:01\r\u001b[K     |█████████████▌                  | 512 kB 7.3 MB/s eta 0:00:01\r\u001b[K     |█████████████▊                  | 522 kB 7.3 MB/s eta 0:00:01\r\u001b[K     |██████████████                  | 532 kB 7.3 MB/s eta 0:00:01\r\u001b[K     |██████████████▎                 | 542 kB 7.3 MB/s eta 0:00:01\r\u001b[K     |██████████████▋                 | 552 kB 7.3 MB/s eta 0:00:01\r\u001b[K     |██████████████▉                 | 563 kB 7.3 MB/s eta 0:00:01\r\u001b[K     |███████████████▏                | 573 kB 7.3 MB/s eta 0:00:01\r\u001b[K     |███████████████▍                | 583 kB 7.3 MB/s eta 0:00:01\r\u001b[K     |███████████████▋                | 593 kB 7.3 MB/s eta 0:00:01\r\u001b[K     |████████████████                | 604 kB 7.3 MB/s eta 0:00:01\r\u001b[K     |████████████████▏               | 614 kB 7.3 MB/s eta 0:00:01\r\u001b[K     |████████████████▌               | 624 kB 7.3 MB/s eta 0:00:01\r\u001b[K     |████████████████▊               | 634 kB 7.3 MB/s eta 0:00:01\r\u001b[K     |█████████████████               | 645 kB 7.3 MB/s eta 0:00:01\r\u001b[K     |█████████████████▎              | 655 kB 7.3 MB/s eta 0:00:01\r\u001b[K     |█████████████████▌              | 665 kB 7.3 MB/s eta 0:00:01\r\u001b[K     |█████████████████▉              | 675 kB 7.3 MB/s eta 0:00:01\r\u001b[K     |██████████████████              | 686 kB 7.3 MB/s eta 0:00:01\r\u001b[K     |██████████████████▍             | 696 kB 7.3 MB/s eta 0:00:01\r\u001b[K     |██████████████████▋             | 706 kB 7.3 MB/s eta 0:00:01\r\u001b[K     |███████████████████             | 716 kB 7.3 MB/s eta 0:00:01\r\u001b[K     |███████████████████▏            | 727 kB 7.3 MB/s eta 0:00:01\r\u001b[K     |███████████████████▍            | 737 kB 7.3 MB/s eta 0:00:01\r\u001b[K     |███████████████████▊            | 747 kB 7.3 MB/s eta 0:00:01\r\u001b[K     |████████████████████            | 757 kB 7.3 MB/s eta 0:00:01\r\u001b[K     |████████████████████▎           | 768 kB 7.3 MB/s eta 0:00:01\r\u001b[K     |████████████████████▌           | 778 kB 7.3 MB/s eta 0:00:01\r\u001b[K     |████████████████████▉           | 788 kB 7.3 MB/s eta 0:00:01\r\u001b[K     |█████████████████████           | 798 kB 7.3 MB/s eta 0:00:01\r\u001b[K     |█████████████████████▎          | 808 kB 7.3 MB/s eta 0:00:01\r\u001b[K     |█████████████████████▋          | 819 kB 7.3 MB/s eta 0:00:01\r\u001b[K     |█████████████████████▉          | 829 kB 7.3 MB/s eta 0:00:01\r\u001b[K     |██████████████████████▏         | 839 kB 7.3 MB/s eta 0:00:01\r\u001b[K     |██████████████████████▍         | 849 kB 7.3 MB/s eta 0:00:01\r\u001b[K     |██████████████████████▊         | 860 kB 7.3 MB/s eta 0:00:01\r\u001b[K     |███████████████████████         | 870 kB 7.3 MB/s eta 0:00:01\r\u001b[K     |███████████████████████▏        | 880 kB 7.3 MB/s eta 0:00:01\r\u001b[K     |███████████████████████▌        | 890 kB 7.3 MB/s eta 0:00:01\r\u001b[K     |███████████████████████▊        | 901 kB 7.3 MB/s eta 0:00:01\r\u001b[K     |████████████████████████        | 911 kB 7.3 MB/s eta 0:00:01\r\u001b[K     |████████████████████████▎       | 921 kB 7.3 MB/s eta 0:00:01\r\u001b[K     |████████████████████████▋       | 931 kB 7.3 MB/s eta 0:00:01\r\u001b[K     |████████████████████████▉       | 942 kB 7.3 MB/s eta 0:00:01\r\u001b[K     |█████████████████████████       | 952 kB 7.3 MB/s eta 0:00:01\r\u001b[K     |█████████████████████████▍      | 962 kB 7.3 MB/s eta 0:00:01\r\u001b[K     |█████████████████████████▋      | 972 kB 7.3 MB/s eta 0:00:01\r\u001b[K     |██████████████████████████      | 983 kB 7.3 MB/s eta 0:00:01\r\u001b[K     |██████████████████████████▏     | 993 kB 7.3 MB/s eta 0:00:01\r\u001b[K     |██████████████████████████▌     | 1.0 MB 7.3 MB/s eta 0:00:01\r\u001b[K     |██████████████████████████▊     | 1.0 MB 7.3 MB/s eta 0:00:01\r\u001b[K     |███████████████████████████     | 1.0 MB 7.3 MB/s eta 0:00:01\r\u001b[K     |███████████████████████████▎    | 1.0 MB 7.3 MB/s eta 0:00:01\r\u001b[K     |███████████████████████████▌    | 1.0 MB 7.3 MB/s eta 0:00:01\r\u001b[K     |███████████████████████████▉    | 1.1 MB 7.3 MB/s eta 0:00:01\r\u001b[K     |████████████████████████████    | 1.1 MB 7.3 MB/s eta 0:00:01\r\u001b[K     |████████████████████████████▍   | 1.1 MB 7.3 MB/s eta 0:00:01\r\u001b[K     |████████████████████████████▋   | 1.1 MB 7.3 MB/s eta 0:00:01\r\u001b[K     |████████████████████████████▉   | 1.1 MB 7.3 MB/s eta 0:00:01\r\u001b[K     |█████████████████████████████▏  | 1.1 MB 7.3 MB/s eta 0:00:01\r\u001b[K     |█████████████████████████████▍  | 1.1 MB 7.3 MB/s eta 0:00:01\r\u001b[K     |█████████████████████████████▊  | 1.1 MB 7.3 MB/s eta 0:00:01\r\u001b[K     |██████████████████████████████  | 1.1 MB 7.3 MB/s eta 0:00:01\r\u001b[K     |██████████████████████████████▎ | 1.1 MB 7.3 MB/s eta 0:00:01\r\u001b[K     |██████████████████████████████▌ | 1.2 MB 7.3 MB/s eta 0:00:01\r\u001b[K     |██████████████████████████████▊ | 1.2 MB 7.3 MB/s eta 0:00:01\r\u001b[K     |███████████████████████████████ | 1.2 MB 7.3 MB/s eta 0:00:01\r\u001b[K     |███████████████████████████████▎| 1.2 MB 7.3 MB/s eta 0:00:01\r\u001b[K     |███████████████████████████████▋| 1.2 MB 7.3 MB/s eta 0:00:01\r\u001b[K     |███████████████████████████████▉| 1.2 MB 7.3 MB/s eta 0:00:01\r\u001b[K     |████████████████████████████████| 1.2 MB 7.3 MB/s \n",
            "\u001b[?25hInstalling collected packages: Sentencepiece\n",
            "Successfully installed Sentencepiece-0.1.96\n"
          ]
        }
      ]
    },
    {
      "cell_type": "code",
      "source": [
        "import pickle # reading in our data\n",
        "\n",
        "import torch # pytorch\n",
        "from torch.utils.data import DataLoader # this helps us iterate over our data efficiently\n",
        "from tqdm import tqdm"
      ],
      "metadata": {
        "id": "hPgeKhuG1jw5"
      },
      "execution_count": 8,
      "outputs": []
    },
    {
      "cell_type": "code",
      "source": [
        "with open('/content/drive/MyDrive/NLU/covidqa/covid_train_contexts.pkl', 'rb') as f1:\n",
        "  train_contexts = pickle.load(f1)\n",
        "\n",
        "with open('/content/drive/MyDrive/NLU/covidqa/covid_train_questions.pkl', 'rb') as f2:\n",
        "  train_questions = pickle.load(f2)\n",
        "\n",
        "with open('/content/drive/MyDrive/NLU/covidqa/covid_train_answers.pkl', 'rb') as f3:\n",
        "  train_answers = pickle.load(f3)\n",
        "\n",
        "with open('/content/drive/MyDrive/NLU/covidqa/covid_val_contexts.pkl', 'rb') as f1:\n",
        "  val_contexts = pickle.load(f1)\n",
        "\n",
        "with open('/content/drive/MyDrive/NLU/covidqa/covid_val_questions.pkl', 'rb') as f2:\n",
        "  val_questions = pickle.load(f2)\n",
        "\n",
        "with open('/content/drive/MyDrive/NLU/covidqa/covid_val_answers.pkl', 'rb') as f3:\n",
        "  val_answers = pickle.load(f3)"
      ],
      "metadata": {
        "id": "XoX_Fv_j0f3H"
      },
      "execution_count": 9,
      "outputs": []
    },
    {
      "cell_type": "code",
      "source": [
        "print(type(train_questions))\n",
        "print(type(train_contexts))\n",
        "print(type(train_answers))\n",
        "print(len(train_questions))\n",
        "print(len(train_contexts))\n",
        "print(len(train_answers))"
      ],
      "metadata": {
        "colab": {
          "base_uri": "https://localhost:8080/"
        },
        "id": "DQOp3jzostAl",
        "outputId": "3719faf9-8031-4fa6-c6ec-45edfaf28bfc"
      },
      "execution_count": 10,
      "outputs": [
        {
          "output_type": "stream",
          "name": "stdout",
          "text": [
            "<class 'list'>\n",
            "<class 'list'>\n",
            "<class 'list'>\n",
            "1615\n",
            "1615\n",
            "1615\n"
          ]
        }
      ]
    },
    {
      "cell_type": "code",
      "source": [
        "print(len(val_answers))"
      ],
      "metadata": {
        "colab": {
          "base_uri": "https://localhost:8080/"
        },
        "id": "iUdYF-dGNTvt",
        "outputId": "fda0e4bc-359a-40e2-973c-8270d1b6f3c2"
      },
      "execution_count": 11,
      "outputs": [
        {
          "output_type": "stream",
          "name": "stdout",
          "text": [
            "404\n"
          ]
        }
      ]
    },
    {
      "cell_type": "code",
      "source": [
        "print(\"Question\")\n",
        "print(train_questions[0])\n",
        "print(\"Answer\")\n",
        "print(train_answers[0])\n",
        "# print(\"Context\")\n",
        "# print(train_contexts[0])"
      ],
      "metadata": {
        "colab": {
          "base_uri": "https://localhost:8080/"
        },
        "id": "46DyRQHjWUPT",
        "outputId": "4d489ae0-6d8a-414e-f056-d4c4db163757"
      },
      "execution_count": 12,
      "outputs": [
        {
          "output_type": "stream",
          "name": "stdout",
          "text": [
            "Question\n",
            "What is the main cause of HIV-1 infection in children?\n",
            "Answer\n",
            "{'text': 'Mother-to-child transmission (MTCT) is the main cause of HIV-1 infection in children worldwide. ', 'answer_start': 370}\n"
          ]
        }
      ]
    },
    {
      "cell_type": "code",
      "source": [
        "# the actual answer\n",
        "expected_answer = train_answers[1]['text']\n",
        "# start index of the answer\n",
        "start_index = train_answers[1]['answer_start']\n",
        "end_index = start_index + len(expected_answer)\n",
        "print(start_index)\n",
        "print(len(expected_answer))\n",
        "print(end_index)\n",
        "print(train_answers[1])"
      ],
      "metadata": {
        "colab": {
          "base_uri": "https://localhost:8080/"
        },
        "id": "vjx8xXhtXTUw",
        "outputId": "849a7dd4-b4f0-4a36-99f7-5bfaaaf0b7e9"
      },
      "execution_count": 13,
      "outputs": [
        {
          "output_type": "stream",
          "name": "stdout",
          "text": [
            "2003\n",
            "126\n",
            "2129\n",
            "{'text': 'DC-SIGNR plays a crucial role in MTCT of HIV-1 and that impaired placental DC-SIGNR expression increases risk of transmission.', 'answer_start': 2003}\n"
          ]
        }
      ]
    },
    {
      "cell_type": "code",
      "source": [
        "def add_end_index(answers, contexts):\n",
        "\n",
        "  # loop over each context-answer pair\n",
        "  for answer, context in zip(answers, contexts):\n",
        "\n",
        "    # the actual answer\n",
        "    expected_answer = answer['text']\n",
        "\n",
        "    # start index of the answer\n",
        "    start_index = answer['answer_start']\n",
        "\n",
        "    # end index\n",
        "    end_index = start_index + len(expected_answer)\n",
        "\n",
        "    # take into account if answer is off by a couple characters\n",
        "    if context[start_index:end_index] == expected_answer:\n",
        "      answer['answer_end'] = end_index\n",
        "    else:\n",
        "      # if answer is off by 1 or 2 tokens\n",
        "      for i in [1, 2]:\n",
        "        if context[start_index-i:end_index-i] == expected_answer:\n",
        "          answer['answer_start'] = start_index - i\n",
        "          answer['answer_end'] = end_index - i"
      ],
      "metadata": {
        "id": "b5Gh9Yel1kUW"
      },
      "execution_count": 14,
      "outputs": []
    },
    {
      "cell_type": "code",
      "source": [
        "# apply our function above to dig up all the answer_start and end for each context-answer pair\n",
        "add_end_index(train_answers, train_contexts)\n",
        "add_end_index(val_answers, val_contexts)\n",
        "# add_end_index(val_answers, val_contexts)\n",
        "print(train_answers[0])\n",
        "print(val_answers[0])"
      ],
      "metadata": {
        "colab": {
          "base_uri": "https://localhost:8080/"
        },
        "id": "rdx-IilL1pRT",
        "outputId": "517ddfda-888e-44fb-d109-5228001a6ad2"
      },
      "execution_count": 15,
      "outputs": [
        {
          "output_type": "stream",
          "name": "stdout",
          "text": [
            "{'text': 'Mother-to-child transmission (MTCT) is the main cause of HIV-1 infection in children worldwide. ', 'answer_start': 370, 'answer_end': 466}\n",
            "{'text': 'there are also evidence of reduced type I (IFNβ) and III (IFNλ) interferon production due to type 2-skewed inflammation, which contributes to imperfect clearance of the virus resulting in persistence of viral components, or the live virus in the airway epithelium ', 'answer_start': 17454, 'answer_end': 17718}\n"
          ]
        }
      ]
    },
    {
      "cell_type": "code",
      "source": [
        "from transformers import DistilBertTokenizerFast\n",
        "from transformers import XLNetTokenizer\n",
        "# defining the tokenizer we are going to use\n",
        "tokenizer = DistilBertTokenizerFast.from_pretrained('distilbert-base-uncased')"
      ],
      "metadata": {
        "id": "MHS-_6xfeqLE",
        "colab": {
          "base_uri": "https://localhost:8080/",
          "height": 145,
          "referenced_widgets": [
            "a7b2a50e3da64632970419ee4f8329bb",
            "5f27788a178a42b286e49ca8b2631f23",
            "6dccf1428a104182b3b29d6e81049844",
            "e4140d6a26384d8e81b65579a82d8c1a",
            "bf00071c98614641ab5c3a8536d1e364",
            "698a804ca8d742dd8d534c90cacf07fa",
            "8830d99a51a84c0a8c462f161f233843",
            "7b9e11dd6871460d85384a65558fcac7",
            "8befc121f48a4097a8c4f44a6d6ab0bd",
            "9583876fd201420c9e3def0ad6737146",
            "4ffeb19a9e8743b6a10858b401ad99e5",
            "b6f1ee91f6c74488b6f9626ae23e91e0",
            "8f5f01bef2de49e2ac71609810135600",
            "77ddec3ad35a45a280ba1baeb4620565",
            "2a0571eb71494b7491b9fed31d3ddaf9",
            "9a8791e4b56c4941814f0dfe2df758e9",
            "03d687a7f41f4e3d8f695bc343dc0bab",
            "23bb374b0087467da5dddc79a6ca6459",
            "97409025789c49728d40df0a1e49984d",
            "15109e3fbde245b7b03195502e9a9a9f",
            "fee8e5f90a6b4da085566a02d3f04b1a",
            "0f70a564d30c4dd48aab98c1a88ce12d",
            "720e5aea5346432d867f0812f14d3ed7",
            "1ec2032d119d48c6bbf4b224371e08b4",
            "2fe87fe9974f4eee8ffc00f582862957",
            "1a4bc35e9d984c7086f90ba38e70a881",
            "97739aa57304430ab59bf1baac12fd47",
            "1e290717e2164e74baa3098fa97d3795",
            "75d16c13509e4c71bc7576376f9a652a",
            "cff9ae6a8df541cebcba40c24a62bed1",
            "f930c31056dc406fb745c984fd1fcc1f",
            "3cd9d2c9611d4ee3a09bda147e8dcd6d",
            "b2921af3030540808bcd8ad16c25b42d",
            "427499f62ccc47f3a7d2597c9d8a9088",
            "282415381f844a008e072a4df4544ed5",
            "641bcc3799a14d87a1ec1cb30fe7c6d1",
            "20e9fbf7a1334d409a86021a60035140",
            "a5ea6cabb56d4cee993a3c0f578c743a",
            "cf7580a402ba44719baa8c18169e1709",
            "ecf9bdd632fd4aa3a1fd5d14732ce44f",
            "7e924770ced842c1a177e348ec34523b",
            "9cbda5014ca84432bf4621e1d29e6d75",
            "87db8597da6441c483f09521092cc3b0",
            "1e31bda81a0f44adab8288cec19c32c0"
          ]
        },
        "outputId": "944443d8-a5f9-47d3-dde0-14b1a3d896c2"
      },
      "execution_count": 16,
      "outputs": [
        {
          "output_type": "display_data",
          "data": {
            "text/plain": [
              "Downloading:   0%|          | 0.00/28.0 [00:00<?, ?B/s]"
            ],
            "application/vnd.jupyter.widget-view+json": {
              "version_major": 2,
              "version_minor": 0,
              "model_id": "a7b2a50e3da64632970419ee4f8329bb"
            }
          },
          "metadata": {}
        },
        {
          "output_type": "display_data",
          "data": {
            "text/plain": [
              "Downloading:   0%|          | 0.00/226k [00:00<?, ?B/s]"
            ],
            "application/vnd.jupyter.widget-view+json": {
              "version_major": 2,
              "version_minor": 0,
              "model_id": "b6f1ee91f6c74488b6f9626ae23e91e0"
            }
          },
          "metadata": {}
        },
        {
          "output_type": "display_data",
          "data": {
            "text/plain": [
              "Downloading:   0%|          | 0.00/455k [00:00<?, ?B/s]"
            ],
            "application/vnd.jupyter.widget-view+json": {
              "version_major": 2,
              "version_minor": 0,
              "model_id": "720e5aea5346432d867f0812f14d3ed7"
            }
          },
          "metadata": {}
        },
        {
          "output_type": "display_data",
          "data": {
            "text/plain": [
              "Downloading:   0%|          | 0.00/483 [00:00<?, ?B/s]"
            ],
            "application/vnd.jupyter.widget-view+json": {
              "version_major": 2,
              "version_minor": 0,
              "model_id": "427499f62ccc47f3a7d2597c9d8a9088"
            }
          },
          "metadata": {}
        }
      ]
    },
    {
      "cell_type": "code",
      "source": [
        "# apply tokenizer to our training and validation datasets\n",
        "train_tokenized = tokenizer(train_questions, train_contexts, truncation=True, padding=True)\n",
        "val_tokenized = tokenizer(val_questions, val_contexts, truncation=True, padding=True)"
      ],
      "metadata": {
        "id": "4ydIGxv2l4Nk"
      },
      "execution_count": 17,
      "outputs": []
    },
    {
      "cell_type": "code",
      "source": [
        "print(train_tokenized[0])\n",
        "print(val_tokenized[0])"
      ],
      "metadata": {
        "id": "4gJ2bENdkBKj",
        "colab": {
          "base_uri": "https://localhost:8080/"
        },
        "outputId": "4a4d4143-82c5-4f13-ac42-c0563283b071"
      },
      "execution_count": 18,
      "outputs": [
        {
          "output_type": "stream",
          "name": "stdout",
          "text": [
            "Encoding(num_tokens=512, attributes=[ids, type_ids, tokens, offsets, attention_mask, special_tokens_mask, overflowing])\n",
            "Encoding(num_tokens=512, attributes=[ids, type_ids, tokens, offsets, attention_mask, special_tokens_mask, overflowing])\n"
          ]
        }
      ]
    },
    {
      "cell_type": "code",
      "source": [
        "# print(train_tokenized_max_l[0])\n",
        "# print(val_tokenized_max_l[0])"
      ],
      "metadata": {
        "id": "Ju62XcBckBNh"
      },
      "execution_count": 19,
      "outputs": []
    },
    {
      "cell_type": "code",
      "source": [
        "tokenizer.decode(train_tokenized['input_ids'][0])"
      ],
      "metadata": {
        "id": "NUF9WbzskBQS",
        "colab": {
          "base_uri": "https://localhost:8080/",
          "height": 108
        },
        "outputId": "408a2a97-354f-4d17-b60f-9a2012b324dd"
      },
      "execution_count": 20,
      "outputs": [
        {
          "output_type": "execute_result",
          "data": {
            "text/plain": [
              "'[CLS] what is the main cause of hiv - 1 infection in children? [SEP] functional genetic variants in dc - signr are associated with mother - to - child transmission of hiv - 1 https : / / www. ncbi. nlm. nih. gov / pmc / articles / pmc2752805 / boily - larouche, genevieve ; iscache, anne - laure ; zijenah, lynn s. ; humphrey, jean h. ; mouland, andrew j. ; ward, brian j. ; roger, michel 2009 - 10 - 07 doi : 10. 1371 / journal. pone. 0007211 license : cc - by abstract : background : mother - to - child transmission ( mtct ) is the main cause of hiv - 1 infection in children worldwide. given that the c - type lectin receptor, dendritic cell - specific icam - grabbing non - integrin - related ( dc - signr, also known as cd209l or liver / lymph node – specific icam - grabbing non - integrin ( l - sign ) ), can interact with pathogens including hiv - 1 and is expressed at the maternal - fetal interface, we hypothesized that it could influence mtct of hiv - 1. methods and findings : to investigate the potential role of dc - signr in mtct of hiv - 1, we carried out a genetic association study of dc - signr in a well - characterized cohort of 197 hiv - infected mothers and their infants recruited in harare, zimbabwe. infants harbouring two copies of dc - signr h1 and / or h3 haplotypes ( h1 - h1, h1 - h3, h3 - h3 ) had a 3. 6 - fold increased risk of in utero ( iu ) ( p = 0. 013 ) hiv - 1 infection and a 5. 7 - fold increased risk of intrapartum ( ip ) ( p = 0. 025 ) hiv - 1 infection after adjusting for a number of maternal factors. the implicated h1 and h3 haplotypes share two single nucleotide polymorphisms ( snps ) in promoter region ( p - 198a ) and intron 2 ( int2 - 180a ) that were associated with increased risk of both iu ( p = 0. 045 and p = 0. 003, respectively ) and ip ( p = 0 [SEP]'"
            ],
            "application/vnd.google.colaboratory.intrinsic+json": {
              "type": "string"
            }
          },
          "metadata": {},
          "execution_count": 20
        }
      ]
    },
    {
      "cell_type": "code",
      "source": [
        "def add_token_positions(tokenized_data, answers):\n",
        "  # let's define a couple lists to keep track of our start/end tokens\n",
        "  start_positions = [] # aggregate all start positions for each sample\n",
        "  end_positions = [] # aggregate all end positions for each sample\n",
        "\n",
        "  # loop over the answers list\n",
        "  for i in range(len(answers)):\n",
        "    # add the start and end encodings to our lists\n",
        "    start_positions.append(tokenized_data.char_to_token(i, answers[i]['answer_start']))\n",
        "    end_positions.append(tokenized_data.char_to_token(i, answers[i]['answer_end']))\n",
        "    # print(start_positions, end_positions)\n",
        "\n",
        "\n",
        "    if end_positions[-1] is None:\n",
        "      end_positions[-1] = tokenizer.model_max_length\n",
        "    \n",
        "    shift = 1\n",
        "    while start_positions[-1] is None:\n",
        "      start_positions[-1] = tokenized_data.char_to_token(i, answers[i]['answer_start'] - shift)\n",
        "      shift += 1\n",
        "  \n",
        "  tokenized_data.update({'start_positions': start_positions, 'end_positions': end_positions})"
      ],
      "metadata": {
        "id": "AhLBWxy9FkTl"
      },
      "execution_count": 21,
      "outputs": []
    },
    {
      "cell_type": "code",
      "source": [
        "# apply function to train and validations data\n",
        "add_token_positions(train_tokenized, train_answers)\n",
        "add_token_positions(val_tokenized, val_answers)"
      ],
      "metadata": {
        "id": "JB8jnQSU4n8l"
      },
      "execution_count": 22,
      "outputs": []
    },
    {
      "cell_type": "code",
      "source": [
        "train_tokenized.keys()"
      ],
      "metadata": {
        "id": "ENexF_59luoR",
        "colab": {
          "base_uri": "https://localhost:8080/"
        },
        "outputId": "0b328324-b5f2-4794-8d7e-d94c7bf99bec"
      },
      "execution_count": 23,
      "outputs": [
        {
          "output_type": "execute_result",
          "data": {
            "text/plain": [
              "dict_keys(['input_ids', 'attention_mask', 'start_positions', 'end_positions'])"
            ]
          },
          "metadata": {},
          "execution_count": 23
        }
      ]
    },
    {
      "cell_type": "code",
      "source": [
        "print(train_tokenized['start_positions'][0], train_tokenized['end_positions'][0])\n"
      ],
      "metadata": {
        "id": "x0MudCQQFBg8",
        "colab": {
          "base_uri": "https://localhost:8080/"
        },
        "outputId": "e091ebba-9864-44a3-9879-d985b7b4065f"
      },
      "execution_count": 24,
      "outputs": [
        {
          "output_type": "stream",
          "name": "stdout",
          "text": [
            "13 512\n"
          ]
        }
      ]
    },
    {
      "cell_type": "code",
      "source": [
        "class Custom_Dataset(torch.utils.data.Dataset):\n",
        "  # constructor\n",
        "  def __init__(self, encodings):\n",
        "    self.encodings = encodings\n",
        "  \n",
        "  # Query to get a specific item at an index in our dataset\n",
        "  def __getitem__(self, idx):\n",
        "    return {key: torch.tensor(val[idx]) for key, val in self.encodings.items()} # comprehension (shortcut)\n",
        "\n",
        "  # returns the length of our dataset\n",
        "  def __len__(self):\n",
        "    return len(self.encodings.input_ids)"
      ],
      "metadata": {
        "id": "gWLvhlxc4gBN"
      },
      "execution_count": 25,
      "outputs": []
    },
    {
      "cell_type": "code",
      "source": [
        "# Datasets for the training and validations sets\n",
        "train_data = Custom_Dataset(train_tokenized)\n",
        "val_data = Custom_Dataset(val_tokenized)"
      ],
      "metadata": {
        "id": "dKpY49QVuN9D"
      },
      "execution_count": 26,
      "outputs": []
    },
    {
      "cell_type": "code",
      "source": [
        "# Used to help us iterate over our dataset conveniently, especially when we have batches\n",
        "train_dataloader = DataLoader(train_data, batch_size=8, shuffle=True)\n",
        "val_dataloader = DataLoader(val_data, batch_size=8, shuffle=True)"
      ],
      "metadata": {
        "id": "gMiZgaZmufHn"
      },
      "execution_count": 27,
      "outputs": []
    },
    {
      "cell_type": "code",
      "source": [
        "# from transformers import XLNetForQuestionAnswering\n",
        "from transformers import DistilBertForQuestionAnswering\n",
        "\n",
        "# BERT model already finetuned for question answering\n",
        "model = DistilBertForQuestionAnswering.from_pretrained(\"distilbert-base-uncased\")"
      ],
      "metadata": {
        "id": "aL_FIeJ4lZsg",
        "colab": {
          "base_uri": "https://localhost:8080/",
          "height": 160,
          "referenced_widgets": [
            "01470b3fdf464320b62628cdcfbfd6a6",
            "cde8de3a1ad448f8bcbcbe92fd578b35",
            "54336f3d9c684800a3e0ad77195eb596",
            "195d8946af1d4d16b9857494f079e346",
            "c79ce101e66943438b084642999dfa9b",
            "7e9cca6ef4b44c1fbf88864fed4c7d61",
            "2bbf6340c5ae44539e6105666aad879f",
            "b971bb43787d455194e368242c8d6b9d",
            "4c6bbb313d62421ba5f447be0a5be490",
            "099a2f081bae4c3999bbb324af3c4a69",
            "10559fb651de4453b937d5c53993fd14"
          ]
        },
        "outputId": "2ac20d78-6509-4c03-d2e6-70a2bb845596"
      },
      "execution_count": 28,
      "outputs": [
        {
          "output_type": "display_data",
          "data": {
            "text/plain": [
              "Downloading:   0%|          | 0.00/256M [00:00<?, ?B/s]"
            ],
            "application/vnd.jupyter.widget-view+json": {
              "version_major": 2,
              "version_minor": 0,
              "model_id": "01470b3fdf464320b62628cdcfbfd6a6"
            }
          },
          "metadata": {}
        },
        {
          "output_type": "stream",
          "name": "stderr",
          "text": [
            "Some weights of the model checkpoint at distilbert-base-uncased were not used when initializing DistilBertForQuestionAnswering: ['vocab_transform.weight', 'vocab_projector.weight', 'vocab_layer_norm.weight', 'vocab_projector.bias', 'vocab_layer_norm.bias', 'vocab_transform.bias']\n",
            "- This IS expected if you are initializing DistilBertForQuestionAnswering from the checkpoint of a model trained on another task or with another architecture (e.g. initializing a BertForSequenceClassification model from a BertForPreTraining model).\n",
            "- This IS NOT expected if you are initializing DistilBertForQuestionAnswering from the checkpoint of a model that you expect to be exactly identical (initializing a BertForSequenceClassification model from a BertForSequenceClassification model).\n",
            "Some weights of DistilBertForQuestionAnswering were not initialized from the model checkpoint at distilbert-base-uncased and are newly initialized: ['qa_outputs.bias', 'qa_outputs.weight']\n",
            "You should probably TRAIN this model on a down-stream task to be able to use it for predictions and inference.\n"
          ]
        }
      ]
    },
    {
      "cell_type": "code",
      "source": [
        "lr= 1e-5 \n",
        "optimizer= torch.optim.AdamW(model.parameters(), lr=lr)\n",
        "for param in model.base_model.parameters():\n",
        "    param.requires_grad = False\n",
        "# model = model.to(device)\n",
        "# print(model)"
      ],
      "metadata": {
        "id": "7gwZ-SD_6GZE"
      },
      "execution_count": 29,
      "outputs": []
    },
    {
      "cell_type": "code",
      "source": [
        "model = model.to(device)"
      ],
      "metadata": {
        "id": "dufdv8Gu9GOz"
      },
      "execution_count": 30,
      "outputs": []
    },
    {
      "cell_type": "code",
      "source": [
        "from IPython.display import clear_output"
      ],
      "metadata": {
        "id": "-13QH91ExovG"
      },
      "execution_count": 31,
      "outputs": []
    },
    {
      "cell_type": "code",
      "source": [
        "# from torch import autograd\n",
        "print(model)"
      ],
      "metadata": {
        "id": "3WaTOuM_7JuA",
        "colab": {
          "base_uri": "https://localhost:8080/"
        },
        "outputId": "c78db9a5-795e-4632-a28c-b04d9098325f"
      },
      "execution_count": 32,
      "outputs": [
        {
          "output_type": "stream",
          "name": "stdout",
          "text": [
            "DistilBertForQuestionAnswering(\n",
            "  (distilbert): DistilBertModel(\n",
            "    (embeddings): Embeddings(\n",
            "      (word_embeddings): Embedding(30522, 768, padding_idx=0)\n",
            "      (position_embeddings): Embedding(512, 768)\n",
            "      (LayerNorm): LayerNorm((768,), eps=1e-12, elementwise_affine=True)\n",
            "      (dropout): Dropout(p=0.1, inplace=False)\n",
            "    )\n",
            "    (transformer): Transformer(\n",
            "      (layer): ModuleList(\n",
            "        (0): TransformerBlock(\n",
            "          (attention): MultiHeadSelfAttention(\n",
            "            (dropout): Dropout(p=0.1, inplace=False)\n",
            "            (q_lin): Linear(in_features=768, out_features=768, bias=True)\n",
            "            (k_lin): Linear(in_features=768, out_features=768, bias=True)\n",
            "            (v_lin): Linear(in_features=768, out_features=768, bias=True)\n",
            "            (out_lin): Linear(in_features=768, out_features=768, bias=True)\n",
            "          )\n",
            "          (sa_layer_norm): LayerNorm((768,), eps=1e-12, elementwise_affine=True)\n",
            "          (ffn): FFN(\n",
            "            (dropout): Dropout(p=0.1, inplace=False)\n",
            "            (lin1): Linear(in_features=768, out_features=3072, bias=True)\n",
            "            (lin2): Linear(in_features=3072, out_features=768, bias=True)\n",
            "            (activation): GELUActivation()\n",
            "          )\n",
            "          (output_layer_norm): LayerNorm((768,), eps=1e-12, elementwise_affine=True)\n",
            "        )\n",
            "        (1): TransformerBlock(\n",
            "          (attention): MultiHeadSelfAttention(\n",
            "            (dropout): Dropout(p=0.1, inplace=False)\n",
            "            (q_lin): Linear(in_features=768, out_features=768, bias=True)\n",
            "            (k_lin): Linear(in_features=768, out_features=768, bias=True)\n",
            "            (v_lin): Linear(in_features=768, out_features=768, bias=True)\n",
            "            (out_lin): Linear(in_features=768, out_features=768, bias=True)\n",
            "          )\n",
            "          (sa_layer_norm): LayerNorm((768,), eps=1e-12, elementwise_affine=True)\n",
            "          (ffn): FFN(\n",
            "            (dropout): Dropout(p=0.1, inplace=False)\n",
            "            (lin1): Linear(in_features=768, out_features=3072, bias=True)\n",
            "            (lin2): Linear(in_features=3072, out_features=768, bias=True)\n",
            "            (activation): GELUActivation()\n",
            "          )\n",
            "          (output_layer_norm): LayerNorm((768,), eps=1e-12, elementwise_affine=True)\n",
            "        )\n",
            "        (2): TransformerBlock(\n",
            "          (attention): MultiHeadSelfAttention(\n",
            "            (dropout): Dropout(p=0.1, inplace=False)\n",
            "            (q_lin): Linear(in_features=768, out_features=768, bias=True)\n",
            "            (k_lin): Linear(in_features=768, out_features=768, bias=True)\n",
            "            (v_lin): Linear(in_features=768, out_features=768, bias=True)\n",
            "            (out_lin): Linear(in_features=768, out_features=768, bias=True)\n",
            "          )\n",
            "          (sa_layer_norm): LayerNorm((768,), eps=1e-12, elementwise_affine=True)\n",
            "          (ffn): FFN(\n",
            "            (dropout): Dropout(p=0.1, inplace=False)\n",
            "            (lin1): Linear(in_features=768, out_features=3072, bias=True)\n",
            "            (lin2): Linear(in_features=3072, out_features=768, bias=True)\n",
            "            (activation): GELUActivation()\n",
            "          )\n",
            "          (output_layer_norm): LayerNorm((768,), eps=1e-12, elementwise_affine=True)\n",
            "        )\n",
            "        (3): TransformerBlock(\n",
            "          (attention): MultiHeadSelfAttention(\n",
            "            (dropout): Dropout(p=0.1, inplace=False)\n",
            "            (q_lin): Linear(in_features=768, out_features=768, bias=True)\n",
            "            (k_lin): Linear(in_features=768, out_features=768, bias=True)\n",
            "            (v_lin): Linear(in_features=768, out_features=768, bias=True)\n",
            "            (out_lin): Linear(in_features=768, out_features=768, bias=True)\n",
            "          )\n",
            "          (sa_layer_norm): LayerNorm((768,), eps=1e-12, elementwise_affine=True)\n",
            "          (ffn): FFN(\n",
            "            (dropout): Dropout(p=0.1, inplace=False)\n",
            "            (lin1): Linear(in_features=768, out_features=3072, bias=True)\n",
            "            (lin2): Linear(in_features=3072, out_features=768, bias=True)\n",
            "            (activation): GELUActivation()\n",
            "          )\n",
            "          (output_layer_norm): LayerNorm((768,), eps=1e-12, elementwise_affine=True)\n",
            "        )\n",
            "        (4): TransformerBlock(\n",
            "          (attention): MultiHeadSelfAttention(\n",
            "            (dropout): Dropout(p=0.1, inplace=False)\n",
            "            (q_lin): Linear(in_features=768, out_features=768, bias=True)\n",
            "            (k_lin): Linear(in_features=768, out_features=768, bias=True)\n",
            "            (v_lin): Linear(in_features=768, out_features=768, bias=True)\n",
            "            (out_lin): Linear(in_features=768, out_features=768, bias=True)\n",
            "          )\n",
            "          (sa_layer_norm): LayerNorm((768,), eps=1e-12, elementwise_affine=True)\n",
            "          (ffn): FFN(\n",
            "            (dropout): Dropout(p=0.1, inplace=False)\n",
            "            (lin1): Linear(in_features=768, out_features=3072, bias=True)\n",
            "            (lin2): Linear(in_features=3072, out_features=768, bias=True)\n",
            "            (activation): GELUActivation()\n",
            "          )\n",
            "          (output_layer_norm): LayerNorm((768,), eps=1e-12, elementwise_affine=True)\n",
            "        )\n",
            "        (5): TransformerBlock(\n",
            "          (attention): MultiHeadSelfAttention(\n",
            "            (dropout): Dropout(p=0.1, inplace=False)\n",
            "            (q_lin): Linear(in_features=768, out_features=768, bias=True)\n",
            "            (k_lin): Linear(in_features=768, out_features=768, bias=True)\n",
            "            (v_lin): Linear(in_features=768, out_features=768, bias=True)\n",
            "            (out_lin): Linear(in_features=768, out_features=768, bias=True)\n",
            "          )\n",
            "          (sa_layer_norm): LayerNorm((768,), eps=1e-12, elementwise_affine=True)\n",
            "          (ffn): FFN(\n",
            "            (dropout): Dropout(p=0.1, inplace=False)\n",
            "            (lin1): Linear(in_features=768, out_features=3072, bias=True)\n",
            "            (lin2): Linear(in_features=3072, out_features=768, bias=True)\n",
            "            (activation): GELUActivation()\n",
            "          )\n",
            "          (output_layer_norm): LayerNorm((768,), eps=1e-12, elementwise_affine=True)\n",
            "        )\n",
            "      )\n",
            "    )\n",
            "  )\n",
            "  (qa_outputs): Linear(in_features=768, out_features=2, bias=True)\n",
            "  (dropout): Dropout(p=0.1, inplace=False)\n",
            ")\n"
          ]
        }
      ]
    },
    {
      "cell_type": "code",
      "source": [
        "# def train(model, train_dataloader):\n",
        "# best_train_loss = float('inf')\n",
        "train_accuracies = []\n",
        "losses = []\n",
        "# run loop 3 times\n",
        "for epoch in range(5):\n",
        "  # first, set the mode of the model to train\n",
        "  model.train()\n",
        "\n",
        "  # progress bar\n",
        "  loop = tqdm(train_dataloader, leave=True)\n",
        "\n",
        "  # loop over each batch \n",
        "  for batch in loop:\n",
        "    # zero out the optimizer\n",
        "    optimizer.zero_grad()\n",
        "    \n",
        "    # loss.requres_grad = True\n",
        "    # grab the batch attributes and attach them to the GPU device\n",
        "    input_ids, attention_mask, start_positions, end_positions = batch['input_ids'].to(device), batch['attention_mask'].to(device), batch['start_positions'].to(device), batch['end_positions'].to(device)\n",
        "    # print(input_ids)\n",
        "    # input_ids = torch.tensor(input_ids.type(torch.DoubleTensor), requires_grad=True)\n",
        "    # attention_mask = torch.tensor(attention_mask.type(torch.DoubleTensor), requires_grad=True)\n",
        "    # start_positions = torch.tensor(start_positions.type(torch.DoubleTensor), requires_grad=True)\n",
        "    # end_positions = torch.tensor(end_positions.type(torch.DoubleTensor), requires_grad=True)\n",
        "\n",
        "    input_ids = torch.tensor(input_ids)\n",
        "    attention_mask = torch.tensor(attention_mask)\n",
        "    start_positions = torch.tensor(start_positions)\n",
        "    end_positions = torch.tensor(end_positions)\n",
        "    # Feedforward!!!\n",
        "    # with autograd.set_grad_enabled(True):\n",
        "    # with autograd.set_grad_enabled(True):\n",
        "    outputs = model(input_ids, attention_mask, start_positions=start_positions, end_positions=end_positions)\n",
        "\n",
        "    # Compute the Loss\n",
        "    loss = outputs[0]\n",
        "    # loss = torch.sum(loss)\n",
        "    # loss.requres_grad = True\n",
        "    # BACKPROPAGATION!!!!\n",
        "    loss.backward()\n",
        "\n",
        "    # update parameters for the next run\n",
        "    optimizer.step()\n",
        "\n",
        "    losses.append(loss.item())\n",
        "\n",
        "    # get the prediction for the start and end token for answer\n",
        "    start_probs = outputs['start_logits']\n",
        "    end_probs = outputs['end_logits']\n",
        "    \n",
        "    start_pred = torch.argmax(start_probs, dim=1)\n",
        "    end_pred = torch.argmax(end_probs, dim=1)\n",
        "    \n",
        "    # append the accuracy\n",
        "    train_accuracies.append(((start_pred == start_positions).sum() / len(start_pred)).item())\n",
        "    train_accuracies.append(((end_pred == end_positions).sum() / len(end_pred)).item())\n",
        "    avg_acc = sum(train_accuracies) / len(train_accuracies)\n",
        "    print(f'[{epoch + 1}] \\nloss_total: {loss.item():.2f},\\nTrain_accuracy: {avg_acc*100:.2f} %')\n",
        "    clear_output(wait=True) \n",
        "    # display some stuff here\n",
        "    loop.set_description(f'Epoch {epoch}')\n",
        "    loop.set_postfix(loss=loss.item())"
      ],
      "metadata": {
        "id": "PZC7CdEQ8G5G",
        "colab": {
          "base_uri": "https://localhost:8080/"
        },
        "outputId": "5def1668-3370-4487-a516-5dd51368f225"
      },
      "execution_count": 34,
      "outputs": [
        {
          "output_type": "stream",
          "name": "stderr",
          "text": [
            "Epoch 4: 100%|██████████| 202/202 [00:17<00:00, 11.33it/s, loss=2.37]\n"
          ]
        }
      ]
    },
    {
      "cell_type": "code",
      "source": [
        "import pickle\n",
        "\n",
        "with open(\"train_loss\", \"wb\") as fp:   #Pickling\n",
        "  pickle.dump(losses, fp)\n",
        "\n",
        "with open(\"train_accuracy\", \"wb\") as fp:   #Pickling\n",
        "  pickle.dump(train_accuracies, fp)"
      ],
      "metadata": {
        "id": "0E5QChFc3Zh0"
      },
      "execution_count": 35,
      "outputs": []
    },
    {
      "cell_type": "code",
      "source": [
        "# write code here for 4.5\n",
        "import matplotlib.pyplot as plt\n",
        "fig = plt.figure(figsize=(15, 10))\n",
        "ax1 = fig.add_subplot(2, 1, 1)\n",
        "ax2 = fig.add_subplot(2, 1, 2)\n",
        "ax1.plot(losses, label = 'train loss')\n",
        "ax2.plot(train_accuracies, label = 'train acc')\n",
        "plt.legend()\n",
        "ax1.set_xlabel('epoches')\n",
        "ax1.set_ylabel('loss')\n",
        "ax2.set_xlabel('epoches')\n",
        "ax2.set_ylabel('acc')\n"
      ],
      "metadata": {
        "id": "_zIel9fy3oJX",
        "colab": {
          "base_uri": "https://localhost:8080/",
          "height": 624
        },
        "outputId": "855077a4-507d-487d-fb07-434a6cd96a70"
      },
      "execution_count": 36,
      "outputs": [
        {
          "output_type": "execute_result",
          "data": {
            "text/plain": [
              "Text(0, 0.5, 'acc')"
            ]
          },
          "metadata": {},
          "execution_count": 36
        },
        {
          "output_type": "display_data",
          "data": {
            "text/plain": [
              "<Figure size 1080x720 with 2 Axes>"
            ],
            "image/png": "[encoded data removed]"
          },
          "metadata": {
            "needs_background": "light"
          }
        }
      ]
    },
    {
      "cell_type": "code",
      "source": [
        "\n",
        "best_val_loss = float('inf')\n",
        "test_accuracies = []\n",
        "test_losses = []\n",
        "# run loop 3 times\n",
        "for epoch in range(5):\n",
        "  # first, set the mode of the model to train\n",
        "  # model.train()\n",
        "  model.eval()\n",
        "  # progress bar\n",
        "  loop = tqdm(val_dataloader, leave=True)\n",
        "  with torch.no_grad():\n",
        "    # loop over each batch \n",
        "    for batch in loop:\n",
        "      # zero out the optimizer\n",
        "      # optimizer.zero_grad()\n",
        "\n",
        "      # grab the batch attributes and attach them to the GPU device\n",
        "      input_ids, attention_mask, start_positions, end_positions = batch['input_ids'].to(device), batch['attention_mask'].to(device), batch['start_positions'].to(device), batch['end_positions'].to(device)\n",
        "\n",
        "      # Feedforward!!!\n",
        "      outputs = model(input_ids, attention_mask, start_positions=start_positions, end_positions=end_positions)\n",
        "\n",
        "      # Compute the Loss\n",
        "      loss = outputs[0]\n",
        "\n",
        "      # BACKPROPAGATION!!!!\n",
        "      # loss.backward()\n",
        "\n",
        "      # update parameters for the next run\n",
        "      # optimizer.step()\n",
        "\n",
        "      test_losses.append(loss.item())\n",
        "      \n",
        "      # get the prediction for the start and end token for answer\n",
        "      start_probs = outputs['start_logits']\n",
        "      end_probs = outputs['end_logits']\n",
        "      \n",
        "      start_pred = torch.argmax(start_probs, dim=1)\n",
        "      end_pred = torch.argmax(end_probs, dim=1)\n",
        "      \n",
        "      # append the accuracy\n",
        "      test_accuracies.append(((start_pred == start_positions).sum() / len(start_pred)).item())\n",
        "      test_accuracies.append(((end_pred == end_positions).sum() / len(end_pred)).item())\n",
        "      \n",
        "      avg_acc = sum(test_accuracies) / len(test_accuracies)\n",
        "\n",
        "      if loss.item() < best_val_loss:\n",
        "        best_val_loss = loss.item()\n",
        "        torch.save(model.state_dict(), 'Distilbert_QAf.pt')\n",
        "\n",
        "      print(f'[{epoch + 1}] \\nloss_total: {loss.item():.2f},\\nTrain_accuracy: {avg_acc*100:.2f} %')\n",
        "      clear_output(wait=True) \n",
        "      # display some stuff here\n",
        "      loop.set_description(f'Epoch {epoch}')\n",
        "      loop.set_postfix(loss=loss.item())"
      ],
      "metadata": {
        "id": "GxKaGVxl42hT",
        "colab": {
          "base_uri": "https://localhost:8080/"
        },
        "outputId": "40c1848a-9af7-42d6-95ea-f29c6cb98fa2"
      },
      "execution_count": 37,
      "outputs": [
        {
          "output_type": "stream",
          "name": "stderr",
          "text": [
            "Epoch 4: 100%|██████████| 51/51 [00:04<00:00, 11.90it/s, loss=2.32]\n"
          ]
        }
      ]
    },
    {
      "cell_type": "code",
      "source": [
        "test_accuracies[-1]"
      ],
      "metadata": {
        "id": "_YBXTmS94pl4",
        "colab": {
          "base_uri": "https://localhost:8080/"
        },
        "outputId": "fb5c4329-f3c2-4ceb-ed09-be66ff014593"
      },
      "execution_count": 38,
      "outputs": [
        {
          "output_type": "execute_result",
          "data": {
            "text/plain": [
              "0.0"
            ]
          },
          "metadata": {},
          "execution_count": 38
        }
      ]
    },
    {
      "cell_type": "code",
      "source": [
        "import pickle\n",
        "\n",
        "with open(\"train_loss\", \"wb\") as fp:   #Pickling\n",
        "  pickle.dump(test_losses, fp)\n",
        "\n",
        "with open(\"train_accuracy\", \"wb\") as fp:   #Pickling\n",
        "  pickle.dump(test_accuracies, fp)"
      ],
      "metadata": {
        "id": "CNuhwluN5bRG"
      },
      "execution_count": 39,
      "outputs": []
    },
    {
      "cell_type": "code",
      "source": [
        "len(test_accuracies)"
      ],
      "metadata": {
        "id": "ASsEfsEKSv1b",
        "colab": {
          "base_uri": "https://localhost:8080/"
        },
        "outputId": "306a3cd6-f0fa-47af-b9ba-a7ccaf9dd59a"
      },
      "execution_count": 40,
      "outputs": [
        {
          "output_type": "execute_result",
          "data": {
            "text/plain": [
              "510"
            ]
          },
          "metadata": {},
          "execution_count": 40
        }
      ]
    },
    {
      "cell_type": "code",
      "source": [
        "# write code here for 4.5\n",
        "import matplotlib.pyplot as plt\n",
        "fig = plt.figure(figsize=(15, 10))\n",
        "ax1 = fig.add_subplot(2, 1, 1)\n",
        "ax2 = fig.add_subplot(2, 1, 2)\n",
        "ax1.plot(test_losses, label = 'train loss')\n",
        "ax2.plot(test_accuracies, label = 'train acc')\n",
        "plt.legend()\n",
        "ax1.set_xlabel('epoches')\n",
        "ax1.set_ylabel('loss')\n",
        "ax2.set_xlabel('epoches')\n",
        "ax2.set_ylabel('acc')\n"
      ],
      "metadata": {
        "id": "kOky0Cbs6H_S",
        "colab": {
          "base_uri": "https://localhost:8080/",
          "height": 624
        },
        "outputId": "3d459877-0977-4fc7-a516-f1dde73bb18a"
      },
      "execution_count": 41,
      "outputs": [
        {
          "output_type": "execute_result",
          "data": {
            "text/plain": [
              "Text(0, 0.5, 'acc')"
            ]
          },
          "metadata": {},
          "execution_count": 41
        },
        {
          "output_type": "display_data",
          "data": {
            "text/plain": [
              "<Figure size 1080x720 with 2 Axes>"
            ],
            "image/png": "[encoded data removed]"
          },
          "metadata": {
            "needs_background": "light"
          }
        }
      ]
    },
    {
      "cell_type": "code",
      "source": [
        "val_questions[0]"
      ],
      "metadata": {
        "id": "JJV42yO78uFg",
        "colab": {
          "base_uri": "https://localhost:8080/",
          "height": 36
        },
        "outputId": "7953d561-9419-4cb3-9263-abd6a76651f6"
      },
      "execution_count": 42,
      "outputs": [
        {
          "output_type": "execute_result",
          "data": {
            "text/plain": [
              "'What are other  effects?'"
            ],
            "application/vnd.google.colaboratory.intrinsic+json": {
              "type": "string"
            }
          },
          "metadata": {},
          "execution_count": 42
        }
      ]
    },
    {
      "cell_type": "code",
      "source": [
        "val_contexts[0]"
      ],
      "metadata": {
        "id": "h8EFUTMP8z4F",
        "colab": {
          "base_uri": "https://localhost:8080/",
          "height": 108
        },
        "outputId": "a0d6f2dd-404a-4776-8907-6d8b0c39ce5c"
      },
      "execution_count": 43,
      "outputs": [
        {
          "output_type": "execute_result",
          "data": {
            "text/plain": [
              "'Respiratory Viral Infections in Exacerbation of Chronic Airway Inflammatory Diseases: Novel Mechanisms and Insights From the Upper Airway Epithelium\\n\\nhttps://www.ncbi.nlm.nih.gov/pmc/articles/PMC7052386/\\n\\nSHA: 45a566c71056ba4faab425b4f7e9edee6320e4a4\\n\\nAuthors: Tan, Kai Sen; Lim, Rachel Liyu; Liu, Jing; Ong, Hsiao Hui; Tan, Vivian Jiayi; Lim, Hui Fang; Chung, Kian Fan; Adcock, Ian M.; Chow, Vincent T.; Wang, De Yun\\nDate: 2020-02-25\\nDOI: 10.3389/fcell.2020.00099\\nLicense: cc-by\\n\\nAbstract: Respiratory virus infection is one of the major sources of exacerbation of chronic airway inflammatory diseases. These exacerbations are associated with high morbidity and even mortality worldwide. The current understanding on viral-induced exacerbations is that viral infection increases airway inflammation which aggravates disease symptoms. Recent advances in in vitro air-liquid interface 3D cultures, organoid cultures and the use of novel human and animal challenge models have evoked new understandings as to the mechanisms of viral exacerbations. In this review, we will focus on recent novel findings that elucidate how respiratory viral infections alter the epithelial barrier in the airways, the upper airway microbial environment, epigenetic modifications including miRNA modulation, and other changes in immune responses throughout the upper and lower airways. First, we reviewed the prevalence of different respiratory viral infections in causing exacerbations in chronic airway inflammatory diseases. Subsequently we also summarized how recent models have expanded our appreciation of the mechanisms of viral-induced exacerbations. Further we highlighted the importance of the virome within the airway microbiome environment and its impact on subsequent bacterial infection. This review consolidates the understanding of viral induced exacerbation in chronic airway inflammatory diseases and indicates pathways that may be targeted for more effective management of chronic inflammatory diseases.\\n\\nText: The prevalence of chronic airway inflammatory disease is increasing worldwide especially in developed nations (GBD 2015 Chronic Respiratory Disease Collaborators, 2017 Guan et al., 2018) . This disease is characterized by airway inflammation leading to complications such as coughing, wheezing and shortness of breath. The disease can manifest in both the upper airway (such as chronic rhinosinusitis, CRS) and lower airway (such as asthma and chronic obstructive pulmonary disease, COPD) which greatly affect the patients\\' quality of life (Calus et al., 2012; Bao et al., 2015) . Treatment and management vary greatly in efficacy due to the complexity and heterogeneity of the disease. This is further complicated by the effect of episodic exacerbations of the disease, defined as worsening of disease symptoms including wheeze, cough, breathlessness and chest tightness (Xepapadaki and Papadopoulos, 2010) . Such exacerbations are due to the effect of enhanced acute airway inflammation impacting upon and worsening the symptoms of the existing disease (Hashimoto et al., 2008; Viniol and Vogelmeier, 2018) . These acute exacerbations are the main cause of morbidity and sometimes mortality in patients, as well as resulting in major economic burdens worldwide. However, due to the complex interactions between the host and the exacerbation agents, the mechanisms of exacerbation may vary considerably in different individuals under various triggers. Acute exacerbations are usually due to the presence of environmental factors such as allergens, pollutants, smoke, cold or dry air and pathogenic microbes in the airway (Gautier and Charpin, 2017; Viniol and Vogelmeier, 2018) . These agents elicit an immune response leading to infiltration of activated immune cells that further release inflammatory mediators that cause acute symptoms such as increased mucus production, cough, wheeze and shortness of breath. Among these agents, viral infection is one of the major drivers of asthma exacerbations accounting for up to 80-90% and 45-80% of exacerbations in children and adults respectively (Grissell et al., 2005; Xepapadaki and Papadopoulos, 2010; Jartti and Gern, 2017; Adeli et al., 2019) . Viral involvement in COPD exacerbation is also equally high, having been detected in 30-80% of acute COPD exacerbations (Kherad et al., 2010; Jafarinejad et al., 2017; Stolz et al., 2019) . Whilst the prevalence of viral exacerbations in CRS is still unclear, its prevalence is likely to be high due to the similar inflammatory nature of these diseases (Rowan et al., 2015; Tan et al., 2017) . One of the reasons for the involvement of respiratory viruses\\' in exacerbations is their ease of transmission and infection (Kutter et al., 2018) . In addition, the high diversity of the respiratory viruses may also contribute to exacerbations of different nature and severity (Busse et al., 2010; Costa et al., 2014; Jartti and Gern, 2017) . Hence, it is important to identify the exact mechanisms underpinning viral exacerbations in susceptible subjects in order to properly manage exacerbations via supplementary treatments that may alleviate the exacerbation symptoms or prevent severe exacerbations.\\n\\nWhile the lower airway is the site of dysregulated inflammation in most chronic airway inflammatory diseases, the upper airway remains the first point of contact with sources of exacerbation. Therefore, their interaction with the exacerbation agents may directly contribute to the subsequent responses in the lower airway, in line with the \"United Airway\" hypothesis. To elucidate the host airway interaction with viruses leading to exacerbations, we thus focus our review on recent findings of viral interaction with the upper airway. We compiled how viral induced changes to the upper airway may contribute to chronic airway inflammatory disease exacerbations, to provide a unified elucidation of the potential exacerbation mechanisms initiated from predominantly upper airway infections.\\n\\nDespite being a major cause of exacerbation, reports linking respiratory viruses to acute exacerbations only start to emerge in the late 1950s (Pattemore et al., 1992) ; with bacterial infections previously considered as the likely culprit for acute exacerbation (Stevens, 1953; Message and Johnston, 2002) . However, with the advent of PCR technology, more viruses were recovered during acute exacerbations events and reports implicating their role emerged in the late 1980s (Message and Johnston, 2002) . Rhinovirus (RV) and respiratory syncytial virus (RSV) are the predominant viruses linked to the development and exacerbation of chronic airway inflammatory diseases (Jartti and Gern, 2017) . Other viruses such as parainfluenza virus (PIV), influenza virus (IFV) and adenovirus (AdV) have also been implicated in acute exacerbations but to a much lesser extent (Johnston et al., 2005; Oliver et al., 2014; Ko et al., 2019) . More recently, other viruses including bocavirus (BoV), human metapneumovirus (HMPV), certain coronavirus (CoV) strains, a specific enterovirus (EV) strain EV-D68, human cytomegalovirus (hCMV) and herpes simplex virus (HSV) have been reported as contributing to acute exacerbations . The common feature these viruses share is that they can infect both the upper and/or lower airway, further increasing the inflammatory conditions in the diseased airway (Mallia and Johnston, 2006; Britto et al., 2017) .\\n\\nRespiratory viruses primarily infect and replicate within airway epithelial cells . During the replication process, the cells release antiviral factors and cytokines that alter local airway inflammation and airway niche (Busse et al., 2010) . In a healthy airway, the inflammation normally leads to type 1 inflammatory responses consisting of activation of an antiviral state and infiltration of antiviral effector cells. This eventually results in the resolution of the inflammatory response and clearance of the viral infection (Vareille et al., 2011; Braciale et al., 2012) . However, in a chronically inflamed airway, the responses against the virus may be impaired or aberrant, causing sustained inflammation and erroneous infiltration, resulting in the exacerbation of their symptoms (Mallia and Johnston, 2006; Dougherty and Fahy, 2009; Busse et al., 2010; Britto et al., 2017; Linden et al., 2019) . This is usually further compounded by the increased susceptibility of chronic airway inflammatory disease patients toward viral respiratory infections, thereby increasing the frequency of exacerbation as a whole (Dougherty and Fahy, 2009; Busse et al., 2010; Linden et al., 2019) . Furthermore, due to the different replication cycles and response against the myriad of respiratory viruses, each respiratory virus may also contribute to exacerbations via different mechanisms that may alter their severity. Hence, this review will focus on compiling and collating the current known mechanisms of viral-induced exacerbation of chronic airway inflammatory diseases; as well as linking the different viral infection pathogenesis to elucidate other potential ways the infection can exacerbate the disease. The review will serve to provide further understanding of viral induced exacerbation to identify potential pathways and pathogenesis mechanisms that may be targeted as supplementary care for management and prevention of exacerbation. Such an approach may be clinically significant due to the current scarcity of antiviral drugs for the management of viral-induced exacerbations. This will improve the quality of life of patients with chronic airway inflammatory diseases.\\n\\nOnce the link between viral infection and acute exacerbations of chronic airway inflammatory disease was established, there have been many reports on the mechanisms underlying the exacerbation induced by respiratory viral infection. Upon infecting the host, viruses evoke an inflammatory response as a means of counteracting the infection. Generally, infected airway epithelial cells release type I (IFNα/β) and type III (IFNλ) interferons, cytokines and chemokines such as IL-6, IL-8, IL-12, RANTES, macrophage inflammatory protein 1α (MIP-1α) and monocyte chemotactic protein 1 (MCP-1) (Wark and Gibson, 2006; Matsukura et al., 2013) . These, in turn, enable infiltration of innate immune cells and of professional antigen presenting cells (APCs) that will then in turn release specific mediators to facilitate viral targeting and clearance, including type II interferon (IFNγ), IL-2, IL-4, IL-5, IL-9, and IL-12 (Wark and Gibson, 2006; Singh et al., 2010; Braciale et al., 2012) . These factors heighten local inflammation and the infiltration of granulocytes, T-cells and B-cells (Wark and Gibson, 2006; Braciale et al., 2012) . The increased inflammation, in turn, worsens the symptoms of airway diseases.\\n\\nAdditionally, in patients with asthma and patients with CRS with nasal polyp (CRSwNP), viral infections such as RV and RSV promote a Type 2-biased immune response (Becker, 2006; Jackson et al., 2014; Jurak et al., 2018) . This amplifies the basal type 2 inflammation resulting in a greater release of IL-4, IL-5, IL-13, RANTES and eotaxin and a further increase in eosinophilia, a key pathological driver of asthma and CRSwNP (Wark and Gibson, 2006; Singh et al., 2010; Chung et al., 2015; Dunican and Fahy, 2015) . Increased eosinophilia, in turn, worsens the classical symptoms of disease and may further lead to life-threatening conditions due to breathing difficulties. On the other hand, patients with COPD and patients with CRS without nasal polyp (CRSsNP) are more neutrophilic in nature due to the expression of neutrophil chemoattractants such as CXCL9, CXCL10, and CXCL11 (Cukic et al., 2012; Brightling and Greening, 2019) . The pathology of these airway diseases is characterized by airway remodeling due to the presence of remodeling factors such as matrix metalloproteinases (MMPs) released from infiltrating neutrophils (Linden et al., 2019) . Viral infections in such conditions will then cause increase neutrophilic activation; worsening the symptoms and airway remodeling in the airway thereby exacerbating COPD, CRSsNP and even CRSwNP in certain cases (Wang et al., 2009; Tacon et al., 2010; Linden et al., 2019) .\\n\\nAn epithelial-centric alarmin pathway around IL-25, IL-33 and thymic stromal lymphopoietin (TSLP), and their interaction with group 2 innate lymphoid cells (ILC2) has also recently been identified (Nagarkar et al., 2012; Hong et al., 2018; Allinne et al., 2019) . IL-25, IL-33 and TSLP are type 2 inflammatory cytokines expressed by the epithelial cells upon injury to the epithelial barrier (Gabryelska et al., 2019; Roan et al., 2019) . ILC2s are a group of lymphoid cells lacking both B and T cell receptors but play a crucial role in secreting type 2 cytokines to perpetuate type 2 inflammation when activated (Scanlon and McKenzie, 2012; Li and Hendriks, 2013) . In the event of viral infection, cell death and injury to the epithelial barrier will also induce the expression of IL-25, IL-33 and TSLP, with heighten expression in an inflamed airway (Allakhverdi et al., 2007; Goldsmith et al., 2012; Byers et al., 2013; Shaw et al., 2013; Beale et al., 2014; Jackson et al., 2014; Uller and Persson, 2018; Ravanetti et al., 2019) . These 3 cytokines then work in concert to activate ILC2s to further secrete type 2 cytokines IL-4, IL-5, and IL-13 which further aggravate the type 2 inflammation in the airway causing acute exacerbation (Camelo et al., 2017) . In the case of COPD, increased ILC2 activation, which retain the capability of differentiating to ILC1, may also further augment the neutrophilic response and further aggravate the exacerbation (Silver et al., 2016) . Interestingly, these factors are not released to any great extent and do not activate an ILC2 response during viral infection in healthy individuals (Yan et al., 2016; Tan et al., 2018a) ; despite augmenting a type 2 exacerbation in chronically inflamed airways (Jurak et al., 2018) . These classical mechanisms of viral induced acute exacerbations are summarized in Figure 1 .\\n\\nAs integration of the virology, microbiology and immunology of viral infection becomes more interlinked, additional factors and FIGURE 1 | Current understanding of viral induced exacerbation of chronic airway inflammatory diseases. Upon virus infection in the airway, antiviral state will be activated to clear the invading pathogen from the airway. Immune response and injury factors released from the infected epithelium normally would induce a rapid type 1 immunity that facilitates viral clearance. However, in the inflamed airway, the cytokines and chemokines released instead augmented the inflammation present in the chronically inflamed airway, strengthening the neutrophilic infiltration in COPD airway, and eosinophilic infiltration in the asthmatic airway. The effect is also further compounded by the participation of Th1 and ILC1 cells in the COPD airway; and Th2 and ILC2 cells in the asthmatic airway.\\n\\nFrontiers in Cell and Developmental Biology | www.frontiersin.org mechanisms have been implicated in acute exacerbations during and after viral infection (Murray et al., 2006) . Murray et al. (2006) has underlined the synergistic effect of viral infection with other sensitizing agents in causing more severe acute exacerbations in the airway. This is especially true when not all exacerbation events occurred during the viral infection but may also occur well after viral clearance (Kim et al., 2008; Stolz et al., 2019) in particular the late onset of a bacterial infection (Singanayagam et al., 2018 (Singanayagam et al., , 2019a . In addition, viruses do not need to directly infect the lower airway to cause an acute exacerbation, as the nasal epithelium remains the primary site of most infections. Moreover, not all viral infections of the airway will lead to acute exacerbations, suggesting a more complex interplay between the virus and upper airway epithelium which synergize with the local airway environment in line with the \"united airway\" hypothesis (Kurai et al., 2013) . On the other hand, viral infections or their components persist in patients with chronic airway inflammatory disease (Kling et al., 2005; Wood et al., 2011; Ravi et al., 2019) . Hence, their presence may further alter the local environment and contribute to current and future exacerbations. Future studies should be performed using metagenomics in addition to PCR analysis to determine the contribution of the microbiome and mycobiome to viral infections. In this review, we highlight recent data regarding viral interactions with the airway epithelium that could also contribute to, or further aggravate, acute exacerbations of chronic airway inflammatory diseases.\\n\\nPatients with chronic airway inflammatory diseases have impaired or reduced ability of viral clearance (Hammond et al., 2015; McKendry et al., 2016; Akbarshahi et al., 2018; Gill et al., 2018; Wang et al., 2018; Singanayagam et al., 2019b) . Their impairment stems from a type 2-skewed inflammatory response which deprives the airway of important type 1 responsive CD8 cells that are responsible for the complete clearance of virusinfected cells (Becker, 2006; McKendry et al., 2016) . This is especially evident in weak type 1 inflammation-inducing viruses such as RV and RSV (Kling et al., 2005; Wood et al., 2011; Ravi et al., 2019) . Additionally, there are also evidence of reduced type I (IFNβ) and III (IFNλ) interferon production due to type 2-skewed inflammation, which contributes to imperfect clearance of the virus resulting in persistence of viral components, or the live virus in the airway epithelium (Contoli et al., 2006; Hwang et al., 2019; Wark, 2019) . Due to the viral components remaining in the airway, antiviral genes such as type I interferons, inflammasome activating factors and cytokines remained activated resulting in prolong airway inflammation (Wood et al., 2011; Essaidi-Laziosi et al., 2018) . These factors enhance granulocyte infiltration thus prolonging the exacerbation symptoms. Such persistent inflammation may also be found within DNA viruses such as AdV, hCMV and HSV, whose infections generally persist longer (Imperiale and Jiang, 2015) , further contributing to chronic activation of inflammation when they infect the airway (Yang et al., 2008; Morimoto et al., 2009; Imperiale and Jiang, 2015; Lan et al., 2016; Tan et al., 2016; Kowalski et al., 2017) . With that note, human papilloma virus (HPV), a DNA virus highly associated with head and neck cancers and respiratory papillomatosis, is also linked with the chronic inflammation that precedes the malignancies (de Visser et al., 2005; Gillison et al., 2012; Bonomi et al., 2014; Fernandes et al., 2015) . Therefore, the role of HPV infection in causing chronic inflammation in the airway and their association to exacerbations of chronic airway inflammatory diseases, which is scarcely explored, should be investigated in the future. Furthermore, viral persistence which lead to continuous expression of antiviral genes may also lead to the development of steroid resistance, which is seen with RV, RSV, and PIV infection (Chi et al., 2011; Ford et al., 2013; Papi et al., 2013) . The use of steroid to suppress the inflammation may also cause the virus to linger longer in the airway due to the lack of antiviral clearance (Kim et al., 2008; Hammond et al., 2015; Hewitt et al., 2016; McKendry et al., 2016; Singanayagam et al., 2019b) . The concomitant development of steroid resistance together with recurring or prolong viral infection thus added considerable burden to the management of acute exacerbation, which should be the future focus of research to resolve the dual complications arising from viral infection.\\n\\nOn the other end of the spectrum, viruses that induce strong type 1 inflammation and cell death such as IFV (Yan et al., 2016; Guibas et al., 2018) and certain CoV (including the recently emerged COVID-19 virus) (Tao et al., 2013; Yue et al., 2018; Zhu et al., 2020) , may not cause prolonged inflammation due to strong induction of antiviral clearance. These infections, however, cause massive damage and cell death to the epithelial barrier, so much so that areas of the epithelium may be completely absent post infection (Yan et al., 2016; Tan et al., 2019) . Factors such as RANTES and CXCL10, which recruit immune cells to induce apoptosis, are strongly induced from IFV infected epithelium (Ampomah et al., 2018; Tan et al., 2019) . Additionally, necroptotic factors such as RIP3 further compounds the cell deaths in IFV infected epithelium . The massive cell death induced may result in worsening of the acute exacerbation due to the release of their cellular content into the airway, further evoking an inflammatory response in the airway (Guibas et al., 2018) . Moreover, the destruction of the epithelial barrier may cause further contact with other pathogens and allergens in the airway which may then prolong exacerbations or results in new exacerbations. Epithelial destruction may also promote further epithelial remodeling during its regeneration as viral infection induces the expression of remodeling genes such as MMPs and growth factors . Infections that cause massive destruction of the epithelium, such as IFV, usually result in severe acute exacerbations with non-classical symptoms of chronic airway inflammatory diseases. Fortunately, annual vaccines are available to prevent IFV infections (Vasileiou et al., 2017; Zheng et al., 2018) ; and it is recommended that patients with chronic airway inflammatory disease receive their annual influenza vaccination as the best means to prevent severe IFV induced exacerbation.\\n\\nAnother mechanism that viral infections may use to drive acute exacerbations is the induction of vasodilation or tight junction opening factors which may increase the rate of infiltration. Infection with a multitude of respiratory viruses causes disruption of tight junctions with the resulting increased rate of viral infiltration. This also increases the chances of allergens coming into contact with airway immune cells. For example, IFV infection was found to induce oncostatin M (OSM) which causes tight junction opening (Pothoven et al., 2015; Tian et al., 2018) . Similarly, RV and RSV infections usually cause tight junction opening which may also increase the infiltration rate of eosinophils and thus worsening of the classical symptoms of chronic airway inflammatory diseases (Sajjan et al., 2008; Kast et al., 2017; Kim et al., 2018) . In addition, the expression of vasodilating factors and fluid homeostatic factors such as angiopoietin-like 4 (ANGPTL4) and bactericidal/permeabilityincreasing fold-containing family member A1 (BPIFA1) are also associated with viral infections and pneumonia development, which may worsen inflammation in the lower airway Akram et al., 2018) . These factors may serve as targets to prevent viral-induced exacerbations during the management of acute exacerbation of chronic airway inflammatory diseases.\\n\\nAnother recent area of interest is the relationship between asthma and COPD exacerbations and their association with the airway microbiome. The development of chronic airway inflammatory diseases is usually linked to specific bacterial species in the microbiome which may thrive in the inflamed airway environment (Diver et al., 2019) . In the event of a viral infection such as RV infection, the effect induced by the virus may destabilize the equilibrium of the microbiome present (Molyneaux et al., 2013; Kloepfer et al., 2014; Kloepfer et al., 2017; Jubinville et al., 2018; van Rijn et al., 2019) . In addition, viral infection may disrupt biofilm colonies in the upper airway (e.g., Streptococcus pneumoniae) microbiome to be release into the lower airway and worsening the inflammation (Marks et al., 2013; Chao et al., 2014) . Moreover, a viral infection may also alter the nutrient profile in the airway through release of previously inaccessible nutrients that will alter bacterial growth (Siegel et al., 2014; Mallia et al., 2018) . Furthermore, the destabilization is further compounded by impaired bacterial immune response, either from direct viral influences, or use of corticosteroids to suppress the exacerbation symptoms (Singanayagam et al., 2018 (Singanayagam et al., , 2019a Wang et al., 2018; Finney et al., 2019) . All these may gradually lead to more far reaching effect when normal flora is replaced with opportunistic pathogens, altering the inflammatory profiles (Teo et al., 2018) . These changes may in turn result in more severe and frequent acute exacerbations due to the interplay between virus and pathogenic bacteria in exacerbating chronic airway inflammatory diseases (Wark et al., 2013; Singanayagam et al., 2018) . To counteract these effects, microbiome-based therapies are in their infancy but have shown efficacy in the treatments of irritable bowel syndrome by restoring the intestinal microbiome (Bakken et al., 2011) . Further research can be done similarly for the airway microbiome to be able to restore the microbiome following disruption by a viral infection.\\n\\nViral infections can cause the disruption of mucociliary function, an important component of the epithelial barrier. Ciliary proteins FIGURE 2 | Changes in the upper airway epithelium contributing to viral exacerbation in chronic airway inflammatory diseases. The upper airway epithelium is the primary contact/infection site of most respiratory viruses. Therefore, its infection by respiratory viruses may have far reaching consequences in augmenting and synergizing current and future acute exacerbations. The destruction of epithelial barrier, mucociliary function and cell death of the epithelial cells serves to increase contact between environmental triggers with the lower airway and resident immune cells. The opening of tight junction increasing the leakiness further augments the inflammation and exacerbations. In addition, viral infections are usually accompanied with oxidative stress which will further increase the local inflammation in the airway. The dysregulation of inflammation can be further compounded by modulation of miRNAs and epigenetic modification such as DNA methylation and histone modifications that promote dysregulation in inflammation. Finally, the change in the local airway environment and inflammation promotes growth of pathogenic bacteria that may replace the airway microbiome. Furthermore, the inflammatory environment may also disperse upper airway commensals into the lower airway, further causing inflammation and alteration of the lower airway environment, resulting in prolong exacerbation episodes following viral infection. \\n\\nViral specific trait contributing to exacerbation mechanism (with literature evidence) Oxidative stress ROS production (RV, RSV, IFV, HSV)\\n\\nAs RV, RSV, and IFV were the most frequently studied viruses in chronic airway inflammatory diseases, most of the viruses listed are predominantly these viruses. However, the mechanisms stated here may also be applicable to other viruses but may not be listed as they were not implicated in the context of chronic airway inflammatory diseases exacerbation (see text for abbreviations).\\n\\nthat aid in the proper function of the motile cilia in the airways are aberrantly expressed in ciliated airway epithelial cells which are the major target for RV infection (Griggs et al., 2017) . Such form of secondary cilia dyskinesia appears to be present with chronic inflammations in the airway, but the exact mechanisms are still unknown (Peng et al., , 2019 Qiu et al., 2018) . Nevertheless, it was found that in viral infection such as IFV, there can be a change in the metabolism of the cells as well as alteration in the ciliary gene expression, mostly in the form of down-regulation of the genes such as dynein axonemal heavy chain 5 (DNAH5) and multiciliate differentiation And DNA synthesis associated cell cycle protein (MCIDAS) (Tan et al., 2018b . The recently emerged Wuhan CoV was also found to reduce ciliary beating in infected airway epithelial cell model (Zhu et al., 2020) . Furthermore, viral infections such as RSV was shown to directly destroy the cilia of the ciliated cells and almost all respiratory viruses infect the ciliated cells (Jumat et al., 2015; Yan et al., 2016; Tan et al., 2018a) . In addition, mucus overproduction may also disrupt the equilibrium of the mucociliary function following viral infection, resulting in symptoms of acute exacerbation (Zhu et al., 2009) . Hence, the disruption of the ciliary movement during viral infection may cause more foreign material and allergen to enter the airway, aggravating the symptoms of acute exacerbation and making it more difficult to manage. The mechanism of the occurrence of secondary cilia dyskinesia can also therefore be explored as a means to limit the effects of viral induced acute exacerbation.\\n\\nMicroRNAs (miRNAs) are short non-coding RNAs involved in post-transcriptional modulation of biological processes, and implicated in a number of diseases (Tan et al., 2014) . miRNAs are found to be induced by viral infections and may play a role in the modulation of antiviral responses and inflammation (Gutierrez et al., 2016; Deng et al., 2017; Feng et al., 2018) . In the case of chronic airway inflammatory diseases, circulating miRNA changes were found to be linked to exacerbation of the diseases (Wardzynska et al., 2020) . Therefore, it is likely that such miRNA changes originated from the infected epithelium and responding immune cells, which may serve to further dysregulate airway inflammation leading to exacerbations. Both IFV and RSV infections has been shown to increase miR-21 and augmented inflammation in experimental murine asthma models, which is reversed with a combination treatment of anti-miR-21 and corticosteroids (Kim et al., 2017) . IFV infection is also shown to increase miR-125a and b, and miR-132 in COPD epithelium which inhibits A20 and MAVS; and p300 and IRF3, respectively, resulting in increased susceptibility to viral infections (Hsu et al., 2016 (Hsu et al., , 2017 . Conversely, miR-22 was shown to be suppressed in asthmatic epithelium in IFV infection which lead to aberrant epithelial response, contributing to exacerbations (Moheimani et al., 2018) . Other than these direct evidence of miRNA changes in contributing to exacerbations, an increased number of miRNAs and other non-coding RNAs responsible for immune modulation are found to be altered following viral infections (Globinska et al., 2014; Feng et al., 2018; Hasegawa et al., 2018) . Hence non-coding RNAs also presents as targets to modulate viral induced airway changes as a means of managing exacerbation of chronic airway inflammatory diseases. Other than miRNA modulation, other epigenetic modification such as DNA methylation may also play a role in exacerbation of chronic airway inflammatory diseases. Recent epigenetic studies have indicated the association of epigenetic modification and chronic airway inflammatory diseases, and that the nasal methylome was shown to be a sensitive marker for airway inflammatory changes (Cardenas et al., 2019; Gomez, 2019) . At the same time, it was also shown that viral infections such as RV and RSV alters DNA methylation and histone modifications in the airway epithelium which may alter inflammatory responses, driving chronic airway inflammatory diseases and exacerbations (McErlean et al., 2014; Pech et al., 2018; Caixia et al., 2019) . In addition, Spalluto et al. (2017) also showed that antiviral factors such as IFNγ epigenetically modifies the viral resistance of epithelial cells. Hence, this may indicate that infections such as RV and RSV that weakly induce antiviral responses may result in an altered inflammatory state contributing to further viral persistence and exacerbation of chronic airway inflammatory diseases (Spalluto et al., 2017) .\\n\\nFinally, viral infection can result in enhanced production of reactive oxygen species (ROS), oxidative stress and mitochondrial dysfunction in the airway epithelium (Kim et al., 2018; Mishra et al., 2018; Wang et al., 2018) . The airway epithelium of patients with chronic airway inflammatory diseases are usually under a state of constant oxidative stress which sustains the inflammation in the airway (Barnes, 2017; van der Vliet et al., 2018) . Viral infections of the respiratory epithelium by viruses such as IFV, RV, RSV and HSV may trigger the further production of ROS as an antiviral mechanism Aizawa et al., 2018; Wang et al., 2018) . Moreover, infiltrating cells in response to the infection such as neutrophils will also trigger respiratory burst as a means of increasing the ROS in the infected region. The increased ROS and oxidative stress in the local environment may serve as a trigger to promote inflammation thereby aggravating the inflammation in the airway (Tiwari et al., 2002) . A summary of potential exacerbation mechanisms and the associated viruses is shown in Figure 2 and Table 1 .\\n\\nWhile the mechanisms underlying the development and acute exacerbation of chronic airway inflammatory disease is extensively studied for ways to manage and control the disease, a viral infection does more than just causing an acute exacerbation in these patients. A viral-induced acute exacerbation not only induced and worsens the symptoms of the disease, but also may alter the management of the disease or confer resistance toward treatments that worked before. Hence, appreciation of the mechanisms of viral-induced acute exacerbations is of clinical significance to devise strategies to correct viral induce changes that may worsen chronic airway inflammatory disease symptoms. Further studies in natural exacerbations and in viral-challenge models using RNA-sequencing (RNA-seq) or single cell RNA-seq on a range of time-points may provide important information regarding viral pathogenesis and changes induced within the airway of chronic airway inflammatory disease patients to identify novel targets and pathway for improved management of the disease. Subsequent analysis of functions may use epithelial cell models such as the air-liquid interface, in vitro airway epithelial model that has been adapted to studying viral infection and the changes it induced in the airway (Yan et al., 2016; Boda et al., 2018; Tan et al., 2018a) . Animal-based diseased models have also been developed to identify systemic mechanisms of acute exacerbation (Shin, 2016; Gubernatorova et al., 2019; Tanner and Single, 2019) . Furthermore, the humanized mouse model that possess human immune cells may also serves to unravel the immune profile of a viral infection in healthy and diseased condition (Ito et al., 2019; Li and Di Santo, 2019) . For milder viruses, controlled in vivo human infections can be performed for the best mode of verification of the associations of the virus with the proposed mechanism of viral induced acute exacerbations . With the advent of suitable diseased models, the verification of the mechanisms will then provide the necessary continuation of improving the management of viral induced acute exacerbations.\\n\\nIn conclusion, viral-induced acute exacerbation of chronic airway inflammatory disease is a significant health and economic burden that needs to be addressed urgently. In view of the scarcity of antiviral-based preventative measures available for only a few viruses and vaccines that are only available for IFV infections, more alternative measures should be explored to improve the management of the disease. Alternative measures targeting novel viral-induced acute exacerbation mechanisms, especially in the upper airway, can serve as supplementary treatments of the currently available management strategies to augment their efficacy. New models including primary human bronchial or nasal epithelial cell cultures, organoids or precision cut lung slices from patients with airways disease rather than healthy subjects can be utilized to define exacerbation mechanisms. These mechanisms can then be validated in small clinical trials in patients with asthma or COPD. Having multiple means of treatment may also reduce the problems that arise from resistance development toward a specific treatment.'"
            ],
            "application/vnd.google.colaboratory.intrinsic+json": {
              "type": "string"
            }
          },
          "metadata": {},
          "execution_count": 43
        }
      ]
    },
    {
      "cell_type": "code",
      "source": [
        "val_answers[0]"
      ],
      "metadata": {
        "id": "71ORY3ijWd0F",
        "colab": {
          "base_uri": "https://localhost:8080/"
        },
        "outputId": "8bdc9fe2-797a-4de8-d7a5-a4239d4ccbc3"
      },
      "execution_count": 44,
      "outputs": [
        {
          "output_type": "execute_result",
          "data": {
            "text/plain": [
              "{'answer_end': 17718,\n",
              " 'answer_start': 17454,\n",
              " 'text': 'there are also evidence of reduced type I (IFNβ) and III (IFNλ) interferon production due to type 2-skewed inflammation, which contributes to imperfect clearance of the virus resulting in persistence of viral components, or the live virus in the airway epithelium '}"
            ]
          },
          "metadata": {},
          "execution_count": 44
        }
      ]
    },
    {
      "cell_type": "markdown",
      "source": [
        "Testing from Val set"
      ],
      "metadata": {
        "id": "L4fq95w9kSNQ"
      }
    },
    {
      "cell_type": "code",
      "source": [
        "\n",
        "tokenizer = DistilBertTokenizerFast.from_pretrained('distilbert-base-uncased')\n",
        "\n",
        "question = val_questions[4:6]\n",
        "context = val_contexts[4:6]\n",
        "\n",
        "test_tokenized = tokenizer(question, context, truncation=True, padding=True)\n",
        "print(test_tokenized.keys())\n",
        "# tokens = tokenizer.convert_ids_to_tokens(test_tokenized) #input tokens\n",
        "print(val_tokenized[0])\n",
        "add_token_positions(test_tokenized, val_answers[4:6])\n",
        "print(test_tokenized.keys())\n",
        "test_data = Custom_Dataset(test_tokenized)\n",
        "test_dataloader = DataLoader(test_data, batch_size=1, shuffle=True)\n",
        "\n",
        "print(test_tokenized.input_ids[0][:2])\n",
        "print(len(test_tokenized.input_ids[0]))"
      ],
      "metadata": {
        "id": "ygSbJrgqcybX",
        "colab": {
          "base_uri": "https://localhost:8080/"
        },
        "outputId": "4820074d-b219-4af6-f4a2-8d7020ea9a24"
      },
      "execution_count": 45,
      "outputs": [
        {
          "output_type": "stream",
          "name": "stdout",
          "text": [
            "dict_keys(['input_ids', 'attention_mask'])\n",
            "Encoding(num_tokens=512, attributes=[ids, type_ids, tokens, offsets, attention_mask, special_tokens_mask, overflowing])\n",
            "dict_keys(['input_ids', 'attention_mask', 'start_positions', 'end_positions'])\n",
            "[101, 2054]\n",
            "512\n"
          ]
        }
      ]
    },
    {
      "cell_type": "code",
      "source": [
        "model.load_state_dict(torch.load('/content/drive/MyDrive/NLU/Distilbert_QAf.pt'))\n",
        "model = model.to(device)\n",
        "\n",
        "# run loop 3 times\n",
        "# for epoch in range(1):\n",
        "with torch.no_grad():\n",
        "  # loop over each batch \n",
        "  i = 0\n",
        "  for batch in test_dataloader:\n",
        "    # grab the batch attributes and attach them to the GPU device\n",
        "    input_ids, attention_mask, start_positions, end_positions = batch['input_ids'].to(device), batch['attention_mask'].to(device), batch['start_positions'].to(device), batch['end_positions'].to(device)\n",
        "    outputs = model(input_ids, attention_mask = attention_mask)\n",
        "    loss = outputs[0]\n",
        "    start_probs = outputs['start_logits']\n",
        "    end_probs = outputs['end_logits']\n",
        "    \n",
        "    start_pred = torch.argmax(start_probs, dim=1)\n",
        "    end_pred = torch.argmax(end_probs, dim=1)\n",
        "    # start_pred = torch.argmin(start_probs, dim=1)\n",
        "    # end_pred = torch.argmin(end_probs, dim=1)\n",
        "    # print(start_pred, end_pred)\n",
        "    start_pred = start_pred.detach().to(\"cpu\").numpy()\n",
        "    end_pred = end_pred.detach().to(\"cpu\").numpy()\n",
        "\n",
        "    # print(start_pred[0], end_pred[0])\n",
        "\n",
        "    predict_answer_tokens = val_tokenized.input_ids[i][start_pred[0]: end_pred[0] + 1]\n",
        "    # print(val_tokenized.input_ids[0])\n",
        "    # print(val_tokenized.input_ids[0][end_pred[0] +1: start_pred[0]])\n",
        "\n",
        "    predicted_answer = tokenizer.decode(predict_answer_tokens)\n",
        "    print(\"Question \",i+1,\":\\n\",question[i],'\\n')\n",
        "    print(\"Predicted Answer \",i+1,\":\\n\",predicted_answer,'\\n')\n",
        "    i += 1"
      ],
      "metadata": {
        "id": "aWGkwhdHWnNg",
        "colab": {
          "base_uri": "https://localhost:8080/"
        },
        "outputId": "1dd4b274-811b-425a-cccc-0df50900091e"
      },
      "execution_count": 46,
      "outputs": [
        {
          "output_type": "stream",
          "name": "stdout",
          "text": [
            "Question  1 :\n",
            " What should be investigated in the future? \n",
            "\n",
            "Predicted Answer  1 :\n",
            " viral infections in exacerbation of chronic airway inflammatory diseases : novel mechanisms and insights from the upper airway epithelium https : / / www. nc \n",
            "\n",
            "Question  2 :\n",
            " What further can viral persistence lead to? \n",
            "\n",
            "Predicted Answer  2 :\n",
            " remaining in the airway? [SEP] respiratory viral infections in exacerbation of chronic airway inflammatory diseases : novel mechanisms and insights from the upper airway epitheli \n",
            "\n"
          ]
        }
      ]
    },
    {
      "cell_type": "markdown",
      "source": [
        "Testing from external"
      ],
      "metadata": {
        "id": "HYCpnc1d1gYa"
      }
    },
    {
      "cell_type": "markdown",
      "source": [
        "\n",
        "For testing: https://www.health.ny.gov/publications/0213.pdf"
      ],
      "metadata": {
        "id": "ngRfkB6fLbzY"
      }
    },
    {
      "cell_type": "code",
      "source": [
        "answers = [{'text': 'COVID-19 is a disease caused by a virus called SARS-CoV-2.', 'answer_start': 0},\n",
        "           {'text': 'AIDS (Acquired Immune Deficiency Syndrome) is a late stage of HIV disease.', 'answer_start': 13}]\n",
        "for j in range(len(answers)):\n",
        "  print(j)"
      ],
      "metadata": {
        "id": "YX-4bLSnhukA",
        "colab": {
          "base_uri": "https://localhost:8080/"
        },
        "outputId": "db52235c-311d-401d-e88b-614dd6f1596e"
      },
      "execution_count": 47,
      "outputs": [
        {
          "output_type": "stream",
          "name": "stdout",
          "text": [
            "0\n",
            "1\n"
          ]
        }
      ]
    },
    {
      "cell_type": "code",
      "source": [
        "context = ['COVID-19 is a disease caused by a virus called SARS-CoV-2. Most people with COVID-19 have mild symptoms, but some people become severely ill. Older adults and people who have certain underlying medical conditions are more likely to get severely ill. Post-COVID conditions are a wide range of health problems people can experience four or more weeks after first getting COVID-19. ',\n",
        "           'HIV (Human Immunodeficiency Virus) is a virus that only affects human beings. AIDS (Acquired Immune Deficiency Syndrome) is a late stage of HIV disease. A person develops HIV if the virus gets into his or her bloodstream and begins making more and more of itself, or reproducing. People living with HIV may have no symptoms for ten or more years. ']\n",
        "context[1][0:78]"
      ],
      "metadata": {
        "id": "Sg5D2mv3iUxW",
        "colab": {
          "base_uri": "https://localhost:8080/",
          "height": 36
        },
        "outputId": "e92b911b-e52f-4c69-c663-dada493c4803"
      },
      "execution_count": 48,
      "outputs": [
        {
          "output_type": "execute_result",
          "data": {
            "text/plain": [
              "'HIV (Human Immunodeficiency Virus) is a virus that only affects human beings. '"
            ],
            "application/vnd.google.colaboratory.intrinsic+json": {
              "type": "string"
            }
          },
          "metadata": {},
          "execution_count": 48
        }
      ]
    },
    {
      "cell_type": "code",
      "source": [
        "context = ['COVID-19 is a disease caused by a virus called SARS-CoV-2. Most people with COVID-19 have mild symptoms, but some people become severely ill. Older adults and people who have certain underlying medical conditions are more likely to get severely ill. Post-COVID conditions are a wide range of health problems people can experience four or more weeks after first getting COVID-19. ',\n",
        "           'HIV (Human Immunodeficiency Virus) is a virus that only affects human beings. AIDS (Acquired Immune Deficiency Syndrome) is a late stage of HIV disease. A person develops HIV if the virus gets into his or her bloodstream and begins making more and more of itself, or reproducing. People living with HIV may have no symptoms for ten or more years. ']\n",
        "\n",
        "questions = [\n",
        "    \"What is Coivd19?\",\n",
        "    \"What is AIDS?\"\n",
        "]\n",
        "\n",
        "answers = [{'text': 'COVID-19 is a disease caused by a virus called SARS-CoV-2.', 'answer_start': 0},\n",
        "           {'text': 'AIDS (Acquired Immune Deficiency Syndrome) is a late stage of HIV disease.', 'answer_start': 78}]\n",
        "\n",
        "print(len(context))\n",
        "print(len(questions))\n",
        "print(len(answers))\n",
        "\n",
        "# the actual answer\n",
        "for j in range(len(answers)):\n",
        "  expected_answer = answers[j]['text']\n",
        "\n",
        "  # start index of the answer\n",
        "  start_index = answers[j]['answer_start']\n",
        "\n",
        "  end_index = start_index + len(expected_answer)\n",
        "\n",
        "  print(\"Length:\", len(expected_answer))\n",
        "\n",
        "  if context[j][start_index:end_index] == expected_answer:\n",
        "      answers[j]['answer_end'] = end_index\n",
        "  else:\n",
        "    # if answer is off by 1 or 2 tokens\n",
        "    for i in [1, 2]:\n",
        "      if context[j][start_index-i:end_index-i] == expected_answer:\n",
        "        answers[j]['answer_start'] = start_index - i\n",
        "        answers[j]['answer_end'] = end_index - i\n",
        "\n",
        "print('\\n', answers)\n",
        "\n",
        "\n",
        "test1_tokenized = tokenizer(questions, context, truncation=True, padding=True)\n",
        "print(test1_tokenized.keys())\n",
        "add_token_positions(test1_tokenized, answers)\n",
        "print(test1_tokenized.keys())\n",
        "test1_data = Custom_Dataset(test1_tokenized)\n",
        "test1_dataloader = DataLoader(test1_data, batch_size=1, shuffle=True)\n",
        "\n",
        "print(test1_tokenized[0])\n",
        "print(test1_tokenized[1])"
      ],
      "metadata": {
        "id": "3m-CGh6jUzNc",
        "colab": {
          "base_uri": "https://localhost:8080/"
        },
        "outputId": "1a6464e1-2614-4b4e-af5d-2b1b4be86f54"
      },
      "execution_count": 49,
      "outputs": [
        {
          "output_type": "stream",
          "name": "stdout",
          "text": [
            "2\n",
            "2\n",
            "2\n",
            "Length: 58\n",
            "Length: 74\n",
            "\n",
            " [{'text': 'COVID-19 is a disease caused by a virus called SARS-CoV-2.', 'answer_start': 0, 'answer_end': 58}, {'text': 'AIDS (Acquired Immune Deficiency Syndrome) is a late stage of HIV disease.', 'answer_start': 78, 'answer_end': 152}]\n",
            "dict_keys(['input_ids', 'attention_mask'])\n",
            "dict_keys(['input_ids', 'attention_mask', 'start_positions', 'end_positions'])\n",
            "Encoding(num_tokens=93, attributes=[ids, type_ids, tokens, offsets, attention_mask, special_tokens_mask, overflowing])\n",
            "Encoding(num_tokens=93, attributes=[ids, type_ids, tokens, offsets, attention_mask, special_tokens_mask, overflowing])\n"
          ]
        }
      ]
    },
    {
      "cell_type": "code",
      "source": [
        "model.load_state_dict(torch.load('/content/drive/MyDrive/NLU/Distilbert_QAf.pt'))\n",
        "model = model.to(device)\n",
        "\n",
        "# run loop 3 times\n",
        "# for epoch in range(1):\n",
        "with torch.no_grad():\n",
        "  # loop over each batch \n",
        "  i = 0\n",
        "  for batch in test1_dataloader:\n",
        "    # grab the batch attributes and attach them to the GPU device\n",
        "    input_ids, attention_mask, start_positions, end_positions = batch['input_ids'].to(device), batch['attention_mask'].to(device), batch['start_positions'].to(device), batch['end_positions'].to(device)\n",
        "    outputs = model(input_ids, attention_mask = attention_mask)\n",
        "    loss = outputs[0]\n",
        "    start_probs = outputs['start_logits']\n",
        "    end_probs = outputs['end_logits']\n",
        "    \n",
        "    start_pred = torch.argmax(start_probs, dim=1)\n",
        "    end_pred = torch.argmax(end_probs, dim=1)\n",
        "    start_pred = start_pred.detach().to(\"cpu\").numpy()\n",
        "    end_pred = end_pred.detach().to(\"cpu\").numpy()\n",
        "\n",
        "    # print(start_pred[0], end_pred[0])\n",
        "\n",
        "    predict_answer_tokens = test1_tokenized.input_ids[i][start_pred[0]: end_pred[0] + 1]\n",
        "\n",
        "    predicted_answer = tokenizer.decode(predict_answer_tokens)\n",
        "    print(\"Question \",i+1,\":\\n\",questions[i],'\\n')\n",
        "    print(\"Predicted Answer \",i+1,\":\\n\",predicted_answer,'\\n')\n",
        "    i += 1"
      ],
      "metadata": {
        "id": "yM9ASr6iUxVz",
        "colab": {
          "base_uri": "https://localhost:8080/"
        },
        "outputId": "181b08b9-7ee1-47c4-e4f0-65a169dc9a57"
      },
      "execution_count": 50,
      "outputs": [
        {
          "output_type": "stream",
          "name": "stdout",
          "text": [
            "Question  1 :\n",
            " What is Coivd19? \n",
            "\n",
            "Predicted Answer  1 :\n",
            " ##ivd19? [SEP] covid - 19 is a disease caused by a virus called sars - cov - 2. most people with covid - 19 have mild symptoms, but some people become severely ill. older adults and people who \n",
            "\n",
            "Question  2 :\n",
            " What is AIDS? \n",
            "\n",
            "Predicted Answer  2 :\n",
            " ( human immunodeficiency virus ) is a virus that only affects human beings. aids ( acquired immune deficiency syndrome ) is a late stage of hiv disease. a person \n",
            "\n"
          ]
        }
      ]
    },
    {
      "cell_type": "code",
      "source": [
        ""
      ],
      "metadata": {
        "id": "MeUD57-M0TvK"
      },
      "execution_count": 50,
      "outputs": []
    }
  ]
}